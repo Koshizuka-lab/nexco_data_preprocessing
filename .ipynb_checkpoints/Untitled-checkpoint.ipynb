{
 "cells": [
  {
   "cell_type": "code",
   "execution_count": 1,
   "id": "822e62c0-c5a6-4e1e-9889-f770c8079f80",
   "metadata": {},
   "outputs": [
    {
     "data": {
      "text/plain": [
       "'1.12.0+cu116'"
      ]
     },
     "execution_count": 1,
     "metadata": {},
     "output_type": "execute_result"
    }
   ],
   "source": [
    "import torch\n",
    "torch.__version__"
   ]
  },
  {
   "cell_type": "code",
   "execution_count": 2,
   "id": "32b45fe7-d3f0-418b-921b-581cda1dcf99",
   "metadata": {},
   "outputs": [
    {
     "name": "stdout",
     "output_type": "stream",
     "text": [
      "Python 3.8.13\n"
     ]
    }
   ],
   "source": [
    "!python3 -V"
   ]
  },
  {
   "cell_type": "code",
   "execution_count": 3,
   "id": "25b5d6b7-126e-46fa-8625-92668beda561",
   "metadata": {},
   "outputs": [
    {
     "data": {
      "text/plain": [
       "'1.20.0'"
      ]
     },
     "execution_count": 3,
     "metadata": {},
     "output_type": "execute_result"
    }
   ],
   "source": [
    "import numpy\n",
    "numpy.__version__"
   ]
  },
  {
   "cell_type": "code",
   "execution_count": 4,
   "id": "63e03126-f0ea-4a18-9a24-219e06dd264c",
   "metadata": {},
   "outputs": [],
   "source": [
    "!export LD_LIBRARY_PATH=$LD_LIBRARY_PATH:/usr/local/cuda/lib64/"
   ]
  },
  {
   "cell_type": "code",
   "execution_count": 5,
   "id": "fa39725a-86ff-449a-89e0-b71f7183cd33",
   "metadata": {},
   "outputs": [],
   "source": [
    "# !pip install cudf"
   ]
  },
  {
   "cell_type": "code",
   "execution_count": 6,
   "id": "cf6f3e07-6d19-4d3f-958a-14f9c09f72f5",
   "metadata": {},
   "outputs": [
    {
     "name": "stdout",
     "output_type": "stream",
     "text": [
      "Found existing installation: numpy 1.20.0\n",
      "Uninstalling numpy-1.20.0:\n",
      "  Successfully uninstalled numpy-1.20.0\n",
      "\u001b[33mWARNING: Running pip as the 'root' user can result in broken permissions and conflicting behaviour with the system package manager. It is recommended to use a virtual environment instead: https://pip.pypa.io/warnings/venv\u001b[0m\u001b[33m\n",
      "\u001b[0m"
     ]
    }
   ],
   "source": [
    "!pip uninstall numpy --yes"
   ]
  },
  {
   "cell_type": "code",
   "execution_count": 7,
   "id": "1a81f93f-ee38-4ed6-aaa4-b27701ed3270",
   "metadata": {},
   "outputs": [
    {
     "name": "stdout",
     "output_type": "stream",
     "text": [
      "Collecting numpy==1.20.0\n",
      "  Using cached numpy-1.20.0-cp38-cp38-manylinux2010_x86_64.whl (15.4 MB)\n",
      "Installing collected packages: numpy\n",
      "\u001b[31mERROR: pip's dependency resolver does not currently take into account all the packages that are installed. This behaviour is the source of the following dependency conflicts.\n",
      "dask-cudf 22.4.0 requires cupy-cuda115, which is not installed.\n",
      "cudf 22.4.0 requires cupy-cuda115, which is not installed.\n",
      "yellowbrick 1.3.post1 requires numpy<1.20,>=1.16.0, but you have numpy 1.20.0 which is incompatible.\n",
      "numba 0.54.1 requires llvmlite<0.38,>=0.37.0rc1, but you have llvmlite 0.38.0 which is incompatible.\u001b[0m\u001b[31m\n",
      "\u001b[0mSuccessfully installed numpy-1.20.0\n",
      "\u001b[33mWARNING: Running pip as the 'root' user can result in broken permissions and conflicting behaviour with the system package manager. It is recommended to use a virtual environment instead: https://pip.pypa.io/warnings/venv\u001b[0m\u001b[33m\n",
      "\u001b[0m"
     ]
    }
   ],
   "source": [
    "# !pip install numpy==1.20.0 "
   ]
  },
  {
   "cell_type": "code",
   "execution_count": 8,
   "id": "31bf39d7-a7bf-44c5-bdee-e5a860860d28",
   "metadata": {},
   "outputs": [
    {
     "data": {
      "text/plain": [
       "True"
      ]
     },
     "execution_count": 8,
     "metadata": {},
     "output_type": "execute_result"
    }
   ],
   "source": [
    "torch.cuda.is_available()"
   ]
  },
  {
   "cell_type": "code",
   "execution_count": 9,
   "id": "e7774eac-1385-4b99-ba85-77243e8ad1a3",
   "metadata": {},
   "outputs": [],
   "source": [
    "# nexco@DLBox-Alpha:~$ nvcc --version\n",
    "# nvcc: NVIDIA (R) Cuda compiler driver\n",
    "# Copyright (c) 2005-2019 NVIDIA Corporation\n",
    "# Built on Sun_Jul_28_19:07:16_PDT_2019\n",
    "# Cuda compilation tools, release 10.1, V10.1.243"
   ]
  },
  {
   "cell_type": "code",
   "execution_count": 10,
   "id": "1f667468-bfdf-499c-a189-a4d6f8f30b5a",
   "metadata": {},
   "outputs": [
    {
     "name": "stdout",
     "output_type": "stream",
     "text": [
      "Looking in indexes: https://pypi.org/simple, https://download.pytorch.org/whl/cu116\n",
      "Requirement already satisfied: torch in /opt/conda/envs/rapids/lib/python3.8/site-packages (1.12.0+cu116)\n",
      "Requirement already satisfied: torchvision in /opt/conda/envs/rapids/lib/python3.8/site-packages (0.5.0)\n",
      "Requirement already satisfied: torchaudio in /opt/conda/envs/rapids/lib/python3.8/site-packages (0.4.0a0+ba6d67b)\n",
      "Requirement already satisfied: typing-extensions in /opt/conda/envs/rapids/lib/python3.8/site-packages (from torch) (4.1.1)\n",
      "Requirement already satisfied: numpy in /opt/conda/envs/rapids/lib/python3.8/site-packages (from torchvision) (1.20.0)\n",
      "Requirement already satisfied: six in /opt/conda/envs/rapids/lib/python3.8/site-packages (from torchvision) (1.16.0)\n",
      "Requirement already satisfied: pillow>=4.1.1 in /opt/conda/envs/rapids/lib/python3.8/site-packages (from torchvision) (9.1.0)\n",
      "\u001b[33mWARNING: Running pip as the 'root' user can result in broken permissions and conflicting behaviour with the system package manager. It is recommended to use a virtual environment instead: https://pip.pypa.io/warnings/venv\u001b[0m\u001b[33m\n",
      "\u001b[0m"
     ]
    }
   ],
   "source": [
    "#!pip3 install torch torchvision torchaudio --extra-index-url https://download.pytorch.org/whl/cu116"
   ]
  },
  {
   "cell_type": "code",
   "execution_count": 11,
   "id": "f9be6588-318f-4202-a4cb-375b8720a3bd",
   "metadata": {},
   "outputs": [],
   "source": [
    "#Tensor flowのinstall\n",
    "#https://www.tensorflow.org/install/gpu?hl=ja\n",
    "# !pip install tensorflow\n",
    "# !export LD_LIBRARY_PATH=$LD_LIBRARY_PATH:/usr/local/cuda/extras/CUPTI/lib64"
   ]
  },
  {
   "cell_type": "code",
   "execution_count": 21,
   "id": "81a85919-367d-47d4-b16d-b60a999229ef",
   "metadata": {},
   "outputs": [],
   "source": [
    "#!conda install -c conda-forge llvmlite --yes"
   ]
  },
  {
   "cell_type": "code",
   "execution_count": 13,
   "id": "c302cced-4322-4b36-be2c-114852a61ff1",
   "metadata": {},
   "outputs": [
    {
     "data": {
      "text/plain": [
       "device(type='cuda')"
      ]
     },
     "execution_count": 13,
     "metadata": {},
     "output_type": "execute_result"
    }
   ],
   "source": [
    "device = torch.device(\"cuda\" if torch.cuda.is_available() else \"cpu\")\n",
    "device"
   ]
  },
  {
   "cell_type": "code",
   "execution_count": 14,
   "id": "f8b2e7dd-9872-4136-beaf-fd8c2507857d",
   "metadata": {},
   "outputs": [],
   "source": [
    "# !pip install pycaret"
   ]
  },
  {
   "cell_type": "code",
   "execution_count": 15,
   "id": "15e236f0-fad8-41fc-b955-7ec54f26eee9",
   "metadata": {},
   "outputs": [],
   "source": [
    "# !pip install llvmlite==0.38.0rc1 --ignore-installed"
   ]
  },
  {
   "cell_type": "code",
   "execution_count": 16,
   "id": "35471f07-3ede-4070-b433-de456c75b823",
   "metadata": {},
   "outputs": [],
   "source": [
    "# !pip install cupy-cuda115\n",
    "# !pip uninstall cupy --yes"
   ]
  },
  {
   "cell_type": "code",
   "execution_count": 17,
   "id": "e6318b17-6a5a-481b-a221-c95f929439ba",
   "metadata": {},
   "outputs": [
    {
     "name": "stdout",
     "output_type": "stream",
     "text": [
      "Requirement already satisfied: openpyxl in /opt/conda/envs/rapids/lib/python3.8/site-packages (3.0.10)\n",
      "Requirement already satisfied: et-xmlfile in /opt/conda/envs/rapids/lib/python3.8/site-packages (from openpyxl) (1.1.0)\n",
      "\u001b[33mWARNING: Running pip as the 'root' user can result in broken permissions and conflicting behaviour with the system package manager. It is recommended to use a virtual environment instead: https://pip.pypa.io/warnings/venv\u001b[0m\u001b[33m\n",
      "\u001b[0m"
     ]
    }
   ],
   "source": [
    "!pip install openpyxl"
   ]
  },
  {
   "cell_type": "code",
   "execution_count": 23,
   "id": "be4b8ecb-f9ae-4340-a20f-1946ed6be454",
   "metadata": {},
   "outputs": [
    {
     "name": "stdout",
     "output_type": "stream",
     "text": [
      "Collecting scikit-learn\n",
      "  Using cached scikit_learn-1.1.1-cp38-cp38-manylinux_2_17_x86_64.manylinux2014_x86_64.whl (31.2 MB)\n",
      "Requirement already satisfied: joblib>=1.0.0 in /opt/conda/envs/rapids/lib/python3.8/site-packages (from scikit-learn) (1.1.0)\n",
      "Requirement already satisfied: scipy>=1.3.2 in /opt/conda/envs/rapids/lib/python3.8/site-packages (from scikit-learn) (1.5.4)\n",
      "Requirement already satisfied: numpy>=1.17.3 in /opt/conda/envs/rapids/lib/python3.8/site-packages (from scikit-learn) (1.20.0)\n",
      "Requirement already satisfied: threadpoolctl>=2.0.0 in /opt/conda/envs/rapids/lib/python3.8/site-packages (from scikit-learn) (3.1.0)\n",
      "Installing collected packages: scikit-learn\n",
      "\u001b[31mERROR: pip's dependency resolver does not currently take into account all the packages that are installed. This behaviour is the source of the following dependency conflicts.\n",
      "yellowbrick 1.3.post1 requires numpy<1.20,>=1.16.0, but you have numpy 1.20.0 which is incompatible.\n",
      "pycaret 2.3.10 requires scikit-learn==0.23.2, but you have scikit-learn 1.1.1 which is incompatible.\u001b[0m\u001b[31m\n",
      "\u001b[0mSuccessfully installed scikit-learn-1.1.1\n",
      "\u001b[33mWARNING: Running pip as the 'root' user can result in broken permissions and conflicting behaviour with the system package manager. It is recommended to use a virtual environment instead: https://pip.pypa.io/warnings/venv\u001b[0m\u001b[33m\n",
      "\u001b[0m"
     ]
    }
   ],
   "source": [
    "!pip install scikit-learn"
   ]
  },
  {
   "cell_type": "code",
   "execution_count": 24,
   "id": "d18e91b9-2be9-41bd-8d9e-63688aeaf800",
   "metadata": {},
   "outputs": [
    {
     "name": "stdout",
     "output_type": "stream",
     "text": [
      "1.1.1\n"
     ]
    }
   ],
   "source": [
    "import sklearn\n",
    "print(sklearn.__version__)"
   ]
  },
  {
   "cell_type": "code",
   "execution_count": null,
   "id": "95ae8c32-e0ef-4d9e-8b7d-29e2327e90d3",
   "metadata": {},
   "outputs": [],
   "source": [
    "# !pip install scikit-learn==0.23.2"
   ]
  },
  {
   "cell_type": "code",
   "execution_count": null,
   "id": "cc027499-1ba6-47cc-be51-e6f8349385e8",
   "metadata": {},
   "outputs": [],
   "source": [
    "# !pip install --upgrade scikit-learn\n",
    "#!pip install --upgrade pandas"
   ]
  },
  {
   "cell_type": "code",
   "execution_count": null,
   "id": "143c73f1-4f57-44ed-aa01-81bc35b04723",
   "metadata": {},
   "outputs": [],
   "source": [
    "!pip install pandas==1.3.5"
   ]
  },
  {
   "cell_type": "code",
   "execution_count": 25,
   "id": "efa348f7-9d85-4bda-a0f6-c5a73785d852",
   "metadata": {},
   "outputs": [
    {
     "name": "stdout",
     "output_type": "stream",
     "text": [
      "1.3.5\n"
     ]
    }
   ],
   "source": [
    "import pandas\n",
    "print(pandas.__version__)"
   ]
  },
  {
   "cell_type": "code",
   "execution_count": null,
   "id": "823640d1-3887-4ad2-9227-6f351deab11f",
   "metadata": {},
   "outputs": [],
   "source": [
    "!pip install lightgbm==2.3.1"
   ]
  },
  {
   "cell_type": "code",
   "execution_count": 26,
   "id": "f4daf3c1-c5f0-4c12-85ce-52fe50572964",
   "metadata": {},
   "outputs": [],
   "source": [
    "import cudf"
   ]
  },
  {
   "cell_type": "code",
   "execution_count": null,
   "id": "e130832e-9ef5-4ddf-9ab9-17d3d12597e5",
   "metadata": {},
   "outputs": [],
   "source": [
    "# !pip install cupy --no-cache-dir -vvvv"
   ]
  },
  {
   "cell_type": "code",
   "execution_count": null,
   "id": "abcb11a6-cd55-4088-8ce3-03b92d987ea9",
   "metadata": {},
   "outputs": [],
   "source": [
    "!pip uninstall cupy"
   ]
  },
  {
   "cell_type": "code",
   "execution_count": 3,
   "id": "c8decb0d-c6df-4e10-9434-fe02681c5e23",
   "metadata": {},
   "outputs": [
    {
     "name": "stdout",
     "output_type": "stream",
     "text": [
      "Requirement already satisfied: torch in /opt/conda/envs/rapids/lib/python3.8/site-packages (1.12.0+cu116)\n",
      "Requirement already satisfied: torchvision in /opt/conda/envs/rapids/lib/python3.8/site-packages (0.5.0)\n",
      "Collecting torchvision\n",
      "  Downloading torchvision-0.13.0-cp38-cp38-manylinux1_x86_64.whl (19.1 MB)\n",
      "\u001b[2K     \u001b[90m━━━━━━━━━━━━━━━━━━━━━━━━━━━━━━━━━━━━━━━━\u001b[0m \u001b[32m19.1/19.1 MB\u001b[0m \u001b[31m72.3 MB/s\u001b[0m eta \u001b[36m0:00:00\u001b[0m00:01\u001b[0m00:01\u001b[0m\n",
      "\u001b[?25hRequirement already satisfied: typing-extensions in /opt/conda/envs/rapids/lib/python3.8/site-packages (from torch) (4.1.1)\n",
      "Requirement already satisfied: numpy in /opt/conda/envs/rapids/lib/python3.8/site-packages (from torchvision) (1.20.0)\n",
      "Requirement already satisfied: pillow!=8.3.*,>=5.3.0 in /opt/conda/envs/rapids/lib/python3.8/site-packages (from torchvision) (9.1.0)\n",
      "Requirement already satisfied: requests in /opt/conda/envs/rapids/lib/python3.8/site-packages (from torchvision) (2.27.1)\n",
      "Requirement already satisfied: certifi>=2017.4.17 in /opt/conda/envs/rapids/lib/python3.8/site-packages (from requests->torchvision) (2022.6.15)\n",
      "Requirement already satisfied: charset-normalizer~=2.0.0 in /opt/conda/envs/rapids/lib/python3.8/site-packages (from requests->torchvision) (2.0.12)\n",
      "Requirement already satisfied: idna<4,>=2.5 in /opt/conda/envs/rapids/lib/python3.8/site-packages (from requests->torchvision) (3.3)\n",
      "Requirement already satisfied: urllib3<1.27,>=1.21.1 in /opt/conda/envs/rapids/lib/python3.8/site-packages (from requests->torchvision) (1.26.9)\n",
      "Installing collected packages: torchvision\n",
      "  Attempting uninstall: torchvision\n",
      "    Found existing installation: torchvision 0.5.0\n",
      "    Uninstalling torchvision-0.5.0:\n",
      "      Successfully uninstalled torchvision-0.5.0\n",
      "Successfully installed torchvision-0.13.0\n",
      "\u001b[33mWARNING: Running pip as the 'root' user can result in broken permissions and conflicting behaviour with the system package manager. It is recommended to use a virtual environment instead: https://pip.pypa.io/warnings/venv\u001b[0m\u001b[33m\n",
      "\u001b[0m"
     ]
    }
   ],
   "source": [
    "!pip install --upgrade torch torchvision"
   ]
  },
  {
   "cell_type": "code",
   "execution_count": 1,
   "id": "63ae6de7-e0b1-4962-b038-9bc669642a91",
   "metadata": {},
   "outputs": [
    {
     "name": "stdout",
     "output_type": "stream",
     "text": [
      "1.12.0+cu116\n"
     ]
    }
   ],
   "source": [
    "import torch; print(torch.__version__)"
   ]
  },
  {
   "cell_type": "code",
   "execution_count": 4,
   "id": "d3deb24b-73ec-47ab-a8be-ee730b65ff14",
   "metadata": {},
   "outputs": [
    {
     "name": "stdout",
     "output_type": "stream",
     "text": [
      "Found existing installation: torch-geometric 2.0.4\n",
      "Uninstalling torch-geometric-2.0.4:\n",
      "  Successfully uninstalled torch-geometric-2.0.4\n",
      "\u001b[33mWARNING: Running pip as the 'root' user can result in broken permissions and conflicting behaviour with the system package manager. It is recommended to use a virtual environment instead: https://pip.pypa.io/warnings/venv\u001b[0m\u001b[33m\n",
      "\u001b[0m"
     ]
    }
   ],
   "source": [
    "!pip uninstall torch-geometric --yes"
   ]
  },
  {
   "cell_type": "code",
   "execution_count": null,
   "id": "4be22131-0902-4634-9bbb-b9a3b2dea057",
   "metadata": {},
   "outputs": [],
   "source": [
    "#https://pytorch-geometric.readthedocs.io/en/latest/notes/installation.html"
   ]
  },
  {
   "cell_type": "code",
   "execution_count": 5,
   "id": "7acd1118-9505-4639-bc79-4208e5a208c2",
   "metadata": {},
   "outputs": [
    {
     "name": "stdout",
     "output_type": "stream",
     "text": [
      "Looking in links: https://data.pyg.org/whl/torch-1.12.0+cu116.html\n",
      "Collecting torch-scatter\n",
      "  Downloading https://data.pyg.org/whl/torch-1.12.0%2Bcu116/torch_scatter-2.0.9-cp38-cp38-linux_x86_64.whl (8.0 MB)\n",
      "\u001b[2K     \u001b[90m━━━━━━━━━━━━━━━━━━━━━━━━━━━━━━━━━━━━━━━━\u001b[0m \u001b[32m8.0/8.0 MB\u001b[0m \u001b[31m8.0 MB/s\u001b[0m eta \u001b[36m0:00:00\u001b[0ma \u001b[36m0:00:01\u001b[0m0m\n",
      "\u001b[?25hInstalling collected packages: torch-scatter\n",
      "Successfully installed torch-scatter-2.0.9\n",
      "\u001b[33mWARNING: Running pip as the 'root' user can result in broken permissions and conflicting behaviour with the system package manager. It is recommended to use a virtual environment instead: https://pip.pypa.io/warnings/venv\u001b[0m\u001b[33m\n",
      "\u001b[0m"
     ]
    }
   ],
   "source": [
    "# !pip install torch-scatter -f https://data.pyg.org/whl/torch-1.12.0+cu116.html\n",
    "# !pip install torch-sparse -f https://data.pyg.org/whl/torch-1.12.0+cu116.html\n",
    "# !pip install torch-geometric"
   ]
  }
 ],
 "metadata": {
  "kernelspec": {
   "display_name": "Python 3 (ipykernel)",
   "language": "python",
   "name": "python3"
  },
  "language_info": {
   "codemirror_mode": {
    "name": "ipython",
    "version": 3
   },
   "file_extension": ".py",
   "mimetype": "text/x-python",
   "name": "python",
   "nbconvert_exporter": "python",
   "pygments_lexer": "ipython3",
   "version": "3.8.13"
  }
 },
 "nbformat": 4,
 "nbformat_minor": 5
}
