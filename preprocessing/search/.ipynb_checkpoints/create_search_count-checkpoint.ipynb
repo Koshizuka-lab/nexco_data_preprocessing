{
 "cells": [
  {
   "cell_type": "markdown",
   "id": "85d27369-a201-4d6d-8e2a-06af051b5e9b",
   "metadata": {},
   "source": [
    "このファイルについて\n",
    "- about\n",
    "    - 検索履歴データから館山道・関越道の各区間の5分単位の検索数を計算する\n",
    "- author: 松永\n",
    "- Input\n",
    "    - ../Input_processed_data/search_records/csv202xxx/*\n",
    "- Output\n",
    "    - 時間指定あり検索\n",
    "        - ../Input_processed_data/search_count/search-count_{tateyama or kannetsu}.csv\n",
    "    - 時間指定なし検索\n",
    "        - ../Input_processed_data/search_count/search-count_{tateyama or kannetsu}_unspecified.csv\""
   ]
  },
  {
   "cell_type": "code",
   "execution_count": 1,
   "id": "c1f97982-b882-40ad-a32e-16cb4360f862",
   "metadata": {
    "tags": []
   },
   "outputs": [],
   "source": [
    "import datetime as dt\n",
    "import os\n",
    "import pickle\n",
    "import time\n",
    "from typing import Dict, List, Optional, Set, Tuple\n",
    "\n",
    "import networkx as nx\n",
    "import numpy as np\n",
    "import pandas as pd\n",
    "import cudf\n",
    "# import warnings\n",
    "# warnings.simplefilter('ignore')"
   ]
  },
  {
   "cell_type": "code",
   "execution_count": 2,
   "id": "e4671dfa-3caa-460e-9cc2-5d7d98bf923c",
   "metadata": {},
   "outputs": [],
   "source": [
    "# data directory\n",
    "DATA_DIR = '../../Input_processed_data'\n",
    "\n",
    "# IC, 道路情報 csv\n",
    "IC_CSV = f'{DATA_DIR}/road_master/ic_preprocessed.csv'\n",
    "IC_NET_CSV = f'{DATA_DIR}/road_master/220303-doronet_ic.csv'\n",
    "IC_SUBNET_CSV = f'{DATA_DIR}/road_master/icnet_sub.csv'\n",
    "\n",
    "# 検索ログ csv\n",
    "SEARCH_LOG_DIR = lambda month: f'{DATA_DIR}/simple_search_records/csv{month}'\n",
    "SEARCH_LOG_CSV = lambda date: f'{SEARCH_LOG_DIR(date[:6])}/record_{date}.csv'"
   ]
  },
  {
   "cell_type": "markdown",
   "id": "3a068031-f055-4035-aa54-384957e7a1f4",
   "metadata": {},
   "source": [
    "# 準備"
   ]
  },
  {
   "cell_type": "markdown",
   "id": "389a3b79-97ea-4ef6-8499-46bded813fe2",
   "metadata": {},
   "source": [
    "## 道路構造データの読み込み"
   ]
  },
  {
   "cell_type": "code",
   "execution_count": 3,
   "id": "eeca744f-ae87-4eb2-aa52-4eb0b610e1d0",
   "metadata": {},
   "outputs": [],
   "source": [
    "# モジュール内で前処理済み\n",
    "df_ic = pd.read_csv(IC_CSV, dtype={'ic_code': str})\n",
    "df_icnet = pd.read_csv(IC_NET_CSV, dtype={'start_code': str, 'end_code': str, 'road_code': str})\n",
    "sub_icnet = pd.read_csv(IC_SUBNET_CSV, dtype={'start_code': str, 'end_code': str, 'road_code': str})\n",
    "\n",
    "code2name = dict(zip(df_ic['ic_code'], df_ic['ic_name']))\n",
    "name2code = {v: k for k, v in code2name.items()}\n",
    "\n",
    "ic_graph = nx.from_pandas_edgelist(\n",
    "    df_icnet, source='start_code', target='end_code',\n",
    "    edge_attr=['distance', 'road_code', 'direction'], create_using=nx.DiGraph())"
   ]
  },
  {
   "cell_type": "code",
   "execution_count": 4,
   "id": "ba8365b8-df16-4dde-b03f-44e82db4e3f1",
   "metadata": {},
   "outputs": [],
   "source": [
    "# 区間ごとの制限速度を格納したテーブル, Map を作成\n",
    "df_limits = sub_icnet.loc[:, ['start_code', 'end_code', 'start_name', 'end_name', 'road_code', 'limit']]\n",
    "limit_dict = {\n",
    "    (s_code, e_code): lim for s_code, e_code, lim in df_limits.loc[:, ['start_code', 'end_code', 'limit']].values\n",
    "}"
   ]
  },
  {
   "cell_type": "code",
   "execution_count": 5,
   "id": "4e201be5-4a51-4c38-bfd9-35d9e2ebb31d",
   "metadata": {},
   "outputs": [],
   "source": [
    "ic_nodes_set: set = set(code2name.keys())"
   ]
  },
  {
   "cell_type": "code",
   "execution_count": 6,
   "id": "88ab3167-73e7-4aff-9946-49c674b5f458",
   "metadata": {},
   "outputs": [],
   "source": [
    "# トラカンデータが持つ区間のdataframe\n",
    "tc_segments = pd.read_pickle(f'./traffic_counter_segments.pkl')\n",
    "tc_segments_set = set(\n",
    "    [tuple(segment) for segment in tc_segments.loc[:, ['start_code', 'end_code']].values]\n",
    ")"
   ]
  },
  {
   "cell_type": "markdown",
   "id": "8be239f3-92dc-41ff-b890-b98c6c3877b3",
   "metadata": {
    "tags": []
   },
   "source": [
    "## 最短経路オブジェクト`route_dict`の読み込み・書き出し"
   ]
  },
  {
   "cell_type": "code",
   "execution_count": 7,
   "id": "4ee512c0-a628-4984-9ef9-973e790b9cdf",
   "metadata": {},
   "outputs": [
    {
     "name": "stdout",
     "output_type": "stream",
     "text": [
      "Loading IC Routes...\n",
      "Finished.\n"
     ]
    }
   ],
   "source": [
    "fname = './route_dict.pkl'\n",
    "\n",
    "if os.path.exists(fname): # 経路マップがすでに存在しているとき、それを使う\n",
    "    with open(fname, 'rb') as f:\n",
    "        print('Loading IC Routes...')\n",
    "        route_dict = pickle.load(f)\n",
    "else: # 存在していなければ計算してバイナリで保存\n",
    "    print('Calculating IC Routes...')\n",
    "    route_dict = dict(nx.all_pairs_dijkstra_path(ic_graph, weight='distance'))\n",
    "    \n",
    "    with open(fname, 'wb') as f:\n",
    "        pickle.dump(route_dict, f)\n",
    "print('Finished.')"
   ]
  },
  {
   "cell_type": "code",
   "execution_count": 8,
   "id": "5365fa05-d521-4bc4-b209-19ec9f0f80df",
   "metadata": {},
   "outputs": [
    {
     "name": "stdout",
     "output_type": "stream",
     "text": [
      "3.4G\t./route_dict.pkl\n"
     ]
    }
   ],
   "source": [
    "! du -h ./route_dict.pkl"
   ]
  },
  {
   "cell_type": "markdown",
   "id": "69b065b3-875f-4c08-8ebf-834c281e19f4",
   "metadata": {
    "tags": []
   },
   "source": [
    "## 省略するICの集合を読み込む"
   ]
  },
  {
   "cell_type": "code",
   "execution_count": 9,
   "id": "a6a59f07-af7c-4e41-bddf-71a94dae529a",
   "metadata": {},
   "outputs": [],
   "source": [
    "with open('small_ic.pkl', 'rb') as f:\n",
    "    df_small_ic = pickle.load(f)\n",
    "\n",
    "small_ic_set = set(df_small_ic.ic_code)"
   ]
  },
  {
   "cell_type": "markdown",
   "id": "309067ff-fbf5-463b-9a84-8bcddbf4c6e3",
   "metadata": {},
   "source": [
    "# Functions"
   ]
  },
  {
   "cell_type": "markdown",
   "id": "12006c6a-1b9e-4077-9b17-44ba13a94542",
   "metadata": {},
   "source": [
    "## 経路計算"
   ]
  },
  {
   "cell_type": "code",
   "execution_count": 10,
   "id": "a0a0c8c9-63cd-44a4-b1d7-3e69e0d53765",
   "metadata": {},
   "outputs": [],
   "source": [
    "def __get_route(\n",
    "    src: str, dest: str, route_dict: Dict[str, Dict[str, List[str]]]\n",
    ") -> Optional[List[str]]:\n",
    "    if not (src in ic_nodes_set and dest in ic_nodes_set):\n",
    "        return []\n",
    "    try:\n",
    "        path = route_dict[src][dest]\n",
    "        return path\n",
    "    except: # 経路が存在しない, もしくはノードがグラフ上に存在しない場合\n",
    "        return []"
   ]
  },
  {
   "cell_type": "code",
   "execution_count": 11,
   "id": "8dc05512-3eab-47b3-8753-c67d8048ec52",
   "metadata": {
    "tags": []
   },
   "outputs": [],
   "source": [
    "def get_route(\n",
    "    src: str, \n",
    "    dest: str, \n",
    "    route_dict: Dict[str, Dict[str, List[str]]],\n",
    "    excluded_ic_set: Set[str] = set(),\n",
    ") -> List[str]:\n",
    "    '''\n",
    "    ic_graph上で出発地から目的地までの経路を得る関数\n",
    "\n",
    "    Parameters\n",
    "    --------------\n",
    "    src: 出発ICコード\n",
    "    dest: 目的ICコード\n",
    "    '''\n",
    "    path = __get_route(src, dest, route_dict=route_dict)\n",
    "    \n",
    "    if len(excluded_ic_set) > 0:\n",
    "        path = [ic for ic in path if ic not in excluded_ic_set]\n",
    "    return path"
   ]
  },
  {
   "cell_type": "code",
   "execution_count": 12,
   "id": "bbb4b2eb-0d09-48c4-99d3-24744ea540b5",
   "metadata": {
    "tags": []
   },
   "outputs": [],
   "source": [
    "def get_route_with_time(\n",
    "    src: str,\n",
    "    dest: str,\n",
    "    spec_datetime: dt.datetime,\n",
    "    spec_type: int,\n",
    "    route_dict: Dict[str, Dict[str, List[str]]],\n",
    "    excluded_ic_set: Set[str] = set(),\n",
    ") -> List[Tuple[str, dt.datetime]]:\n",
    "    '''\n",
    "    ic_graph上で出発地（src_name）から目的地（target_name）までの予想通過時刻付き経路を得る関数\n",
    "    '''\n",
    "    # 関越道・館山道 以外の道路の移動速度は80km/hと仮定する\n",
    "    DEFAULT_SPEED = 80\n",
    "    \n",
    "    path = __get_route(src, dest, route_dict=route_dict)\n",
    "\n",
    "    elapsed = dt.timedelta()\n",
    "    elapsed_time_list = [elapsed]\n",
    "    for i, (start, end) in enumerate(zip(path, path[1:])):\n",
    "        dist = ic_graph[start][end]['distance']\n",
    "        limit_speed = limit_dict.get((start, end), DEFAULT_SPEED)\n",
    "        \n",
    "        # 所要時間を積算\n",
    "        td = dt.timedelta(hours = dist / limit_speed)\n",
    "        elapsed += td\n",
    "        elapsed_time_list.append(elapsed)\n",
    "    \n",
    "    if spec_type == 1:\n",
    "        time_list = [spec_datetime + td for td in elapsed_time_list]\n",
    "    elif spec_type == 2:\n",
    "        time_list = [spec_datetime - td for td in elapsed_time_list[::-1]]\n",
    "    else:\n",
    "        time_list = [spec_datetime + td for td in elapsed_time_list]\n",
    "    \n",
    "    result = list(zip(path, time_list))\n",
    "    if len(excluded_ic_set) > 0:\n",
    "        result = [(ic, time) for (ic, time) in result if ic not in excluded_ic_set]\n",
    "    return result"
   ]
  },
  {
   "cell_type": "markdown",
   "id": "6390b49b-27a5-4be7-a42a-d9fd29eee553",
   "metadata": {},
   "source": [
    "## 検索ログの読み込み"
   ]
  },
  {
   "cell_type": "code",
   "execution_count": 13,
   "id": "eb5f60de-dbce-4bcd-a4d5-72f3ff72b843",
   "metadata": {},
   "outputs": [],
   "source": [
    "def str2date(date: str, format: str = '%Y%m%d') -> dt.date:\n",
    "    return dt.datetime.strptime(date, '%Y%m%d').date()"
   ]
  },
  {
   "cell_type": "code",
   "execution_count": 14,
   "id": "2f40d374-15bf-4521-8518-74ac414c4bd6",
   "metadata": {},
   "outputs": [],
   "source": [
    "def get_log(date: str) -> cudf.DataFrame:\n",
    "    type_map = {\n",
    "        'datetime': np.datetime64,\n",
    "        'start_code': 'category',\n",
    "        'end_code': 'category',\n",
    "        'spec_datetime': np.datetime64,\n",
    "        'spec_type': 'category',\n",
    "        'car_type': 'category'\n",
    "    }\n",
    "    if not os.path.exists(SEARCH_LOG_CSV(date)):\n",
    "        return cudf.DataFrame(columns=type_map.keys())\n",
    "\n",
    "    df = pd.read_csv(SEARCH_LOG_CSV(date)).astype(type_map)\n",
    "    df = df.loc[\n",
    "        (df.start_code.isin(ic_nodes_set)) &\n",
    "        (df.end_code.isin(ic_nodes_set))\n",
    "    ]\n",
    "    return cudf.from_pandas(df)"
   ]
  },
  {
   "cell_type": "code",
   "execution_count": 15,
   "id": "777466f0-06b7-4454-9dd6-1174b0778ac7",
   "metadata": {},
   "outputs": [],
   "source": [
    "def get_past_logs(date: str, periods: int, include_target: bool = False) -> cudf.DataFrame:\n",
    "    '''\n",
    "    指定日(target_date)から過去数日分の検索履歴データを取得する関数\n",
    "\n",
    "    Parameters\n",
    "    --------------\n",
    "    date: 混雑度算出の対象となる日付（文字列 or リスト)\n",
    "    periods: 過去何日分の履歴を参照するか\n",
    "    include_target: dateをデータに含めるかどうか\n",
    "    '''\n",
    "    # 参照すべき全日付のiterableを生成\n",
    "    if include_target:\n",
    "        dt_range = pd.date_range(end=date, periods=periods)\n",
    "    else:\n",
    "        dt_range = pd.date_range(end=date, periods=periods+1, closed='left')\n",
    "\n",
    "    DAYS = [d.strftime('%Y%m%d') for d in dt_range]\n",
    "\n",
    "    df_specified = cudf.DataFrame()\n",
    "    for d in DAYS:\n",
    "        df = get_log(d)\n",
    "        if len(df) == 0:\n",
    "            continue\n",
    "        \n",
    "        series_spec_date: pd.Series = df.spec_datetime.to_pandas().map(lambda dt: dt.date())\n",
    "        _df_specified = df.loc[series_spec_date == str2date(date)]\n",
    "        df_specified = cudf.concat([df_specified, _df_specified], ignore_index=True)\n",
    "    df_specified.reset_index(drop=True, inplace=True)\n",
    "    \n",
    "    if len(df_specified) == 0:\n",
    "        df_specified = cudf.DataFrame(columns=df.columns)\n",
    "    return df_specified"
   ]
  },
  {
   "cell_type": "code",
   "execution_count": 16,
   "id": "18031349-079e-401b-a9a4-dae14a76d69f",
   "metadata": {},
   "outputs": [],
   "source": [
    "def get_unspecified_log(date: str) -> cudf.DataFrame:\n",
    "    '''\n",
    "    検索履歴全体から時間指定なしの検索のみを得る関数\n",
    "    '''\n",
    "    ALLOWED_MINUTE_LAG = 15\n",
    "    \n",
    "    df = get_log(date)\n",
    "    # 検索日時と指定日時の差を秒単位で算出\n",
    "    t_diff = abs((df.datetime - df.spec_datetime) / np.timedelta64(1, 's'))\n",
    "    \n",
    "    # 事前に定義した時間差（=15分）より検索日時と指定日時の差が少ないレコードのみを抽出\n",
    "    df_unspecified = df.loc[t_diff < ALLOWED_MINUTE_LAG * 60].reset_index(drop=True)\n",
    "    return df_unspecified"
   ]
  },
  {
   "cell_type": "markdown",
   "id": "e5003f45-27fc-4455-abc4-85ea863ae02b",
   "metadata": {},
   "source": [
    "## 検索ログのマッピング"
   ]
  },
  {
   "cell_type": "code",
   "execution_count": 22,
   "id": "8f24db9e-5edb-4808-aadb-54262ee78ab4",
   "metadata": {
    "tags": []
   },
   "outputs": [],
   "source": [
    "def map_search_to_road_network(\n",
    "    df: cudf.DataFrame,\n",
    "    route_dict: Dict[str, Dict[str, List[str]]],\n",
    "    excluded_ic_set: Set[str] = set()\n",
    ") -> cudf.DataFrame:\n",
    "    '''\n",
    "    検索ログから各道路区間の予想通過時刻を計算する\n",
    "    '''\n",
    "    start_code_list = []\n",
    "    end_code_list = []\n",
    "    passing_time_list = []\n",
    "    \n",
    "    columns = ['start_code', 'end_code', 'spec_datetime', 'spec_type']\n",
    "    for (src, dest, spec_datetime, spec_type) in df.loc[:, columns].to_pandas().values:\n",
    "        path = get_route_with_time(\n",
    "            src, dest, spec_datetime, spec_type, \n",
    "            route_dict=route_dict, \n",
    "            excluded_ic_set=excluded_ic_set\n",
    "        )\n",
    "        for i, (start, end) in enumerate(zip(path, path[1:])):\n",
    "            s_code, e_code = start[0], end[0]\n",
    "            s_ptime = start[-1]\n",
    "            \n",
    "            # if ic_graph[s_code][e_code]['road_code'] not in target_road_code_set:\n",
    "            #     break\n",
    "            \n",
    "            start_code_list.append(s_code)\n",
    "            end_code_list.append(e_code)\n",
    "            passing_time_list.append(s_ptime)\n",
    "            \n",
    "        if spec_type not in {1, 2} and len(path) > 0:\n",
    "            with open('./error_spec_type_records.csv', 'a') as f:\n",
    "                print(f'{s_ptime},{src},{dest},{spec_datetime},{spec_type}', file=f)\n",
    "                \n",
    "\n",
    "\n",
    "    return cudf.DataFrame({\n",
    "        'start_code': start_code_list,\n",
    "        'end_code': end_code_list,\n",
    "        'passing_time': passing_time_list,\n",
    "    }).astype({\n",
    "        'start_code': 'category',\n",
    "        'end_code': 'category'\n",
    "    })"
   ]
  },
  {
   "cell_type": "code",
   "execution_count": 18,
   "id": "60b8461c-7071-4cce-bb84-f6f5d9771c03",
   "metadata": {},
   "outputs": [],
   "source": [
    "def aggregate_search_count(df: cudf.DataFrame, timeslice: str = '5min') -> cudf.DataFrame:\n",
    "    # 検索量として積算される対象となるカラムを付与\n",
    "    result = df.assign(search=1)\n",
    "    \n",
    "    # timesliceでサンプリングし、検索量の和を取る\n",
    "    result = (result\n",
    "              .set_index('passing_time')\n",
    "              .to_pandas()\n",
    "              .groupby(['start_code', 'end_code'])\n",
    "              .apply(lambda g: g['search'].resample(timeslice).sum())\n",
    "              .reset_index())\n",
    "    return cudf.from_pandas(result)"
   ]
  },
  {
   "cell_type": "markdown",
   "id": "b845e445-127c-41c7-99dd-766e8ade3f73",
   "metadata": {
    "tags": []
   },
   "source": [
    "# 検索数の作成"
   ]
  },
  {
   "cell_type": "markdown",
   "id": "348c4fc9-4a55-4369-81e6-72ba8eda5e37",
   "metadata": {},
   "source": [
    "## 時間指定あり"
   ]
  },
  {
   "cell_type": "code",
   "execution_count": 19,
   "id": "fd879315-4d8b-42e0-8f36-f243da01ad94",
   "metadata": {},
   "outputs": [],
   "source": [
    "period_blocks = [\n",
    "    # ('20210402', '20210630'),\n",
    "    # ('20210701', '20210930'),\n",
    "    # ('20211001', '20211231'),\n",
    "    # ('20220101', '20220331'),\n",
    "    # ('20220401', '20220630'),\n",
    "    # ('20220701', '20220930'),\n",
    "    # ('20221001', '20221231'),\n",
    "    # ('20230101', '20230331'),\n",
    "    # ('20230401', '20230630'),\n",
    "    # ('20230701', '20230930'),\n",
    "    # ('20231001', '20231231'),\n",
    "    # ('20240101', '20240331'),\n",
    "    # ('20240401', '20240506'),\n",
    "    ('20240507', '20240831'),\n",
    "]"
   ]
  },
  {
   "cell_type": "code",
   "execution_count": 20,
   "id": "2338e9fe-3e0c-439f-985c-72f009e15156",
   "metadata": {},
   "outputs": [],
   "source": [
    "past_periods = 7\n",
    "timeslice = '5min'"
   ]
  },
  {
   "cell_type": "code",
   "execution_count": null,
   "id": "75c6371c-f389-4c18-85bd-9c65ea95c9d2",
   "metadata": {
    "tags": []
   },
   "outputs": [
    {
     "name": "stdout",
     "output_type": "stream",
     "text": [
      "======================================== 20240507 -> 20240831 ========================================\n",
      "20240507 | 23040 records (32.694 sec)\n",
      "20240508 | 23040 records (28.920 sec)\n",
      "20240509 | 23040 records (26.623 sec)\n",
      "20240510 | 23000 records (36.830 sec)\n",
      "20240511 | 23040 records (70.903 sec)\n",
      "20240512 | 23036 records (45.107 sec)\n",
      "20240513 | 23039 records (29.447 sec)\n",
      "20240514 | 23037 records (28.042 sec)\n",
      "20240515 | 23040 records (28.770 sec)\n",
      "20240516 | 23038 records (27.689 sec)\n",
      "20240517 | 23040 records (37.276 sec)\n",
      "20240518 | 23040 records (70.625 sec)\n",
      "20240519 | 23037 records (41.427 sec)\n",
      "20240520 | 23039 records (30.226 sec)\n",
      "20240521 | 23038 records (25.344 sec)\n",
      "20240522 | 23035 records (26.674 sec)\n",
      "20240523 | 23034 records (27.105 sec)\n",
      "20240524 | 23033 records (43.162 sec)\n",
      "20240525 | 23040 records (66.871 sec)\n",
      "20240526 | 23031 records (39.153 sec)\n",
      "20240527 | 22940 records (29.342 sec)\n",
      "20240528 | 22999 records (18.625 sec)\n",
      "20240529 | 23010 records (23.532 sec)\n",
      "20240530 | 22785 records (25.888 sec)\n",
      "20240531 | 23033 records (29.453 sec)\n",
      "20240601 | 23040 records (56.464 sec)\n",
      "20240602 | 23032 records (32.699 sec)\n",
      "20240603 | 23040 records (27.010 sec)\n",
      "20240604 | 23018 records (23.861 sec)\n",
      "20240605 | 23036 records (25.402 sec)\n",
      "20240606 | 23040 records (24.710 sec)\n",
      "20240607 | 23019 records (34.170 sec)\n",
      "20240608 | 23040 records (64.307 sec)\n",
      "20240609 | 23038 records (35.657 sec)\n",
      "20240610 | 23026 records (27.840 sec)\n",
      "20240611 | 23027 records (18.961 sec)\n",
      "20240612 | 23037 records (24.602 sec)\n",
      "20240613 | 23020 records (24.822 sec)\n",
      "20240614 | 23036 records (34.980 sec)\n",
      "20240615 | 23040 records (61.585 sec)\n",
      "20240616 | 22994 records (35.119 sec)\n",
      "20240617 | 23036 records (27.855 sec)\n",
      "20240618 | 23031 records (23.088 sec)\n",
      "20240619 | 22963 records (22.734 sec)\n",
      "20240620 | 22946 records (17.580 sec)\n"
     ]
    }
   ],
   "source": [
    "for start_date, end_date in period_blocks:\n",
    "    print('='*40, f'{start_date} -> {end_date}', '='*40)\n",
    "    \n",
    "    DAYS: List[str] = [\n",
    "        d.strftime('%Y%m%d') for d in pd.date_range(start_date, end_date, freq='1D')\n",
    "    ]\n",
    "    \n",
    "    df_search = cudf.DataFrame()\n",
    "    for i, date in enumerate(DAYS):\n",
    "        s = time.time()\n",
    "        \n",
    "        df = get_past_logs(date, periods=past_periods)\n",
    "        \n",
    "        df_mapped = map_search_to_road_network(\n",
    "            df, route_dict, excluded_ic_set=small_ic_set\n",
    "        )\n",
    "        df_mapped = df_mapped.loc[\n",
    "            df_mapped.loc[:, ['start_code', 'end_code']].to_pandas().apply(\n",
    "                lambda segment: tuple(segment) in tc_segments_set, axis=1\n",
    "            )\n",
    "        ].reset_index(drop=True)\n",
    "        \n",
    "        _df_search = aggregate_search_count(df_mapped, timeslice)\n",
    "        _df_search = cudf.from_pandas(\n",
    "            _df_search.set_index('passing_time').to_pandas().loc[date]\n",
    "        ).reset_index()\n",
    "\n",
    "        print(f'{date} | {len(_df_search)} records ({time.time() - s:.3f} sec)')\n",
    "\n",
    "        df_search = cudf.concat([df_search, _df_search], ignore_index=True)\n",
    "\n",
    "    df_search.reset_index(inplace=True, drop=True)\n",
    "    OUTPUT_FILE = f'{DATA_DIR}/search_count/search-count_specified_{start_date}-{end_date}.csv'\n",
    "    df_search.to_pandas().to_csv(OUTPUT_FILE, index=False)"
   ]
  },
  {
   "cell_type": "code",
   "execution_count": 33,
   "id": "c38fb2bf-c895-4188-923e-8fe0e7a4b2f8",
   "metadata": {},
   "outputs": [
    {
     "name": "stdout",
     "output_type": "stream",
     "text": [
      "passing_time,start_code,end_code,search\n",
      "2024-05-07 00:00:00,1040013,1040016,6\n",
      "2024-05-07 00:05:00,1040013,1040016,5\n",
      "2024-05-07 00:10:00,1040013,1040016,5\n",
      "2024-05-07 00:15:00,1040013,1040016,3\n"
     ]
    }
   ],
   "source": [
    "!head -n5 \"$OUTPUT_FILE\""
   ]
  },
  {
   "cell_type": "code",
   "execution_count": 34,
   "id": "b30094cb-c478-4dc1-8b80-f367ee8b71c6",
   "metadata": {},
   "outputs": [
    {
     "name": "stdout",
     "output_type": "stream",
     "text": [
      "2024-08-31 23:35:00,1800106,1800111,0\n",
      "2024-08-31 23:40:00,1800106,1800111,0\n",
      "2024-08-31 23:45:00,1800106,1800111,6\n",
      "2024-08-31 23:50:00,1800106,1800111,0\n",
      "2024-08-31 23:55:00,1800106,1800111,0\n"
     ]
    }
   ],
   "source": [
    "!tail -n5 \"$OUTPUT_FILE\""
   ]
  },
  {
   "cell_type": "markdown",
   "id": "6b964ee9-4a8a-472a-b6a5-4c1291d6d544",
   "metadata": {},
   "source": [
    "## 時間指定なし"
   ]
  },
  {
   "cell_type": "code",
   "execution_count": 35,
   "id": "d26459b4-cf87-4c76-ba6f-33c4dca5fa54",
   "metadata": {},
   "outputs": [],
   "source": [
    "period_blocks = [\n",
    "    # ('20210402', '20210630'),\n",
    "    # ('20210701', '20210930'),\n",
    "    # ('20211001', '20211231'),\n",
    "    # ('20220101', '20220331'),\n",
    "    # ('20220401', '20220630'),\n",
    "    # ('20220701', '20220930'),\n",
    "    # ('20221001', '20221231'),\n",
    "    # ('20230101', '20230331'),\n",
    "    # ('20230401', '20230630'),\n",
    "    # ('20230701', '20230930'),\n",
    "    # ('20231001', '20231231'),\n",
    "    # ('20240101', '20240331'),\n",
    "    # ('20240401', '20240506'),\n",
    "    ('20240507', '20240831')\n",
    "]"
   ]
  },
  {
   "cell_type": "code",
   "execution_count": 36,
   "id": "fc5a634e-f0ea-4c6d-8cd6-67d7d1768fc9",
   "metadata": {},
   "outputs": [],
   "source": [
    "def aggregate_search_count(df: cudf.DataFrame) -> cudf.DataFrame:\n",
    "    # 検索量として積算される対象となるカラムを付与\n",
    "    result = df.assign(search=1)\n",
    "    \n",
    "    # timesliceでサンプリングし、検索量の和を取る\n",
    "    result = (result\n",
    "              .set_index('passing_time')\n",
    "              .to_pandas()\n",
    "              .groupby(['start_code', 'end_code'])\n",
    "              .apply(lambda g: g['search'].sum())\n",
    "              .reset_index()\n",
    "              .rename(columns={0: 'search'}))\n",
    "    return cudf.from_pandas(result)"
   ]
  },
  {
   "cell_type": "code",
   "execution_count": 37,
   "id": "0dafd6fb-a025-4433-84f6-bb6bd718cc1a",
   "metadata": {},
   "outputs": [],
   "source": [
    "def shift_unspecified_search_count(df: pd.DataFrame) -> pd.DataFrame:\n",
    "    '''\n",
    "    時間指定なし検索を1日後ろにシフトする\n",
    "    '''\n",
    "    SHIFT_DAYS = 1\n",
    "    \n",
    "    result = (df.set_index('search_date')\n",
    "              .groupby(['start_code', 'end_code'])\n",
    "              .apply(lambda g: g.search.shift(SHIFT_DAYS))\n",
    "               # shift後にpivot_tableっぽくなってしまう（通常はpd.Series）ため、特別に処理\n",
    "              .pipe(lambda _df: _df.stack().rename('search') if not isinstance(_df, pd.Series) else _df)\n",
    "              .reset_index()\n",
    "              .sort_values(['search_date', 'start_code', 'end_code'])\n",
    "              .reset_index(drop=True)\n",
    "              .loc[:, ['search_date', 'start_code', 'end_code', 'search']])\n",
    "    return result"
   ]
  },
  {
   "cell_type": "code",
   "execution_count": 38,
   "id": "da30f14b-f623-4ad1-947e-21b6009463a4",
   "metadata": {},
   "outputs": [],
   "source": [
    "def generate_date_list_from_1day_before(start_date, end_date):\n",
    "    '''\n",
    "    start_dateの1日前からend_dateまでの日付リストを生成する\n",
    "    '''\n",
    "    _start = pd.to_datetime(start_date) - pd.Timedelta(days=1)\n",
    "    _end = pd.to_datetime(end_date)\n",
    "    \n",
    "    date_list: List[str] = [\n",
    "        date.strftime('%Y%m%d') for date in pd.date_range(_start, _end, freq='1D')\n",
    "    ]\n",
    "    return date_list"
   ]
  },
  {
   "cell_type": "code",
   "execution_count": 41,
   "id": "09f48c6b-8dc9-4bd5-bc21-77fd3a2f07ca",
   "metadata": {},
   "outputs": [
    {
     "name": "stdout",
     "output_type": "stream",
     "text": [
      "======================================== 20240507 -> 20240831 ========================================\n",
      "20240506 [112.187 sec]\n",
      "20240507 [111.920 sec]\n",
      "20240508 [84.335 sec]\n",
      "20240509 [87.117 sec]\n",
      "20240510 [80.559 sec]\n",
      "20240511 [69.459 sec]\n",
      "20240512 [73.126 sec]\n",
      "20240514 [80.450 sec]\n",
      "20240515 [85.894 sec]\n",
      "20240516 [82.985 sec]\n",
      "20240517 [95.464 sec]\n",
      "20240518 [85.465 sec]\n",
      "20240519 [89.311 sec]\n",
      "20240520 [107.355 sec]\n",
      "20240521 [97.692 sec]\n",
      "20240522 [138.904 sec]\n",
      "20240523 [118.225 sec]\n",
      "20240524 [99.499 sec]\n",
      "20240525 [108.959 sec]\n",
      "20240526 [107.205 sec]\n",
      "20240527 [123.971 sec]\n",
      "20240528 [117.700 sec]\n",
      "20240529 [102.826 sec]\n",
      "20240530 [107.754 sec]\n",
      "20240531 [99.434 sec]\n",
      "20240601 [98.087 sec]\n",
      "20240602 [98.644 sec]\n",
      "20240603 [111.006 sec]\n",
      "20240604 [86.561 sec]\n",
      "20240605 [72.591 sec]\n",
      "20240606 [65.898 sec]\n",
      "20240607 [80.688 sec]\n",
      "20240608 [63.327 sec]\n",
      "20240609 [63.237 sec]\n",
      "20240610 [84.679 sec]\n",
      "20240611 [76.372 sec]\n",
      "20240612 [78.177 sec]\n",
      "20240613 [83.365 sec]\n",
      "20240614 [73.027 sec]\n",
      "20240615 [63.392 sec]\n",
      "20240616 [80.548 sec]\n",
      "20240617 [75.476 sec]\n",
      "20240618 [60.980 sec]\n",
      "20240619 [75.634 sec]\n",
      "20240620 [58.227 sec]\n",
      "20240621 [68.580 sec]\n",
      "20240622 [60.689 sec]\n",
      "20240623 [56.050 sec]\n",
      "20240624 [58.177 sec]\n",
      "20240625 [45.480 sec]\n",
      "20240626 [38.739 sec]\n",
      "20240627 [55.547 sec]\n",
      "20240628 [61.368 sec]\n",
      "20240629 [52.900 sec]\n",
      "20240630 [54.810 sec]\n",
      "20240701 [64.517 sec]\n",
      "20240702 [69.417 sec]\n",
      "20240703 [62.051 sec]\n",
      "20240704 [60.505 sec]\n",
      "20240705 [60.985 sec]\n",
      "20240706 [56.042 sec]\n",
      "20240707 [58.845 sec]\n",
      "20240708 [65.990 sec]\n",
      "20240709 [67.172 sec]\n",
      "20240710 [71.281 sec]\n",
      "20240711 [69.909 sec]\n",
      "20240712 [72.181 sec]\n",
      "20240713 [71.660 sec]\n",
      "20240714 [57.769 sec]\n",
      "20240715 [63.809 sec]\n",
      "20240716 [70.659 sec]\n",
      "20240717 [69.802 sec]\n",
      "20240718 [64.630 sec]\n",
      "20240719 [64.533 sec]\n",
      "20240720 [64.043 sec]\n",
      "20240721 [57.778 sec]\n",
      "20240722 [70.247 sec]\n",
      "20240723 [72.836 sec]\n",
      "20240724 [70.042 sec]\n",
      "20240725 [71.209 sec]\n",
      "20240726 [73.876 sec]\n",
      "20240727 [62.805 sec]\n",
      "20240728 [62.731 sec]\n",
      "20240729 [81.658 sec]\n",
      "20240730 [80.506 sec]\n",
      "20240731 [73.826 sec]\n",
      "20240801 [71.194 sec]\n",
      "20240802 [80.345 sec]\n",
      "20240803 [74.971 sec]\n",
      "20240804 [70.216 sec]\n",
      "20240805 [80.796 sec]\n",
      "20240806 [83.018 sec]\n",
      "20240807 [79.245 sec]\n",
      "20240808 [72.084 sec]\n",
      "20240809 [105.398 sec]\n",
      "20240810 [115.182 sec]\n",
      "20240811 [103.251 sec]\n",
      "20240812 [97.699 sec]\n",
      "20240813 [112.344 sec]\n",
      "20240814 [89.166 sec]\n",
      "20240815 [94.875 sec]\n",
      "20240816 [102.351 sec]\n",
      "20240817 [88.348 sec]\n",
      "20240818 [83.368 sec]\n",
      "20240819 [99.423 sec]\n",
      "20240820 [90.668 sec]\n",
      "20240821 [83.445 sec]\n",
      "20240822 [91.272 sec]\n",
      "20240823 [85.868 sec]\n",
      "20240824 [74.168 sec]\n",
      "20240825 [68.612 sec]\n",
      "20240826 [76.724 sec]\n",
      "20240827 [78.469 sec]\n",
      "20240828 [76.066 sec]\n",
      "20240829 [81.659 sec]\n",
      "20240830 [89.902 sec]\n",
      "20240831 [77.042 sec]\n"
     ]
    }
   ],
   "source": [
    "for start_date, end_date in period_blocks:\n",
    "    print('='*40, f'{start_date} -> {end_date}', '='*40)\n",
    "\n",
    "    DAYS = generate_date_list_from_1day_before(start_date, end_date)\n",
    "    \n",
    "    df_search = cudf.DataFrame()\n",
    "    for i, date in enumerate(DAYS):\n",
    "        s = time.time()\n",
    "        \n",
    "        df = get_unspecified_log(date)\n",
    "        \n",
    "        df_mapped = map_search_to_road_network(\n",
    "            df, route_dict, excluded_ic_set=small_ic_set\n",
    "        )\n",
    "        df_mapped = df_mapped.loc[\n",
    "            df_mapped.loc[:, ['start_code', 'end_code']].to_pandas().apply(\n",
    "                lambda segment: tuple(segment) in tc_segments_set, axis=1\n",
    "            )\n",
    "        ].reset_index(drop=True)\n",
    "        \n",
    "        _df_search = aggregate_search_count(df_mapped)\n",
    "        _df_search = (_df_search\n",
    "                      .assign(search_date=str2date(date).strftime('%Y-%m-%d'))\n",
    "                      .loc[:, ['search_date', 'start_code', 'end_code', 'search']])\n",
    "\n",
    "        print(f'{date} [{time.time() - s:.3f} sec]')\n",
    "\n",
    "        df_search = cudf.concat([df_search, _df_search], ignore_index=True)\n",
    "    \n",
    "    df_search_shifted = shift_unspecified_search_count(df_search.to_pandas())\n",
    "    OUTPUT_FILE = f'{DATA_DIR}/search_count/search-count_unspecified_{start_date}-{end_date}.csv'\n",
    "    df_search_shifted.to_csv(OUTPUT_FILE, index=False)"
   ]
  },
  {
   "cell_type": "code",
   "execution_count": 42,
   "id": "88ac69a1-db23-4915-82f2-7ed9757cda3a",
   "metadata": {},
   "outputs": [
    {
     "name": "stdout",
     "output_type": "stream",
     "text": [
      "search_date,start_code,end_code,search\n",
      "2024-05-07,1040013,1040016,8263.0\n",
      "2024-05-07,1040016,1040013,7474.0\n",
      "2024-05-07,1040016,1040020,9478.0\n",
      "2024-05-07,1040020,1040016,7423.0\n"
     ]
    }
   ],
   "source": [
    "!head -n5 \"$OUTPUT_FILE\""
   ]
  },
  {
   "cell_type": "code",
   "execution_count": 43,
   "id": "3d80e39a-4760-4aec-a47b-76a2f1a7cf1f",
   "metadata": {},
   "outputs": [
    {
     "name": "stdout",
     "output_type": "stream",
     "text": [
      "2024-08-31,1800091,1800096,2903.0\n",
      "2024-08-31,1800096,1800091,1876.0\n",
      "2024-08-31,1800096,1800106,2893.0\n",
      "2024-08-31,1800106,1800096,1879.0\n",
      "2024-08-31,1800106,1800111,2834.0\n"
     ]
    }
   ],
   "source": [
    "!tail -n5 \"$OUTPUT_FILE\""
   ]
  },
  {
   "cell_type": "markdown",
   "id": "ed53bda1-a223-4e00-877b-3b23681e36d0",
   "metadata": {
    "tags": []
   },
   "source": [
    "# 好きなように期間を分割する"
   ]
  },
  {
   "cell_type": "markdown",
   "id": "52eac0e1-b240-46dc-b1ed-09c178500257",
   "metadata": {},
   "source": [
    "期間のとり方\n",
    "- 2021/04/01 〜 2022/03/31\n",
    "- 2022/04/01 〜 2023/03/31\n",
    "- 2023/04/01 〜 2023/09/30\n",
    "- 2023/10/01 ~ 2024/03/31（推論補助用）\n",
    "- 2024/04/01 ~ 2024/05/06（最終評価用）"
   ]
  },
  {
   "cell_type": "markdown",
   "id": "57722c6c-93d8-4020-a31e-f0e3d25ec013",
   "metadata": {},
   "source": [
    "## 時間指定あり"
   ]
  },
  {
   "cell_type": "code",
   "execution_count": 31,
   "id": "5ee3c816-4590-440c-9b5f-124ddbf561f9",
   "metadata": {},
   "outputs": [],
   "source": [
    "dtype = {'start_code': 'category', 'end_code': 'category'}\n",
    "\n",
    "# 時間指定あり\n",
    "# df1 = pd.read_csv(f'./search_count/search-count_specified_20231001-20231231.csv', dtype=dtype)\n",
    "# df2 = pd.read_csv(f'./search_count/search-count_specified_20240101-20240331.csv', dtype=dtype)\n",
    "\n",
    "# df1.passing_time = pd.to_datetime(df1.passing_time)\n",
    "# df2.passing_time = pd.to_datetime(df2.passing_time)\n",
    "\n",
    "# 時間指定なし\n",
    "df1 = pd.read_csv(f'./search_count/search-count_unspecified_20231001-20231231.csv', dtype=dtype)\n",
    "df2 = pd.read_csv(f'./search_count/search-count_unspecified_20240101-20240331.csv', dtype=dtype)"
   ]
  },
  {
   "cell_type": "code",
   "execution_count": 32,
   "id": "56ccd30c-8c76-4a05-ac0d-7b5980e0579c",
   "metadata": {},
   "outputs": [
    {
     "data": {
      "text/html": [
       "<div>\n",
       "<style scoped>\n",
       "    .dataframe tbody tr th:only-of-type {\n",
       "        vertical-align: middle;\n",
       "    }\n",
       "\n",
       "    .dataframe tbody tr th {\n",
       "        vertical-align: top;\n",
       "    }\n",
       "\n",
       "    .dataframe thead th {\n",
       "        text-align: right;\n",
       "    }\n",
       "</style>\n",
       "<table border=\"1\" class=\"dataframe\">\n",
       "  <thead>\n",
       "    <tr style=\"text-align: right;\">\n",
       "      <th></th>\n",
       "      <th>search_date</th>\n",
       "      <th>start_code</th>\n",
       "      <th>end_code</th>\n",
       "      <th>search</th>\n",
       "    </tr>\n",
       "  </thead>\n",
       "  <tbody>\n",
       "    <tr>\n",
       "      <th>0</th>\n",
       "      <td>2023-10-01</td>\n",
       "      <td>1040013</td>\n",
       "      <td>1040016</td>\n",
       "      <td>9381.0</td>\n",
       "    </tr>\n",
       "    <tr>\n",
       "      <th>1</th>\n",
       "      <td>2023-10-01</td>\n",
       "      <td>1040016</td>\n",
       "      <td>1040013</td>\n",
       "      <td>8807.0</td>\n",
       "    </tr>\n",
       "    <tr>\n",
       "      <th>2</th>\n",
       "      <td>2023-10-01</td>\n",
       "      <td>1040016</td>\n",
       "      <td>1040020</td>\n",
       "      <td>9988.0</td>\n",
       "    </tr>\n",
       "  </tbody>\n",
       "</table>\n",
       "</div>"
      ],
      "text/plain": [
       "  search_date start_code end_code  search\n",
       "0  2023-10-01    1040013  1040016  9381.0\n",
       "1  2023-10-01    1040016  1040013  8807.0\n",
       "2  2023-10-01    1040016  1040020  9988.0"
      ]
     },
     "execution_count": 32,
     "metadata": {},
     "output_type": "execute_result"
    }
   ],
   "source": [
    "df1.head(3)"
   ]
  },
  {
   "cell_type": "code",
   "execution_count": 33,
   "id": "6345047e-37f4-49ed-8ad9-76ca2e59cf78",
   "metadata": {},
   "outputs": [
    {
     "data": {
      "text/html": [
       "<div>\n",
       "<style scoped>\n",
       "    .dataframe tbody tr th:only-of-type {\n",
       "        vertical-align: middle;\n",
       "    }\n",
       "\n",
       "    .dataframe tbody tr th {\n",
       "        vertical-align: top;\n",
       "    }\n",
       "\n",
       "    .dataframe thead th {\n",
       "        text-align: right;\n",
       "    }\n",
       "</style>\n",
       "<table border=\"1\" class=\"dataframe\">\n",
       "  <thead>\n",
       "    <tr style=\"text-align: right;\">\n",
       "      <th></th>\n",
       "      <th>search_date</th>\n",
       "      <th>start_code</th>\n",
       "      <th>end_code</th>\n",
       "      <th>search</th>\n",
       "    </tr>\n",
       "  </thead>\n",
       "  <tbody>\n",
       "    <tr>\n",
       "      <th>7357</th>\n",
       "      <td>2023-12-31</td>\n",
       "      <td>1800096</td>\n",
       "      <td>1800106</td>\n",
       "      <td>2938.0</td>\n",
       "    </tr>\n",
       "    <tr>\n",
       "      <th>7358</th>\n",
       "      <td>2023-12-31</td>\n",
       "      <td>1800106</td>\n",
       "      <td>1800096</td>\n",
       "      <td>1692.0</td>\n",
       "    </tr>\n",
       "    <tr>\n",
       "      <th>7359</th>\n",
       "      <td>2023-12-31</td>\n",
       "      <td>1800106</td>\n",
       "      <td>1800111</td>\n",
       "      <td>2890.0</td>\n",
       "    </tr>\n",
       "  </tbody>\n",
       "</table>\n",
       "</div>"
      ],
      "text/plain": [
       "     search_date start_code end_code  search\n",
       "7357  2023-12-31    1800096  1800106  2938.0\n",
       "7358  2023-12-31    1800106  1800096  1692.0\n",
       "7359  2023-12-31    1800106  1800111  2890.0"
      ]
     },
     "execution_count": 33,
     "metadata": {},
     "output_type": "execute_result"
    }
   ],
   "source": [
    "df1.tail(3)"
   ]
  },
  {
   "cell_type": "code",
   "execution_count": 34,
   "id": "990b6ce3-7b35-4b2e-aa84-f61dd417eb73",
   "metadata": {},
   "outputs": [
    {
     "data": {
      "text/html": [
       "<div>\n",
       "<style scoped>\n",
       "    .dataframe tbody tr th:only-of-type {\n",
       "        vertical-align: middle;\n",
       "    }\n",
       "\n",
       "    .dataframe tbody tr th {\n",
       "        vertical-align: top;\n",
       "    }\n",
       "\n",
       "    .dataframe thead th {\n",
       "        text-align: right;\n",
       "    }\n",
       "</style>\n",
       "<table border=\"1\" class=\"dataframe\">\n",
       "  <thead>\n",
       "    <tr style=\"text-align: right;\">\n",
       "      <th></th>\n",
       "      <th>search_date</th>\n",
       "      <th>start_code</th>\n",
       "      <th>end_code</th>\n",
       "      <th>search</th>\n",
       "    </tr>\n",
       "  </thead>\n",
       "  <tbody>\n",
       "    <tr>\n",
       "      <th>0</th>\n",
       "      <td>2024-01-01</td>\n",
       "      <td>1040013</td>\n",
       "      <td>1040016</td>\n",
       "      <td>4997.0</td>\n",
       "    </tr>\n",
       "    <tr>\n",
       "      <th>1</th>\n",
       "      <td>2024-01-01</td>\n",
       "      <td>1040016</td>\n",
       "      <td>1040013</td>\n",
       "      <td>4824.0</td>\n",
       "    </tr>\n",
       "    <tr>\n",
       "      <th>2</th>\n",
       "      <td>2024-01-01</td>\n",
       "      <td>1040016</td>\n",
       "      <td>1040020</td>\n",
       "      <td>5703.0</td>\n",
       "    </tr>\n",
       "  </tbody>\n",
       "</table>\n",
       "</div>"
      ],
      "text/plain": [
       "  search_date start_code end_code  search\n",
       "0  2024-01-01    1040013  1040016  4997.0\n",
       "1  2024-01-01    1040016  1040013  4824.0\n",
       "2  2024-01-01    1040016  1040020  5703.0"
      ]
     },
     "execution_count": 34,
     "metadata": {},
     "output_type": "execute_result"
    }
   ],
   "source": [
    "df2.head(3)"
   ]
  },
  {
   "cell_type": "code",
   "execution_count": 35,
   "id": "b936ba4d-44c8-4238-bbca-6c6cda05b98f",
   "metadata": {},
   "outputs": [
    {
     "data": {
      "text/html": [
       "<div>\n",
       "<style scoped>\n",
       "    .dataframe tbody tr th:only-of-type {\n",
       "        vertical-align: middle;\n",
       "    }\n",
       "\n",
       "    .dataframe tbody tr th {\n",
       "        vertical-align: top;\n",
       "    }\n",
       "\n",
       "    .dataframe thead th {\n",
       "        text-align: right;\n",
       "    }\n",
       "</style>\n",
       "<table border=\"1\" class=\"dataframe\">\n",
       "  <thead>\n",
       "    <tr style=\"text-align: right;\">\n",
       "      <th></th>\n",
       "      <th>search_date</th>\n",
       "      <th>start_code</th>\n",
       "      <th>end_code</th>\n",
       "      <th>search</th>\n",
       "    </tr>\n",
       "  </thead>\n",
       "  <tbody>\n",
       "    <tr>\n",
       "      <th>7277</th>\n",
       "      <td>2024-03-31</td>\n",
       "      <td>1800096</td>\n",
       "      <td>1800106</td>\n",
       "      <td>3200.0</td>\n",
       "    </tr>\n",
       "    <tr>\n",
       "      <th>7278</th>\n",
       "      <td>2024-03-31</td>\n",
       "      <td>1800106</td>\n",
       "      <td>1800096</td>\n",
       "      <td>2148.0</td>\n",
       "    </tr>\n",
       "    <tr>\n",
       "      <th>7279</th>\n",
       "      <td>2024-03-31</td>\n",
       "      <td>1800106</td>\n",
       "      <td>1800111</td>\n",
       "      <td>3148.0</td>\n",
       "    </tr>\n",
       "  </tbody>\n",
       "</table>\n",
       "</div>"
      ],
      "text/plain": [
       "     search_date start_code end_code  search\n",
       "7277  2024-03-31    1800096  1800106  3200.0\n",
       "7278  2024-03-31    1800106  1800096  2148.0\n",
       "7279  2024-03-31    1800106  1800111  3148.0"
      ]
     },
     "execution_count": 35,
     "metadata": {},
     "output_type": "execute_result"
    }
   ],
   "source": [
    "df2.tail(3)"
   ]
  },
  {
   "cell_type": "code",
   "execution_count": 36,
   "id": "91a6096f-1735-4e1d-b83d-9fffac821204",
   "metadata": {},
   "outputs": [],
   "source": [
    "# 2つのデータフレームを1つに結合する\n",
    "df_new = pd.concat([df1, df2], axis=0)"
   ]
  },
  {
   "cell_type": "code",
   "execution_count": 37,
   "id": "ea5b54b1-a229-49bd-b669-1c3b6c5c0ef8",
   "metadata": {},
   "outputs": [
    {
     "data": {
      "text/html": [
       "<div>\n",
       "<style scoped>\n",
       "    .dataframe tbody tr th:only-of-type {\n",
       "        vertical-align: middle;\n",
       "    }\n",
       "\n",
       "    .dataframe tbody tr th {\n",
       "        vertical-align: top;\n",
       "    }\n",
       "\n",
       "    .dataframe thead th {\n",
       "        text-align: right;\n",
       "    }\n",
       "</style>\n",
       "<table border=\"1\" class=\"dataframe\">\n",
       "  <thead>\n",
       "    <tr style=\"text-align: right;\">\n",
       "      <th></th>\n",
       "      <th>search_date</th>\n",
       "      <th>start_code</th>\n",
       "      <th>end_code</th>\n",
       "      <th>search</th>\n",
       "    </tr>\n",
       "  </thead>\n",
       "  <tbody>\n",
       "    <tr>\n",
       "      <th>0</th>\n",
       "      <td>2023-10-01</td>\n",
       "      <td>1040013</td>\n",
       "      <td>1040016</td>\n",
       "      <td>9381.0</td>\n",
       "    </tr>\n",
       "    <tr>\n",
       "      <th>1</th>\n",
       "      <td>2023-10-01</td>\n",
       "      <td>1040016</td>\n",
       "      <td>1040013</td>\n",
       "      <td>8807.0</td>\n",
       "    </tr>\n",
       "    <tr>\n",
       "      <th>2</th>\n",
       "      <td>2023-10-01</td>\n",
       "      <td>1040016</td>\n",
       "      <td>1040020</td>\n",
       "      <td>9988.0</td>\n",
       "    </tr>\n",
       "    <tr>\n",
       "      <th>3</th>\n",
       "      <td>2023-10-01</td>\n",
       "      <td>1040020</td>\n",
       "      <td>1040016</td>\n",
       "      <td>8649.0</td>\n",
       "    </tr>\n",
       "    <tr>\n",
       "      <th>4</th>\n",
       "      <td>2023-10-01</td>\n",
       "      <td>1040020</td>\n",
       "      <td>1040023</td>\n",
       "      <td>9991.0</td>\n",
       "    </tr>\n",
       "  </tbody>\n",
       "</table>\n",
       "</div>"
      ],
      "text/plain": [
       "  search_date start_code end_code  search\n",
       "0  2023-10-01    1040013  1040016  9381.0\n",
       "1  2023-10-01    1040016  1040013  8807.0\n",
       "2  2023-10-01    1040016  1040020  9988.0\n",
       "3  2023-10-01    1040020  1040016  8649.0\n",
       "4  2023-10-01    1040020  1040023  9991.0"
      ]
     },
     "execution_count": 37,
     "metadata": {},
     "output_type": "execute_result"
    }
   ],
   "source": [
    "df_new.head()"
   ]
  },
  {
   "cell_type": "code",
   "execution_count": 38,
   "id": "7e5a4fd7-f332-4a3e-8c85-d5b99dc0b806",
   "metadata": {},
   "outputs": [
    {
     "data": {
      "text/html": [
       "<div>\n",
       "<style scoped>\n",
       "    .dataframe tbody tr th:only-of-type {\n",
       "        vertical-align: middle;\n",
       "    }\n",
       "\n",
       "    .dataframe tbody tr th {\n",
       "        vertical-align: top;\n",
       "    }\n",
       "\n",
       "    .dataframe thead th {\n",
       "        text-align: right;\n",
       "    }\n",
       "</style>\n",
       "<table border=\"1\" class=\"dataframe\">\n",
       "  <thead>\n",
       "    <tr style=\"text-align: right;\">\n",
       "      <th></th>\n",
       "      <th>search_date</th>\n",
       "      <th>start_code</th>\n",
       "      <th>end_code</th>\n",
       "      <th>search</th>\n",
       "    </tr>\n",
       "  </thead>\n",
       "  <tbody>\n",
       "    <tr>\n",
       "      <th>7275</th>\n",
       "      <td>2024-03-31</td>\n",
       "      <td>1800091</td>\n",
       "      <td>1800096</td>\n",
       "      <td>3214.0</td>\n",
       "    </tr>\n",
       "    <tr>\n",
       "      <th>7276</th>\n",
       "      <td>2024-03-31</td>\n",
       "      <td>1800096</td>\n",
       "      <td>1800091</td>\n",
       "      <td>2140.0</td>\n",
       "    </tr>\n",
       "    <tr>\n",
       "      <th>7277</th>\n",
       "      <td>2024-03-31</td>\n",
       "      <td>1800096</td>\n",
       "      <td>1800106</td>\n",
       "      <td>3200.0</td>\n",
       "    </tr>\n",
       "    <tr>\n",
       "      <th>7278</th>\n",
       "      <td>2024-03-31</td>\n",
       "      <td>1800106</td>\n",
       "      <td>1800096</td>\n",
       "      <td>2148.0</td>\n",
       "    </tr>\n",
       "    <tr>\n",
       "      <th>7279</th>\n",
       "      <td>2024-03-31</td>\n",
       "      <td>1800106</td>\n",
       "      <td>1800111</td>\n",
       "      <td>3148.0</td>\n",
       "    </tr>\n",
       "  </tbody>\n",
       "</table>\n",
       "</div>"
      ],
      "text/plain": [
       "     search_date start_code end_code  search\n",
       "7275  2024-03-31    1800091  1800096  3214.0\n",
       "7276  2024-03-31    1800096  1800091  2140.0\n",
       "7277  2024-03-31    1800096  1800106  3200.0\n",
       "7278  2024-03-31    1800106  1800096  2148.0\n",
       "7279  2024-03-31    1800106  1800111  3148.0"
      ]
     },
     "execution_count": 38,
     "metadata": {},
     "output_type": "execute_result"
    }
   ],
   "source": [
    "df_new.tail()"
   ]
  },
  {
   "cell_type": "code",
   "execution_count": 45,
   "id": "82464a23-707e-473e-bce8-f4dce0cfe053",
   "metadata": {},
   "outputs": [],
   "source": [
    "# ソート（時間指定あり）\n",
    "# df_new = df_new.sort_values(\n",
    "#     ['start_code', 'end_code', 'passing_time']\n",
    "# ).reset_index(drop=True)\n",
    "\n",
    "# ソート（時間指定なし）\n",
    "df_new = df_new.sort_values(\n",
    "    ['search_date', 'start_code', 'end_code']\n",
    ").reset_index(drop=True)"
   ]
  },
  {
   "cell_type": "code",
   "execution_count": 46,
   "id": "60827798-0c7a-4dec-bbc8-dd349017d54c",
   "metadata": {},
   "outputs": [],
   "source": [
    "# データフレーム長が一致することを検証\n",
    "assert len(df1) + len(df2) == len(df_new)"
   ]
  },
  {
   "cell_type": "code",
   "execution_count": 47,
   "id": "9f36c65d-0324-463f-9be1-b8f6c251579e",
   "metadata": {},
   "outputs": [],
   "source": [
    "# 時間指定あり\n",
    "# file_out = f'./search_count/search-count_specified_20231001-20240331.csv'\n",
    "\n",
    "# 時間指定なし\n",
    "file_out = f'./search_count/search-count_unspecified_20231001-20240331.csv'"
   ]
  },
  {
   "cell_type": "code",
   "execution_count": 48,
   "id": "4cc43fc8-b4b4-4143-9a99-dc8bdb416c63",
   "metadata": {},
   "outputs": [
    {
     "name": "stdout",
     "output_type": "stream",
     "text": [
      "CPU times: user 45.6 ms, sys: 7.37 ms, total: 52.9 ms\n",
      "Wall time: 51.8 ms\n"
     ]
    }
   ],
   "source": [
    "%time df_new.to_csv(file_out, index=False)"
   ]
  }
 ],
 "metadata": {
  "kernelspec": {
   "display_name": "Python 3 (ipykernel)",
   "language": "python",
   "name": "python3"
  },
  "language_info": {
   "codemirror_mode": {
    "name": "ipython",
    "version": 3
   },
   "file_extension": ".py",
   "mimetype": "text/x-python",
   "name": "python",
   "nbconvert_exporter": "python",
   "pygments_lexer": "ipython3",
   "version": "3.8.13"
  }
 },
 "nbformat": 4,
 "nbformat_minor": 5
}
