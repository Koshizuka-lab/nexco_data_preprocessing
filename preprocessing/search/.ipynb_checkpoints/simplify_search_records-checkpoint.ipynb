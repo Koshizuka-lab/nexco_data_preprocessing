{
 "cells": [
  {
   "cell_type": "code",
   "execution_count": null,
   "id": "adc1598c-32cf-4642-be14-9ebe5eadd4cc",
   "metadata": {
    "tags": []
   },
   "outputs": [],
   "source": [
    "import os\n",
    "import time\n",
    "import pickle\n",
    "import networkx as nx\n",
    "import pandas as pd\n",
    "import cudf"
   ]
  },
  {
   "cell_type": "code",
   "execution_count": 2,
   "id": "5dfa40c2-ba8a-4965-ab3f-4346997a8748",
   "metadata": {},
   "outputs": [],
   "source": [
    "# data directory\n",
    "DATA_DIR = '../../Input_processed_data'\n",
    "\n",
    "# IC, 道路情報 csv\n",
    "IC_CSV = f'{DATA_DIR}/road_master/ic_preprocessed.csv'\n",
    "IC_NET_CSV = f'{DATA_DIR}/road_master/220303-doronet_ic.csv'\n",
    "IC_SUBNET_CSV = f'{DATA_DIR}/road_master/icnet_sub.csv'\n",
    "\n",
    "# 検索ログ csv\n",
    "SEARCH_LOG_DIR = lambda month: f'{DATA_DIR}/search_records/csv{month}'\n",
    "SEARCH_LOG_CSV = lambda date: f'{SEARCH_LOG_DIR(date[:6])}/record_{date}.csv'"
   ]
  },
  {
   "cell_type": "markdown",
   "id": "a920f834-1a0a-43dd-9cac-6846d5506e5d",
   "metadata": {},
   "source": [
    "# 準備"
   ]
  },
  {
   "cell_type": "code",
   "execution_count": 3,
   "id": "1b76439b-e378-448d-87aa-bab280769e81",
   "metadata": {},
   "outputs": [],
   "source": [
    "# モジュール内で前処理済み\n",
    "df_ic = pd.read_csv(IC_CSV, dtype={'ic_code': str})\n",
    "df_icnet = pd.read_csv(IC_NET_CSV, dtype={'start_code': str, 'end_code': str, 'road_code': str})\n",
    "sub_icnet = pd.read_csv(IC_SUBNET_CSV, dtype={'start_code': str, 'end_code': str, 'road_code': str})"
   ]
  },
  {
   "cell_type": "code",
   "execution_count": 4,
   "id": "5c9bfd4d-1037-4b9e-bf70-1fd7832c9e93",
   "metadata": {},
   "outputs": [],
   "source": [
    "code2name = dict(zip(df_ic['ic_code'], df_ic['ic_name']))\n",
    "name2code = {v: k for k, v in code2name.items()}"
   ]
  },
  {
   "cell_type": "code",
   "execution_count": 5,
   "id": "cefb0ae1-bda4-4e6a-bae5-98cba891e0d8",
   "metadata": {},
   "outputs": [],
   "source": [
    "ic_graph = nx.from_pandas_edgelist(\n",
    "    df_icnet, source='start_code', target='end_code',\n",
    "    edge_attr=['distance', 'road_code', 'direction'], create_using=nx.DiGraph())"
   ]
  },
  {
   "cell_type": "markdown",
   "id": "dea6a0b5-2e0d-4cbf-8d4c-882f5042c836",
   "metadata": {},
   "source": [
    "# 検索ログを簡略化"
   ]
  },
  {
   "cell_type": "code",
   "execution_count": 6,
   "id": "864f1cfa-9844-41d9-aa5e-1e4715fc64bf",
   "metadata": {},
   "outputs": [],
   "source": [
    "ic_nodes_set: set = set(ic_graph.nodes)"
   ]
  },
  {
   "cell_type": "code",
   "execution_count": 7,
   "id": "25043681-b467-4f0d-8e07-1151b7955e8a",
   "metadata": {},
   "outputs": [],
   "source": [
    "def get_log(date):\n",
    "    if not os.path.exists(SEARCH_LOG_CSV(date)):\n",
    "        return None\n",
    "    \n",
    "    type_map = {\n",
    "        'start_code': str,\n",
    "        'end_code': str,\n",
    "        'via1_code': str,\n",
    "        'via2_code': str,\n",
    "        'via3_code': str,\n",
    "        'order': str\n",
    "    }\n",
    "    df = pd.read_csv(SEARCH_LOG_CSV(date), dtype=type_map)\n",
    "    return cudf.from_pandas(df)"
   ]
  },
  {
   "cell_type": "markdown",
   "id": "73d91c3d-423b-4905-bb0b-63b700ed6074",
   "metadata": {},
   "source": [
    "## 列を選択"
   ]
  },
  {
   "cell_type": "code",
   "execution_count": 8,
   "id": "25b315bd-eb3a-44d9-b2fb-ffa7eb912768",
   "metadata": {},
   "outputs": [],
   "source": [
    "def simplify_search_log(df):\n",
    "    # レコードを限定\n",
    "    df_res = df.loc[(df['start_code'].isin(ic_nodes_set)) & (df['end_code'].isin(ic_nodes_set))]\n",
    "    \n",
    "    # 列を限定\n",
    "    select_columns = ['date', 'start_code', 'end_code', 'spec_day', 'spec_time', 'spec_type', 'car_type']\n",
    "    df_res = df_res.loc[:, select_columns].rename(columns={'date': 'datetime'})\n",
    "    \n",
    "    # 指定日時を1列にまとめる\n",
    "    df_res = df_res.assign(spec_datetime=df_res['spec_day'] + ' ' + df_res['spec_time'])\n",
    "    df_res.drop(['spec_day', 'spec_time'], axis=1, inplace=True)\n",
    "    \n",
    "    # 型変換\n",
    "    df_res = df_res.astype({\n",
    "        'start_code': 'category',\n",
    "        'end_code': 'category',\n",
    "        'spec_type': 'category',\n",
    "        'car_type': 'category',\n",
    "    })\n",
    "    df_res = df_res.assign(\n",
    "        datetime=cudf.to_datetime(df_res['datetime']),\n",
    "        spec_datetime=cudf.to_datetime(df_res['spec_datetime'])\n",
    "    )\n",
    "    \n",
    "    # 列並び替え\n",
    "    select_columns = ['datetime', 'start_code', 'end_code', 'spec_datetime', 'spec_type', 'car_type']\n",
    "    return df_res.loc[:, select_columns]"
   ]
  },
  {
   "cell_type": "code",
   "execution_count": 9,
   "id": "612894ea-f123-4068-bd1c-37da7b709032",
   "metadata": {},
   "outputs": [
    {
     "name": "stdout",
     "output_type": "stream",
     "text": [
      "(373484, 19)\n"
     ]
    },
    {
     "data": {
      "text/html": [
       "<div>\n",
       "<style scoped>\n",
       "    .dataframe tbody tr th:only-of-type {\n",
       "        vertical-align: middle;\n",
       "    }\n",
       "\n",
       "    .dataframe tbody tr th {\n",
       "        vertical-align: top;\n",
       "    }\n",
       "\n",
       "    .dataframe thead th {\n",
       "        text-align: right;\n",
       "    }\n",
       "</style>\n",
       "<table border=\"1\" class=\"dataframe\">\n",
       "  <thead>\n",
       "    <tr style=\"text-align: right;\">\n",
       "      <th></th>\n",
       "      <th>date</th>\n",
       "      <th>start_code</th>\n",
       "      <th>start_name</th>\n",
       "      <th>end_code</th>\n",
       "      <th>end_name</th>\n",
       "      <th>via1_code</th>\n",
       "      <th>via1_name</th>\n",
       "      <th>via2_code</th>\n",
       "      <th>via2_name</th>\n",
       "      <th>via3_code</th>\n",
       "      <th>via3_name</th>\n",
       "      <th>spec_day</th>\n",
       "      <th>spec_time</th>\n",
       "      <th>spec_type</th>\n",
       "      <th>order</th>\n",
       "      <th>car_type</th>\n",
       "      <th>use_nexco</th>\n",
       "      <th>use_urban</th>\n",
       "      <th>use_local</th>\n",
       "    </tr>\n",
       "  </thead>\n",
       "  <tbody>\n",
       "    <tr>\n",
       "      <th>0</th>\n",
       "      <td>2023/09/01 00:00:00</td>\n",
       "      <td>6001006</td>\n",
       "      <td>宝町</td>\n",
       "      <td>1400091</td>\n",
       "      <td>那珂</td>\n",
       "      <td>&lt;NA&gt;</td>\n",
       "      <td>&lt;NA&gt;</td>\n",
       "      <td>&lt;NA&gt;</td>\n",
       "      <td>&lt;NA&gt;</td>\n",
       "      <td>&lt;NA&gt;</td>\n",
       "      <td>&lt;NA&gt;</td>\n",
       "      <td>2023-09-01</td>\n",
       "      <td>07:00</td>\n",
       "      <td>1</td>\n",
       "      <td>2</td>\n",
       "      <td>3</td>\n",
       "      <td>1</td>\n",
       "      <td>1</td>\n",
       "      <td>1</td>\n",
       "    </tr>\n",
       "    <tr>\n",
       "      <th>1</th>\n",
       "      <td>2023/09/01 00:00:00</td>\n",
       "      <td>1461080</td>\n",
       "      <td>太田桐生</td>\n",
       "      <td>1040011</td>\n",
       "      <td>浦和（東京方面）</td>\n",
       "      <td>&lt;NA&gt;</td>\n",
       "      <td>&lt;NA&gt;</td>\n",
       "      <td>&lt;NA&gt;</td>\n",
       "      <td>&lt;NA&gt;</td>\n",
       "      <td>&lt;NA&gt;</td>\n",
       "      <td>&lt;NA&gt;</td>\n",
       "      <td>2023-08-31</td>\n",
       "      <td>08:00</td>\n",
       "      <td>1</td>\n",
       "      <td>3</td>\n",
       "      <td>2</td>\n",
       "      <td>1</td>\n",
       "      <td>1</td>\n",
       "      <td>1</td>\n",
       "    </tr>\n",
       "    <tr>\n",
       "      <th>2</th>\n",
       "      <td>2023/09/01 00:00:00</td>\n",
       "      <td>1072023</td>\n",
       "      <td>大和まほろばスマート</td>\n",
       "      <td>1612046</td>\n",
       "      <td>須崎東</td>\n",
       "      <td>&lt;NA&gt;</td>\n",
       "      <td>&lt;NA&gt;</td>\n",
       "      <td>&lt;NA&gt;</td>\n",
       "      <td>&lt;NA&gt;</td>\n",
       "      <td>&lt;NA&gt;</td>\n",
       "      <td>&lt;NA&gt;</td>\n",
       "      <td>2023-10-21</td>\n",
       "      <td>15:00</td>\n",
       "      <td>1</td>\n",
       "      <td>2</td>\n",
       "      <td>2</td>\n",
       "      <td>1</td>\n",
       "      <td>1</td>\n",
       "      <td>1</td>\n",
       "    </tr>\n",
       "    <tr>\n",
       "      <th>3</th>\n",
       "      <td>2023/09/01 00:00:01</td>\n",
       "      <td>1461080</td>\n",
       "      <td>太田桐生</td>\n",
       "      <td>212B011</td>\n",
       "      <td>大宮</td>\n",
       "      <td>&lt;NA&gt;</td>\n",
       "      <td>&lt;NA&gt;</td>\n",
       "      <td>&lt;NA&gt;</td>\n",
       "      <td>&lt;NA&gt;</td>\n",
       "      <td>&lt;NA&gt;</td>\n",
       "      <td>&lt;NA&gt;</td>\n",
       "      <td>2023-09-01</td>\n",
       "      <td>00:00</td>\n",
       "      <td>1</td>\n",
       "      <td>2</td>\n",
       "      <td>2</td>\n",
       "      <td>1</td>\n",
       "      <td>1</td>\n",
       "      <td>1</td>\n",
       "    </tr>\n",
       "    <tr>\n",
       "      <th>4</th>\n",
       "      <td>2023/09/01 00:00:01</td>\n",
       "      <td>1800076</td>\n",
       "      <td>高崎</td>\n",
       "      <td>1040241</td>\n",
       "      <td>仙台宮城</td>\n",
       "      <td>&lt;NA&gt;</td>\n",
       "      <td>&lt;NA&gt;</td>\n",
       "      <td>&lt;NA&gt;</td>\n",
       "      <td>&lt;NA&gt;</td>\n",
       "      <td>&lt;NA&gt;</td>\n",
       "      <td>&lt;NA&gt;</td>\n",
       "      <td>2023-08-31</td>\n",
       "      <td>23:50</td>\n",
       "      <td>1</td>\n",
       "      <td>2</td>\n",
       "      <td>2</td>\n",
       "      <td>1</td>\n",
       "      <td>1</td>\n",
       "      <td>1</td>\n",
       "    </tr>\n",
       "  </tbody>\n",
       "</table>\n",
       "</div>"
      ],
      "text/plain": [
       "                  date start_code  start_name end_code  end_name via1_code  \\\n",
       "0  2023/09/01 00:00:00    6001006          宝町  1400091        那珂      <NA>   \n",
       "1  2023/09/01 00:00:00    1461080        太田桐生  1040011  浦和（東京方面）      <NA>   \n",
       "2  2023/09/01 00:00:00    1072023  大和まほろばスマート  1612046       須崎東      <NA>   \n",
       "3  2023/09/01 00:00:01    1461080        太田桐生  212B011        大宮      <NA>   \n",
       "4  2023/09/01 00:00:01    1800076          高崎  1040241      仙台宮城      <NA>   \n",
       "\n",
       "  via1_name via2_code via2_name via3_code via3_name    spec_day spec_time  \\\n",
       "0      <NA>      <NA>      <NA>      <NA>      <NA>  2023-09-01     07:00   \n",
       "1      <NA>      <NA>      <NA>      <NA>      <NA>  2023-08-31     08:00   \n",
       "2      <NA>      <NA>      <NA>      <NA>      <NA>  2023-10-21     15:00   \n",
       "3      <NA>      <NA>      <NA>      <NA>      <NA>  2023-09-01     00:00   \n",
       "4      <NA>      <NA>      <NA>      <NA>      <NA>  2023-08-31     23:50   \n",
       "\n",
       "   spec_type order  car_type  use_nexco  use_urban  use_local  \n",
       "0          1     2         3          1          1          1  \n",
       "1          1     3         2          1          1          1  \n",
       "2          1     2         2          1          1          1  \n",
       "3          1     2         2          1          1          1  \n",
       "4          1     2         2          1          1          1  "
      ]
     },
     "execution_count": 9,
     "metadata": {},
     "output_type": "execute_result"
    }
   ],
   "source": [
    "df = get_log('20230901')\n",
    "print(df.shape)\n",
    "df.head()"
   ]
  },
  {
   "cell_type": "code",
   "execution_count": 10,
   "id": "ad879b43-e0a2-459d-a21c-52b807e924e8",
   "metadata": {},
   "outputs": [
    {
     "name": "stdout",
     "output_type": "stream",
     "text": [
      "(373014, 6)\n"
     ]
    },
    {
     "data": {
      "text/html": [
       "<div>\n",
       "<style scoped>\n",
       "    .dataframe tbody tr th:only-of-type {\n",
       "        vertical-align: middle;\n",
       "    }\n",
       "\n",
       "    .dataframe tbody tr th {\n",
       "        vertical-align: top;\n",
       "    }\n",
       "\n",
       "    .dataframe thead th {\n",
       "        text-align: right;\n",
       "    }\n",
       "</style>\n",
       "<table border=\"1\" class=\"dataframe\">\n",
       "  <thead>\n",
       "    <tr style=\"text-align: right;\">\n",
       "      <th></th>\n",
       "      <th>datetime</th>\n",
       "      <th>start_code</th>\n",
       "      <th>end_code</th>\n",
       "      <th>spec_datetime</th>\n",
       "      <th>spec_type</th>\n",
       "      <th>car_type</th>\n",
       "    </tr>\n",
       "  </thead>\n",
       "  <tbody>\n",
       "    <tr>\n",
       "      <th>0</th>\n",
       "      <td>2023-09-01 00:00:00</td>\n",
       "      <td>6001006</td>\n",
       "      <td>1400091</td>\n",
       "      <td>2023-09-01 07:00:00</td>\n",
       "      <td>1</td>\n",
       "      <td>3</td>\n",
       "    </tr>\n",
       "    <tr>\n",
       "      <th>1</th>\n",
       "      <td>2023-09-01 00:00:00</td>\n",
       "      <td>1461080</td>\n",
       "      <td>1040011</td>\n",
       "      <td>2023-08-31 08:00:00</td>\n",
       "      <td>1</td>\n",
       "      <td>2</td>\n",
       "    </tr>\n",
       "    <tr>\n",
       "      <th>2</th>\n",
       "      <td>2023-09-01 00:00:00</td>\n",
       "      <td>1072023</td>\n",
       "      <td>1612046</td>\n",
       "      <td>2023-10-21 15:00:00</td>\n",
       "      <td>1</td>\n",
       "      <td>2</td>\n",
       "    </tr>\n",
       "    <tr>\n",
       "      <th>3</th>\n",
       "      <td>2023-09-01 00:00:01</td>\n",
       "      <td>1461080</td>\n",
       "      <td>212B011</td>\n",
       "      <td>2023-09-01 00:00:00</td>\n",
       "      <td>1</td>\n",
       "      <td>2</td>\n",
       "    </tr>\n",
       "    <tr>\n",
       "      <th>4</th>\n",
       "      <td>2023-09-01 00:00:01</td>\n",
       "      <td>1800076</td>\n",
       "      <td>1040241</td>\n",
       "      <td>2023-08-31 23:50:00</td>\n",
       "      <td>1</td>\n",
       "      <td>2</td>\n",
       "    </tr>\n",
       "  </tbody>\n",
       "</table>\n",
       "</div>"
      ],
      "text/plain": [
       "             datetime start_code end_code       spec_datetime spec_type  \\\n",
       "0 2023-09-01 00:00:00    6001006  1400091 2023-09-01 07:00:00         1   \n",
       "1 2023-09-01 00:00:00    1461080  1040011 2023-08-31 08:00:00         1   \n",
       "2 2023-09-01 00:00:00    1072023  1612046 2023-10-21 15:00:00         1   \n",
       "3 2023-09-01 00:00:01    1461080  212B011 2023-09-01 00:00:00         1   \n",
       "4 2023-09-01 00:00:01    1800076  1040241 2023-08-31 23:50:00         1   \n",
       "\n",
       "  car_type  \n",
       "0        3  \n",
       "1        2  \n",
       "2        2  \n",
       "3        2  \n",
       "4        2  "
      ]
     },
     "execution_count": 10,
     "metadata": {},
     "output_type": "execute_result"
    }
   ],
   "source": [
    "df_simple = simplify_search_log(df)\n",
    "print(df_simple.shape)\n",
    "df_simple.head()"
   ]
  },
  {
   "cell_type": "markdown",
   "id": "4c88b9fd-eac8-41cd-957a-b22de8cfab10",
   "metadata": {},
   "source": [
    "## （第2回コンテスト用）関越道・東北道を通過するレコードのみを抜き出す"
   ]
  },
  {
   "cell_type": "markdown",
   "id": "af10c2ca-bc06-4395-a689-59257fc4ac44",
   "metadata": {},
   "source": [
    "### 経路検索用プログラム"
   ]
  },
  {
   "cell_type": "code",
   "execution_count": 11,
   "id": "eeec8263-c82d-4895-87b2-ef2c30f67073",
   "metadata": {
    "executionInfo": {
     "elapsed": 364,
     "status": "ok",
     "timestamp": 1652449540719,
     "user": {
      "displayName": "Itsuki Matsunaga",
      "userId": "00130489984344345909"
     },
     "user_tz": -540
    },
    "id": "fB5l4NYyT7_a"
   },
   "outputs": [],
   "source": [
    "def get_route(src: str, dest: str, route_dict: dict):\n",
    "    '''\n",
    "    ic_graph上で出発地から目的地までの経路を得る関数\n",
    "\n",
    "    Parameters\n",
    "    --------------\n",
    "    src: str\n",
    "        出発ICコード\n",
    "    dest: str\n",
    "        目的ICコード\n",
    "\n",
    "    Returns\n",
    "    ----------\n",
    "    path: List[str]\n",
    "    経路中の各IC codeのリスト\n",
    "    '''  \n",
    "    if not (src in code2name and dest in code2name):\n",
    "        return None\n",
    "    try:\n",
    "        path = route_dict[src][dest]\n",
    "        return path\n",
    "    except: # 経路が存在しない, もしくはノードがグラフ上に存在しない場合\n",
    "        return None "
   ]
  },
  {
   "cell_type": "code",
   "execution_count": 12,
   "id": "0f6e18cc-7847-4939-aa27-2e75d5d88c13",
   "metadata": {},
   "outputs": [],
   "source": [
    "fname = './route_dict.pkl'\n",
    "\n",
    "if os.path.exists(fname): # 経路マップがすでに存在しているとき、それを使う\n",
    "    with open(fname, 'rb') as f:\n",
    "        print('Loading IC Routes...')\n",
    "        route_dict = pickle.load(f)\n",
    "else: # 存在していなければ計算してバイナリで保存\n",
    "    print('Calculating IC Routes...')\n",
    "    route_dict = dict(nx.all_pairs_dijkstra_path(ic_graph, weight='distance'))\n",
    "    \n",
    "    with open(fname, 'wb') as f:\n",
    "        pickle.dump(route_dict, f)"
   ]
  },
  {
   "cell_type": "markdown",
   "id": "e4c59e69-93f6-4c63-b415-f761815b64cf",
   "metadata": {},
   "source": [
    "### 対象道路のみを抽出"
   ]
  },
  {
   "cell_type": "code",
   "execution_count": 20,
   "id": "2ea3b41f-5d88-4c41-b90c-7c95c26fb113",
   "metadata": {
    "tags": []
   },
   "outputs": [],
   "source": [
    "def extract_road_related_queries(df_log: pd.DataFrame, target_road_code_set: set):\n",
    "    query_indices = []\n",
    "\n",
    "    for i_query, record in enumerate(df_log.to_numpy()):\n",
    "        start_code, end_code = record[[1, 2]]\n",
    "        path = get_route(start_code, end_code, route_dict)\n",
    "        # when the shortest path cannot be calculated\n",
    "        if path is None:\n",
    "            continue\n",
    "        \n",
    "        for i_segment, (start_code, end_code) in enumerate(zip(path, path[1:])):\n",
    "            if ic_graph[start_code][end_code]['road_code'] in target_road_code_set:\n",
    "                query_indices.append(i_query)\n",
    "                break\n",
    "\n",
    "    related_df_log = df_log.iloc[query_indices].reset_index(drop=True)\n",
    "    return related_df_log"
   ]
  },
  {
   "cell_type": "code",
   "execution_count": 14,
   "id": "e3af8491-e6ad-42c0-b62a-87bfa0677fe4",
   "metadata": {},
   "outputs": [],
   "source": [
    "PERIOD_BLOCKS = [\n",
    "    ('20210401', '20210630'),\n",
    "    ('20210701', '20210930'),\n",
    "    ('20211001', '20211231'),\n",
    "    ('20220101', '20220331'),\n",
    "    ('20220401', '20220630'),\n",
    "    ('20220701', '20220930'),\n",
    "    ('20221001', '20221231'),\n",
    "    ('20230101', '20230331'),\n",
    "    ('20230401', '20230630'),\n",
    "    ('20230701', '20230930'),\n",
    "]"
   ]
  },
  {
   "cell_type": "code",
   "execution_count": 15,
   "id": "bf38326f-4a54-47f4-8aa0-43f57062ccf1",
   "metadata": {},
   "outputs": [],
   "source": [
    "target_road_code_set = {'1800', '1040'}"
   ]
  },
  {
   "cell_type": "code",
   "execution_count": 21,
   "id": "c01c4a60-a0c4-434c-9165-3cdcf76c9641",
   "metadata": {
    "tags": []
   },
   "outputs": [
    {
     "name": "stdout",
     "output_type": "stream",
     "text": [
      "==================== 20210401 ====================\n",
      "20210401 | # of related queries: 64545 (14.46 [sec])\n"
     ]
    }
   ],
   "source": [
    "for start_date, end_date in PERIOD_BLOCKS:\n",
    "    date_list = [d.strftime('%Y%m%d') for d in pd.date_range(start_date, end_date, freq='1D')]\n",
    "\n",
    "    for i_date, target_date in enumerate(date_list):\n",
    "        print('='*20, target_date, '='*20)\n",
    "        \n",
    "        df_log = simplify_search_log(get_log(target_date))\n",
    "\n",
    "        s = time.time()\n",
    "        df_related_log = extract_road_related_queries(df_log, target_road_code_set)\n",
    "        \n",
    "        print(f'{target_date} | # of related queries: {len(df_related_log)} ({time.time() - s:.2f} [sec])')\n",
    "        break\n",
    "    break\n",
    "\n",
    "    print()"
   ]
  },
  {
   "cell_type": "code",
   "execution_count": 22,
   "id": "d6d4d610-e4b0-4d96-ac89-53b4e57ef6b0",
   "metadata": {},
   "outputs": [
    {
     "data": {
      "text/plain": [
       "((217378, 6), (64545, 6))"
      ]
     },
     "execution_count": 22,
     "metadata": {},
     "output_type": "execute_result"
    }
   ],
   "source": [
    "df_log.shape, df_related_log.shape"
   ]
  },
  {
   "cell_type": "code",
   "execution_count": 23,
   "id": "35b813ab-7709-47a9-876a-ec9920a2f420",
   "metadata": {},
   "outputs": [
    {
     "data": {
      "text/html": [
       "<div>\n",
       "<style scoped>\n",
       "    .dataframe tbody tr th:only-of-type {\n",
       "        vertical-align: middle;\n",
       "    }\n",
       "\n",
       "    .dataframe tbody tr th {\n",
       "        vertical-align: top;\n",
       "    }\n",
       "\n",
       "    .dataframe thead th {\n",
       "        text-align: right;\n",
       "    }\n",
       "</style>\n",
       "<table border=\"1\" class=\"dataframe\">\n",
       "  <thead>\n",
       "    <tr style=\"text-align: right;\">\n",
       "      <th></th>\n",
       "      <th>datetime</th>\n",
       "      <th>start_code</th>\n",
       "      <th>end_code</th>\n",
       "      <th>spec_datetime</th>\n",
       "      <th>spec_type</th>\n",
       "      <th>car_type</th>\n",
       "    </tr>\n",
       "  </thead>\n",
       "  <tbody>\n",
       "    <tr>\n",
       "      <th>0</th>\n",
       "      <td>2021-04-01 00:00:01</td>\n",
       "      <td>6016021</td>\n",
       "      <td>1461150</td>\n",
       "      <td>2021-03-31 06:00:00</td>\n",
       "      <td>1</td>\n",
       "      <td>2</td>\n",
       "    </tr>\n",
       "    <tr>\n",
       "      <th>1</th>\n",
       "      <td>2021-04-01 00:00:06</td>\n",
       "      <td>214K106</td>\n",
       "      <td>1010066</td>\n",
       "      <td>2021-04-01 00:00:00</td>\n",
       "      <td>1</td>\n",
       "      <td>2</td>\n",
       "    </tr>\n",
       "    <tr>\n",
       "      <th>2</th>\n",
       "      <td>2021-04-01 00:00:06</td>\n",
       "      <td>6016021</td>\n",
       "      <td>1461150</td>\n",
       "      <td>2021-03-31 07:00:00</td>\n",
       "      <td>1</td>\n",
       "      <td>2</td>\n",
       "    </tr>\n",
       "    <tr>\n",
       "      <th>3</th>\n",
       "      <td>2021-04-01 00:00:10</td>\n",
       "      <td>1040263</td>\n",
       "      <td>1010046</td>\n",
       "      <td>2021-04-01 00:00:00</td>\n",
       "      <td>1</td>\n",
       "      <td>2</td>\n",
       "    </tr>\n",
       "    <tr>\n",
       "      <th>4</th>\n",
       "      <td>2021-04-01 00:00:14</td>\n",
       "      <td>1040366</td>\n",
       "      <td>5057020</td>\n",
       "      <td>2021-04-01 00:00:00</td>\n",
       "      <td>1</td>\n",
       "      <td>2</td>\n",
       "    </tr>\n",
       "  </tbody>\n",
       "</table>\n",
       "</div>"
      ],
      "text/plain": [
       "             datetime start_code end_code       spec_datetime spec_type  \\\n",
       "0 2021-04-01 00:00:01    6016021  1461150 2021-03-31 06:00:00         1   \n",
       "1 2021-04-01 00:00:06    214K106  1010066 2021-04-01 00:00:00         1   \n",
       "2 2021-04-01 00:00:06    6016021  1461150 2021-03-31 07:00:00         1   \n",
       "3 2021-04-01 00:00:10    1040263  1010046 2021-04-01 00:00:00         1   \n",
       "4 2021-04-01 00:00:14    1040366  5057020 2021-04-01 00:00:00         1   \n",
       "\n",
       "  car_type  \n",
       "0        2  \n",
       "1        2  \n",
       "2        2  \n",
       "3        2  \n",
       "4        2  "
      ]
     },
     "execution_count": 23,
     "metadata": {},
     "output_type": "execute_result"
    }
   ],
   "source": [
    "df_related_log.head()"
   ]
  },
  {
   "cell_type": "code",
   "execution_count": null,
   "id": "59417b6a-1fe6-4df4-b53e-d97cbed94eee",
   "metadata": {},
   "outputs": [],
   "source": [
    "# df_route.to_csv('./route_table.csv', index=False)\n",
    "# df_route.to_pickle('./route_table.pkl')"
   ]
  },
  {
   "cell_type": "code",
   "execution_count": null,
   "id": "6c4bb245-8e58-45dc-a422-5f3c586be9f4",
   "metadata": {},
   "outputs": [],
   "source": [
    "! du -h ./route_table.*"
   ]
  },
  {
   "cell_type": "code",
   "execution_count": null,
   "id": "37abe476-cf59-438c-b7d8-603ceb96294a",
   "metadata": {},
   "outputs": [],
   "source": [
    "df_route = pd.read_pickle('./route_table.pkl')\n",
    "df_route.head()"
   ]
  },
  {
   "cell_type": "markdown",
   "id": "e3388153-a31a-45dd-8b60-ab53563f7281",
   "metadata": {},
   "source": [
    "## インデックスを張る"
   ]
  },
  {
   "cell_type": "code",
   "execution_count": null,
   "id": "5a1f87a9-2438-4807-9745-470de4727df4",
   "metadata": {},
   "outputs": [],
   "source": [
    "df_route_indexed = df_route.set_index(['start_code', 'end_code'])\n",
    "df_route_indexed.info()"
   ]
  },
  {
   "cell_type": "code",
   "execution_count": null,
   "id": "0eccdcdb-187d-41f1-a051-9b26debf20c7",
   "metadata": {},
   "outputs": [],
   "source": [
    "df_route_indexed.head()"
   ]
  },
  {
   "cell_type": "code",
   "execution_count": null,
   "id": "018589d5-874f-46dc-9e10-ec2f31552aed",
   "metadata": {},
   "outputs": [],
   "source": [
    "# df_route_indexed.to_pickle('./route_table_indexed.pkl')"
   ]
  },
  {
   "cell_type": "code",
   "execution_count": null,
   "id": "463327f7-974f-4fdb-a0d2-3edd39799f4c",
   "metadata": {},
   "outputs": [],
   "source": [
    "! du -h ./route_table_indexed.*"
   ]
  },
  {
   "cell_type": "code",
   "execution_count": null,
   "id": "b4f8c3ee-30c4-43e7-af77-4b86ea517315",
   "metadata": {},
   "outputs": [],
   "source": [
    "df_route_indexed = pd.read_pickle('./route_table_indexed.pkl')\n",
    "df_route_indexed.head()"
   ]
  }
 ],
 "metadata": {
  "kernelspec": {
   "display_name": "Python 3 (ipykernel)",
   "language": "python",
   "name": "python3"
  },
  "language_info": {
   "codemirror_mode": {
    "name": "ipython",
    "version": 3
   },
   "file_extension": ".py",
   "mimetype": "text/x-python",
   "name": "python",
   "nbconvert_exporter": "python",
   "pygments_lexer": "ipython3",
   "version": "3.8.13"
  }
 },
 "nbformat": 4,
 "nbformat_minor": 5
}
