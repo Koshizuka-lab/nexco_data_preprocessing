{
 "cells": [
  {
   "cell_type": "markdown",
   "metadata": {
    "id": "L-i7tlI8o9cg",
    "jp-MarkdownHeadingCollapsed": true,
    "tags": []
   },
   "source": [
    "このファイルについて\n",
    "- about\n",
    "    - 生の検索履歴データから異常なレコードを除去する前処理を行う\n",
    "- author: 松永\n",
    "- Input\n",
    "    - ../Input_original_data/search_log/csv202xxx/*\n",
    "- Output\n",
    "    - ../Input_processed_data/search_records/csv202xxx/*"
   ]
  },
  {
   "cell_type": "code",
   "execution_count": 1,
   "metadata": {
    "executionInfo": {
     "elapsed": 683,
     "status": "ok",
     "timestamp": 1651468692791,
     "user": {
      "displayName": "Itsuki Matsunaga",
      "userId": "00130489984344345909"
     },
     "user_tz": -540
    },
    "id": "f9L9v-ZOk-Qv"
   },
   "outputs": [],
   "source": [
    "import os\n",
    "from functools import reduce\n",
    "import datetime as dt\n",
    "import pandas as pd\n",
    "import cudf\n",
    "import warnings\n",
    "warnings.simplefilter('ignore')"
   ]
  },
  {
   "cell_type": "markdown",
   "metadata": {
    "id": "xpyv_PFRlimB"
   },
   "source": [
    "### ファイル名などの定数宣言"
   ]
  },
  {
   "cell_type": "code",
   "execution_count": 2,
   "metadata": {
    "executionInfo": {
     "elapsed": 251,
     "status": "ok",
     "timestamp": 1651469118380,
     "user": {
      "displayName": "Itsuki Matsunaga",
      "userId": "00130489984344345909"
     },
     "user_tz": -540
    },
    "id": "9RNK7RRWipBb"
   },
   "outputs": [],
   "source": [
    "ORIGIN_DATA_DIR = '../../Input_original_data'\n",
    "PROCESSED_DATA_DIR = '../../Input_processed_data'\n",
    "\n",
    "IC_CSV = f'{PROCESSED_DATA_DIR}/road_master/ic_merged.csv'\n",
    "\n",
    "ORIGIN_SEARCH_LOG_DIR = lambda month: f'{ORIGIN_DATA_DIR}/search_log/csv{month}'\n",
    "ORIGIN_SEARCH_LOG_CSV_LIST = lambda date: [\n",
    "                                      f'{ORIGIN_SEARCH_LOG_DIR(date[:6])}/DorapuraSearchLog-{date}.csv', \n",
    "                                      f'{ORIGIN_SEARCH_LOG_DIR(date[:6])}/ExternalSvrSearchLog-{date}.csv', \n",
    "                                      f'{ORIGIN_SEARCH_LOG_DIR(date[:6])}/SwitchSvrSearchLog-{date}.csv'\n",
    "                                      ]\n",
    "\n",
    "PROCESSED_SEARCH_LOG_DIR = lambda month: f'{PROCESSED_DATA_DIR}/search_records/csv{month}'\n",
    "PROCESSED_SEARCH_LOG_CSV = lambda date: f'{PROCESSED_SEARCH_LOG_DIR(date[:6])}/record_{date}.csv'\n",
    "\n",
    "SEARCH_LOG_COLNAME = [\n",
    "    'date', 'start_code', 'start_name', 'end_code', 'end_name', \n",
    "    'via1_code', 'via1_name', 'via2_code', 'via2_name', 'via3_code', 'via3_name', \n",
    "    'spec_day', 'spec_time', 'spec_type', 'order', 'car_type', 'use_nexco', 'use_urban', 'use_local',\n",
    "    'language'\n",
    "]"
   ]
  },
  {
   "cell_type": "markdown",
   "metadata": {
    "id": "GDhtqu4VlnCn"
   },
   "source": [
    "### 準備"
   ]
  },
  {
   "cell_type": "markdown",
   "metadata": {
    "id": "GRW0vzh-mZbh"
   },
   "source": [
    "#### 時刻操作系関数"
   ]
  },
  {
   "cell_type": "code",
   "execution_count": 3,
   "metadata": {
    "executionInfo": {
     "elapsed": 276,
     "status": "ok",
     "timestamp": 1651468715368,
     "user": {
      "displayName": "Itsuki Matsunaga",
      "userId": "00130489984344345909"
     },
     "user_tz": -540
    },
    "id": "GFHZgNs4l_Xi"
   },
   "outputs": [],
   "source": [
    "def str2date(date_str, format='%Y%m%d'):\n",
    "    '''\n",
    "    文字列形式の日付 => datetime.Dateクラスの日付\n",
    "\n",
    "    Parameters\n",
    "    ----------\n",
    "    date_str: str\n",
    "    日付\n",
    "    format: str\n",
    "    日付文字列の形式\n",
    "\n",
    "    Returns\n",
    "    -------\n",
    "    date: datetime.date\n",
    "    '''\n",
    "    date = dt.datetime.strptime(date_str, format).date()\n",
    "    return date\n",
    "\n",
    "def str2time(time_str, format='%H:%M'):\n",
    "    '''\n",
    "    文字列形式の時刻 => datetime.Timeクラスの時刻\n",
    "    Parameters\n",
    "    ----------\n",
    "    time_str: str\n",
    "    時刻\n",
    "    format: str\n",
    "    時刻文字列の形式\n",
    "\n",
    "    Returns\n",
    "    -------\n",
    "    time: datetime.time\n",
    "    '''\n",
    "    time_datetime = dt.datetime.strptime(time_str, format)\n",
    "    time = time_datetime.time()\n",
    "    return time"
   ]
  },
  {
   "cell_type": "markdown",
   "metadata": {
    "id": "QG2QB1AFmdh_"
   },
   "source": [
    "#### ic_code => ic_name のDictを準備"
   ]
  },
  {
   "cell_type": "code",
   "execution_count": 4,
   "metadata": {
    "executionInfo": {
     "elapsed": 1120,
     "status": "ok",
     "timestamp": 1651468757120,
     "user": {
      "displayName": "Itsuki Matsunaga",
      "userId": "00130489984344345909"
     },
     "user_tz": -540
    },
    "id": "HrY75V3FkvRd"
   },
   "outputs": [],
   "source": [
    "df_ic = pd.read_csv(IC_CSV, dtype={'ic_code': str})\n",
    "code2name = dict(zip(df_ic['ic_code'], df_ic['ic_name']))\n",
    "name2code = {name: code for code, name in code2name.items()}"
   ]
  },
  {
   "cell_type": "markdown",
   "metadata": {
    "id": "snQoVcVClpTS"
   },
   "source": [
    "### オリジナルデータ加工 -> CSV"
   ]
  },
  {
   "cell_type": "code",
   "execution_count": 5,
   "metadata": {
    "executionInfo": {
     "elapsed": 242,
     "status": "ok",
     "timestamp": 1651469313735,
     "user": {
      "displayName": "Itsuki Matsunaga",
      "userId": "00130489984344345909"
     },
     "user_tz": -540
    },
    "id": "-w0UgF_6iZfZ"
   },
   "outputs": [],
   "source": [
    "def proc_spec_day(x):\n",
    "    try:\n",
    "        # dateに変換できるかどうか確認\n",
    "        return str2date(x, format='%Y/%m/%d')\n",
    "    except (ValueError, TypeError) as e:\n",
    "        # print(e, x)\n",
    "        return\n",
    "    \n",
    "def proc_spec_time(x):\n",
    "    try:\n",
    "        # dateに変換できるかどうか確認\n",
    "        return str2time(x)\n",
    "    except (ValueError, TypeError) as e:\n",
    "        print(e, x)\n",
    "        return\n",
    "\n",
    "\n",
    "def preprocessing(df):\n",
    "    # ICコードに”E”が含まれている行を除去\n",
    "    df = df[df['start_code'].str.contains('E') == False]\n",
    "    df = df[df['end_code'].str.contains('E') == False]\n",
    "\n",
    "    # マスタデータに含まれないICコードが誤って記録されている行を除去\n",
    "    df = df[df['start_code'].apply(lambda c: c in code2name)]\n",
    "    df = df[df['end_code'].apply(lambda c: c in code2name)]\n",
    "\n",
    "    # マスタデータに含まれないIC名称が誤って指定されている行を除去\n",
    "    df = df[df['start_name'].apply(lambda n: n in name2code)]\n",
    "    df = df[df['end_name'].apply(lambda n: n in name2code)]\n",
    "\n",
    "    # 指定日に異常な日付が入っている行（e.g. 2021/04/31, 210327）を除去\n",
    "    df['spec_day'] = df['spec_day'].apply(proc_spec_day)\n",
    "    df = df[df['spec_day'].notna()]\n",
    "\n",
    "    # 指定時間が”24:00”となっている行の指定日・指定時間を翌日に繰り上げ\n",
    "    df['spec_day'] = df['spec_day'].mask(df['spec_time'] == '24:00', df['spec_day'] + dt.timedelta(days=1))\n",
    "    df.replace({'spec_time': {'24:00': '0:00'}}, inplace=True)\n",
    "\n",
    "    # 指定時間が\"24:12\"のように異常な行を除去\n",
    "    df = df[df['spec_time'].str[:2] != '24']\n",
    "\n",
    "    # 「指定言語」列を除去\n",
    "    df.drop('language', axis=1, inplace=True)\n",
    "\n",
    "    df.reset_index(drop=True, inplace=True)\n",
    "\n",
    "    return df"
   ]
  },
  {
   "cell_type": "code",
   "execution_count": 6,
   "metadata": {
    "executionInfo": {
     "elapsed": 1044,
     "status": "ok",
     "timestamp": 1651469317111,
     "user": {
      "displayName": "Itsuki Matsunaga",
      "userId": "00130489984344345909"
     },
     "user_tz": -540
    },
    "id": "hMh6WjvHOE4R",
    "tags": []
   },
   "outputs": [
    {
     "data": {
      "text/html": [
       "<div>\n",
       "<style scoped>\n",
       "    .dataframe tbody tr th:only-of-type {\n",
       "        vertical-align: middle;\n",
       "    }\n",
       "\n",
       "    .dataframe tbody tr th {\n",
       "        vertical-align: top;\n",
       "    }\n",
       "\n",
       "    .dataframe thead th {\n",
       "        text-align: right;\n",
       "    }\n",
       "</style>\n",
       "<table border=\"1\" class=\"dataframe\">\n",
       "  <thead>\n",
       "    <tr style=\"text-align: right;\">\n",
       "      <th></th>\n",
       "      <th>date</th>\n",
       "      <th>start_code</th>\n",
       "      <th>start_name</th>\n",
       "      <th>end_code</th>\n",
       "      <th>end_name</th>\n",
       "      <th>via1_code</th>\n",
       "      <th>via1_name</th>\n",
       "      <th>via2_code</th>\n",
       "      <th>via2_name</th>\n",
       "      <th>via3_code</th>\n",
       "      <th>via3_name</th>\n",
       "      <th>spec_day</th>\n",
       "      <th>spec_time</th>\n",
       "      <th>spec_type</th>\n",
       "      <th>order</th>\n",
       "      <th>car_type</th>\n",
       "      <th>use_nexco</th>\n",
       "      <th>use_urban</th>\n",
       "      <th>use_local</th>\n",
       "      <th>language</th>\n",
       "    </tr>\n",
       "  </thead>\n",
       "  <tbody>\n",
       "    <tr>\n",
       "      <th>0</th>\n",
       "      <td>2023/07/31 00:00:00</td>\n",
       "      <td>5001026</td>\n",
       "      <td>坂出北</td>\n",
       "      <td>5001016</td>\n",
       "      <td>児島</td>\n",
       "      <td>NaN</td>\n",
       "      <td>NaN</td>\n",
       "      <td>NaN</td>\n",
       "      <td>NaN</td>\n",
       "      <td>NaN</td>\n",
       "      <td>NaN</td>\n",
       "      <td>2023/07/30</td>\n",
       "      <td>00:00</td>\n",
       "      <td>1</td>\n",
       "      <td>3</td>\n",
       "      <td>2</td>\n",
       "      <td>1</td>\n",
       "      <td>1</td>\n",
       "      <td>1</td>\n",
       "      <td>0</td>\n",
       "    </tr>\n",
       "    <tr>\n",
       "      <th>1</th>\n",
       "      <td>2023/07/31 00:00:00</td>\n",
       "      <td>1080181</td>\n",
       "      <td>滑川</td>\n",
       "      <td>1800066</td>\n",
       "      <td>上里ＳＡ</td>\n",
       "      <td>NaN</td>\n",
       "      <td>NaN</td>\n",
       "      <td>NaN</td>\n",
       "      <td>NaN</td>\n",
       "      <td>NaN</td>\n",
       "      <td>NaN</td>\n",
       "      <td>2023/07/30</td>\n",
       "      <td>13:00</td>\n",
       "      <td>1</td>\n",
       "      <td>2</td>\n",
       "      <td>2</td>\n",
       "      <td>1</td>\n",
       "      <td>1</td>\n",
       "      <td>1</td>\n",
       "      <td>0</td>\n",
       "    </tr>\n",
       "    <tr>\n",
       "      <th>2</th>\n",
       "      <td>2023/07/31 00:00:00</td>\n",
       "      <td>1050046</td>\n",
       "      <td>白老</td>\n",
       "      <td>1510021</td>\n",
       "      <td>手稲</td>\n",
       "      <td>NaN</td>\n",
       "      <td>NaN</td>\n",
       "      <td>NaN</td>\n",
       "      <td>NaN</td>\n",
       "      <td>NaN</td>\n",
       "      <td>NaN</td>\n",
       "      <td>2023/07/31</td>\n",
       "      <td>00:00</td>\n",
       "      <td>1</td>\n",
       "      <td>2</td>\n",
       "      <td>2</td>\n",
       "      <td>1</td>\n",
       "      <td>1</td>\n",
       "      <td>1</td>\n",
       "      <td>0</td>\n",
       "    </tr>\n",
       "    <tr>\n",
       "      <th>3</th>\n",
       "      <td>2023/07/31 00:00:00</td>\n",
       "      <td>204B006</td>\n",
       "      <td>岩沼</td>\n",
       "      <td>1410036</td>\n",
       "      <td>八戸</td>\n",
       "      <td>NaN</td>\n",
       "      <td>NaN</td>\n",
       "      <td>NaN</td>\n",
       "      <td>NaN</td>\n",
       "      <td>NaN</td>\n",
       "      <td>NaN</td>\n",
       "      <td>2023/07/30</td>\n",
       "      <td>09:00</td>\n",
       "      <td>1</td>\n",
       "      <td>2</td>\n",
       "      <td>2</td>\n",
       "      <td>1</td>\n",
       "      <td>1</td>\n",
       "      <td>1</td>\n",
       "      <td>0</td>\n",
       "    </tr>\n",
       "    <tr>\n",
       "      <th>4</th>\n",
       "      <td>2023/07/31 00:00:01</td>\n",
       "      <td>7004011</td>\n",
       "      <td>天保山</td>\n",
       "      <td>7019006</td>\n",
       "      <td>ユニバーサルシティ</td>\n",
       "      <td>NaN</td>\n",
       "      <td>NaN</td>\n",
       "      <td>NaN</td>\n",
       "      <td>NaN</td>\n",
       "      <td>NaN</td>\n",
       "      <td>NaN</td>\n",
       "      <td>2023/07/31</td>\n",
       "      <td>11:00</td>\n",
       "      <td>1</td>\n",
       "      <td>2</td>\n",
       "      <td>4</td>\n",
       "      <td>1</td>\n",
       "      <td>1</td>\n",
       "      <td>1</td>\n",
       "      <td>0</td>\n",
       "    </tr>\n",
       "  </tbody>\n",
       "</table>\n",
       "</div>"
      ],
      "text/plain": [
       "                  date start_code start_name end_code   end_name via1_code  \\\n",
       "0  2023/07/31 00:00:00    5001026        坂出北  5001016         児島       NaN   \n",
       "1  2023/07/31 00:00:00    1080181         滑川  1800066       上里ＳＡ       NaN   \n",
       "2  2023/07/31 00:00:00    1050046         白老  1510021         手稲       NaN   \n",
       "3  2023/07/31 00:00:00    204B006         岩沼  1410036         八戸       NaN   \n",
       "4  2023/07/31 00:00:01    7004011        天保山  7019006  ユニバーサルシティ       NaN   \n",
       "\n",
       "  via1_name via2_code via2_name via3_code via3_name    spec_day spec_time  \\\n",
       "0       NaN       NaN       NaN       NaN       NaN  2023/07/30     00:00   \n",
       "1       NaN       NaN       NaN       NaN       NaN  2023/07/30     13:00   \n",
       "2       NaN       NaN       NaN       NaN       NaN  2023/07/31     00:00   \n",
       "3       NaN       NaN       NaN       NaN       NaN  2023/07/30     09:00   \n",
       "4       NaN       NaN       NaN       NaN       NaN  2023/07/31     11:00   \n",
       "\n",
       "   spec_type  order  car_type  use_nexco  use_urban  use_local  language  \n",
       "0          1      3         2          1          1          1         0  \n",
       "1          1      2         2          1          1          1         0  \n",
       "2          1      2         2          1          1          1         0  \n",
       "3          1      2         2          1          1          1         0  \n",
       "4          1      2         4          1          1          1         0  "
      ]
     },
     "execution_count": 6,
     "metadata": {},
     "output_type": "execute_result"
    }
   ],
   "source": [
    "# test\n",
    "df = pd.read_csv(ORIGIN_SEARCH_LOG_CSV_LIST('20230731')[0],\n",
    "          header=0, names=SEARCH_LOG_COLNAME,\n",
    "          dtype={'start_code': str, 'end_code': str, 'via1_code': str, 'via2_code': str, 'via3_code': str})\n",
    "df.head()"
   ]
  },
  {
   "cell_type": "markdown",
   "metadata": {
    "id": "vjz7E7GsTPy_"
   },
   "source": [
    "## main"
   ]
  },
  {
   "cell_type": "code",
   "execution_count": 10,
   "metadata": {
    "id": "dUyxomjkirGt",
    "tags": []
   },
   "outputs": [
    {
     "name": "stdout",
     "output_type": "stream",
     "text": [
      "DorapuraSearchLog-20230811.csv 445262\n",
      "ExternalSvrSearchLog-20230811.csv 7661\n",
      "------------------------------ [20230811] 452923 records ------------------------------\n",
      "DorapuraSearchLog-20230812.csv 378206\n",
      "ExternalSvrSearchLog-20230812.csv 5575\n",
      "------------------------------ [20230812] 383781 records ------------------------------\n",
      "DorapuraSearchLog-20230813.csv 373130\n",
      "ExternalSvrSearchLog-20230813.csv 4936\n",
      "------------------------------ [20230813] 378066 records ------------------------------\n",
      "DorapuraSearchLog-20230814.csv 395275\n",
      "ExternalSvrSearchLog-20230814.csv 4913\n",
      "------------------------------ [20230814] 400188 records ------------------------------\n",
      "DorapuraSearchLog-20230815.csv 383966\n",
      "ExternalSvrSearchLog-20230815.csv 5469\n",
      "------------------------------ [20230815] 389435 records ------------------------------\n",
      "DorapuraSearchLog-20230816.csv 389537\n",
      "ExternalSvrSearchLog-20230816.csv 4686\n",
      "------------------------------ [20230816] 394223 records ------------------------------\n",
      "======================================== finished ========================================\n"
     ]
    }
   ],
   "source": [
    "start_date='20230811'\n",
    "end_date= '20230816'\n",
    "\n",
    "DAYS = [d.strftime('%Y%m%d') for d in pd.date_range(start_date, end_date, freq='1D')]\n",
    "\n",
    "dtypes = {\n",
    "    'start_code': str, \n",
    "    'end_code': str,\n",
    "    'via1_code': str, \n",
    "    'via2_code': str,\n",
    "    'via3_code': str,\n",
    "}\n",
    "\n",
    "for d in DAYS:\n",
    "    df_day = None\n",
    "    for csv in ORIGIN_SEARCH_LOG_CSV_LIST(d):\n",
    "        if not os.path.exists(csv):\n",
    "            continue\n",
    "\n",
    "        df = pd.read_csv(csv, header=0, names=SEARCH_LOG_COLNAME, dtype=dtypes)\n",
    "  \n",
    "        df = preprocessing(df)\n",
    "        print(os.path.basename(csv), len(df))\n",
    "\n",
    "        df_day = pd.concat([df_day, df], ignore_index=True, copy=False)\n",
    "\n",
    "    print('-'*30, f'[{d}] {len(df_day)} records', '-'*30)\n",
    "\n",
    "    df_day.to_csv(PROCESSED_SEARCH_LOG_CSV(d), index=False)\n",
    "\n",
    "print('='*40, 'finished', '='*40)"
   ]
  },
  {
   "cell_type": "code",
   "execution_count": null,
   "metadata": {},
   "outputs": [],
   "source": [
    "431071 2023/08/11 22:38:02,1100016,国立府中,1101031,甲府昭和,,,,,,,2014/.       ,/),,03:10,1,2,1,1,1,1,0"
   ]
  }
 ],
 "metadata": {
  "colab": {
   "collapsed_sections": [
    "EYpLVXc0OsiZ"
   ],
   "name": "search-log_preprocess.ipynb",
   "provenance": [],
   "toc_visible": true
  },
  "kernelspec": {
   "display_name": "Python 3 (ipykernel)",
   "language": "python",
   "name": "python3"
  },
  "language_info": {
   "codemirror_mode": {
    "name": "ipython",
    "version": 3
   },
   "file_extension": ".py",
   "mimetype": "text/x-python",
   "name": "python",
   "nbconvert_exporter": "python",
   "pygments_lexer": "ipython3",
   "version": "3.8.13"
  }
 },
 "nbformat": 4,
 "nbformat_minor": 4
}
