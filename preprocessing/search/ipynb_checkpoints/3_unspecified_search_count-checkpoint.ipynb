{
 "cells": [
  {
   "cell_type": "markdown",
   "metadata": {},
   "source": [
    "このファイルについて\n",
    "- about\n",
    "    - 検索履歴データから館山道・関越道の各区間の5分単位の検索数を計算する\n",
    "- author: 松永\n",
    "- Input\n",
    "    - ../Input_processed_data/search_records/csv202xxx/*\n",
    "- Output\n",
    "    - 時間指定あり検索\n",
    "        - ../Input_processed_data/search_count/search-count_{tateyama or kannetsu}.csv\n",
    "    - 時間指定なし検索\n",
    "        - ../Input_processed_data/search_count/search-count_{tateyama or kannetsu}_unspecified.csv"
   ]
  },
  {
   "cell_type": "code",
   "execution_count": 1,
   "metadata": {
    "colab": {
     "base_uri": "https://localhost:8080/"
    },
    "executionInfo": {
     "elapsed": 1829,
     "status": "ok",
     "timestamp": 1652449525762,
     "user": {
      "displayName": "Itsuki Matsunaga",
      "userId": "00130489984344345909"
     },
     "user_tz": -540
    },
    "id": "Sbq6GWzwT7no",
    "outputId": "a91f2644-67a3-414e-f0ce-c6efefdea42a"
   },
   "outputs": [],
   "source": [
    "import os\n",
    "import time\n",
    "import tqdm\n",
    "import datetime as dt\n",
    "import networkx as nx\n",
    "import numpy as np\n",
    "import pandas as pd\n",
    "import matplotlib.pyplot as plt\n",
    "import cudf\n",
    "\n",
    "import warnings\n",
    "warnings.simplefilter('ignore')"
   ]
  },
  {
   "cell_type": "code",
   "execution_count": 17,
   "metadata": {
    "executionInfo": {
     "elapsed": 258,
     "status": "ok",
     "timestamp": 1652449538375,
     "user": {
      "displayName": "Itsuki Matsunaga",
      "userId": "00130489984344345909"
     },
     "user_tz": -540
    },
    "id": "ChfKW1ydT7rL"
   },
   "outputs": [],
   "source": [
    "# data directory\n",
    "DATA_DIR = '../../Input_processed_data'\n",
    "\n",
    "# IC, 道路情報 csv\n",
    "IC_CSV = f'{DATA_DIR}/road_master/ic_merged.csv'\n",
    "IC_NET_CSV = f'{DATA_DIR}/road_master/220303-doronet_ic.csv'\n",
    "# IC_NET_SUB_CSV = f'{DATA_DIR}/road_master/tateyama_kannetsu_icnet.csv'\n",
    "IC_NET_SUB_CSV = f'{DATA_DIR}/road_master/touhoku_icnet.csv'\n",
    "\n",
    "# 検索ログ csv\n",
    "SEARCH_LOG_DIR = lambda month: f'{DATA_DIR}/search_records/csv{month}'\n",
    "SEARCH_LOG_CSV = lambda date: f'{SEARCH_LOG_DIR(date[:6])}/record_{date}.csv'\n",
    "\n",
    "# 検索件数を保存するcsv\n",
    "## 日時指定なし\n",
    "SEARCH_COUNT_CSV_KANNETSU_UNSPECIFIED = f'./search_count/search-count_kannetsu_unspecified.csv'\n",
    "SEARCH_COUNT_CSV_TATEYAMA_UNSPECIFIED = f'./search_count/search-count_tateyama_unspecified.csv'\n",
    "SEARCH_COUNT_CSV_TOUHOKU_UNSPECIFIED = f'./search_count/search-count_touhoku_unspecified.csv'"
   ]
  },
  {
   "cell_type": "markdown",
   "metadata": {
    "id": "Th8Q0g5DLbvS"
   },
   "source": [
    "### 準備"
   ]
  },
  {
   "cell_type": "code",
   "execution_count": 3,
   "metadata": {
    "executionInfo": {
     "elapsed": 1129,
     "status": "ok",
     "timestamp": 1652449554994,
     "user": {
      "displayName": "Itsuki Matsunaga",
      "userId": "00130489984344345909"
     },
     "user_tz": -540
    },
    "id": "J0T3w56yT8Dr",
    "tags": []
   },
   "outputs": [],
   "source": [
    "# モジュール内で前処理済み\n",
    "df_ic = pd.read_csv(IC_CSV, dtype={'ic_code': str})\n",
    "df_icnet = pd.read_csv(IC_NET_CSV, dtype={'start_code': str, 'end_code': str, 'road_code': str})\n",
    "sub_icnet = pd.read_csv(IC_NET_SUB_CSV, dtype={'start_code': str, 'end_code': str, 'road_code': str})\n",
    "\n",
    "code2name = dict(zip(df_ic['ic_code'], df_ic['ic_name']))\n",
    "name2code = {v: k for k, v in code2name.items()}\n",
    "\n",
    "ic_graph = nx.from_pandas_edgelist(df_icnet, source='start_code', target='end_code',\n",
    "                                  edge_attr=['distance', 'road_code', 'direction'],\n",
    "                                  create_using=nx.DiGraph())"
   ]
  },
  {
   "cell_type": "code",
   "execution_count": 4,
   "metadata": {},
   "outputs": [],
   "source": [
    "# 区間ごとの制限速度を格納したテーブル, Map を作成\n",
    "df_limits = sub_icnet.loc[:, ['start_code', 'end_code', 'start_name', 'end_name', 'road_code', 'limit']]\n",
    "\n",
    "limit_dict = {\n",
    "    (s_code, e_code): lim \n",
    "    for s_code, e_code, lim in df_limits.loc[:, ['start_code', 'end_code', 'limit']].values\n",
    "}"
   ]
  },
  {
   "cell_type": "code",
   "execution_count": 5,
   "metadata": {
    "executionInfo": {
     "elapsed": 1129,
     "status": "ok",
     "timestamp": 1652449554994,
     "user": {
      "displayName": "Itsuki Matsunaga",
      "userId": "00130489984344345909"
     },
     "user_tz": -540
    },
    "id": "J0T3w56yT8Dr"
   },
   "outputs": [],
   "source": [
    "cudf_icnet = cudf.from_pandas(df_icnet)\n",
    "cudf_limits = cudf.from_pandas(df_limits)"
   ]
  },
  {
   "cell_type": "code",
   "execution_count": 7,
   "metadata": {
    "executionInfo": {
     "elapsed": 2,
     "status": "ok",
     "timestamp": 1652449539936,
     "user": {
      "displayName": "Itsuki Matsunaga",
      "userId": "00130489984344345909"
     },
     "user_tz": -540
    },
    "id": "lATRM3P5T735"
   },
   "outputs": [],
   "source": [
    "def str2time(time_str, format='%H:%M'):\n",
    "    '''\n",
    "    文字列形式の時刻 => datetime.Timeクラスの時刻\n",
    "    Parameters\n",
    "    ----------\n",
    "    time_str: str\n",
    "    時刻\n",
    "    format: str\n",
    "    時刻文字列の形式\n",
    "\n",
    "    Returns\n",
    "    -------\n",
    "    time: datetime.time\n",
    "    '''\n",
    "    time_datetime = dt.datetime.strptime(time_str, format)\n",
    "    time = time_datetime.time()\n",
    "    return time"
   ]
  },
  {
   "cell_type": "code",
   "execution_count": 8,
   "metadata": {
    "executionInfo": {
     "elapsed": 364,
     "status": "ok",
     "timestamp": 1652449540719,
     "user": {
      "displayName": "Itsuki Matsunaga",
      "userId": "00130489984344345909"
     },
     "user_tz": -540
    },
    "id": "fB5l4NYyT7_a"
   },
   "outputs": [],
   "source": [
    "def get_route(ic_graph, src_name, target_name):\n",
    "    '''\n",
    "    ic_graph上で出発地（src_name）から目的地（target_name）までの経路を得る関数\n",
    "\n",
    "    Parameters\n",
    "    --------------\n",
    "    ic_graph: nx.DiGraph\n",
    "        ICの繋がりを表す有向グラフ\n",
    "    src_name: str\n",
    "        出発IC名\n",
    "    target_name: str\n",
    "        目的IC名\n",
    "\n",
    "    Returns\n",
    "    ----------\n",
    "    path: List[str]\n",
    "    経路中の各IC codeのリスト\n",
    "    '''  \n",
    "    if not (src_name in name2code and target_name in name2code):\n",
    "        return None\n",
    "\n",
    "    src = name2code[src_name]\n",
    "    target = name2code[target_name]\n",
    "\n",
    "    try:\n",
    "        path = PATH_DICT[src][target]\n",
    "        return path\n",
    "    # 経路が存在しない, もしくはノードがグラフ上に存在しない場合\n",
    "    except:\n",
    "        return None\n",
    "\n",
    "\n",
    "def get_route_with_time(ic_graph, src_name, target_name, departure_time='12:00', arrival_time=None, spec_date=dt.date.today()):\n",
    "    '''\n",
    "    ic_graph上で出発地（src_name）から目的地（target_name）までの予想通過時刻付き経路を得る関数\n",
    "\n",
    "    Parameters\n",
    "    ----------\n",
    "    ic_graph: nx.DiGraph\n",
    "        ICの繋がりを表す有向グラフ\n",
    "    src_name: str\n",
    "        出発IC名\n",
    "    target_name: str\n",
    "        目的IC名\n",
    "    departure_time: str or datetime.time\n",
    "        出発時刻\n",
    "    arrival_time: str or datetime.time\n",
    "        到着時刻\n",
    "    spec_date: str or dateitme.date\n",
    "        指定日\n",
    "\n",
    "    Returns\n",
    "    -------\n",
    "    path: List[str]\n",
    "        経路中の各IC codeのリスト\n",
    "    arrival_time_list: List[datetime.time]\n",
    "        経路中の各ICへの予想到着時刻（datetime.time型）のリスト\n",
    "    '''\n",
    "    # 関越道・館山道 以外の道路の移動速度は80km/hと仮定する\n",
    "    DEFAULT_SPEED = 80\n",
    "\n",
    "    path = get_route(ic_graph, src_name, target_name)\n",
    "\n",
    "    # 経路が存在しない場合\n",
    "    if path is None:\n",
    "        return (None, None)\n",
    "    \n",
    "    try:\n",
    "        if isinstance(departure_time, str):\n",
    "            departure_time = str2time(departure_time)\n",
    "        if isinstance(arrival_time, str):\n",
    "            arrival_time = str2time(arrival_time)\n",
    "    except (ValueError, TypeError) as e:\n",
    "        return (None, None)\n",
    "    \n",
    "    if isinstance(spec_date, str):\n",
    "        spec_date = dt.datetime.strptime(spec_date, '%Y/%m/%d').date()\n",
    "\n",
    "    elapsed = dt.timedelta()\n",
    "    elapsed_time_list = [elapsed]\n",
    "\n",
    "    for i in range(len(path)-1):\n",
    "        s, t = path[i], path[i+1]\n",
    "\n",
    "        dist = ic_graph[s][t]['distance']\n",
    "        limit_speed = limit_dict.get((s, t), DEFAULT_SPEED)\n",
    "\n",
    "        # s -> t　までの所要時間を算出\n",
    "        td = dt.timedelta(hours = dist / limit_speed)\n",
    "\n",
    "        elapsed += td\n",
    "        elapsed_time_list.append(elapsed)\n",
    "\n",
    "    if arrival_time:\n",
    "        spec_datetime = dt.datetime.combine(spec_date, arrival_time)\n",
    "        time_list = [spec_datetime - td for td in elapsed_time_list[::-1]]\n",
    "    else:\n",
    "        spec_datetime = dt.datetime.combine(spec_date, departure_time)\n",
    "        time_list = [spec_datetime + td for td in elapsed_time_list]\n",
    "\n",
    "    return path, time_list"
   ]
  },
  {
   "cell_type": "code",
   "execution_count": 9,
   "metadata": {},
   "outputs": [],
   "source": [
    "PATH_DICT = dict(nx.all_pairs_dijkstra_path(ic_graph, weight='distance'))"
   ]
  },
  {
   "cell_type": "code",
   "execution_count": 10,
   "metadata": {
    "executionInfo": {
     "elapsed": 262,
     "status": "ok",
     "timestamp": 1652449638211,
     "user": {
      "displayName": "Itsuki Matsunaga",
      "userId": "00130489984344345909"
     },
     "user_tz": -540
    },
    "id": "_HLipBZYT8LU"
   },
   "outputs": [],
   "source": [
    "def get_log(date):\n",
    "    if not os.path.exists(SEARCH_LOG_CSV(date)):\n",
    "        # print(f'{SEARCH_LOG_CSV(date)} not exists')\n",
    "        return None\n",
    "\n",
    "    df = pd.read_csv(SEARCH_LOG_CSV(date), \n",
    "                    dtype={'start_code': str, 'end_code': str, 'via1_code': str, 'via2_code': str, 'via3_code': str, 'order': str})\n",
    "    df = cudf.from_pandas(df)\n",
    "    return df\n",
    "\n",
    "\n",
    "def get_unspecified_logs(date):\n",
    "    '''\n",
    "    検索履歴全体から時間指定なしの検索のみを得る関数\n",
    "\n",
    "    Parameters\n",
    "    --------------\n",
    "    date: pandas.DataFrame\n",
    "    得たい検索履歴データの日付\n",
    "\n",
    "    Returns\n",
    "    ----------\n",
    "    unspecified: pandas.DataFrame\n",
    "    時間指定なしの検索履歴データ\n",
    "    '''\n",
    "    df = get_log(date)\n",
    "\n",
    "    search_dt = cudf.to_datetime(df['date'])\n",
    "    specified_dt = cudf.to_datetime(df['spec_day'] + ' ' + df['spec_time'], errors='coerce')\n",
    "\n",
    "    t_diff = abs((search_dt - specified_dt) / np.timedelta64(1, 's'))\n",
    "\n",
    "    td_thresh = 15 * 60\n",
    "    unspecified = df[t_diff < td_thresh]\n",
    "\n",
    "    unspecified.reset_index(drop=True, inplace=True)\n",
    "\n",
    "    return unspecified\n",
    "\n",
    "\n",
    "def get_past_logs(target_date, periods, include_target=False):\n",
    "    '''\n",
    "    指定日(target_date)から過去数日分の検索履歴データを取得する関数\n",
    "\n",
    "    Parameters\n",
    "    --------------\n",
    "    target_date: str or List[str]\n",
    "        混雑度算出の対象となる日付（文字列 or リスト)\n",
    "    periods: int\n",
    "        過去何日分の履歴を参照するか\n",
    "    time_specified: bool\n",
    "        時間指定あり or なし\n",
    "    include_target: bool\n",
    "        target_date（Listである場合はそのうち最も早い日付）をデータに含めるかどうか\n",
    "\n",
    "    Returns\n",
    "    ----------\n",
    "    df_all: pandas.DataFrame\n",
    "        target_dateから過去periods日間の検索履歴データのうち、target_dateを指定日としたログの集合\n",
    "    '''\n",
    "    if isinstance(target_date, list):\n",
    "        end_date = sorted(target_date)[0]\n",
    "        target_date_set = set(target_date)\n",
    "    else:\n",
    "        end_date = target_date\n",
    "        target_date_set = set([target_date])\n",
    "\n",
    "    # 参照すべき全日付のiterableを生成\n",
    "    if include_target:\n",
    "        dt_range = pd.date_range(end=end_date, periods=periods)\n",
    "    else:\n",
    "        dt_range = pd.date_range(end=end_date, periods=periods+1, closed='left')\n",
    "\n",
    "    DAYS = [d.strftime('%Y%m%d') for d in dt_range]\n",
    "\n",
    "    df_all = None\n",
    "    for d in DAYS:\n",
    "        df = get_log(d)\n",
    "\n",
    "        if df is None:\n",
    "              continue\n",
    "\n",
    "        # 時間指定ありの検索履歴データ\n",
    "        # 検索の「指定日」 (%Y-%m-%d) がtarget_date (%Y%m%d) と一致する行のみ抽出\n",
    "        df = df[df['spec_day'].str.replace('-', '').isin(target_date_set)]\n",
    "        # print(f'{d} (時間指定あり): {len(df)}件')\n",
    "\n",
    "        df_all = cudf.concat([df_all, df], ignore_index=True)\n",
    "\n",
    "    df_all.reset_index(drop=True, inplace=True)\n",
    "\n",
    "    return df_all"
   ]
  },
  {
   "cell_type": "markdown",
   "metadata": {
    "id": "kt5v87MkLfVF"
   },
   "source": [
    "### functions"
   ]
  },
  {
   "cell_type": "code",
   "execution_count": 11,
   "metadata": {
    "executionInfo": {
     "elapsed": 406,
     "status": "ok",
     "timestamp": 1652449641032,
     "user": {
      "displayName": "Itsuki Matsunaga",
      "userId": "00130489984344345909"
     },
     "user_tz": -540
    },
    "id": "r9Gv8U2dWpXp"
   },
   "outputs": [],
   "source": [
    "def expand_search_path(df, road_code):\n",
    "    '''\n",
    "    検索経路を複数のエッジに展開する\n",
    "    A => B => C => D という検索経路を A => B, B => C, C => Dというように区切る\n",
    "\n",
    "    Parameters\n",
    "    --------------\n",
    "    df: pandas.DataFrame\n",
    "    検索ログのデータフレーム\n",
    "    road_code: str\n",
    "    道路コード （指定された道路上のエッジのみを結果のデータフレームに格納する）\n",
    "\n",
    "    Returns\n",
    "    ----------\n",
    "    result: pandas.DataFrame\n",
    "    検索経路がエッジに展開された結果\n",
    "    エッジの両端のICコード（start_code, end_code）とそのエッジの通過時間(passing_time)が格納される\n",
    "    '''\n",
    "    start_codes = []\n",
    "    end_codes = []\n",
    "    passing_time_list = []\n",
    "    \n",
    "    nodes_set = set(ic_graph.nodes)\n",
    "    \n",
    "    df = df.loc[df['start_code'].isin(nodes_set) & df['end_code'].isin(nodes_set)]\n",
    "    \n",
    "    for s_name, t_name, tp, time, day in df[['start_name', 'end_name', 'spec_type', 'spec_time', 'spec_day']].to_numpy():\n",
    "        if tp == 1:\n",
    "            path, time_list = get_route_with_time(ic_graph, s_name, t_name, \n",
    "                                                  departure_time=time, spec_date=day.replace('-', '/'))\n",
    "        else:\n",
    "            path, time_list = get_route_with_time(ic_graph, s_name, t_name, \n",
    "                                                  arrival_time=time, spec_date=day.replace('-', '/'))\n",
    "        if path is None:\n",
    "            continue\n",
    "\n",
    "        for i, (s, t) in enumerate(zip(path, path[1:])):\n",
    "            if ic_graph[s][t]['road_code'] == road_code:\n",
    "                start_codes.append(s)\n",
    "                end_codes.append(t)\n",
    "                passing_time_list.append(time_list[i])\n",
    "\n",
    "    result = cudf.DataFrame({\n",
    "      'start_code': start_codes,\n",
    "      'end_code': end_codes,\n",
    "      'passing_time': passing_time_list      \n",
    "    })\n",
    "\n",
    "    return result"
   ]
  },
  {
   "cell_type": "code",
   "execution_count": 12,
   "metadata": {
    "executionInfo": {
     "elapsed": 4,
     "status": "ok",
     "timestamp": 1652449642114,
     "user": {
      "displayName": "Itsuki Matsunaga",
      "userId": "00130489984344345909"
     },
     "user_tz": -540
    },
    "id": "-_q6Hz94Wr9I"
   },
   "outputs": [],
   "source": [
    "def timeslice_grouping(df, timeslice):\n",
    "    '''\n",
    "    エッジに展開された検索経路をtimesliceでサンプリングし、各経路の検索量を積算する\n",
    "\n",
    "    Parameters\n",
    "    --------------\n",
    "    df: pandas.DataFrame\n",
    "    エッジに展開された検索経路が格納されたデータフレーム\n",
    "    timeslice:\n",
    "    サンプリング時間（1D, 1h, 5minなどを想定）\n",
    "\n",
    "    Returns\n",
    "    ---------\n",
    "    result: pandas.DataFrame\n",
    "    timesliceでサンプリングされた検索経路のデータフレーム\n",
    "    '''\n",
    "    # 後ほど検索量として積算される対象となるカラムを用意\n",
    "    result = df\\\n",
    "        .assign(search=1)\\\n",
    "        .assign(passing_time=cudf.to_datetime(df['passing_time']))\\\n",
    "        .assign(start_code=df['start_code'].astype('category'))\\\n",
    "        .assign(end_code=df['end_code'].astype('category'))\n",
    "    \n",
    "    # timesliceでサンプリングし、検索量の和を取る\n",
    "    result = result\\\n",
    "        .set_index('passing_time')\\\n",
    "        .to_pandas()\\\n",
    "        .groupby(['start_code', 'end_code'])\\\n",
    "        .apply(lambda g: g['search'].resample(timeslice).sum())\\\n",
    "        .reset_index()\\\n",
    "        .set_index('passing_time')\n",
    "\n",
    "    result = cudf.from_pandas(result)\n",
    "\n",
    "    return result"
   ]
  },
  {
   "cell_type": "code",
   "execution_count": 13,
   "metadata": {
    "executionInfo": {
     "elapsed": 310,
     "status": "ok",
     "timestamp": 1652449644470,
     "user": {
      "displayName": "Itsuki Matsunaga",
      "userId": "00130489984344345909"
     },
     "user_tz": -540
    },
    "id": "-RiupKpqWwCk"
   },
   "outputs": [],
   "source": [
    "def count_minutely(date, past_periods, road_code):\n",
    "    '''\n",
    "    特定の日dateについて、過去past_periods日の検索ログを参照し、road_code上のエッジの検索量を積算する\n",
    "    '''\n",
    "    df = get_past_logs(date, periods=past_periods)\n",
    "    df_expanded = expand_search_path(df, road_code)\n",
    "    df_5min = timeslice_grouping(df_expanded, '5min')\n",
    "    # filtering\n",
    "    df_5min = cudf.from_pandas(df_5min.to_pandas().loc[date])\n",
    "    return df_5min"
   ]
  },
  {
   "cell_type": "markdown",
   "metadata": {
    "tags": []
   },
   "source": [
    "## 検索数作成: 時間指定なし"
   ]
  },
  {
   "cell_type": "code",
   "execution_count": 31,
   "metadata": {
    "tags": []
   },
   "outputs": [],
   "source": [
    "period_blocks = [\n",
    "    # ('20210401', '20210630'),\n",
    "    # ('20210701', '20210930'),\n",
    "    # ('20211001', '20211231'),\n",
    "    # ('20220101', '20220331'),\n",
    "    # ('20220401', '20220630'),\n",
    "    # ('20220701', '20220930'),\n",
    "    # ('20221001', '20221231'),\n",
    "    # ('20230101', '20230331'),\n",
    "    # ('20230401', '20230630'),\n",
    "    # ('20230701', '20230731'),\n",
    "    ('20230801', '20230816'),\n",
    "]"
   ]
  },
  {
   "cell_type": "markdown",
   "metadata": {
    "jp-MarkdownHeadingCollapsed": true,
    "tags": []
   },
   "source": [
    "### 関越道"
   ]
  },
  {
   "cell_type": "code",
   "execution_count": 16,
   "metadata": {
    "tags": []
   },
   "outputs": [
    {
     "name": "stdout",
     "output_type": "stream",
     "text": [
      "======================================== 20230801 -> 20230816 ========================================\n",
      "------------------------------ [20230801] *306854 records* (45.725 sec) ------------------------------\n",
      "------------------------------ [20230802] *336179 records* (46.747 sec) ------------------------------\n",
      "------------------------------ [20230803] *325579 records* (46.269 sec) ------------------------------\n",
      "------------------------------ [20230804] *305506 records* (45.996 sec) ------------------------------\n",
      "------------------------------ [20230805] *317062 records* (48.286 sec) ------------------------------\n",
      "------------------------------ [20230806] *325003 records* (46.958 sec) ------------------------------\n",
      "------------------------------ [20230807] *321637 records* (51.473 sec) ------------------------------\n",
      "------------------------------ [20230808] *309585 records* (48.369 sec) ------------------------------\n",
      "------------------------------ [20230809] *318788 records* (53.388 sec) ------------------------------\n",
      "------------------------------ [20230810] *378915 records* (61.278 sec) ------------------------------\n",
      "------------------------------ [20230811] *423620 records* (62.798 sec) ------------------------------\n",
      "------------------------------ [20230812] *347858 records* (53.491 sec) ------------------------------\n",
      "------------------------------ [20230813] *358534 records* (52.701 sec) ------------------------------\n",
      "------------------------------ [20230814] *379415 records* (54.123 sec) ------------------------------\n",
      "------------------------------ [20230815] *377125 records* (49.155 sec) ------------------------------\n",
      "------------------------------ [20230816] *306781 records* (51.870 sec) ------------------------------\n",
      "\n"
     ]
    }
   ],
   "source": [
    "# 関越道\n",
    "road_code = '1800'\n",
    "\n",
    "for start_date, end_date in period_blocks:\n",
    "    print('='*40, f'{start_date} -> {end_date}', '='*40)\n",
    "    \n",
    "    DAYS = [d.strftime('%Y%m%d') for d in pd.date_range(start_date, end_date, freq='1D')]\n",
    "    \n",
    "    df_all = cudf.DataFrame()\n",
    "    for i, date in enumerate(DAYS):\n",
    "        s = time.time()\n",
    "\n",
    "        df = get_unspecified_logs(date)\n",
    "        expanded = expand_search_path(df, road_code)\n",
    "\n",
    "        result = cudf.from_pandas(\n",
    "            # 後ほど検索量として積算される対象となるカラムを用意\n",
    "            expanded\n",
    "            .assign(search=1)\\\n",
    "            .assign(start_code=expanded['start_code'].astype('category'))\\\n",
    "            .assign(end_code=expanded['end_code'].astype('category'))\\\n",
    "            # 1日単位でサンプリングし、検索数の和を取る\n",
    "            .to_pandas()\\\n",
    "            .groupby(['start_code', 'end_code'])\\\n",
    "            .apply(lambda g: g['search'].sum())\\\n",
    "            .reset_index()\\\n",
    "            .rename(columns={0: 'search'})\\\n",
    "            # 検索実行日時をフォーマットしてカラムに追加\n",
    "            .assign(search_date=dt.datetime.strftime(dt.datetime.strptime(date, '%Y%m%d'), '%Y-%m-%d'))\\\n",
    "            .loc[:, ['search_date', 'start_code', 'end_code', 'search']]\n",
    "        )\n",
    "\n",
    "        df_all = cudf.concat([df_all, result])\n",
    "\n",
    "        print('-'*30, f'[{date}] *{len(expanded)} records* ({time.time() - s:.3f} sec)', '-'*30)\n",
    "\n",
    "    df_all.reset_index(drop=True, inplace=True)\n",
    "    \n",
    "    if start_date == '20210401':\n",
    "        df_all.to_pandas().to_csv(SEARCH_COUNT_CSV_KANNETSU_UNSPECIFIED, index=False)\n",
    "    else:\n",
    "        df_all.to_pandas().to_csv(SEARCH_COUNT_CSV_KANNETSU_UNSPECIFIED, mode='a', header=False, index=False)\n",
    "        \n",
    "    print()"
   ]
  },
  {
   "cell_type": "code",
   "execution_count": 17,
   "metadata": {},
   "outputs": [
    {
     "name": "stdout",
     "output_type": "stream",
     "text": [
      "search_date,start_code,end_code,search\n",
      "2021-04-01,1080291,1800186,883\n",
      "2021-04-01,1110210,1800001,384\n",
      "2021-04-01,1110210,1800004,3221\n",
      "2021-04-01,1800001,1110210,927\n"
     ]
    }
   ],
   "source": [
    "!head -n5 ./search_count/search-count_kannetsu_unspecified.csv"
   ]
  },
  {
   "cell_type": "code",
   "execution_count": 18,
   "metadata": {},
   "outputs": [
    {
     "name": "stdout",
     "output_type": "stream",
     "text": [
      "2023-08-16,1800181,1800183,1623\n",
      "2023-08-16,1800183,1800181,1426\n",
      "2023-08-16,1800183,1800186,1633\n",
      "2023-08-16,1800186,1080291,1658\n",
      "2023-08-16,1800186,1800183,1402\n"
     ]
    }
   ],
   "source": [
    "!tail -n5 ./search_count/search-count_kannetsu_unspecified.csv"
   ]
  },
  {
   "cell_type": "markdown",
   "metadata": {
    "tags": []
   },
   "source": [
    "### 東北道"
   ]
  },
  {
   "cell_type": "code",
   "execution_count": 32,
   "metadata": {
    "tags": []
   },
   "outputs": [
    {
     "name": "stdout",
     "output_type": "stream",
     "text": [
      "======================================== 20230801 -> 20230816 ========================================\n",
      "------------------------------ [20230801] *855063 records* (45.829 sec) ------------------------------\n",
      "------------------------------ [20230802] *859503 records* (47.116 sec) ------------------------------\n",
      "------------------------------ [20230803] *894350 records* (46.873 sec) ------------------------------\n",
      "------------------------------ [20230804] *894660 records* (46.470 sec) ------------------------------\n",
      "------------------------------ [20230805] *916765 records* (48.636 sec) ------------------------------\n",
      "------------------------------ [20230806] *907545 records* (47.481 sec) ------------------------------\n",
      "------------------------------ [20230807] *1009977 records* (51.798 sec) ------------------------------\n",
      "------------------------------ [20230808] *992494 records* (48.766 sec) ------------------------------\n",
      "------------------------------ [20230809] *1069803 records* (53.880 sec) ------------------------------\n",
      "------------------------------ [20230810] *1208597 records* (61.345 sec) ------------------------------\n",
      "------------------------------ [20230811] *1361226 records* (63.212 sec) ------------------------------\n",
      "------------------------------ [20230812] *1085985 records* (53.819 sec) ------------------------------\n",
      "------------------------------ [20230813] *1066177 records* (52.699 sec) ------------------------------\n",
      "------------------------------ [20230814] *1101267 records* (54.345 sec) ------------------------------\n",
      "------------------------------ [20230815] *1041902 records* (50.050 sec) ------------------------------\n",
      "------------------------------ [20230816] *999194 records* (52.888 sec) ------------------------------\n",
      "\n"
     ]
    }
   ],
   "source": [
    "# 東北道\n",
    "road_code = '1040'\n",
    "\n",
    "for start_date, end_date in period_blocks:\n",
    "    print('='*40, f'{start_date} -> {end_date}', '='*40)\n",
    "    \n",
    "    DAYS = [d.strftime('%Y%m%d') for d in pd.date_range(start_date, end_date, freq='1D')]\n",
    "    \n",
    "    df_all = cudf.DataFrame()\n",
    "    for i, date in enumerate(DAYS):\n",
    "        s = time.time()\n",
    "\n",
    "        df = get_unspecified_logs(date)\n",
    "        expanded = expand_search_path(df, road_code)\n",
    "\n",
    "        result = cudf.from_pandas(\n",
    "            # 後ほど検索量として積算される対象となるカラムを用意\n",
    "            expanded\n",
    "            .assign(search=1)\\\n",
    "            .assign(start_code=expanded['start_code'].astype('category'))\\\n",
    "            .assign(end_code=expanded['end_code'].astype('category'))\\\n",
    "            # 1日単位でサンプリングし、検索数の和を取る\n",
    "            .to_pandas()\\\n",
    "            .groupby(['start_code', 'end_code'])\\\n",
    "            .apply(lambda g: g['search'].sum())\\\n",
    "            .reset_index()\\\n",
    "            .rename(columns={0: 'search'})\\\n",
    "            # 検索実行日時をフォーマットしてカラムに追加\n",
    "            .assign(search_date=dt.datetime.strftime(dt.datetime.strptime(date, '%Y%m%d'), '%Y-%m-%d'))\\\n",
    "            .loc[:, ['search_date', 'start_code', 'end_code', 'search']]\n",
    "        )\n",
    "\n",
    "        df_all = cudf.concat([df_all, result])\n",
    "\n",
    "        print('-'*30, f'[{date}] *{len(expanded)} records* ({time.time() - s:.3f} sec)', '-'*30)\n",
    "\n",
    "    df_all.reset_index(drop=True, inplace=True)\n",
    "    \n",
    "    if start_date == '20210401':\n",
    "        df_all.to_pandas().to_csv(SEARCH_COUNT_CSV_TOUHOKU_UNSPECIFIED, index=False)\n",
    "    else:\n",
    "        df_all.to_pandas().to_csv(SEARCH_COUNT_CSV_TOUHOKU_UNSPECIFIED, mode='a', header=False, index=False)\n",
    "        \n",
    "    print()"
   ]
  },
  {
   "cell_type": "code",
   "execution_count": 33,
   "metadata": {},
   "outputs": [
    {
     "name": "stdout",
     "output_type": "stream",
     "text": [
      "search_date,start_code,end_code,search\n",
      "2021-04-01,1040001,1040011,3854\n",
      "2021-04-01,1040011,1040001,3176\n",
      "2021-04-01,1040011,1040013,3796\n",
      "2021-04-01,1040013,1040011,3143\n"
     ]
    }
   ],
   "source": [
    "!head -n5 ./search_count/search-count_touhoku_unspecified.csv"
   ]
  },
  {
   "cell_type": "code",
   "execution_count": 34,
   "metadata": {},
   "outputs": [
    {
     "name": "stdout",
     "output_type": "stream",
     "text": [
      "2023-08-16,1040446,1040443,804\n",
      "2023-08-16,1040446,1040451,871\n",
      "2023-08-16,1040451,1040446,669\n",
      "2023-08-16,1040451,1040456,571\n",
      "2023-08-16,1040456,1040451,337\n"
     ]
    }
   ],
   "source": [
    "!tail -n5 ./search_count/search-count_touhoku_unspecified.csv"
   ]
  },
  {
   "cell_type": "markdown",
   "metadata": {
    "jp-MarkdownHeadingCollapsed": true,
    "tags": []
   },
   "source": [
    "### 館山道"
   ]
  },
  {
   "cell_type": "code",
   "execution_count": 19,
   "metadata": {
    "tags": []
   },
   "outputs": [
    {
     "name": "stdout",
     "output_type": "stream",
     "text": [
      "======================================== 20230801 -> 20230816 ========================================\n",
      "------------------------------ [20230801] *8574 records* (45.393 sec) ------------------------------\n",
      "------------------------------ [20230802] *8256 records* (46.568 sec) ------------------------------\n",
      "------------------------------ [20230803] *7941 records* (46.192 sec) ------------------------------\n",
      "------------------------------ [20230804] *7980 records* (46.060 sec) ------------------------------\n",
      "------------------------------ [20230805] *9077 records* (48.025 sec) ------------------------------\n",
      "------------------------------ [20230806] *7987 records* (46.879 sec) ------------------------------\n",
      "------------------------------ [20230807] *8704 records* (51.396 sec) ------------------------------\n",
      "------------------------------ [20230808] *8048 records* (48.481 sec) ------------------------------\n",
      "------------------------------ [20230809] *8236 records* (53.559 sec) ------------------------------\n",
      "------------------------------ [20230810] *9062 records* (60.950 sec) ------------------------------\n",
      "------------------------------ [20230811] *10238 records* (62.713 sec) ------------------------------\n",
      "------------------------------ [20230812] *8922 records* (53.171 sec) ------------------------------\n",
      "------------------------------ [20230813] *8072 records* (52.294 sec) ------------------------------\n",
      "------------------------------ [20230814] *8195 records* (53.686 sec) ------------------------------\n",
      "------------------------------ [20230815] *7830 records* (49.059 sec) ------------------------------\n",
      "------------------------------ [20230816] *8537 records* (51.921 sec) ------------------------------\n",
      "\n"
     ]
    }
   ],
   "source": [
    "# 館山道\n",
    "road_code = '1130'\n",
    "\n",
    "for start_date, end_date in period_blocks:\n",
    "    print('='*40, f'{start_date} -> {end_date}', '='*40)\n",
    "    \n",
    "    DAYS = [d.strftime('%Y%m%d') for d in pd.date_range(start_date, end_date, freq='1D')]\n",
    "    \n",
    "    df_all = cudf.DataFrame()\n",
    "    for i, date in enumerate(DAYS):\n",
    "        s = time.time()\n",
    "\n",
    "        df = get_unspecified_logs(date)\n",
    "        expanded = expand_search_path(df, road_code)\n",
    "\n",
    "        result = cudf.from_pandas(\n",
    "            # 後ほど検索量として積算される対象となるカラムを用意\n",
    "            expanded\n",
    "            .assign(search=1)\\\n",
    "            .assign(start_code=expanded['start_code'].astype('category'))\\\n",
    "            .assign(end_code=expanded['end_code'].astype('category'))\\\n",
    "            # 1日単位でサンプリングし、検索数の和を取る\n",
    "            .to_pandas()\\\n",
    "            .groupby(['start_code', 'end_code'])\\\n",
    "            .apply(lambda g: g['search'].sum())\\\n",
    "            .reset_index()\\\n",
    "            .rename(columns={0: 'search'})\\\n",
    "            # 検索実行日時をフォーマットしてカラムに追加\n",
    "            .assign(search_date=dt.datetime.strftime(dt.datetime.strptime(date, '%Y%m%d'), '%Y-%m-%d'))\\\n",
    "            .loc[:, ['search_date', 'start_code', 'end_code', 'search']]\n",
    "        )\n",
    "\n",
    "        df_all = cudf.concat([df_all, result])\n",
    "\n",
    "        print('-'*30, f'[{date}] *{len(expanded)} records* ({time.time() - s:.3f} sec)', '-'*30)\n",
    "\n",
    "    df_all.reset_index(drop=True, inplace=True)\n",
    "    \n",
    "    if start_date == '20210401':\n",
    "        df_all.to_pandas().to_csv(SEARCH_COUNT_CSV_TATEYAMA_UNSPECIFIED, index=False)\n",
    "    else:\n",
    "        df_all.to_pandas().to_csv(SEARCH_COUNT_CSV_TATEYAMA_UNSPECIFIED, mode='a', header=False, index=False)\n",
    "        \n",
    "    print()"
   ]
  },
  {
   "cell_type": "code",
   "execution_count": 20,
   "metadata": {},
   "outputs": [
    {
     "name": "stdout",
     "output_type": "stream",
     "text": [
      "search_date,start_code,end_code,search\n",
      "2021-04-01,1130001,1130006,672\n",
      "2021-04-01,1130006,1130001,441\n",
      "2021-04-01,1130006,1130011,558\n",
      "2021-04-01,1130011,1130006,353\n"
     ]
    }
   ],
   "source": [
    "!head -n5 ./search_count/search-count_tateyama_unspecified.csv"
   ]
  },
  {
   "cell_type": "code",
   "execution_count": 21,
   "metadata": {},
   "outputs": [
    {
     "name": "stdout",
     "output_type": "stream",
     "text": [
      "2023-08-16,1130039,1130036,89\n",
      "2023-08-16,1130039,1130041,199\n",
      "2023-08-16,1130041,1130039,80\n",
      "2023-08-16,1130041,1130046,51\n",
      "2023-08-16,1130046,1130041,38\n"
     ]
    }
   ],
   "source": [
    "!tail -n5 ./search_count/search-count_tateyama_unspecified.csv"
   ]
  },
  {
   "cell_type": "code",
   "execution_count": null,
   "metadata": {},
   "outputs": [],
   "source": []
  }
 ],
 "metadata": {
  "colab": {
   "authorship_tag": "ABX9TyNaapefRU2VxTM3VQTLunlF",
   "collapsed_sections": [],
   "name": "search_count.ipynb",
   "provenance": []
  },
  "kernelspec": {
   "display_name": "Python 3 (ipykernel)",
   "language": "python",
   "name": "python3"
  },
  "language_info": {
   "codemirror_mode": {
    "name": "ipython",
    "version": 3
   },
   "file_extension": ".py",
   "mimetype": "text/x-python",
   "name": "python",
   "nbconvert_exporter": "python",
   "pygments_lexer": "ipython3",
   "version": "3.8.13"
  }
 },
 "nbformat": 4,
 "nbformat_minor": 4
}
