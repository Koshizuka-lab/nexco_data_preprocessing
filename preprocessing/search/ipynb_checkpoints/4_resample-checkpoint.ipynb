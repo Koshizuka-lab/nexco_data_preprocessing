{
 "cells": [
  {
   "cell_type": "markdown",
   "id": "305c3890-c8fb-49a6-8983-0b4e8f1926e0",
   "metadata": {
    "tags": []
   },
   "source": [
    "# 説明\n",
    "\n",
    "- about\n",
    "    - 5分単位の検索数を（1時間に）リサンプリングしてカラムを追加する\n",
    "- Input\n",
    "    - specified: `./search_count/search_count_{TARGET_ROAD}.csv`\n",
    "    - nonspecified: `./search_count/search_count_{TARGET_ROAD}_unspecified.csv`\n",
    "- Output\n",
    "    - specified: `./search_count/preprocessed_search_count_{TARGET_ROAD}.csv`\n",
    "    - nonspecified: `./search_count/preprocessed_search_count_{TARGET_ROAD}_unspecified.csv`"
   ]
  },
  {
   "cell_type": "code",
   "execution_count": 1,
   "id": "1c260750-b2f8-49b4-b478-6c7fad24be3d",
   "metadata": {},
   "outputs": [],
   "source": [
    "import datetime as dt\n",
    "import pandas as pd\n",
    "import missingno as msno\n",
    "import matplotlib.pyplot as plt\n",
    "plt.rcParams['font.family'] = 'Noto Sans JP'\n",
    "import cudf"
   ]
  },
  {
   "cell_type": "code",
   "execution_count": 2,
   "id": "b785f20b-8cf5-4333-9565-292c9de881e2",
   "metadata": {},
   "outputs": [],
   "source": [
    "# road name\n",
    "TARGET_ROAD = 'touhoku'\n",
    "TARGET_ROAD_CODE = None\n",
    "if TARGET_ROAD == 'kannetsu':\n",
    "    TARGET_ROAD_CODE = '1800'\n",
    "elif TARGET_ROAD == 'touhoku':\n",
    "    TARGET_ROAD_CODE = '1040'\n",
    "elif TARGET_ROAD == 'tateyama':\n",
    "    TARGET_ROAD_CODE = '1130'\n",
    "else:\n",
    "    raise ValueError('道路コード')\n",
    "\n",
    "# 検索量 csv\n",
    "SEARCH_COUNT_DIR = f'./search_count'\n",
    "SPECIFIED_SEARCH_COUNT_CSV = f'{SEARCH_COUNT_DIR}/search-count_{TARGET_ROAD}.csv'\n",
    "UNSPECIFIED_SEARCH_COUNT_CSV= f'{SEARCH_COUNT_DIR}/search-count_{TARGET_ROAD}_unspecified.csv'"
   ]
  },
  {
   "cell_type": "markdown",
   "id": "9967c414",
   "metadata": {},
   "source": [
    "## 時間指定あり"
   ]
  },
  {
   "cell_type": "code",
   "execution_count": 5,
   "id": "5ff2e04a",
   "metadata": {
    "tags": []
   },
   "outputs": [],
   "source": [
    "'''\n",
    "検索データをサンプリングレートsrでリサンプリングする\n",
    "このとき検索数searchのカラム名をサンプリングレートに即した形で変更する\n",
    "'''\n",
    "def resample_search(df_search, sr):\n",
    "    res = (df_search\n",
    "           .set_index('passing_time')\n",
    "           .groupby(['start_code', 'end_code'])\n",
    "           .resample(sr)\n",
    "           .search.sum()\n",
    "           .reset_index()\n",
    "           .loc[:, ['passing_time', 'start_code', 'end_code', 'search']]\n",
    "           .rename(columns={'search': f'search_{sr}'}))\n",
    "    \n",
    "    res = cudf.from_pandas(res)\n",
    "    return res\n",
    "\n",
    "'''\n",
    "検索データdf_searchの検索数カラムcolをサンプリングレートsrでアップサンプリング\n",
    "1時間単位にリサンプルした検索数を再度5分単位にするために使用する\n",
    "'''\n",
    "def upsample_search(df_search, col, sr):\n",
    "    res = (df_search\n",
    "           .set_index('passing_time')\n",
    "           .groupby(['start_code', 'end_code'])\n",
    "           .resample(sr)\n",
    "           .ffill()[col]\n",
    "           .reset_index()\n",
    "           .loc[:, ['passing_time', 'start_code', 'end_code', col]])\n",
    "    \n",
    "    res = cudf.from_pandas(res)\n",
    "    return res"
   ]
  },
  {
   "cell_type": "code",
   "execution_count": 6,
   "id": "1d6b015f",
   "metadata": {},
   "outputs": [
    {
     "name": "stdout",
     "output_type": "stream",
     "text": [
      "(57976057, 4)\n"
     ]
    },
    {
     "data": {
      "text/html": [
       "<div>\n",
       "<style scoped>\n",
       "    .dataframe tbody tr th:only-of-type {\n",
       "        vertical-align: middle;\n",
       "    }\n",
       "\n",
       "    .dataframe tbody tr th {\n",
       "        vertical-align: top;\n",
       "    }\n",
       "\n",
       "    .dataframe thead th {\n",
       "        text-align: right;\n",
       "    }\n",
       "</style>\n",
       "<table border=\"1\" class=\"dataframe\">\n",
       "  <thead>\n",
       "    <tr style=\"text-align: right;\">\n",
       "      <th></th>\n",
       "      <th>passing_time</th>\n",
       "      <th>start_code</th>\n",
       "      <th>end_code</th>\n",
       "      <th>search</th>\n",
       "    </tr>\n",
       "  </thead>\n",
       "  <tbody>\n",
       "    <tr>\n",
       "      <th>0</th>\n",
       "      <td>2021-04-02 00:00:00</td>\n",
       "      <td>1040001</td>\n",
       "      <td>1040011</td>\n",
       "      <td>3</td>\n",
       "    </tr>\n",
       "    <tr>\n",
       "      <th>1</th>\n",
       "      <td>2021-04-02 00:05:00</td>\n",
       "      <td>1040001</td>\n",
       "      <td>1040011</td>\n",
       "      <td>0</td>\n",
       "    </tr>\n",
       "    <tr>\n",
       "      <th>2</th>\n",
       "      <td>2021-04-02 00:10:00</td>\n",
       "      <td>1040001</td>\n",
       "      <td>1040011</td>\n",
       "      <td>3</td>\n",
       "    </tr>\n",
       "  </tbody>\n",
       "</table>\n",
       "</div>"
      ],
      "text/plain": [
       "         passing_time start_code end_code  search\n",
       "0 2021-04-02 00:00:00    1040001  1040011       3\n",
       "1 2021-04-02 00:05:00    1040001  1040011       0\n",
       "2 2021-04-02 00:10:00    1040001  1040011       3"
      ]
     },
     "execution_count": 6,
     "metadata": {},
     "output_type": "execute_result"
    }
   ],
   "source": [
    "df_specified = pd.read_csv(SPECIFIED_SEARCH_COUNT_CSV, parse_dates=True, index_col='passing_time',\n",
    "                        dtype={'start_code': str, 'end_code': str}).reset_index()\n",
    "print(df_specified.shape)\n",
    "df_specified.head(3)"
   ]
  },
  {
   "cell_type": "markdown",
   "id": "12c66efb",
   "metadata": {},
   "source": [
    "### リサンプリング: 5min -> 1h"
   ]
  },
  {
   "cell_type": "code",
   "execution_count": 8,
   "id": "67674f40",
   "metadata": {},
   "outputs": [
    {
     "name": "stdout",
     "output_type": "stream",
     "text": [
      "(58927348, 4) (4910634, 4)\n"
     ]
    },
    {
     "data": {
      "text/html": [
       "<div>\n",
       "<style scoped>\n",
       "    .dataframe tbody tr th:only-of-type {\n",
       "        vertical-align: middle;\n",
       "    }\n",
       "\n",
       "    .dataframe tbody tr th {\n",
       "        vertical-align: top;\n",
       "    }\n",
       "\n",
       "    .dataframe thead th {\n",
       "        text-align: right;\n",
       "    }\n",
       "</style>\n",
       "<table border=\"1\" class=\"dataframe\">\n",
       "  <thead>\n",
       "    <tr style=\"text-align: right;\">\n",
       "      <th></th>\n",
       "      <th>passing_time</th>\n",
       "      <th>start_code</th>\n",
       "      <th>end_code</th>\n",
       "      <th>search_1h</th>\n",
       "    </tr>\n",
       "  </thead>\n",
       "  <tbody>\n",
       "    <tr>\n",
       "      <th>0</th>\n",
       "      <td>2021-04-02 00:00:00</td>\n",
       "      <td>1040001</td>\n",
       "      <td>1040011</td>\n",
       "      <td>11</td>\n",
       "    </tr>\n",
       "    <tr>\n",
       "      <th>1</th>\n",
       "      <td>2021-04-02 01:00:00</td>\n",
       "      <td>1040001</td>\n",
       "      <td>1040011</td>\n",
       "      <td>6</td>\n",
       "    </tr>\n",
       "    <tr>\n",
       "      <th>2</th>\n",
       "      <td>2021-04-02 02:00:00</td>\n",
       "      <td>1040001</td>\n",
       "      <td>1040011</td>\n",
       "      <td>2</td>\n",
       "    </tr>\n",
       "  </tbody>\n",
       "</table>\n",
       "</div>"
      ],
      "text/plain": [
       "         passing_time start_code end_code  search_1h\n",
       "0 2021-04-02 00:00:00    1040001  1040011         11\n",
       "1 2021-04-02 01:00:00    1040001  1040011          6\n",
       "2 2021-04-02 02:00:00    1040001  1040011          2"
      ]
     },
     "execution_count": 8,
     "metadata": {},
     "output_type": "execute_result"
    }
   ],
   "source": [
    "specified_5min = resample_search(df_specified, '5min')\n",
    "specified_1h = resample_search(df_specified, '1h')\n",
    "print(specified_5min.shape, specified_1h.shape)\n",
    "specified_1h.head(3)"
   ]
  },
  {
   "cell_type": "markdown",
   "id": "f6c9fabf",
   "metadata": {},
   "source": [
    "### アップサンプリング: 1h -> 5min"
   ]
  },
  {
   "cell_type": "code",
   "execution_count": 9,
   "id": "f202c8c4",
   "metadata": {},
   "outputs": [
    {
     "data": {
      "text/html": [
       "<div>\n",
       "<style scoped>\n",
       "    .dataframe tbody tr th:only-of-type {\n",
       "        vertical-align: middle;\n",
       "    }\n",
       "\n",
       "    .dataframe tbody tr th {\n",
       "        vertical-align: top;\n",
       "    }\n",
       "\n",
       "    .dataframe thead th {\n",
       "        text-align: right;\n",
       "    }\n",
       "</style>\n",
       "<table border=\"1\" class=\"dataframe\">\n",
       "  <thead>\n",
       "    <tr style=\"text-align: right;\">\n",
       "      <th></th>\n",
       "      <th>passing_time</th>\n",
       "      <th>start_code</th>\n",
       "      <th>end_code</th>\n",
       "      <th>search_1h</th>\n",
       "    </tr>\n",
       "  </thead>\n",
       "  <tbody>\n",
       "    <tr>\n",
       "      <th>0</th>\n",
       "      <td>2021-04-02 00:00:00</td>\n",
       "      <td>1040001</td>\n",
       "      <td>1040011</td>\n",
       "      <td>11</td>\n",
       "    </tr>\n",
       "    <tr>\n",
       "      <th>1</th>\n",
       "      <td>2021-04-02 00:05:00</td>\n",
       "      <td>1040001</td>\n",
       "      <td>1040011</td>\n",
       "      <td>11</td>\n",
       "    </tr>\n",
       "    <tr>\n",
       "      <th>2</th>\n",
       "      <td>2021-04-02 00:10:00</td>\n",
       "      <td>1040001</td>\n",
       "      <td>1040011</td>\n",
       "      <td>11</td>\n",
       "    </tr>\n",
       "  </tbody>\n",
       "</table>\n",
       "</div>"
      ],
      "text/plain": [
       "         passing_time start_code end_code  search_1h\n",
       "0 2021-04-02 00:00:00    1040001  1040011         11\n",
       "1 2021-04-02 00:05:00    1040001  1040011         11\n",
       "2 2021-04-02 00:10:00    1040001  1040011         11"
      ]
     },
     "execution_count": 9,
     "metadata": {},
     "output_type": "execute_result"
    }
   ],
   "source": [
    "specified_1h_upsampled = upsample_search(specified_1h.to_pandas(), 'search_1h', '5min')\n",
    "specified_1h_upsampled.head(3)"
   ]
  },
  {
   "cell_type": "markdown",
   "id": "7194b8ca",
   "metadata": {
    "tags": []
   },
   "source": [
    "### 5分単位, 1時間単位の検索量dfを結合\n",
    "単純に結合すると...\n",
    "- df_searchの段階でレコードが存在していなかった5分間はsearch_5minがnullになる\n",
    "  - \\[対応\\]: 0埋め\n",
    "- 各区間について、search_1hは1時間単位に丸められているからsearch_5minで値が存在していた最後の方の5分間は繰り上げられる\n",
    "  - e.g. 区間Sで最後にsearch_5minが存在していた時間が18:45だとするとsearch_1hは18:00にまとめられる\n",
    "  - \\[対応\\]: ffillを使って本来存在していた時間分も同じ値で埋める\n",
    "    - 上の例だと18:05-18:45まで18:00と同じsearch_1hの値で埋める"
   ]
  },
  {
   "cell_type": "code",
   "execution_count": 10,
   "id": "398676fa-913c-4e88-ad73-91598ad89f09",
   "metadata": {},
   "outputs": [],
   "source": [
    "specified_all = (specified_5min\n",
    "                 .merge(specified_1h_upsampled, on=['start_code', 'end_code', 'passing_time'], how='outer')\n",
    "                 .sort_values(['start_code', 'end_code', 'passing_time'])\n",
    "                 .reset_index(drop=True))\n",
    "# 欠損を埋める\n",
    "specified_all = (specified_all\n",
    "                 .assign(search_5min=specified_all.search_5min.fillna(0))\n",
    "                 .assign(search_1h=specified_all.search_1h.fillna(method='ffill')))"
   ]
  },
  {
   "cell_type": "code",
   "execution_count": 11,
   "id": "246fca64",
   "metadata": {},
   "outputs": [
    {
     "name": "stdout",
     "output_type": "stream",
     "text": [
      "CPU times: user 59 s, sys: 12 s, total: 1min 10s\n",
      "Wall time: 1min 2s\n"
     ]
    },
    {
     "data": {
      "image/png": "[encoded data removed]",
      "text/plain": [
       "<Figure size 1800x720 with 2 Axes>"
      ]
     },
     "metadata": {
      "needs_background": "light"
     },
     "output_type": "display_data"
    }
   ],
   "source": [
    "%time msno.matrix(specified_all.to_pandas(), labels=True)\n",
    "plt.show()"
   ]
  },
  {
   "cell_type": "code",
   "execution_count": 13,
   "id": "8328bff0-6d2f-466b-bb44-f6623d6180e8",
   "metadata": {},
   "outputs": [],
   "source": [
    "(specified_all\n",
    " .to_pandas()\n",
    " .to_csv(f'{SEARCH_COUNT_DIR}/preprocessed_search-count_{TARGET_ROAD}.csv', index=False)\n",
    ")"
   ]
  },
  {
   "cell_type": "markdown",
   "id": "e0b475a7",
   "metadata": {},
   "source": [
    "## 時間指定なし"
   ]
  },
  {
   "cell_type": "code",
   "execution_count": 3,
   "id": "6c770598",
   "metadata": {
    "tags": []
   },
   "outputs": [],
   "source": [
    "def rolling_search_un(df_search_un, sr):\n",
    "    '''\n",
    "    時間指定なし検索df_search_unの検索数について、過去sr日間の検索数をrolling関数を使って合計\n",
    "    このとき、検索数カラムsearchの列名を過去sr日に即した形で変更\n",
    "    '''\n",
    "    res = (df_search_un\n",
    "           .set_index('search_date')\n",
    "           .groupby(['start_code', 'end_code'])\n",
    "           .search.rolling(sr).sum()\n",
    "           .reset_index()\n",
    "           .loc[:, ['search_date', 'start_code', 'end_code', 'search']]\n",
    "           .rename(columns={'search': f'search_unspec_{sr}'})\n",
    "           .sort_values(['start_code', 'end_code', 'search_date']))\n",
    "    return res\n",
    "\n",
    "\n",
    "def upsample_search_un(df_search_un, col, sr):\n",
    "    '''\n",
    "    時間指定なし検索データdf_searchの検索数カラムcolをサンプリングレートsrでアップサンプリング\n",
    "    {1,3,7,10}日単位の時間指定なし検索数を5分単位にするために使用する\n",
    "    '''\n",
    "    df = (df_search_un\n",
    "          .set_index('search_date')\n",
    "          .groupby(['start_code', 'end_code'])\n",
    "          .resample(sr)\n",
    "          .ffill()[col]\n",
    "          .reset_index()\n",
    "          .loc[:, ['search_date', 'start_code', 'end_code', col]])\n",
    "    \n",
    "    df = cudf.from_pandas(df)\n",
    "    return df"
   ]
  },
  {
   "cell_type": "code",
   "execution_count": 4,
   "id": "8ef1d811-fa34-496d-a74a-06f6234411c5",
   "metadata": {
    "tags": []
   },
   "outputs": [
    {
     "name": "stdout",
     "output_type": "stream",
     "text": [
      "(204848, 3)\n"
     ]
    },
    {
     "data": {
      "text/html": [
       "<div>\n",
       "<style scoped>\n",
       "    .dataframe tbody tr th:only-of-type {\n",
       "        vertical-align: middle;\n",
       "    }\n",
       "\n",
       "    .dataframe tbody tr th {\n",
       "        vertical-align: top;\n",
       "    }\n",
       "\n",
       "    .dataframe thead th {\n",
       "        text-align: right;\n",
       "    }\n",
       "</style>\n",
       "<table border=\"1\" class=\"dataframe\">\n",
       "  <thead>\n",
       "    <tr style=\"text-align: right;\">\n",
       "      <th></th>\n",
       "      <th>start_code</th>\n",
       "      <th>end_code</th>\n",
       "      <th>search</th>\n",
       "    </tr>\n",
       "    <tr>\n",
       "      <th>search_date</th>\n",
       "      <th></th>\n",
       "      <th></th>\n",
       "      <th></th>\n",
       "    </tr>\n",
       "  </thead>\n",
       "  <tbody>\n",
       "    <tr>\n",
       "      <th>2021-04-01</th>\n",
       "      <td>1040001</td>\n",
       "      <td>1040011</td>\n",
       "      <td>3854</td>\n",
       "    </tr>\n",
       "    <tr>\n",
       "      <th>2021-04-01</th>\n",
       "      <td>1040011</td>\n",
       "      <td>1040001</td>\n",
       "      <td>3176</td>\n",
       "    </tr>\n",
       "    <tr>\n",
       "      <th>2021-04-01</th>\n",
       "      <td>1040011</td>\n",
       "      <td>1040013</td>\n",
       "      <td>3796</td>\n",
       "    </tr>\n",
       "  </tbody>\n",
       "</table>\n",
       "</div>"
      ],
      "text/plain": [
       "            start_code end_code  search\n",
       "search_date                            \n",
       "2021-04-01     1040001  1040011    3854\n",
       "2021-04-01     1040011  1040001    3176\n",
       "2021-04-01     1040011  1040013    3796"
      ]
     },
     "execution_count": 4,
     "metadata": {},
     "output_type": "execute_result"
    }
   ],
   "source": [
    "df_unspecified = pd.read_csv(UNSPECIFIED_SEARCH_COUNT_CSV, parse_dates=True, index_col='search_date',\n",
    "                                  dtype={'start_code': str, 'end_code': str})\n",
    "print(df_unspecified.shape)\n",
    "df_unspecified.head(3)"
   ]
  },
  {
   "cell_type": "markdown",
   "id": "4436567d-95e1-4afd-b171-a56b5e81a4b1",
   "metadata": {},
   "source": [
    "### 時間指定なし検索を1日後ろにシフトする\n",
    "\n",
    "日付Dのレコードに対して、昨日(D-1)の時間指定なし検索数を示すようにする"
   ]
  },
  {
   "cell_type": "code",
   "execution_count": 5,
   "id": "90768b48-4b22-4a69-817f-3dd2a7a7e1d2",
   "metadata": {},
   "outputs": [],
   "source": [
    "def shift_unspecified_search(df):\n",
    "    res = (df\n",
    "           .groupby(['start_code', 'end_code'])\n",
    "           .apply(lambda g: g.search.shift(1))\n",
    "           # 関越道の場合はshift後にpivot_tableっぽくなってしまう（通常はpd.Series）ため、特別に処理\n",
    "           .pipe(lambda _df: _df.stack().rename('search') if not isinstance(_df, pd.Series) else _df)\n",
    "           .reset_index()\n",
    "           .sort_values(['search_date', 'start_code', 'end_code'])\n",
    "           .reset_index(drop=True)\n",
    "           .loc[:, ['search_date', 'start_code', 'end_code', 'search']])\n",
    "    return res"
   ]
  },
  {
   "cell_type": "code",
   "execution_count": 6,
   "id": "28ddda69-8782-4cbd-a435-41ef60332533",
   "metadata": {},
   "outputs": [],
   "source": [
    "df_unspecified = shift_unspecified_search(df_unspecified)"
   ]
  },
  {
   "cell_type": "markdown",
   "id": "434a08a5",
   "metadata": {},
   "source": [
    "### rolling関数で過去数日間のsumをとる"
   ]
  },
  {
   "cell_type": "code",
   "execution_count": 7,
   "id": "f7bb4bec",
   "metadata": {},
   "outputs": [],
   "source": [
    "search_unspec_1d = rolling_search_un(df_unspecified, '1d')\n",
    "search_unspec_3d = rolling_search_un(df_unspecified, '3d')\n",
    "search_unspec_7d = rolling_search_un(df_unspecified, '7d')\n",
    "search_unspec_10d = rolling_search_un(df_unspecified, '10d')"
   ]
  },
  {
   "cell_type": "code",
   "execution_count": 8,
   "id": "4f2389ef",
   "metadata": {},
   "outputs": [
    {
     "data": {
      "text/html": [
       "<div>\n",
       "<style scoped>\n",
       "    .dataframe tbody tr th:only-of-type {\n",
       "        vertical-align: middle;\n",
       "    }\n",
       "\n",
       "    .dataframe tbody tr th {\n",
       "        vertical-align: top;\n",
       "    }\n",
       "\n",
       "    .dataframe thead th {\n",
       "        text-align: right;\n",
       "    }\n",
       "</style>\n",
       "<table border=\"1\" class=\"dataframe\">\n",
       "  <thead>\n",
       "    <tr style=\"text-align: right;\">\n",
       "      <th></th>\n",
       "      <th>search_date</th>\n",
       "      <th>start_code</th>\n",
       "      <th>end_code</th>\n",
       "      <th>search_unspec_1d</th>\n",
       "    </tr>\n",
       "  </thead>\n",
       "  <tbody>\n",
       "  </tbody>\n",
       "</table>\n",
       "</div>"
      ],
      "text/plain": [
       "Empty DataFrame\n",
       "Columns: [search_date, start_code, end_code, search_unspec_1d]\n",
       "Index: []"
      ]
     },
     "execution_count": 8,
     "metadata": {},
     "output_type": "execute_result"
    }
   ],
   "source": [
    "search_unspec_1d[search_unspec_1d['start_code'] == '1800041'].tail(15)"
   ]
  },
  {
   "cell_type": "code",
   "execution_count": 9,
   "id": "0cda74d8",
   "metadata": {},
   "outputs": [
    {
     "data": {
      "text/html": [
       "<div>\n",
       "<style scoped>\n",
       "    .dataframe tbody tr th:only-of-type {\n",
       "        vertical-align: middle;\n",
       "    }\n",
       "\n",
       "    .dataframe tbody tr th {\n",
       "        vertical-align: top;\n",
       "    }\n",
       "\n",
       "    .dataframe thead th {\n",
       "        text-align: right;\n",
       "    }\n",
       "</style>\n",
       "<table border=\"1\" class=\"dataframe\">\n",
       "  <thead>\n",
       "    <tr style=\"text-align: right;\">\n",
       "      <th></th>\n",
       "      <th>search_date</th>\n",
       "      <th>start_code</th>\n",
       "      <th>end_code</th>\n",
       "      <th>search_unspec_3d</th>\n",
       "    </tr>\n",
       "  </thead>\n",
       "  <tbody>\n",
       "  </tbody>\n",
       "</table>\n",
       "</div>"
      ],
      "text/plain": [
       "Empty DataFrame\n",
       "Columns: [search_date, start_code, end_code, search_unspec_3d]\n",
       "Index: []"
      ]
     },
     "execution_count": 9,
     "metadata": {},
     "output_type": "execute_result"
    }
   ],
   "source": [
    "search_unspec_3d[search_unspec_3d['start_code'] == '1800041'].tail(15)"
   ]
  },
  {
   "cell_type": "code",
   "execution_count": 10,
   "id": "264df376",
   "metadata": {},
   "outputs": [
    {
     "data": {
      "text/html": [
       "<div>\n",
       "<style scoped>\n",
       "    .dataframe tbody tr th:only-of-type {\n",
       "        vertical-align: middle;\n",
       "    }\n",
       "\n",
       "    .dataframe tbody tr th {\n",
       "        vertical-align: top;\n",
       "    }\n",
       "\n",
       "    .dataframe thead th {\n",
       "        text-align: right;\n",
       "    }\n",
       "</style>\n",
       "<table border=\"1\" class=\"dataframe\">\n",
       "  <thead>\n",
       "    <tr style=\"text-align: right;\">\n",
       "      <th></th>\n",
       "      <th>search_date</th>\n",
       "      <th>start_code</th>\n",
       "      <th>end_code</th>\n",
       "      <th>search_unspec_7d</th>\n",
       "    </tr>\n",
       "  </thead>\n",
       "  <tbody>\n",
       "  </tbody>\n",
       "</table>\n",
       "</div>"
      ],
      "text/plain": [
       "Empty DataFrame\n",
       "Columns: [search_date, start_code, end_code, search_unspec_7d]\n",
       "Index: []"
      ]
     },
     "execution_count": 10,
     "metadata": {},
     "output_type": "execute_result"
    }
   ],
   "source": [
    "search_unspec_7d[search_unspec_7d['start_code'] == '1800041'].tail(15)"
   ]
  },
  {
   "cell_type": "code",
   "execution_count": 11,
   "id": "f35ee333",
   "metadata": {},
   "outputs": [
    {
     "data": {
      "text/html": [
       "<div>\n",
       "<style scoped>\n",
       "    .dataframe tbody tr th:only-of-type {\n",
       "        vertical-align: middle;\n",
       "    }\n",
       "\n",
       "    .dataframe tbody tr th {\n",
       "        vertical-align: top;\n",
       "    }\n",
       "\n",
       "    .dataframe thead th {\n",
       "        text-align: right;\n",
       "    }\n",
       "</style>\n",
       "<table border=\"1\" class=\"dataframe\">\n",
       "  <thead>\n",
       "    <tr style=\"text-align: right;\">\n",
       "      <th></th>\n",
       "      <th>search_date</th>\n",
       "      <th>start_code</th>\n",
       "      <th>end_code</th>\n",
       "      <th>search_unspec_10d</th>\n",
       "    </tr>\n",
       "  </thead>\n",
       "  <tbody>\n",
       "  </tbody>\n",
       "</table>\n",
       "</div>"
      ],
      "text/plain": [
       "Empty DataFrame\n",
       "Columns: [search_date, start_code, end_code, search_unspec_10d]\n",
       "Index: []"
      ]
     },
     "execution_count": 11,
     "metadata": {},
     "output_type": "execute_result"
    }
   ],
   "source": [
    "search_unspec_10d[search_unspec_10d['start_code'] == '1800041'].tail(15)"
   ]
  },
  {
   "cell_type": "markdown",
   "id": "ebed6983",
   "metadata": {},
   "source": [
    "### 5分単位にアップサンプリング"
   ]
  },
  {
   "cell_type": "code",
   "execution_count": 12,
   "id": "9d937f39",
   "metadata": {},
   "outputs": [],
   "source": [
    "search_unspec_1d_up = upsample_search_un(search_unspec_1d, 'search_unspec_1d', '5min')\n",
    "search_unspec_3d_up = upsample_search_un(search_unspec_3d, 'search_unspec_3d', '5min')\n",
    "search_unspec_7d_up = upsample_search_un(search_unspec_7d, 'search_unspec_7d', '5min')\n",
    "search_unspec_10d_up = upsample_search_un(search_unspec_10d, 'search_unspec_10d', '5min')"
   ]
  },
  {
   "cell_type": "code",
   "execution_count": 13,
   "id": "bb677680-27a7-41b7-a49f-2e38f046e8b8",
   "metadata": {},
   "outputs": [
    {
     "data": {
      "text/plain": [
       "((58860524, 4), (58860524, 4), (58860524, 4), (58860524, 4))"
      ]
     },
     "execution_count": 13,
     "metadata": {},
     "output_type": "execute_result"
    }
   ],
   "source": [
    "search_unspec_1d_up.shape, search_unspec_3d_up.shape, search_unspec_7d_up.shape, search_unspec_10d_up.shape"
   ]
  },
  {
   "cell_type": "code",
   "execution_count": 14,
   "id": "f2ab24d0-86f3-4f3d-bb4c-91ac1fd452a0",
   "metadata": {},
   "outputs": [
    {
     "data": {
      "text/html": [
       "<div>\n",
       "<style scoped>\n",
       "    .dataframe tbody tr th:only-of-type {\n",
       "        vertical-align: middle;\n",
       "    }\n",
       "\n",
       "    .dataframe tbody tr th {\n",
       "        vertical-align: top;\n",
       "    }\n",
       "\n",
       "    .dataframe thead th {\n",
       "        text-align: right;\n",
       "    }\n",
       "</style>\n",
       "<table border=\"1\" class=\"dataframe\">\n",
       "  <thead>\n",
       "    <tr style=\"text-align: right;\">\n",
       "      <th></th>\n",
       "      <th>search_date</th>\n",
       "      <th>start_code</th>\n",
       "      <th>end_code</th>\n",
       "      <th>search_unspec_1d</th>\n",
       "    </tr>\n",
       "  </thead>\n",
       "  <tbody>\n",
       "    <tr>\n",
       "      <th>0</th>\n",
       "      <td>2021-04-02 00:00:00</td>\n",
       "      <td>1040001</td>\n",
       "      <td>1040011</td>\n",
       "      <td>3854.0</td>\n",
       "    </tr>\n",
       "    <tr>\n",
       "      <th>1</th>\n",
       "      <td>2021-04-02 00:05:00</td>\n",
       "      <td>1040001</td>\n",
       "      <td>1040011</td>\n",
       "      <td>3854.0</td>\n",
       "    </tr>\n",
       "    <tr>\n",
       "      <th>2</th>\n",
       "      <td>2021-04-02 00:10:00</td>\n",
       "      <td>1040001</td>\n",
       "      <td>1040011</td>\n",
       "      <td>3854.0</td>\n",
       "    </tr>\n",
       "    <tr>\n",
       "      <th>3</th>\n",
       "      <td>2021-04-02 00:15:00</td>\n",
       "      <td>1040001</td>\n",
       "      <td>1040011</td>\n",
       "      <td>3854.0</td>\n",
       "    </tr>\n",
       "    <tr>\n",
       "      <th>4</th>\n",
       "      <td>2021-04-02 00:20:00</td>\n",
       "      <td>1040001</td>\n",
       "      <td>1040011</td>\n",
       "      <td>3854.0</td>\n",
       "    </tr>\n",
       "    <tr>\n",
       "      <th>...</th>\n",
       "      <td>...</td>\n",
       "      <td>...</td>\n",
       "      <td>...</td>\n",
       "      <td>...</td>\n",
       "    </tr>\n",
       "    <tr>\n",
       "      <th>58860519</th>\n",
       "      <td>2023-08-15 23:40:00</td>\n",
       "      <td>1040456</td>\n",
       "      <td>1040451</td>\n",
       "      <td>460.0</td>\n",
       "    </tr>\n",
       "    <tr>\n",
       "      <th>58860520</th>\n",
       "      <td>2023-08-15 23:45:00</td>\n",
       "      <td>1040456</td>\n",
       "      <td>1040451</td>\n",
       "      <td>460.0</td>\n",
       "    </tr>\n",
       "    <tr>\n",
       "      <th>58860521</th>\n",
       "      <td>2023-08-15 23:50:00</td>\n",
       "      <td>1040456</td>\n",
       "      <td>1040451</td>\n",
       "      <td>460.0</td>\n",
       "    </tr>\n",
       "    <tr>\n",
       "      <th>58860522</th>\n",
       "      <td>2023-08-15 23:55:00</td>\n",
       "      <td>1040456</td>\n",
       "      <td>1040451</td>\n",
       "      <td>460.0</td>\n",
       "    </tr>\n",
       "    <tr>\n",
       "      <th>58860523</th>\n",
       "      <td>2023-08-16 00:00:00</td>\n",
       "      <td>1040456</td>\n",
       "      <td>1040451</td>\n",
       "      <td>529.0</td>\n",
       "    </tr>\n",
       "  </tbody>\n",
       "</table>\n",
       "<p>58860524 rows × 4 columns</p>\n",
       "</div>"
      ],
      "text/plain": [
       "                 search_date start_code end_code  search_unspec_1d\n",
       "0        2021-04-02 00:00:00    1040001  1040011            3854.0\n",
       "1        2021-04-02 00:05:00    1040001  1040011            3854.0\n",
       "2        2021-04-02 00:10:00    1040001  1040011            3854.0\n",
       "3        2021-04-02 00:15:00    1040001  1040011            3854.0\n",
       "4        2021-04-02 00:20:00    1040001  1040011            3854.0\n",
       "...                      ...        ...      ...               ...\n",
       "58860519 2023-08-15 23:40:00    1040456  1040451             460.0\n",
       "58860520 2023-08-15 23:45:00    1040456  1040451             460.0\n",
       "58860521 2023-08-15 23:50:00    1040456  1040451             460.0\n",
       "58860522 2023-08-15 23:55:00    1040456  1040451             460.0\n",
       "58860523 2023-08-16 00:00:00    1040456  1040451             529.0\n",
       "\n",
       "[58860524 rows x 4 columns]"
      ]
     },
     "execution_count": 14,
     "metadata": {},
     "output_type": "execute_result"
    }
   ],
   "source": [
    "search_unspec_1d_up"
   ]
  },
  {
   "cell_type": "markdown",
   "id": "41bcb1e4",
   "metadata": {},
   "source": [
    "### 時間指定なし検索dfを結合"
   ]
  },
  {
   "cell_type": "code",
   "execution_count": 15,
   "id": "5ca67a61",
   "metadata": {},
   "outputs": [
    {
     "name": "stdout",
     "output_type": "stream",
     "text": [
      "(58860524, 7)\n"
     ]
    },
    {
     "data": {
      "text/html": [
       "<div>\n",
       "<style scoped>\n",
       "    .dataframe tbody tr th:only-of-type {\n",
       "        vertical-align: middle;\n",
       "    }\n",
       "\n",
       "    .dataframe tbody tr th {\n",
       "        vertical-align: top;\n",
       "    }\n",
       "\n",
       "    .dataframe thead th {\n",
       "        text-align: right;\n",
       "    }\n",
       "</style>\n",
       "<table border=\"1\" class=\"dataframe\">\n",
       "  <thead>\n",
       "    <tr style=\"text-align: right;\">\n",
       "      <th></th>\n",
       "      <th>search_date</th>\n",
       "      <th>start_code</th>\n",
       "      <th>end_code</th>\n",
       "      <th>search_unspec_1d</th>\n",
       "      <th>search_unspec_3d</th>\n",
       "      <th>search_unspec_7d</th>\n",
       "      <th>search_unspec_10d</th>\n",
       "    </tr>\n",
       "  </thead>\n",
       "  <tbody>\n",
       "    <tr>\n",
       "      <th>0</th>\n",
       "      <td>2021-04-02</td>\n",
       "      <td>1040001</td>\n",
       "      <td>1040011</td>\n",
       "      <td>3854.0</td>\n",
       "      <td>3854.0</td>\n",
       "      <td>3854.0</td>\n",
       "      <td>3854.0</td>\n",
       "    </tr>\n",
       "    <tr>\n",
       "      <th>1</th>\n",
       "      <td>2021-04-02</td>\n",
       "      <td>1040011</td>\n",
       "      <td>1040001</td>\n",
       "      <td>3176.0</td>\n",
       "      <td>3176.0</td>\n",
       "      <td>3176.0</td>\n",
       "      <td>3176.0</td>\n",
       "    </tr>\n",
       "    <tr>\n",
       "      <th>2</th>\n",
       "      <td>2021-04-02</td>\n",
       "      <td>1040011</td>\n",
       "      <td>1040013</td>\n",
       "      <td>3796.0</td>\n",
       "      <td>3796.0</td>\n",
       "      <td>3796.0</td>\n",
       "      <td>3796.0</td>\n",
       "    </tr>\n",
       "  </tbody>\n",
       "</table>\n",
       "</div>"
      ],
      "text/plain": [
       "  search_date start_code end_code  search_unspec_1d  search_unspec_3d  \\\n",
       "0  2021-04-02    1040001  1040011            3854.0            3854.0   \n",
       "1  2021-04-02    1040011  1040001            3176.0            3176.0   \n",
       "2  2021-04-02    1040011  1040013            3796.0            3796.0   \n",
       "\n",
       "   search_unspec_7d  search_unspec_10d  \n",
       "0            3854.0             3854.0  \n",
       "1            3176.0             3176.0  \n",
       "2            3796.0             3796.0  "
      ]
     },
     "execution_count": 15,
     "metadata": {},
     "output_type": "execute_result"
    }
   ],
   "source": [
    "search_unspec_all = (search_unspec_1d_up\n",
    "                     .merge(search_unspec_3d_up, on=['start_code', 'end_code', 'search_date'])\n",
    "                     .merge(search_unspec_7d_up, on=['start_code', 'end_code', 'search_date'])\n",
    "                     .merge(search_unspec_10d_up, on=['start_code', 'end_code', 'search_date'])\n",
    "                     .sort_values(['search_date', 'start_code', 'end_code'])\n",
    "                     .reset_index(drop=True))\n",
    "print(search_unspec_all.shape)\n",
    "search_unspec_all.head(3)"
   ]
  },
  {
   "cell_type": "code",
   "execution_count": 16,
   "id": "06016816",
   "metadata": {},
   "outputs": [
    {
     "name": "stdout",
     "output_type": "stream",
     "text": [
      "CPU times: user 1min 5s, sys: 13.9 s, total: 1min 19s\n",
      "Wall time: 1min 10s\n"
     ]
    },
    {
     "data": {
      "text/plain": [
       "<AxesSubplot:>"
      ]
     },
     "execution_count": 16,
     "metadata": {},
     "output_type": "execute_result"
    },
    {
     "data": {
      "image/png": "[encoded data removed]",
      "text/plain": [
       "<Figure size 1800x720 with 2 Axes>"
      ]
     },
     "metadata": {
      "needs_background": "light"
     },
     "output_type": "display_data"
    }
   ],
   "source": [
    "%time msno.matrix(search_unspec_all.to_pandas(), labels=True)"
   ]
  },
  {
   "cell_type": "code",
   "execution_count": 17,
   "id": "58d1fbf1-49d8-461c-9b7d-7579018acd6a",
   "metadata": {},
   "outputs": [],
   "source": [
    "(search_unspec_all\n",
    " .to_pandas()\n",
    " .to_csv(f'{SEARCH_COUNT_DIR}/preprocessed_search-count_{TARGET_ROAD}_unspecified.csv', index=False)\n",
    ")"
   ]
  },
  {
   "cell_type": "code",
   "execution_count": 19,
   "id": "9e87b9f2-906c-464f-b4c0-242cc8daf734",
   "metadata": {},
   "outputs": [
    {
     "name": "stdout",
     "output_type": "stream",
     "text": [
      "3.4G\t./search_count/backup\n",
      "933M\t./search_count/preprocessed_search-count_kannetsu.csv\n",
      "1.5G\t./search_count/preprocessed_search-count_kannetsu_unspecified.csv\n",
      "191M\t./search_count/preprocessed_search-count_tateyama.csv\n",
      "296M\t./search_count/preprocessed_search-count_tateyama_unspecified.csv\n",
      "2.3G\t./search_count/preprocessed_search-count_touhoku.csv\n",
      "3.7G\t./search_count/preprocessed_search-count_touhoku_unspecified.csv\n",
      "864M\t./search_count/search-count_kannetsu.csv\n",
      "2.6M\t./search_count/search-count_kannetsu_unspecified.csv\n",
      "124M\t./search_count/search-count_tateyama.csv\n",
      "524K\t./search_count/search-count_tateyama_unspecified.csv\n",
      "2.1G\t./search_count/search-count_touhoku.csv\n",
      "6.3M\t./search_count/search-count_touhoku_unspecified.csv\n",
      "17M\t./search_count/search_data.csv\n",
      "732K\t./search_count/search_data_20230801-20230816.csv\n",
      "572K\t./search_count/search_unspec_data.csv\n",
      "28K\t./search_count/search_unspec_data_20230801-20230816.csv\n"
     ]
    }
   ],
   "source": [
    "!du -h ./search_count/*"
   ]
  },
  {
   "cell_type": "code",
   "execution_count": null,
   "id": "df702035-3c58-4b46-94cd-6fa4c372070c",
   "metadata": {},
   "outputs": [],
   "source": []
  }
 ],
 "metadata": {
  "interpreter": {
   "hash": "f708a36acfaef0acf74ccd43dfb58100269bf08fb79032a1e0a6f35bd9856f51"
  },
  "kernelspec": {
   "display_name": "Python 3 (ipykernel)",
   "language": "python",
   "name": "python3"
  },
  "language_info": {
   "codemirror_mode": {
    "name": "ipython",
    "version": 3
   },
   "file_extension": ".py",
   "mimetype": "text/x-python",
   "name": "python",
   "nbconvert_exporter": "python",
   "pygments_lexer": "ipython3",
   "version": "3.8.13"
  }
 },
 "nbformat": 4,
 "nbformat_minor": 5
}
