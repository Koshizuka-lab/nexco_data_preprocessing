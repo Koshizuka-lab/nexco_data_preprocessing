{
 "cells": [
  {
   "cell_type": "code",
   "execution_count": 1,
   "metadata": {
    "colab": {
     "base_uri": "https://localhost:8080/"
    },
    "executionInfo": {
     "elapsed": 1829,
     "status": "ok",
     "timestamp": 1652449525762,
     "user": {
      "displayName": "Itsuki Matsunaga",
      "userId": "00130489984344345909"
     },
     "user_tz": -540
    },
    "id": "Sbq6GWzwT7no",
    "outputId": "a91f2644-67a3-414e-f0ce-c6efefdea42a"
   },
   "outputs": [],
   "source": [
    "import os\n",
    "import time\n",
    "import tqdm\n",
    "import random\n",
    "import pickle\n",
    "import datetime as dt\n",
    "import networkx as nx\n",
    "import numpy as np\n",
    "import pandas as pd\n",
    "import matplotlib.pyplot as plt\n",
    "import cudf\n",
    "\n",
    "import warnings\n",
    "warnings.simplefilter('ignore')"
   ]
  },
  {
   "cell_type": "code",
   "execution_count": 2,
   "metadata": {
    "executionInfo": {
     "elapsed": 258,
     "status": "ok",
     "timestamp": 1652449538375,
     "user": {
      "displayName": "Itsuki Matsunaga",
      "userId": "00130489984344345909"
     },
     "user_tz": -540
    },
    "id": "ChfKW1ydT7rL"
   },
   "outputs": [],
   "source": [
    "# data directory\n",
    "DATA_DIR = '../../Input_processed_data'\n",
    "\n",
    "# IC, 道路情報 csv\n",
    "IC_CSV = f'{DATA_DIR}/road_master/ic_merged.csv'\n",
    "IC_NET_CSV = f'{DATA_DIR}/road_master/220303-doronet_ic.csv'\n",
    "IC_NET_SUB_CSV = f'{DATA_DIR}/road_master/tateyama_kannetsu_icnet.csv'\n",
    "\n",
    "# 検索ログ csv\n",
    "SEARCH_LOG_DIR = lambda month: f'{DATA_DIR}/search_records/csv{month}'\n",
    "SEARCH_LOG_CSV = lambda date: f'{SEARCH_LOG_DIR(date[:6])}/record_{date}.csv'\n",
    "\n",
    "# 検索件数を保存するcsv\n",
    "## 日時指定あり\n",
    "# SEARCH_COUNT_CSV_KANNETSU = f'./search_count/search-count_kannetsu.csv'\n",
    "# SEARCH_COUNT_CSV_TATEYAMA = f'./search_count/search-count_tateyama.csv'"
   ]
  },
  {
   "cell_type": "markdown",
   "metadata": {
    "id": "Th8Q0g5DLbvS",
    "tags": []
   },
   "source": [
    "# 準備"
   ]
  },
  {
   "cell_type": "code",
   "execution_count": 3,
   "metadata": {
    "executionInfo": {
     "elapsed": 1129,
     "status": "ok",
     "timestamp": 1652449554994,
     "user": {
      "displayName": "Itsuki Matsunaga",
      "userId": "00130489984344345909"
     },
     "user_tz": -540
    },
    "id": "J0T3w56yT8Dr",
    "tags": []
   },
   "outputs": [],
   "source": [
    "# モジュール内で前処理済み\n",
    "df_ic = pd.read_csv(IC_CSV, dtype={'ic_code': str})\n",
    "df_icnet = pd.read_csv(IC_NET_CSV, dtype={'start_code': str, 'end_code': str, 'road_code': str})\n",
    "sub_icnet = pd.read_csv(IC_NET_SUB_CSV, dtype={'start_code': str, 'end_code': str, 'road_code': str})\n",
    "\n",
    "code2name = dict(zip(df_ic['ic_code'], df_ic['ic_name']))\n",
    "name2code = {v: k for k, v in code2name.items()}\n",
    "\n",
    "ic_graph = nx.from_pandas_edgelist(df_icnet, source='start_code', target='end_code',\n",
    "                                  edge_attr=['distance', 'road_code', 'direction'],\n",
    "                                  create_using=nx.DiGraph())"
   ]
  },
  {
   "cell_type": "code",
   "execution_count": 4,
   "metadata": {},
   "outputs": [],
   "source": [
    "# 区間ごとの制限速度を格納したテーブル, Map を作成\n",
    "df_limits = sub_icnet.loc[:, ['start_code', 'end_code', 'start_name', 'end_name', 'road_code', 'limit']]\n",
    "\n",
    "limit_dict = {\n",
    "    (s_code, e_code): lim \n",
    "    for s_code, e_code, lim in df_limits.loc[:, ['start_code', 'end_code', 'limit']].values\n",
    "}"
   ]
  },
  {
   "cell_type": "code",
   "execution_count": 5,
   "metadata": {
    "executionInfo": {
     "elapsed": 1129,
     "status": "ok",
     "timestamp": 1652449554994,
     "user": {
      "displayName": "Itsuki Matsunaga",
      "userId": "00130489984344345909"
     },
     "user_tz": -540
    },
    "id": "J0T3w56yT8Dr"
   },
   "outputs": [],
   "source": [
    "cudf_icnet = cudf.from_pandas(df_icnet)\n",
    "cudf_limits = cudf.from_pandas(df_limits)"
   ]
  },
  {
   "cell_type": "markdown",
   "metadata": {},
   "source": [
    "# 経路表をDict形式で作成"
   ]
  },
  {
   "cell_type": "code",
   "execution_count": 6,
   "metadata": {},
   "outputs": [],
   "source": [
    "# route_dict = dict(nx.all_pairs_dijkstra_path(ic_graph, weight='distance'))\n",
    "\n",
    "# # バイナリ保存\n",
    "# fname_out = './route_dict.pkl'\n",
    "# with open(fname_out, 'wb') as f:\n",
    "#     pickle.dump(route_dict, f)"
   ]
  },
  {
   "cell_type": "code",
   "execution_count": 7,
   "metadata": {},
   "outputs": [
    {
     "name": "stdout",
     "output_type": "stream",
     "text": [
      "3.4G\t./route_dict.pkl\n"
     ]
    }
   ],
   "source": [
    "! du -h ./route_dict.pkl"
   ]
  },
  {
   "cell_type": "code",
   "execution_count": 6,
   "metadata": {},
   "outputs": [],
   "source": [
    "# バイナリ形式をロード\n",
    "import pickle\n",
    "\n",
    "fname_in = './route_dict.pkl'\n",
    "with open(fname_in, 'rb') as f:\n",
    "    route_dict = pickle.load(f)"
   ]
  },
  {
   "cell_type": "markdown",
   "metadata": {},
   "source": [
    "# 経路表をpandas.DataFrameの形式で作成"
   ]
  },
  {
   "cell_type": "code",
   "execution_count": 70,
   "metadata": {},
   "outputs": [
    {
     "name": "stdout",
     "output_type": "stream",
     "text": [
      "<class 'pandas.core.frame.DataFrame'>\n",
      "RangeIndex: 6632408 entries, 0 to 6632407\n",
      "Data columns (total 3 columns):\n",
      " #   Column      Dtype   \n",
      "---  ------      -----   \n",
      " 0   start_code  category\n",
      " 1   end_code    category\n",
      " 2   route       object  \n",
      "dtypes: category(2), object(1)\n",
      "memory usage: 76.1+ MB\n"
     ]
    }
   ],
   "source": [
    "df_route = pd.DataFrame.from_dict(route_dict, orient='index')\n",
    "df_route = df_route.stack().reset_index()\n",
    "df_route.columns = ['start_code', 'end_code', 'route']\n",
    "df_route = df_route.astype({'start_code': 'category', 'end_code': 'category'})\n",
    "df_route.info()"
   ]
  },
  {
   "cell_type": "code",
   "execution_count": 71,
   "metadata": {
    "tags": []
   },
   "outputs": [
    {
     "data": {
      "text/html": [
       "<div>\n",
       "<style scoped>\n",
       "    .dataframe tbody tr th:only-of-type {\n",
       "        vertical-align: middle;\n",
       "    }\n",
       "\n",
       "    .dataframe tbody tr th {\n",
       "        vertical-align: top;\n",
       "    }\n",
       "\n",
       "    .dataframe thead th {\n",
       "        text-align: right;\n",
       "    }\n",
       "</style>\n",
       "<table border=\"1\" class=\"dataframe\">\n",
       "  <thead>\n",
       "    <tr style=\"text-align: right;\">\n",
       "      <th></th>\n",
       "      <th>start_code</th>\n",
       "      <th>end_code</th>\n",
       "      <th>route</th>\n",
       "    </tr>\n",
       "  </thead>\n",
       "  <tbody>\n",
       "    <tr>\n",
       "      <th>0</th>\n",
       "      <td>1010001</td>\n",
       "      <td>1010001</td>\n",
       "      <td>[1010001]</td>\n",
       "    </tr>\n",
       "    <tr>\n",
       "      <th>1</th>\n",
       "      <td>1010001</td>\n",
       "      <td>1010004</td>\n",
       "      <td>[1010001, 1010004]</td>\n",
       "    </tr>\n",
       "    <tr>\n",
       "      <th>2</th>\n",
       "      <td>1010001</td>\n",
       "      <td>6009021</td>\n",
       "      <td>[1010001, 6009021]</td>\n",
       "    </tr>\n",
       "    <tr>\n",
       "      <th>3</th>\n",
       "      <td>1010001</td>\n",
       "      <td>6009016</td>\n",
       "      <td>[1010001, 6009021, 6009016]</td>\n",
       "    </tr>\n",
       "    <tr>\n",
       "      <th>4</th>\n",
       "      <td>1010001</td>\n",
       "      <td>6009011</td>\n",
       "      <td>[1010001, 6009021, 6009016, 6009011]</td>\n",
       "    </tr>\n",
       "  </tbody>\n",
       "</table>\n",
       "</div>"
      ],
      "text/plain": [
       "  start_code end_code                                 route\n",
       "0    1010001  1010001                             [1010001]\n",
       "1    1010001  1010004                    [1010001, 1010004]\n",
       "2    1010001  6009021                    [1010001, 6009021]\n",
       "3    1010001  6009016           [1010001, 6009021, 6009016]\n",
       "4    1010001  6009011  [1010001, 6009021, 6009016, 6009011]"
      ]
     },
     "execution_count": 71,
     "metadata": {},
     "output_type": "execute_result"
    }
   ],
   "source": [
    "df_route.head()"
   ]
  },
  {
   "cell_type": "code",
   "execution_count": 10,
   "metadata": {
    "tags": []
   },
   "outputs": [],
   "source": [
    "# df_route.to_csv('./route_table.csv', index=False)\n",
    "# df_route.to_pickle('./route_table.pkl')"
   ]
  },
  {
   "cell_type": "code",
   "execution_count": 9,
   "metadata": {},
   "outputs": [
    {
     "name": "stdout",
     "output_type": "stream",
     "text": [
      "7.8G\t./route_table.csv\n",
      "3.4G\t./route_table.pkl\n"
     ]
    }
   ],
   "source": [
    "! du -h ./route_table.*"
   ]
  },
  {
   "cell_type": "code",
   "execution_count": 7,
   "metadata": {},
   "outputs": [
    {
     "data": {
      "text/html": [
       "<div>\n",
       "<style scoped>\n",
       "    .dataframe tbody tr th:only-of-type {\n",
       "        vertical-align: middle;\n",
       "    }\n",
       "\n",
       "    .dataframe tbody tr th {\n",
       "        vertical-align: top;\n",
       "    }\n",
       "\n",
       "    .dataframe thead th {\n",
       "        text-align: right;\n",
       "    }\n",
       "</style>\n",
       "<table border=\"1\" class=\"dataframe\">\n",
       "  <thead>\n",
       "    <tr style=\"text-align: right;\">\n",
       "      <th></th>\n",
       "      <th>start_code</th>\n",
       "      <th>end_code</th>\n",
       "      <th>route</th>\n",
       "    </tr>\n",
       "  </thead>\n",
       "  <tbody>\n",
       "    <tr>\n",
       "      <th>0</th>\n",
       "      <td>1010001</td>\n",
       "      <td>1010001</td>\n",
       "      <td>[1010001]</td>\n",
       "    </tr>\n",
       "    <tr>\n",
       "      <th>1</th>\n",
       "      <td>1010001</td>\n",
       "      <td>1010004</td>\n",
       "      <td>[1010001, 1010004]</td>\n",
       "    </tr>\n",
       "    <tr>\n",
       "      <th>2</th>\n",
       "      <td>1010001</td>\n",
       "      <td>6009021</td>\n",
       "      <td>[1010001, 6009021]</td>\n",
       "    </tr>\n",
       "    <tr>\n",
       "      <th>3</th>\n",
       "      <td>1010001</td>\n",
       "      <td>6009016</td>\n",
       "      <td>[1010001, 6009021, 6009016]</td>\n",
       "    </tr>\n",
       "    <tr>\n",
       "      <th>4</th>\n",
       "      <td>1010001</td>\n",
       "      <td>6009011</td>\n",
       "      <td>[1010001, 6009021, 6009016, 6009011]</td>\n",
       "    </tr>\n",
       "  </tbody>\n",
       "</table>\n",
       "</div>"
      ],
      "text/plain": [
       "  start_code end_code                                 route\n",
       "0    1010001  1010001                             [1010001]\n",
       "1    1010001  1010004                    [1010001, 1010004]\n",
       "2    1010001  6009021                    [1010001, 6009021]\n",
       "3    1010001  6009016           [1010001, 6009021, 6009016]\n",
       "4    1010001  6009011  [1010001, 6009021, 6009016, 6009011]"
      ]
     },
     "execution_count": 7,
     "metadata": {},
     "output_type": "execute_result"
    }
   ],
   "source": [
    "df_route = pd.read_pickle('./route_table.pkl')\n",
    "df_route.head()"
   ]
  },
  {
   "cell_type": "markdown",
   "metadata": {},
   "source": [
    "## インデックスを張る"
   ]
  },
  {
   "cell_type": "code",
   "execution_count": 72,
   "metadata": {},
   "outputs": [
    {
     "name": "stdout",
     "output_type": "stream",
     "text": [
      "<class 'pandas.core.frame.DataFrame'>\n",
      "MultiIndex: 6632408 entries, ('1010001', '1010001') to ('8010006', '8010006')\n",
      "Data columns (total 1 columns):\n",
      " #   Column  Dtype \n",
      "---  ------  ----- \n",
      " 0   route   object\n",
      "dtypes: object(1)\n",
      "memory usage: 76.1+ MB\n"
     ]
    }
   ],
   "source": [
    "df_route_indexed = df_route.set_index(['start_code', 'end_code'])\n",
    "df_route_indexed.info()"
   ]
  },
  {
   "cell_type": "code",
   "execution_count": 73,
   "metadata": {},
   "outputs": [
    {
     "data": {
      "text/html": [
       "<div>\n",
       "<style scoped>\n",
       "    .dataframe tbody tr th:only-of-type {\n",
       "        vertical-align: middle;\n",
       "    }\n",
       "\n",
       "    .dataframe tbody tr th {\n",
       "        vertical-align: top;\n",
       "    }\n",
       "\n",
       "    .dataframe thead th {\n",
       "        text-align: right;\n",
       "    }\n",
       "</style>\n",
       "<table border=\"1\" class=\"dataframe\">\n",
       "  <thead>\n",
       "    <tr style=\"text-align: right;\">\n",
       "      <th></th>\n",
       "      <th></th>\n",
       "      <th>route</th>\n",
       "    </tr>\n",
       "    <tr>\n",
       "      <th>start_code</th>\n",
       "      <th>end_code</th>\n",
       "      <th></th>\n",
       "    </tr>\n",
       "  </thead>\n",
       "  <tbody>\n",
       "    <tr>\n",
       "      <th rowspan=\"5\" valign=\"top\">1010001</th>\n",
       "      <th>1010001</th>\n",
       "      <td>[1010001]</td>\n",
       "    </tr>\n",
       "    <tr>\n",
       "      <th>1010004</th>\n",
       "      <td>[1010001, 1010004]</td>\n",
       "    </tr>\n",
       "    <tr>\n",
       "      <th>6009021</th>\n",
       "      <td>[1010001, 6009021]</td>\n",
       "    </tr>\n",
       "    <tr>\n",
       "      <th>6009016</th>\n",
       "      <td>[1010001, 6009021, 6009016]</td>\n",
       "    </tr>\n",
       "    <tr>\n",
       "      <th>6009011</th>\n",
       "      <td>[1010001, 6009021, 6009016, 6009011]</td>\n",
       "    </tr>\n",
       "  </tbody>\n",
       "</table>\n",
       "</div>"
      ],
      "text/plain": [
       "                                                    route\n",
       "start_code end_code                                      \n",
       "1010001    1010001                              [1010001]\n",
       "           1010004                     [1010001, 1010004]\n",
       "           6009021                     [1010001, 6009021]\n",
       "           6009016            [1010001, 6009021, 6009016]\n",
       "           6009011   [1010001, 6009021, 6009016, 6009011]"
      ]
     },
     "execution_count": 73,
     "metadata": {},
     "output_type": "execute_result"
    }
   ],
   "source": [
    "df_route_indexed.head()"
   ]
  },
  {
   "cell_type": "code",
   "execution_count": 12,
   "metadata": {
    "tags": []
   },
   "outputs": [],
   "source": [
    "# df_route_indexed.to_pickle('./route_table_indexed.pkl')"
   ]
  },
  {
   "cell_type": "code",
   "execution_count": 13,
   "metadata": {},
   "outputs": [
    {
     "name": "stdout",
     "output_type": "stream",
     "text": [
      "3.4G\t./route_table_indexed.pkl\n"
     ]
    }
   ],
   "source": [
    "! du -h ./route_table_indexed.*"
   ]
  },
  {
   "cell_type": "code",
   "execution_count": 8,
   "metadata": {},
   "outputs": [
    {
     "data": {
      "text/html": [
       "<div>\n",
       "<style scoped>\n",
       "    .dataframe tbody tr th:only-of-type {\n",
       "        vertical-align: middle;\n",
       "    }\n",
       "\n",
       "    .dataframe tbody tr th {\n",
       "        vertical-align: top;\n",
       "    }\n",
       "\n",
       "    .dataframe thead th {\n",
       "        text-align: right;\n",
       "    }\n",
       "</style>\n",
       "<table border=\"1\" class=\"dataframe\">\n",
       "  <thead>\n",
       "    <tr style=\"text-align: right;\">\n",
       "      <th></th>\n",
       "      <th></th>\n",
       "      <th>route</th>\n",
       "    </tr>\n",
       "    <tr>\n",
       "      <th>start_code</th>\n",
       "      <th>end_code</th>\n",
       "      <th></th>\n",
       "    </tr>\n",
       "  </thead>\n",
       "  <tbody>\n",
       "    <tr>\n",
       "      <th rowspan=\"5\" valign=\"top\">1010001</th>\n",
       "      <th>1010001</th>\n",
       "      <td>[1010001]</td>\n",
       "    </tr>\n",
       "    <tr>\n",
       "      <th>1010004</th>\n",
       "      <td>[1010001, 1010004]</td>\n",
       "    </tr>\n",
       "    <tr>\n",
       "      <th>6009021</th>\n",
       "      <td>[1010001, 6009021]</td>\n",
       "    </tr>\n",
       "    <tr>\n",
       "      <th>6009016</th>\n",
       "      <td>[1010001, 6009021, 6009016]</td>\n",
       "    </tr>\n",
       "    <tr>\n",
       "      <th>6009011</th>\n",
       "      <td>[1010001, 6009021, 6009016, 6009011]</td>\n",
       "    </tr>\n",
       "  </tbody>\n",
       "</table>\n",
       "</div>"
      ],
      "text/plain": [
       "                                                    route\n",
       "start_code end_code                                      \n",
       "1010001    1010001                              [1010001]\n",
       "           1010004                     [1010001, 1010004]\n",
       "           6009021                     [1010001, 6009021]\n",
       "           6009016            [1010001, 6009021, 6009016]\n",
       "           6009011   [1010001, 6009021, 6009016, 6009011]"
      ]
     },
     "execution_count": 8,
     "metadata": {},
     "output_type": "execute_result"
    }
   ],
   "source": [
    "df_route_indexed = pd.read_pickle('./route_table_indexed.pkl')\n",
    "df_route_indexed.head()"
   ]
  },
  {
   "cell_type": "markdown",
   "metadata": {},
   "source": [
    "# 経路の検索速度を比較\n",
    "- 辞書 < テーブル（インデックス） < テーブル\n",
    "- 辞書はテーブル（インデックス）のおよそ1000倍速い\n",
    "- テーブル（インデックス）はテーブルのおよそ10倍速い"
   ]
  },
  {
   "cell_type": "code",
   "execution_count": 15,
   "metadata": {},
   "outputs": [],
   "source": [
    "start_code = \"1040191\"\n",
    "end_code = \"1440096\""
   ]
  },
  {
   "cell_type": "code",
   "execution_count": 16,
   "metadata": {},
   "outputs": [
    {
     "name": "stdout",
     "output_type": "stream",
     "text": [
      "135 ns ± 0.146 ns per loop (mean ± std. dev. of 7 runs, 10000000 loops each)\n"
     ]
    }
   ],
   "source": [
    "%timeit route_dict[start_code][end_code]"
   ]
  },
  {
   "cell_type": "code",
   "execution_count": 17,
   "metadata": {},
   "outputs": [
    {
     "name": "stdout",
     "output_type": "stream",
     "text": [
      "7.18 ms ± 20.8 µs per loop (mean ± std. dev. of 7 runs, 100 loops each)\n"
     ]
    }
   ],
   "source": [
    "%timeit df_route.loc[(df_route.start_code == start_code) & (df_route.end_code == end_code)]"
   ]
  },
  {
   "cell_type": "code",
   "execution_count": 18,
   "metadata": {},
   "outputs": [
    {
     "name": "stdout",
     "output_type": "stream",
     "text": [
      "228 µs ± 26.7 µs per loop (mean ± std. dev. of 7 runs, 1 loop each)\n"
     ]
    }
   ],
   "source": [
    "%timeit df_route_indexed.loc[(start_code, end_code)]"
   ]
  },
  {
   "cell_type": "markdown",
   "metadata": {},
   "source": [
    "# 検索ログを簡略化"
   ]
  },
  {
   "cell_type": "code",
   "execution_count": 20,
   "metadata": {},
   "outputs": [],
   "source": [
    "def get_log(date):\n",
    "    if not os.path.exists(SEARCH_LOG_CSV(date)):\n",
    "        return None\n",
    "\n",
    "    df = pd.read_csv(SEARCH_LOG_CSV(date), \n",
    "                     dtype={\n",
    "                         'start_code': str,\n",
    "                         'end_code': str,\n",
    "                         'via1_code': str,\n",
    "                         'via2_code': str,\n",
    "                         'via3_code': str,\n",
    "                         'order': str\n",
    "                     })\n",
    "    df = cudf.from_pandas(df)\n",
    "    return df"
   ]
  },
  {
   "cell_type": "code",
   "execution_count": 23,
   "metadata": {},
   "outputs": [],
   "source": [
    "nodes_set = set(ic_graph.nodes)\n",
    "\n",
    "def simplify_search_log(df):\n",
    "    # レコードを限定\n",
    "    df = df.loc[(df['start_code'].isin(nodes_set)) & (df['end_code'].isin(nodes_set))]\n",
    "    \n",
    "    # 列を限定\n",
    "    df_res = df.loc[:, ['date', 'start_code', 'end_code', 'spec_day', 'spec_time', 'spec_type', 'car_type']]\n",
    "    df_res.rename(columns={'date': 'datetime'}, inplace=True)\n",
    "    \n",
    "    # 指定日時を1列にまとめる\n",
    "    df_res = df_res.assign(spec_datetime=df_res['spec_day'] + ' ' + df_res['spec_time'])\n",
    "    df_res.drop(['spec_day', 'spec_time'], axis=1, inplace=True)\n",
    "    \n",
    "    # 型変換\n",
    "    df_res = df_res.astype({\n",
    "        'start_code': 'category',\n",
    "        'end_code': 'category',\n",
    "        'spec_type': 'category',\n",
    "        'car_type': 'category',\n",
    "    })\n",
    "    df_res = df_res.assign(\n",
    "        datetime=cudf.to_datetime(df_res['datetime']),\n",
    "        spec_datetime=cudf.to_datetime(df_res['spec_datetime'])\n",
    "    )\n",
    "    \n",
    "    # 列並び替え\n",
    "    df_res = df_res.loc[:, ['datetime', 'start_code', 'end_code', 'spec_datetime', 'spec_type', 'car_type']]\n",
    "    return df_res"
   ]
  },
  {
   "cell_type": "code",
   "execution_count": 24,
   "metadata": {
    "tags": []
   },
   "outputs": [
    {
     "name": "stdout",
     "output_type": "stream",
     "text": [
      "(494076, 19)\n"
     ]
    },
    {
     "data": {
      "text/html": [
       "<div>\n",
       "<style scoped>\n",
       "    .dataframe tbody tr th:only-of-type {\n",
       "        vertical-align: middle;\n",
       "    }\n",
       "\n",
       "    .dataframe tbody tr th {\n",
       "        vertical-align: top;\n",
       "    }\n",
       "\n",
       "    .dataframe thead th {\n",
       "        text-align: right;\n",
       "    }\n",
       "</style>\n",
       "<table border=\"1\" class=\"dataframe\">\n",
       "  <thead>\n",
       "    <tr style=\"text-align: right;\">\n",
       "      <th></th>\n",
       "      <th>date</th>\n",
       "      <th>start_code</th>\n",
       "      <th>start_name</th>\n",
       "      <th>end_code</th>\n",
       "      <th>end_name</th>\n",
       "      <th>via1_code</th>\n",
       "      <th>via1_name</th>\n",
       "      <th>via2_code</th>\n",
       "      <th>via2_name</th>\n",
       "      <th>via3_code</th>\n",
       "      <th>via3_name</th>\n",
       "      <th>spec_day</th>\n",
       "      <th>spec_time</th>\n",
       "      <th>spec_type</th>\n",
       "      <th>order</th>\n",
       "      <th>car_type</th>\n",
       "      <th>use_nexco</th>\n",
       "      <th>use_urban</th>\n",
       "      <th>use_local</th>\n",
       "    </tr>\n",
       "  </thead>\n",
       "  <tbody>\n",
       "    <tr>\n",
       "      <th>0</th>\n",
       "      <td>2023/05/01 00:00:00</td>\n",
       "      <td>1040191</td>\n",
       "      <td>福島西</td>\n",
       "      <td>1440096</td>\n",
       "      <td>新潟中央</td>\n",
       "      <td>&lt;NA&gt;</td>\n",
       "      <td>&lt;NA&gt;</td>\n",
       "      <td>&lt;NA&gt;</td>\n",
       "      <td>&lt;NA&gt;</td>\n",
       "      <td>&lt;NA&gt;</td>\n",
       "      <td>&lt;NA&gt;</td>\n",
       "      <td>2023-05-04</td>\n",
       "      <td>06:00</td>\n",
       "      <td>1</td>\n",
       "      <td>2</td>\n",
       "      <td>2</td>\n",
       "      <td>1</td>\n",
       "      <td>1</td>\n",
       "      <td>1</td>\n",
       "    </tr>\n",
       "    <tr>\n",
       "      <th>1</th>\n",
       "      <td>2023/05/01 00:00:00</td>\n",
       "      <td>5004001</td>\n",
       "      <td>玉川</td>\n",
       "      <td>5010041</td>\n",
       "      <td>箱根口</td>\n",
       "      <td>&lt;NA&gt;</td>\n",
       "      <td>&lt;NA&gt;</td>\n",
       "      <td>&lt;NA&gt;</td>\n",
       "      <td>&lt;NA&gt;</td>\n",
       "      <td>&lt;NA&gt;</td>\n",
       "      <td>&lt;NA&gt;</td>\n",
       "      <td>2023-04-30</td>\n",
       "      <td>00:00</td>\n",
       "      <td>1</td>\n",
       "      <td>2</td>\n",
       "      <td>2</td>\n",
       "      <td>1</td>\n",
       "      <td>1</td>\n",
       "      <td>1</td>\n",
       "    </tr>\n",
       "    <tr>\n",
       "      <th>2</th>\n",
       "      <td>2023/05/01 00:00:00</td>\n",
       "      <td>6009021</td>\n",
       "      <td>用賀</td>\n",
       "      <td>1461200</td>\n",
       "      <td>友部</td>\n",
       "      <td>&lt;NA&gt;</td>\n",
       "      <td>&lt;NA&gt;</td>\n",
       "      <td>&lt;NA&gt;</td>\n",
       "      <td>&lt;NA&gt;</td>\n",
       "      <td>&lt;NA&gt;</td>\n",
       "      <td>&lt;NA&gt;</td>\n",
       "      <td>2023-05-01</td>\n",
       "      <td>06:00</td>\n",
       "      <td>1</td>\n",
       "      <td>2</td>\n",
       "      <td>2</td>\n",
       "      <td>1</td>\n",
       "      <td>1</td>\n",
       "      <td>1</td>\n",
       "    </tr>\n",
       "    <tr>\n",
       "      <th>3</th>\n",
       "      <td>2023/05/01 00:00:00</td>\n",
       "      <td>1400171</td>\n",
       "      <td>広野</td>\n",
       "      <td>7006081</td>\n",
       "      <td>西宮山口東</td>\n",
       "      <td>&lt;NA&gt;</td>\n",
       "      <td>&lt;NA&gt;</td>\n",
       "      <td>&lt;NA&gt;</td>\n",
       "      <td>&lt;NA&gt;</td>\n",
       "      <td>&lt;NA&gt;</td>\n",
       "      <td>&lt;NA&gt;</td>\n",
       "      <td>2023-04-30</td>\n",
       "      <td>01:00</td>\n",
       "      <td>1</td>\n",
       "      <td>2</td>\n",
       "      <td>2</td>\n",
       "      <td>1</td>\n",
       "      <td>1</td>\n",
       "      <td>1</td>\n",
       "    </tr>\n",
       "    <tr>\n",
       "      <th>4</th>\n",
       "      <td>2023/05/01 00:00:00</td>\n",
       "      <td>1120081</td>\n",
       "      <td>潮来</td>\n",
       "      <td>6004046</td>\n",
       "      <td>大師</td>\n",
       "      <td>&lt;NA&gt;</td>\n",
       "      <td>&lt;NA&gt;</td>\n",
       "      <td>&lt;NA&gt;</td>\n",
       "      <td>&lt;NA&gt;</td>\n",
       "      <td>&lt;NA&gt;</td>\n",
       "      <td>&lt;NA&gt;</td>\n",
       "      <td>2023-05-05</td>\n",
       "      <td>16:00</td>\n",
       "      <td>1</td>\n",
       "      <td>2</td>\n",
       "      <td>2</td>\n",
       "      <td>1</td>\n",
       "      <td>1</td>\n",
       "      <td>1</td>\n",
       "    </tr>\n",
       "  </tbody>\n",
       "</table>\n",
       "</div>"
      ],
      "text/plain": [
       "                  date start_code start_name end_code end_name via1_code  \\\n",
       "0  2023/05/01 00:00:00    1040191        福島西  1440096     新潟中央      <NA>   \n",
       "1  2023/05/01 00:00:00    5004001         玉川  5010041      箱根口      <NA>   \n",
       "2  2023/05/01 00:00:00    6009021         用賀  1461200       友部      <NA>   \n",
       "3  2023/05/01 00:00:00    1400171         広野  7006081    西宮山口東      <NA>   \n",
       "4  2023/05/01 00:00:00    1120081         潮来  6004046       大師      <NA>   \n",
       "\n",
       "  via1_name via2_code via2_name via3_code via3_name    spec_day spec_time  \\\n",
       "0      <NA>      <NA>      <NA>      <NA>      <NA>  2023-05-04     06:00   \n",
       "1      <NA>      <NA>      <NA>      <NA>      <NA>  2023-04-30     00:00   \n",
       "2      <NA>      <NA>      <NA>      <NA>      <NA>  2023-05-01     06:00   \n",
       "3      <NA>      <NA>      <NA>      <NA>      <NA>  2023-04-30     01:00   \n",
       "4      <NA>      <NA>      <NA>      <NA>      <NA>  2023-05-05     16:00   \n",
       "\n",
       "   spec_type order  car_type  use_nexco  use_urban  use_local  \n",
       "0          1     2         2          1          1          1  \n",
       "1          1     2         2          1          1          1  \n",
       "2          1     2         2          1          1          1  \n",
       "3          1     2         2          1          1          1  \n",
       "4          1     2         2          1          1          1  "
      ]
     },
     "execution_count": 24,
     "metadata": {},
     "output_type": "execute_result"
    }
   ],
   "source": [
    "df = get_log('20230501')\n",
    "print(df.shape)\n",
    "df.head()"
   ]
  },
  {
   "cell_type": "code",
   "execution_count": 25,
   "metadata": {},
   "outputs": [
    {
     "data": {
      "text/html": [
       "<div>\n",
       "<style scoped>\n",
       "    .dataframe tbody tr th:only-of-type {\n",
       "        vertical-align: middle;\n",
       "    }\n",
       "\n",
       "    .dataframe tbody tr th {\n",
       "        vertical-align: top;\n",
       "    }\n",
       "\n",
       "    .dataframe thead th {\n",
       "        text-align: right;\n",
       "    }\n",
       "</style>\n",
       "<table border=\"1\" class=\"dataframe\">\n",
       "  <thead>\n",
       "    <tr style=\"text-align: right;\">\n",
       "      <th></th>\n",
       "      <th>datetime</th>\n",
       "      <th>start_code</th>\n",
       "      <th>end_code</th>\n",
       "      <th>spec_datetime</th>\n",
       "      <th>spec_type</th>\n",
       "      <th>car_type</th>\n",
       "    </tr>\n",
       "  </thead>\n",
       "  <tbody>\n",
       "    <tr>\n",
       "      <th>0</th>\n",
       "      <td>2023-05-01</td>\n",
       "      <td>1040191</td>\n",
       "      <td>1440096</td>\n",
       "      <td>2023-05-04 06:00:00</td>\n",
       "      <td>1</td>\n",
       "      <td>2</td>\n",
       "    </tr>\n",
       "    <tr>\n",
       "      <th>1</th>\n",
       "      <td>2023-05-01</td>\n",
       "      <td>5004001</td>\n",
       "      <td>5010041</td>\n",
       "      <td>2023-04-30 00:00:00</td>\n",
       "      <td>1</td>\n",
       "      <td>2</td>\n",
       "    </tr>\n",
       "    <tr>\n",
       "      <th>2</th>\n",
       "      <td>2023-05-01</td>\n",
       "      <td>6009021</td>\n",
       "      <td>1461200</td>\n",
       "      <td>2023-05-01 06:00:00</td>\n",
       "      <td>1</td>\n",
       "      <td>2</td>\n",
       "    </tr>\n",
       "    <tr>\n",
       "      <th>3</th>\n",
       "      <td>2023-05-01</td>\n",
       "      <td>1400171</td>\n",
       "      <td>7006081</td>\n",
       "      <td>2023-04-30 01:00:00</td>\n",
       "      <td>1</td>\n",
       "      <td>2</td>\n",
       "    </tr>\n",
       "    <tr>\n",
       "      <th>4</th>\n",
       "      <td>2023-05-01</td>\n",
       "      <td>1120081</td>\n",
       "      <td>6004046</td>\n",
       "      <td>2023-05-05 16:00:00</td>\n",
       "      <td>1</td>\n",
       "      <td>2</td>\n",
       "    </tr>\n",
       "  </tbody>\n",
       "</table>\n",
       "</div>"
      ],
      "text/plain": [
       "    datetime start_code end_code       spec_datetime spec_type car_type\n",
       "0 2023-05-01    1040191  1440096 2023-05-04 06:00:00         1        2\n",
       "1 2023-05-01    5004001  5010041 2023-04-30 00:00:00         1        2\n",
       "2 2023-05-01    6009021  1461200 2023-05-01 06:00:00         1        2\n",
       "3 2023-05-01    1400171  7006081 2023-04-30 01:00:00         1        2\n",
       "4 2023-05-01    1120081  6004046 2023-05-05 16:00:00         1        2"
      ]
     },
     "execution_count": 25,
     "metadata": {},
     "output_type": "execute_result"
    }
   ],
   "source": [
    "df = simplify_search_log(df)\n",
    "df.head()"
   ]
  },
  {
   "cell_type": "code",
   "execution_count": 27,
   "metadata": {},
   "outputs": [
    {
     "name": "stdout",
     "output_type": "stream",
     "text": [
      "<class 'cudf.core.dataframe.DataFrame'>\n",
      "Int64Index: 493645 entries, 0 to 494075\n",
      "Data columns (total 6 columns):\n",
      " #   Column         Non-Null Count   Dtype\n",
      "---  ------         --------------   -----\n",
      " 0   datetime       493645 non-null  datetime64[ns]\n",
      " 1   start_code     493645 non-null  category\n",
      " 2   end_code       493645 non-null  category\n",
      " 3   spec_datetime  493645 non-null  datetime64[ns]\n",
      " 4   spec_type      493645 non-null  category\n",
      " 5   car_type       493645 non-null  category\n",
      "dtypes: category(4), datetime64[ns](2)\n",
      "memory usage: 14.2 MB\n"
     ]
    }
   ],
   "source": [
    "df.info()"
   ]
  },
  {
   "cell_type": "markdown",
   "metadata": {},
   "source": [
    "# 検索ログと経路表をマージ"
   ]
  },
  {
   "cell_type": "code",
   "execution_count": 28,
   "metadata": {},
   "outputs": [
    {
     "data": {
      "text/html": [
       "<div>\n",
       "<style scoped>\n",
       "    .dataframe tbody tr th:only-of-type {\n",
       "        vertical-align: middle;\n",
       "    }\n",
       "\n",
       "    .dataframe tbody tr th {\n",
       "        vertical-align: top;\n",
       "    }\n",
       "\n",
       "    .dataframe thead th {\n",
       "        text-align: right;\n",
       "    }\n",
       "</style>\n",
       "<table border=\"1\" class=\"dataframe\">\n",
       "  <thead>\n",
       "    <tr style=\"text-align: right;\">\n",
       "      <th></th>\n",
       "      <th>datetime</th>\n",
       "      <th>start_code</th>\n",
       "      <th>end_code</th>\n",
       "      <th>spec_datetime</th>\n",
       "      <th>spec_type</th>\n",
       "      <th>car_type</th>\n",
       "    </tr>\n",
       "  </thead>\n",
       "  <tbody>\n",
       "    <tr>\n",
       "      <th>0</th>\n",
       "      <td>2023-05-01</td>\n",
       "      <td>1040191</td>\n",
       "      <td>1440096</td>\n",
       "      <td>2023-05-04 06:00:00</td>\n",
       "      <td>1</td>\n",
       "      <td>2</td>\n",
       "    </tr>\n",
       "    <tr>\n",
       "      <th>1</th>\n",
       "      <td>2023-05-01</td>\n",
       "      <td>5004001</td>\n",
       "      <td>5010041</td>\n",
       "      <td>2023-04-30 00:00:00</td>\n",
       "      <td>1</td>\n",
       "      <td>2</td>\n",
       "    </tr>\n",
       "    <tr>\n",
       "      <th>2</th>\n",
       "      <td>2023-05-01</td>\n",
       "      <td>6009021</td>\n",
       "      <td>1461200</td>\n",
       "      <td>2023-05-01 06:00:00</td>\n",
       "      <td>1</td>\n",
       "      <td>2</td>\n",
       "    </tr>\n",
       "    <tr>\n",
       "      <th>3</th>\n",
       "      <td>2023-05-01</td>\n",
       "      <td>1400171</td>\n",
       "      <td>7006081</td>\n",
       "      <td>2023-04-30 01:00:00</td>\n",
       "      <td>1</td>\n",
       "      <td>2</td>\n",
       "    </tr>\n",
       "    <tr>\n",
       "      <th>4</th>\n",
       "      <td>2023-05-01</td>\n",
       "      <td>1120081</td>\n",
       "      <td>6004046</td>\n",
       "      <td>2023-05-05 16:00:00</td>\n",
       "      <td>1</td>\n",
       "      <td>2</td>\n",
       "    </tr>\n",
       "  </tbody>\n",
       "</table>\n",
       "</div>"
      ],
      "text/plain": [
       "    datetime start_code end_code       spec_datetime spec_type car_type\n",
       "0 2023-05-01    1040191  1440096 2023-05-04 06:00:00         1        2\n",
       "1 2023-05-01    5004001  5010041 2023-04-30 00:00:00         1        2\n",
       "2 2023-05-01    6009021  1461200 2023-05-01 06:00:00         1        2\n",
       "3 2023-05-01    1400171  7006081 2023-04-30 01:00:00         1        2\n",
       "4 2023-05-01    1120081  6004046 2023-05-05 16:00:00         1        2"
      ]
     },
     "execution_count": 28,
     "metadata": {},
     "output_type": "execute_result"
    }
   ],
   "source": [
    "df = get_log('20230501')\n",
    "df = simplify_search_log(df)\n",
    "df.head()"
   ]
  },
  {
   "cell_type": "code",
   "execution_count": 29,
   "metadata": {},
   "outputs": [
    {
     "data": {
      "text/html": [
       "<div>\n",
       "<style scoped>\n",
       "    .dataframe tbody tr th:only-of-type {\n",
       "        vertical-align: middle;\n",
       "    }\n",
       "\n",
       "    .dataframe tbody tr th {\n",
       "        vertical-align: top;\n",
       "    }\n",
       "\n",
       "    .dataframe thead th {\n",
       "        text-align: right;\n",
       "    }\n",
       "</style>\n",
       "<table border=\"1\" class=\"dataframe\">\n",
       "  <thead>\n",
       "    <tr style=\"text-align: right;\">\n",
       "      <th></th>\n",
       "      <th>start_code</th>\n",
       "      <th>end_code</th>\n",
       "      <th>route</th>\n",
       "    </tr>\n",
       "  </thead>\n",
       "  <tbody>\n",
       "    <tr>\n",
       "      <th>0</th>\n",
       "      <td>1010001</td>\n",
       "      <td>1010001</td>\n",
       "      <td>[1010001]</td>\n",
       "    </tr>\n",
       "    <tr>\n",
       "      <th>1</th>\n",
       "      <td>1010001</td>\n",
       "      <td>1010004</td>\n",
       "      <td>[1010001, 1010004]</td>\n",
       "    </tr>\n",
       "    <tr>\n",
       "      <th>2</th>\n",
       "      <td>1010001</td>\n",
       "      <td>6009021</td>\n",
       "      <td>[1010001, 6009021]</td>\n",
       "    </tr>\n",
       "    <tr>\n",
       "      <th>3</th>\n",
       "      <td>1010001</td>\n",
       "      <td>6009016</td>\n",
       "      <td>[1010001, 6009021, 6009016]</td>\n",
       "    </tr>\n",
       "    <tr>\n",
       "      <th>4</th>\n",
       "      <td>1010001</td>\n",
       "      <td>6009011</td>\n",
       "      <td>[1010001, 6009021, 6009016, 6009011]</td>\n",
       "    </tr>\n",
       "  </tbody>\n",
       "</table>\n",
       "</div>"
      ],
      "text/plain": [
       "  start_code end_code                                 route\n",
       "0    1010001  1010001                             [1010001]\n",
       "1    1010001  1010004                    [1010001, 1010004]\n",
       "2    1010001  6009021                    [1010001, 6009021]\n",
       "3    1010001  6009016           [1010001, 6009021, 6009016]\n",
       "4    1010001  6009011  [1010001, 6009021, 6009016, 6009011]"
      ]
     },
     "execution_count": 29,
     "metadata": {},
     "output_type": "execute_result"
    }
   ],
   "source": [
    "# df_route = pd.read_pickle('./route_table.pkl')\n",
    "df_route.head()"
   ]
  },
  {
   "cell_type": "code",
   "execution_count": 30,
   "metadata": {},
   "outputs": [
    {
     "name": "stdout",
     "output_type": "stream",
     "text": [
      "<class 'cudf.core.dataframe.DataFrame'>\n",
      "Int64Index: 493645 entries, 0 to 494075\n",
      "Data columns (total 6 columns):\n",
      " #   Column         Non-Null Count   Dtype\n",
      "---  ------         --------------   -----\n",
      " 0   datetime       493645 non-null  datetime64[ns]\n",
      " 1   start_code     493645 non-null  category\n",
      " 2   end_code       493645 non-null  category\n",
      " 3   spec_datetime  493645 non-null  datetime64[ns]\n",
      " 4   spec_type      493645 non-null  category\n",
      " 5   car_type       493645 non-null  category\n",
      "dtypes: category(4), datetime64[ns](2)\n",
      "memory usage: 14.2 MB\n"
     ]
    }
   ],
   "source": [
    "df.info()"
   ]
  },
  {
   "cell_type": "code",
   "execution_count": 31,
   "metadata": {},
   "outputs": [
    {
     "data": {
      "text/html": [
       "<div>\n",
       "<style scoped>\n",
       "    .dataframe tbody tr th:only-of-type {\n",
       "        vertical-align: middle;\n",
       "    }\n",
       "\n",
       "    .dataframe tbody tr th {\n",
       "        vertical-align: top;\n",
       "    }\n",
       "\n",
       "    .dataframe thead th {\n",
       "        text-align: right;\n",
       "    }\n",
       "</style>\n",
       "<table border=\"1\" class=\"dataframe\">\n",
       "  <thead>\n",
       "    <tr style=\"text-align: right;\">\n",
       "      <th></th>\n",
       "      <th>datetime</th>\n",
       "      <th>start_code</th>\n",
       "      <th>end_code</th>\n",
       "      <th>spec_datetime</th>\n",
       "      <th>spec_type</th>\n",
       "      <th>car_type</th>\n",
       "      <th>route</th>\n",
       "    </tr>\n",
       "  </thead>\n",
       "  <tbody>\n",
       "    <tr>\n",
       "      <th>0</th>\n",
       "      <td>2023-05-01 00:00:00</td>\n",
       "      <td>1040191</td>\n",
       "      <td>1440096</td>\n",
       "      <td>2023-05-04 06:00:00</td>\n",
       "      <td>1</td>\n",
       "      <td>2</td>\n",
       "      <td>[1040191, 1040186, 1040181, 1040176, 1040171, ...</td>\n",
       "    </tr>\n",
       "    <tr>\n",
       "      <th>1</th>\n",
       "      <td>2023-05-01 00:00:00</td>\n",
       "      <td>5004001</td>\n",
       "      <td>5010041</td>\n",
       "      <td>2023-04-30 00:00:00</td>\n",
       "      <td>1</td>\n",
       "      <td>2</td>\n",
       "      <td>[5004001, 5004006, 5004011, 5004021, 6028040, ...</td>\n",
       "    </tr>\n",
       "    <tr>\n",
       "      <th>2</th>\n",
       "      <td>2023-05-01 00:00:00</td>\n",
       "      <td>6009021</td>\n",
       "      <td>1461200</td>\n",
       "      <td>2023-05-01 06:00:00</td>\n",
       "      <td>1</td>\n",
       "      <td>2</td>\n",
       "      <td>[6009021, 6009016, 6009011, 6016076, 6009006, ...</td>\n",
       "    </tr>\n",
       "    <tr>\n",
       "      <th>3</th>\n",
       "      <td>2023-05-01 00:00:00</td>\n",
       "      <td>1400171</td>\n",
       "      <td>7006081</td>\n",
       "      <td>2023-04-30 01:00:00</td>\n",
       "      <td>1</td>\n",
       "      <td>2</td>\n",
       "      <td>[1400171, 1400166, 1400161, 1400156, 1400151, ...</td>\n",
       "    </tr>\n",
       "    <tr>\n",
       "      <th>4</th>\n",
       "      <td>2023-05-01 00:00:00</td>\n",
       "      <td>1120081</td>\n",
       "      <td>6004046</td>\n",
       "      <td>2023-05-05 16:00:00</td>\n",
       "      <td>1</td>\n",
       "      <td>2</td>\n",
       "      <td>[1120081, 1120076, 1120071, 1120066, 1120061, ...</td>\n",
       "    </tr>\n",
       "    <tr>\n",
       "      <th>...</th>\n",
       "      <td>...</td>\n",
       "      <td>...</td>\n",
       "      <td>...</td>\n",
       "      <td>...</td>\n",
       "      <td>...</td>\n",
       "      <td>...</td>\n",
       "      <td>...</td>\n",
       "    </tr>\n",
       "    <tr>\n",
       "      <th>493640</th>\n",
       "      <td>2023-05-01 23:59:09</td>\n",
       "      <td>1080321</td>\n",
       "      <td>1820036</td>\n",
       "      <td>2023-07-22 06:30:00</td>\n",
       "      <td>1</td>\n",
       "      <td>2</td>\n",
       "      <td>[1080321, 1080316, 1080311, 1080306, 1080301, ...</td>\n",
       "    </tr>\n",
       "    <tr>\n",
       "      <th>493641</th>\n",
       "      <td>2023-05-01 23:59:11</td>\n",
       "      <td>1410036</td>\n",
       "      <td>1040331</td>\n",
       "      <td>2023-05-28 16:00:00</td>\n",
       "      <td>1</td>\n",
       "      <td>2</td>\n",
       "      <td>[1410036, 1410031, 1410029, 1410026, 1410021, ...</td>\n",
       "    </tr>\n",
       "    <tr>\n",
       "      <th>493642</th>\n",
       "      <td>2023-05-01 23:59:20</td>\n",
       "      <td>6026086</td>\n",
       "      <td>1010221</td>\n",
       "      <td>2023-06-10 00:00:00</td>\n",
       "      <td>1</td>\n",
       "      <td>1</td>\n",
       "      <td>[6026086, 6026081, 6026076, 6026071, 6016056, ...</td>\n",
       "    </tr>\n",
       "    <tr>\n",
       "      <th>493643</th>\n",
       "      <td>2023-05-01 23:59:44</td>\n",
       "      <td>6026086</td>\n",
       "      <td>1010221</td>\n",
       "      <td>2023-06-10 00:00:00</td>\n",
       "      <td>1</td>\n",
       "      <td>1</td>\n",
       "      <td>[6026086, 6026081, 6026076, 6026071, 6016056, ...</td>\n",
       "    </tr>\n",
       "    <tr>\n",
       "      <th>493644</th>\n",
       "      <td>2023-05-01 23:59:54</td>\n",
       "      <td>1101081</td>\n",
       "      <td>1100006</td>\n",
       "      <td>2023-09-02 19:00:00</td>\n",
       "      <td>1</td>\n",
       "      <td>2</td>\n",
       "      <td>[1101081, 1101076, 1101071, 1101066, 1101061, ...</td>\n",
       "    </tr>\n",
       "  </tbody>\n",
       "</table>\n",
       "<p>493645 rows × 7 columns</p>\n",
       "</div>"
      ],
      "text/plain": [
       "                  datetime start_code end_code       spec_datetime spec_type  \\\n",
       "0      2023-05-01 00:00:00    1040191  1440096 2023-05-04 06:00:00         1   \n",
       "1      2023-05-01 00:00:00    5004001  5010041 2023-04-30 00:00:00         1   \n",
       "2      2023-05-01 00:00:00    6009021  1461200 2023-05-01 06:00:00         1   \n",
       "3      2023-05-01 00:00:00    1400171  7006081 2023-04-30 01:00:00         1   \n",
       "4      2023-05-01 00:00:00    1120081  6004046 2023-05-05 16:00:00         1   \n",
       "...                    ...        ...      ...                 ...       ...   \n",
       "493640 2023-05-01 23:59:09    1080321  1820036 2023-07-22 06:30:00         1   \n",
       "493641 2023-05-01 23:59:11    1410036  1040331 2023-05-28 16:00:00         1   \n",
       "493642 2023-05-01 23:59:20    6026086  1010221 2023-06-10 00:00:00         1   \n",
       "493643 2023-05-01 23:59:44    6026086  1010221 2023-06-10 00:00:00         1   \n",
       "493644 2023-05-01 23:59:54    1101081  1100006 2023-09-02 19:00:00         1   \n",
       "\n",
       "       car_type                                              route  \n",
       "0             2  [1040191, 1040186, 1040181, 1040176, 1040171, ...  \n",
       "1             2  [5004001, 5004006, 5004011, 5004021, 6028040, ...  \n",
       "2             2  [6009021, 6009016, 6009011, 6016076, 6009006, ...  \n",
       "3             2  [1400171, 1400166, 1400161, 1400156, 1400151, ...  \n",
       "4             2  [1120081, 1120076, 1120071, 1120066, 1120061, ...  \n",
       "...         ...                                                ...  \n",
       "493640        2  [1080321, 1080316, 1080311, 1080306, 1080301, ...  \n",
       "493641        2  [1410036, 1410031, 1410029, 1410026, 1410021, ...  \n",
       "493642        1  [6026086, 6026081, 6026076, 6026071, 6016056, ...  \n",
       "493643        1  [6026086, 6026081, 6026076, 6026071, 6016056, ...  \n",
       "493644        2  [1101081, 1101076, 1101071, 1101066, 1101061, ...  \n",
       "\n",
       "[493645 rows x 7 columns]"
      ]
     },
     "execution_count": 31,
     "metadata": {},
     "output_type": "execute_result"
    }
   ],
   "source": [
    "pd.merge(df.to_pandas(), df_route, how='left', on=['start_code', 'end_code'])"
   ]
  },
  {
   "cell_type": "markdown",
   "metadata": {
    "jp-MarkdownHeadingCollapsed": true,
    "tags": []
   },
   "source": [
    "# 検索ログの扱い\n",
    "- **所要時間の計算**を改良するアプローチ\n",
    "    - 車両種別によって速度を変化させる\n",
    "        - https://www.driveplaza.com/search/division/\n",
    "            - 1: 軽自動車等\n",
    "            - 2: 普通車\n",
    "            - 3: 中型車\n",
    "            - 4: 大型車\n",
    "            - 5: 特大車\n",
    "    - 過去の交通データを参考にする\n",
    "        - 1年前のある日時・ある区間はこの平均速度で車両が通過していた、という情報\n",
    "        - 厳密にやるには<u>予測対象道路（関越道 + 東北道）以外の交通データが必要になってしまう</u>\n",
    "    - <u>結局1時間単位で丸めてしまえば多少の計算方法の違いでは影響出にくい？</u>\n",
    "    \n",
    "- **検索ログの集計方法**を改良するアプローチ\n",
    "    - 検索した日時と指定日時の時間差によって重みを変える\n",
    "        - 7日前の検索はあまり参考にせず、昨日の検索を重視する\n",
    "        - 昨日の朝の検索よりも、昨日の夜の検索を特に重視する\n",
    "    - 短時間で重複した検索は除外し、その中で最新の検索のみ参照する\n",
    "        - 出発時刻を変えながら何度か経路を検索してみる人もいそう\n",
    "        - <u>重複した検索をどう検出するかが問題</u>\n",
    "            - 出発地・到着地の完全一致\n",
    "            - 出発と到着のICを少しずらすパターンもある"
   ]
  },
  {
   "cell_type": "code",
   "execution_count": 32,
   "metadata": {},
   "outputs": [
    {
     "data": {
      "text/html": [
       "<div>\n",
       "<style scoped>\n",
       "    .dataframe tbody tr th:only-of-type {\n",
       "        vertical-align: middle;\n",
       "    }\n",
       "\n",
       "    .dataframe tbody tr th {\n",
       "        vertical-align: top;\n",
       "    }\n",
       "\n",
       "    .dataframe thead th {\n",
       "        text-align: right;\n",
       "    }\n",
       "</style>\n",
       "<table border=\"1\" class=\"dataframe\">\n",
       "  <thead>\n",
       "    <tr style=\"text-align: right;\">\n",
       "      <th></th>\n",
       "      <th>datetime</th>\n",
       "      <th>start_code</th>\n",
       "      <th>end_code</th>\n",
       "      <th>spec_datetime</th>\n",
       "      <th>spec_type</th>\n",
       "      <th>car_type</th>\n",
       "    </tr>\n",
       "  </thead>\n",
       "  <tbody>\n",
       "    <tr>\n",
       "      <th>0</th>\n",
       "      <td>2023-05-01</td>\n",
       "      <td>1040191</td>\n",
       "      <td>1440096</td>\n",
       "      <td>2023-05-04 06:00:00</td>\n",
       "      <td>1</td>\n",
       "      <td>2</td>\n",
       "    </tr>\n",
       "    <tr>\n",
       "      <th>1</th>\n",
       "      <td>2023-05-01</td>\n",
       "      <td>5004001</td>\n",
       "      <td>5010041</td>\n",
       "      <td>2023-04-30 00:00:00</td>\n",
       "      <td>1</td>\n",
       "      <td>2</td>\n",
       "    </tr>\n",
       "    <tr>\n",
       "      <th>2</th>\n",
       "      <td>2023-05-01</td>\n",
       "      <td>6009021</td>\n",
       "      <td>1461200</td>\n",
       "      <td>2023-05-01 06:00:00</td>\n",
       "      <td>1</td>\n",
       "      <td>2</td>\n",
       "    </tr>\n",
       "    <tr>\n",
       "      <th>3</th>\n",
       "      <td>2023-05-01</td>\n",
       "      <td>1400171</td>\n",
       "      <td>7006081</td>\n",
       "      <td>2023-04-30 01:00:00</td>\n",
       "      <td>1</td>\n",
       "      <td>2</td>\n",
       "    </tr>\n",
       "    <tr>\n",
       "      <th>4</th>\n",
       "      <td>2023-05-01</td>\n",
       "      <td>1120081</td>\n",
       "      <td>6004046</td>\n",
       "      <td>2023-05-05 16:00:00</td>\n",
       "      <td>1</td>\n",
       "      <td>2</td>\n",
       "    </tr>\n",
       "  </tbody>\n",
       "</table>\n",
       "</div>"
      ],
      "text/plain": [
       "    datetime start_code end_code       spec_datetime spec_type car_type\n",
       "0 2023-05-01    1040191  1440096 2023-05-04 06:00:00         1        2\n",
       "1 2023-05-01    5004001  5010041 2023-04-30 00:00:00         1        2\n",
       "2 2023-05-01    6009021  1461200 2023-05-01 06:00:00         1        2\n",
       "3 2023-05-01    1400171  7006081 2023-04-30 01:00:00         1        2\n",
       "4 2023-05-01    1120081  6004046 2023-05-05 16:00:00         1        2"
      ]
     },
     "execution_count": 32,
     "metadata": {},
     "output_type": "execute_result"
    }
   ],
   "source": [
    "df = get_log('20230501')\n",
    "df = simplify_search_log(df)\n",
    "df.head()"
   ]
  },
  {
   "cell_type": "code",
   "execution_count": 33,
   "metadata": {},
   "outputs": [
    {
     "data": {
      "text/plain": [
       "2    408131\n",
       "1     47724\n",
       "3     16369\n",
       "4     12994\n",
       "5      8427\n",
       "Name: car_type, dtype: int32"
      ]
     },
     "execution_count": 33,
     "metadata": {},
     "output_type": "execute_result"
    }
   ],
   "source": [
    "df['car_type'].value_counts()"
   ]
  },
  {
   "cell_type": "code",
   "execution_count": null,
   "metadata": {},
   "outputs": [],
   "source": []
  },
  {
   "cell_type": "code",
   "execution_count": null,
   "metadata": {},
   "outputs": [],
   "source": []
  },
  {
   "cell_type": "code",
   "execution_count": null,
   "metadata": {},
   "outputs": [],
   "source": []
  },
  {
   "cell_type": "code",
   "execution_count": null,
   "metadata": {},
   "outputs": [],
   "source": []
  },
  {
   "cell_type": "code",
   "execution_count": null,
   "metadata": {},
   "outputs": [],
   "source": []
  },
  {
   "cell_type": "code",
   "execution_count": null,
   "metadata": {},
   "outputs": [],
   "source": []
  },
  {
   "cell_type": "markdown",
   "metadata": {
    "jp-MarkdownHeadingCollapsed": true,
    "tags": []
   },
   "source": [
    "# old"
   ]
  },
  {
   "cell_type": "code",
   "execution_count": 12,
   "metadata": {
    "tags": []
   },
   "outputs": [],
   "source": [
    "period_blocks = [\n",
    "    ('20220501', '20220501')\n",
    "    # ('20221001', '20221231'),\n",
    "    # ('20230101', '20230331'),\n",
    "    # ('20230401', '20230507')\n",
    "]"
   ]
  },
  {
   "cell_type": "markdown",
   "metadata": {
    "tags": []
   },
   "source": [
    "### 関越道"
   ]
  },
  {
   "cell_type": "code",
   "execution_count": 32,
   "metadata": {
    "collapsed": true,
    "jupyter": {
     "outputs_hidden": true
    },
    "tags": []
   },
   "outputs": [
    {
     "name": "stdout",
     "output_type": "stream",
     "text": [
      "======================================== 20230401 -> 20230507 ========================================\n",
      "------------------------------ [20230401] *27640 records* (41.507 sec) ------------------------------\n",
      "------------------------------ [20230402] *27476 records* (26.539 sec) ------------------------------\n",
      "------------------------------ [20230403] *27620 records* (21.342 sec) ------------------------------\n",
      "------------------------------ [20230404] *27534 records* (17.820 sec) ------------------------------\n",
      "------------------------------ [20230405] *27066 records* (17.184 sec) ------------------------------\n",
      "------------------------------ [20230406] *27521 records* (15.937 sec) ------------------------------\n",
      "------------------------------ [20230407] *27401 records* (19.229 sec) ------------------------------\n",
      "------------------------------ [20230408] *27635 records* (35.410 sec) ------------------------------\n",
      "------------------------------ [20230409] *27469 records* (25.349 sec) ------------------------------\n",
      "------------------------------ [20230410] *27332 records* (19.136 sec) ------------------------------\n",
      "------------------------------ [20230411] *27496 records* (15.782 sec) ------------------------------\n",
      "------------------------------ [20230412] *27092 records* (15.487 sec) ------------------------------\n",
      "------------------------------ [20230413] *27171 records* (16.268 sec) ------------------------------\n",
      "------------------------------ [20230414] *27632 records* (20.798 sec) ------------------------------\n",
      "------------------------------ [20230415] *27641 records* (33.242 sec) ------------------------------\n",
      "------------------------------ [20230416] *27148 records* (25.545 sec) ------------------------------\n",
      "------------------------------ [20230417] *27326 records* (19.449 sec) ------------------------------\n",
      "------------------------------ [20230418] *27566 records* (16.394 sec) ------------------------------\n",
      "------------------------------ [20230419] *26639 records* (16.441 sec) ------------------------------\n",
      "------------------------------ [20230420] *27557 records* (16.857 sec) ------------------------------\n",
      "------------------------------ [20230421] *27646 records* (20.788 sec) ------------------------------\n",
      "------------------------------ [20230422] *27640 records* (39.683 sec) ------------------------------\n",
      "------------------------------ [20230423] *27619 records* (26.569 sec) ------------------------------\n",
      "------------------------------ [20230424] *27178 records* (18.286 sec) ------------------------------\n",
      "------------------------------ [20230425] *27618 records* (16.362 sec) ------------------------------\n",
      "------------------------------ [20230426] *27450 records* (15.465 sec) ------------------------------\n",
      "------------------------------ [20230427] *27588 records* (19.306 sec) ------------------------------\n",
      "------------------------------ [20230428] *27646 records* (32.305 sec) ------------------------------\n",
      "------------------------------ [20230429] *27647 records* (54.216 sec) ------------------------------\n",
      "------------------------------ [20230430] *27646 records* (35.376 sec) ------------------------------\n",
      "------------------------------ [20230501] *27643 records* (35.706 sec) ------------------------------\n",
      "------------------------------ [20230502] *27647 records* (53.692 sec) ------------------------------\n",
      "------------------------------ [20230503] *27647 records* (82.632 sec) ------------------------------\n",
      "------------------------------ [20230504] *27643 records* (51.336 sec) ------------------------------\n",
      "------------------------------ [20230505] *27637 records* (42.940 sec) ------------------------------\n",
      "------------------------------ [20230506] *27641 records* (34.744 sec) ------------------------------\n",
      "------------------------------ [20230507] *27628 records* (25.671 sec) ------------------------------\n",
      "\n"
     ]
    }
   ],
   "source": [
    "# 過去7日間の検索ログを参照\n",
    "past_periods = 7\n",
    "# 関越道\n",
    "road_code = '1800'\n",
    "\n",
    "for start_date, end_date in period_blocks:\n",
    "    print('='*40, f'{start_date} -> {end_date}', '='*40)\n",
    "    \n",
    "    DAYS = [d.strftime('%Y%m%d') for d in pd.date_range(start_date, end_date, freq='1D')]\n",
    "    \n",
    "    df_count = cudf.DataFrame()\n",
    "    for i, date in enumerate(DAYS):\n",
    "        s = time.time()\n",
    "\n",
    "        df_minutely = count_minutely(date, past_periods, road_code)\n",
    "\n",
    "        print('-'*30, f'[{date}] *{len(df_minutely)} records* ({time.time() - s:.3f} sec)', '-'*30)\n",
    "\n",
    "        df_count = cudf.concat([df_count, df_minutely])\n",
    "\n",
    "    df_count.reset_index(inplace=True)\n",
    "    \n",
    "    if start_date == '20210402':\n",
    "        df_count.to_pandas().to_csv(SEARCH_COUNT_CSV_KANNETSU, index=False)\n",
    "    else:\n",
    "        df_count.to_pandas().to_csv(SEARCH_COUNT_CSV_KANNETSU, mode='a', header=False, index=False)\n",
    "        \n",
    "    print()"
   ]
  },
  {
   "cell_type": "code",
   "execution_count": 11,
   "metadata": {
    "executionInfo": {
     "elapsed": 262,
     "status": "ok",
     "timestamp": 1652449638211,
     "user": {
      "displayName": "Itsuki Matsunaga",
      "userId": "00130489984344345909"
     },
     "user_tz": -540
    },
    "id": "_HLipBZYT8LU"
   },
   "outputs": [],
   "source": [
    "def get_log(date):\n",
    "    if not os.path.exists(SEARCH_LOG_CSV(date)):\n",
    "        # print(f'{SEARCH_LOG_CSV(date)} not exists')\n",
    "        return None\n",
    "\n",
    "    df = pd.read_csv(SEARCH_LOG_CSV(date), \n",
    "                    dtype={'start_code': str, 'end_code': str, 'via1_code': str, 'via2_code': str, 'via3_code': str, 'order': str})\n",
    "    df = cudf.from_pandas(df)\n",
    "    return df\n",
    "\n",
    "\n",
    "def get_unspecified_logs(date):\n",
    "    '''\n",
    "    検索履歴全体から時間指定なしの検索のみを得る関数\n",
    "\n",
    "    Parameters\n",
    "    --------------\n",
    "    date: pandas.DataFrame\n",
    "    得たい検索履歴データの日付\n",
    "\n",
    "    Returns\n",
    "    ----------\n",
    "    unspecified: pandas.DataFrame\n",
    "    時間指定なしの検索履歴データ\n",
    "    '''\n",
    "    df = get_log(date)\n",
    "\n",
    "    search_dt = cudf.to_datetime(df['date'])\n",
    "    specified_dt = cudf.to_datetime(df['spec_day'] + ' ' + df['spec_time'], errors='coerce')\n",
    "\n",
    "    t_diff = abs((search_dt - specified_dt) / np.timedelta64(1, 's'))\n",
    "\n",
    "    td_thresh = 15 * 60\n",
    "    unspecified = df[t_diff < td_thresh]\n",
    "\n",
    "    unspecified.reset_index(drop=True, inplace=True)\n",
    "\n",
    "    return unspecified\n",
    "\n",
    "\n",
    "def get_past_logs(target_date, periods, include_target=False):\n",
    "    '''\n",
    "    指定日(target_date)から過去数日分の検索履歴データを取得する関数\n",
    "\n",
    "    Parameters\n",
    "    --------------\n",
    "    target_date: str or List[str]\n",
    "        混雑度算出の対象となる日付（文字列 or リスト)\n",
    "    periods: int\n",
    "        過去何日分の履歴を参照するか\n",
    "    time_specified: bool\n",
    "        時間指定あり or なし\n",
    "    include_target: bool\n",
    "        target_date（Listである場合はそのうち最も早い日付）をデータに含めるかどうか\n",
    "\n",
    "    Returns\n",
    "    ----------\n",
    "    df_all: pandas.DataFrame\n",
    "        target_dateから過去periods日間の検索履歴データのうち、target_dateを指定日としたログの集合\n",
    "    '''\n",
    "    if isinstance(target_date, list):\n",
    "        end_date = sorted(target_date)[0]\n",
    "        target_date_set = set(target_date)\n",
    "    else:\n",
    "        end_date = target_date\n",
    "        target_date_set = set([target_date])\n",
    "\n",
    "    # 参照すべき全日付のiterableを生成\n",
    "    if include_target:\n",
    "        dt_range = pd.date_range(end=end_date, periods=periods)\n",
    "    else:\n",
    "        dt_range = pd.date_range(end=end_date, periods=periods+1, closed='left')\n",
    "\n",
    "    DAYS = [d.strftime('%Y%m%d') for d in dt_range]\n",
    "\n",
    "    df_all = None\n",
    "    for d in DAYS:\n",
    "        df = get_log(d)\n",
    "\n",
    "        if df is None:\n",
    "              continue\n",
    "\n",
    "        # 時間指定ありの検索履歴データ\n",
    "        # 検索の「指定日」 (%Y-%m-%d) がtarget_date (%Y%m%d) と一致する行のみ抽出\n",
    "        df = df[df['spec_day'].str.replace('-', '').isin(target_date_set)]\n",
    "        # print(f'{d} (時間指定あり): {len(df)}件')\n",
    "\n",
    "        df_all = cudf.concat([df_all, df], ignore_index=True)\n",
    "\n",
    "    df_all.reset_index(drop=True, inplace=True)\n",
    "\n",
    "    return df_all"
   ]
  },
  {
   "cell_type": "markdown",
   "metadata": {
    "id": "kt5v87MkLfVF",
    "tags": []
   },
   "source": [
    "## functions"
   ]
  },
  {
   "cell_type": "code",
   "execution_count": 10,
   "metadata": {
    "executionInfo": {
     "elapsed": 406,
     "status": "ok",
     "timestamp": 1652449641032,
     "user": {
      "displayName": "Itsuki Matsunaga",
      "userId": "00130489984344345909"
     },
     "user_tz": -540
    },
    "id": "r9Gv8U2dWpXp"
   },
   "outputs": [],
   "source": [
    "def expand_search_path(df, road_code):\n",
    "    '''\n",
    "    検索経路を複数のエッジに展開する\n",
    "    A => B => C => D という検索経路を A => B, B => C, C => Dというように区切る\n",
    "\n",
    "    Parameters\n",
    "    --------------\n",
    "    df: pandas.DataFrame\n",
    "    検索ログのデータフレーム\n",
    "    road_code: str\n",
    "    道路コード （指定された道路上のエッジのみを結果のデータフレームに格納する）\n",
    "\n",
    "    Returns\n",
    "    ----------\n",
    "    result: pandas.DataFrame\n",
    "    検索経路がエッジに展開された結果\n",
    "    エッジの両端のICコード（start_code, end_code）とそのエッジの通過時間(passing_time)が格納される\n",
    "    '''\n",
    "    start_codes = []\n",
    "    end_codes = []\n",
    "    passing_time_list = []\n",
    "    \n",
    "    nodes_set = set(ic_graph.nodes)\n",
    "    \n",
    "    df = df.loc[df['start_code'].isin(nodes_set) & df['end_code'].isin(nodes_set)]\n",
    "    \n",
    "    for s_name, t_name, tp, time, day in df[['start_name', 'end_name', 'spec_type', 'spec_time', 'spec_day']].to_numpy():\n",
    "        if tp == 1:\n",
    "            path, time_list = get_route_with_time(ic_graph, s_name, t_name, \n",
    "                                                  departure_time=time, spec_date=day.replace('-', '/'))\n",
    "        else:\n",
    "            path, time_list = get_route_with_time(ic_graph, s_name, t_name, \n",
    "                                                  arrival_time=time, spec_date=day.replace('-', '/'))\n",
    "        if path is None:\n",
    "            continue\n",
    "\n",
    "        for i, (s, t) in enumerate(zip(path, path[1:])):\n",
    "            if ic_graph[s][t]['road_code'] == road_code:\n",
    "                start_codes.append(s)\n",
    "                end_codes.append(t)\n",
    "                passing_time_list.append(time_list[i])\n",
    "\n",
    "    result = cudf.DataFrame({\n",
    "      'start_code': start_codes,\n",
    "      'end_code': end_codes,\n",
    "      'passing_time': passing_time_list      \n",
    "    })\n",
    "\n",
    "    return result"
   ]
  },
  {
   "cell_type": "code",
   "execution_count": 11,
   "metadata": {
    "executionInfo": {
     "elapsed": 4,
     "status": "ok",
     "timestamp": 1652449642114,
     "user": {
      "displayName": "Itsuki Matsunaga",
      "userId": "00130489984344345909"
     },
     "user_tz": -540
    },
    "id": "-_q6Hz94Wr9I"
   },
   "outputs": [],
   "source": [
    "def timeslice_grouping(df, timeslice):\n",
    "    '''\n",
    "    エッジに展開された検索経路をtimesliceでサンプリングし、各経路の検索量を積算する\n",
    "\n",
    "    Parameters\n",
    "    --------------\n",
    "    df: pandas.DataFrame\n",
    "    エッジに展開された検索経路が格納されたデータフレーム\n",
    "    timeslice:\n",
    "    サンプリング時間（1D, 1h, 5minなどを想定）\n",
    "\n",
    "    Returns\n",
    "    ---------\n",
    "    result: pandas.DataFrame\n",
    "    timesliceでサンプリングされた検索経路のデータフレーム\n",
    "    '''\n",
    "    # 後ほど検索量として積算される対象となるカラムを用意\n",
    "    result = df\\\n",
    "        .assign(search=1)\\\n",
    "        .assign(passing_time=cudf.to_datetime(df['passing_time']))\\\n",
    "        .assign(start_code=df['start_code'].astype('category'))\\\n",
    "        .assign(end_code=df['end_code'].astype('category'))\n",
    "    \n",
    "    # timesliceでサンプリングし、検索量の和を取る\n",
    "    result = result\\\n",
    "        .set_index('passing_time')\\\n",
    "        .to_pandas()\\\n",
    "        .groupby(['start_code', 'end_code'])\\\n",
    "        .apply(lambda g: g['search'].resample(timeslice).sum())\\\n",
    "        .reset_index()\\\n",
    "        .set_index('passing_time')\n",
    "\n",
    "    result = cudf.from_pandas(result)\n",
    "\n",
    "    return result"
   ]
  },
  {
   "cell_type": "code",
   "execution_count": 12,
   "metadata": {
    "executionInfo": {
     "elapsed": 310,
     "status": "ok",
     "timestamp": 1652449644470,
     "user": {
      "displayName": "Itsuki Matsunaga",
      "userId": "00130489984344345909"
     },
     "user_tz": -540
    },
    "id": "-RiupKpqWwCk"
   },
   "outputs": [],
   "source": [
    "def count_minutely(date, past_periods, road_code):\n",
    "    '''\n",
    "    特定の日dateについて、過去past_periods日の検索ログを参照し、road_code上のエッジの検索量を積算する\n",
    "    '''\n",
    "    df = get_past_logs(date, periods=past_periods)\n",
    "    df_expanded = expand_search_path(df, road_code)\n",
    "    df_5min = timeslice_grouping(df_expanded, '5min')\n",
    "    # filtering\n",
    "    df_5min = cudf.from_pandas(df_5min.to_pandas().loc[date])\n",
    "    return df_5min"
   ]
  },
  {
   "cell_type": "markdown",
   "metadata": {
    "id": "iomA3yDkLhVu",
    "tags": []
   },
   "source": [
    "## 時間指定あり検索数の作成"
   ]
  },
  {
   "cell_type": "code",
   "execution_count": 13,
   "metadata": {
    "tags": []
   },
   "outputs": [],
   "source": [
    "period_blocks = [\n",
    "    ('20220501', '20220501')\n",
    "    # ('20221001', '20221231'),\n",
    "    # ('20230101', '20230331'),\n",
    "    # ('20230401', '20230507')\n",
    "]"
   ]
  },
  {
   "cell_type": "markdown",
   "metadata": {
    "tags": []
   },
   "source": [
    "### 関越道"
   ]
  },
  {
   "cell_type": "code",
   "execution_count": 32,
   "metadata": {
    "collapsed": true,
    "jupyter": {
     "outputs_hidden": true
    },
    "tags": []
   },
   "outputs": [
    {
     "name": "stdout",
     "output_type": "stream",
     "text": [
      "======================================== 20230401 -> 20230507 ========================================\n",
      "------------------------------ [20230401] *27640 records* (41.507 sec) ------------------------------\n",
      "------------------------------ [20230402] *27476 records* (26.539 sec) ------------------------------\n",
      "------------------------------ [20230403] *27620 records* (21.342 sec) ------------------------------\n",
      "------------------------------ [20230404] *27534 records* (17.820 sec) ------------------------------\n",
      "------------------------------ [20230405] *27066 records* (17.184 sec) ------------------------------\n",
      "------------------------------ [20230406] *27521 records* (15.937 sec) ------------------------------\n",
      "------------------------------ [20230407] *27401 records* (19.229 sec) ------------------------------\n",
      "------------------------------ [20230408] *27635 records* (35.410 sec) ------------------------------\n",
      "------------------------------ [20230409] *27469 records* (25.349 sec) ------------------------------\n",
      "------------------------------ [20230410] *27332 records* (19.136 sec) ------------------------------\n",
      "------------------------------ [20230411] *27496 records* (15.782 sec) ------------------------------\n",
      "------------------------------ [20230412] *27092 records* (15.487 sec) ------------------------------\n",
      "------------------------------ [20230413] *27171 records* (16.268 sec) ------------------------------\n",
      "------------------------------ [20230414] *27632 records* (20.798 sec) ------------------------------\n",
      "------------------------------ [20230415] *27641 records* (33.242 sec) ------------------------------\n",
      "------------------------------ [20230416] *27148 records* (25.545 sec) ------------------------------\n",
      "------------------------------ [20230417] *27326 records* (19.449 sec) ------------------------------\n",
      "------------------------------ [20230418] *27566 records* (16.394 sec) ------------------------------\n",
      "------------------------------ [20230419] *26639 records* (16.441 sec) ------------------------------\n",
      "------------------------------ [20230420] *27557 records* (16.857 sec) ------------------------------\n",
      "------------------------------ [20230421] *27646 records* (20.788 sec) ------------------------------\n",
      "------------------------------ [20230422] *27640 records* (39.683 sec) ------------------------------\n",
      "------------------------------ [20230423] *27619 records* (26.569 sec) ------------------------------\n",
      "------------------------------ [20230424] *27178 records* (18.286 sec) ------------------------------\n",
      "------------------------------ [20230425] *27618 records* (16.362 sec) ------------------------------\n",
      "------------------------------ [20230426] *27450 records* (15.465 sec) ------------------------------\n",
      "------------------------------ [20230427] *27588 records* (19.306 sec) ------------------------------\n",
      "------------------------------ [20230428] *27646 records* (32.305 sec) ------------------------------\n",
      "------------------------------ [20230429] *27647 records* (54.216 sec) ------------------------------\n",
      "------------------------------ [20230430] *27646 records* (35.376 sec) ------------------------------\n",
      "------------------------------ [20230501] *27643 records* (35.706 sec) ------------------------------\n",
      "------------------------------ [20230502] *27647 records* (53.692 sec) ------------------------------\n",
      "------------------------------ [20230503] *27647 records* (82.632 sec) ------------------------------\n",
      "------------------------------ [20230504] *27643 records* (51.336 sec) ------------------------------\n",
      "------------------------------ [20230505] *27637 records* (42.940 sec) ------------------------------\n",
      "------------------------------ [20230506] *27641 records* (34.744 sec) ------------------------------\n",
      "------------------------------ [20230507] *27628 records* (25.671 sec) ------------------------------\n",
      "\n"
     ]
    }
   ],
   "source": [
    "# 過去7日間の検索ログを参照\n",
    "past_periods = 7\n",
    "# 関越道\n",
    "road_code = '1800'\n",
    "\n",
    "for start_date, end_date in period_blocks:\n",
    "    print('='*40, f'{start_date} -> {end_date}', '='*40)\n",
    "    \n",
    "    DAYS = [d.strftime('%Y%m%d') for d in pd.date_range(start_date, end_date, freq='1D')]\n",
    "    \n",
    "    df_count = cudf.DataFrame()\n",
    "    for i, date in enumerate(DAYS):\n",
    "        s = time.time()\n",
    "\n",
    "        df_minutely = count_minutely(date, past_periods, road_code)\n",
    "\n",
    "        print('-'*30, f'[{date}] *{len(df_minutely)} records* ({time.time() - s:.3f} sec)', '-'*30)\n",
    "\n",
    "        df_count = cudf.concat([df_count, df_minutely])\n",
    "\n",
    "    df_count.reset_index(inplace=True)\n",
    "    \n",
    "    if start_date == '20210402':\n",
    "        df_count.to_pandas().to_csv(SEARCH_COUNT_CSV_KANNETSU, index=False)\n",
    "    else:\n",
    "        df_count.to_pandas().to_csv(SEARCH_COUNT_CSV_KANNETSU, mode='a', header=False, index=False)\n",
    "        \n",
    "    print()"
   ]
  },
  {
   "cell_type": "code",
   "execution_count": 35,
   "metadata": {},
   "outputs": [
    {
     "name": "stdout",
     "output_type": "stream",
     "text": [
      "passing_time,start_code,end_code,search\n",
      "2021-04-02 00:00:00,1080291,1800186,0\n",
      "2021-04-02 00:05:00,1080291,1800186,0\n",
      "2021-04-02 00:10:00,1080291,1800186,0\n",
      "2021-04-02 00:15:00,1080291,1800186,0\n"
     ]
    }
   ],
   "source": [
    "!head -n5 ./search_count/search-count_kannetsu.csv"
   ]
  },
  {
   "cell_type": "code",
   "execution_count": 36,
   "metadata": {},
   "outputs": [
    {
     "name": "stdout",
     "output_type": "stream",
     "text": [
      "2023-05-07 23:20:00,1800186,1800183,0\n",
      "2023-05-07 23:25:00,1800186,1800183,0\n",
      "2023-05-07 23:30:00,1800186,1800183,0\n",
      "2023-05-07 23:35:00,1800186,1800183,0\n",
      "2023-05-07 23:40:00,1800186,1800183,1\n"
     ]
    }
   ],
   "source": [
    "!tail -n5 ./search_count/search-count_kannetsu.csv"
   ]
  },
  {
   "cell_type": "markdown",
   "metadata": {
    "tags": []
   },
   "source": [
    "### 館山道"
   ]
  },
  {
   "cell_type": "code",
   "execution_count": 14,
   "metadata": {
    "tags": []
   },
   "outputs": [
    {
     "name": "stdout",
     "output_type": "stream",
     "text": [
      "======================================== 20220501 -> 20220501 ========================================\n",
      "20220501\n"
     ]
    }
   ],
   "source": [
    "# 過去7日間の検索ログを参照\n",
    "past_periods = 7\n",
    "# 館山道\n",
    "road_code = '1130'\n",
    "\n",
    "for start_date, end_date in period_blocks:\n",
    "    print('='*40, f'{start_date} -> {end_date}', '='*40)\n",
    "    \n",
    "    DAYS = [d.strftime('%Y%m%d') for d in pd.date_range(start_date, end_date, freq='1D')]\n",
    "    \n",
    "    df_count = cudf.DataFrame()\n",
    "    for i, date in enumerate(DAYS):\n",
    "        s = time.time()\n",
    "        \n",
    "        df_minutely = count_minutely(date, past_periods, road_code)\n",
    "\n",
    "#         print('-'*30, f'[{date}] *{len(df_minutely)} records* ({time.time() - s:.3f} sec)', '-'*30)\n",
    "\n",
    "#         df_count = cudf.concat([df_count, df_minutely])\n",
    "\n",
    "#     df_count.reset_index(inplace=True)\n",
    "    \n",
    "#     if start_date == '20210402':\n",
    "#         df_count.to_pandas().to_csv(SEARCH_COUNT_CSV_TATEYAMA, index=False)\n",
    "#     else:\n",
    "#         df_count.to_pandas().to_csv(SEARCH_COUNT_CSV_TATEYAMA, mode='a', header=False, index=False)\n",
    "        \n",
    "#     print()"
   ]
  },
  {
   "cell_type": "code",
   "execution_count": 37,
   "metadata": {},
   "outputs": [
    {
     "name": "stdout",
     "output_type": "stream",
     "text": [
      "passing_time,start_code,end_code,search\n",
      "2021-04-02 00:10:00,1130001,1130006,1\n",
      "2021-04-02 00:15:00,1130001,1130006,1\n",
      "2021-04-02 00:20:00,1130001,1130006,0\n",
      "2021-04-02 00:25:00,1130001,1130006,0\n"
     ]
    }
   ],
   "source": [
    "!head -n5 ./search_count/search-count_tateyama.csv"
   ]
  },
  {
   "cell_type": "code",
   "execution_count": 38,
   "metadata": {},
   "outputs": [
    {
     "name": "stdout",
     "output_type": "stream",
     "text": [
      "2023-05-07 10:35:00,1130041,1130046,0\n",
      "2023-05-07 10:40:00,1130041,1130046,0\n",
      "2023-05-07 10:45:00,1130041,1130046,0\n",
      "2023-05-07 10:50:00,1130041,1130046,0\n",
      "2023-05-07 10:55:00,1130041,1130046,2\n"
     ]
    }
   ],
   "source": [
    "!tail -n5 ./search_count/search-count_tateyama.csv"
   ]
  }
 ],
 "metadata": {
  "colab": {
   "authorship_tag": "ABX9TyNaapefRU2VxTM3VQTLunlF",
   "collapsed_sections": [],
   "name": "search_count.ipynb",
   "provenance": []
  },
  "kernelspec": {
   "display_name": "Python 3 (ipykernel)",
   "language": "python",
   "name": "python3"
  },
  "language_info": {
   "codemirror_mode": {
    "name": "ipython",
    "version": 3
   },
   "file_extension": ".py",
   "mimetype": "text/x-python",
   "name": "python",
   "nbconvert_exporter": "python",
   "pygments_lexer": "ipython3",
   "version": "3.8.13"
  }
 },
 "nbformat": 4,
 "nbformat_minor": 4
}
