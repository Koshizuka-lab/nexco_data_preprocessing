{
 "cells": [
  {
   "cell_type": "markdown",
   "id": "d9c54838-0c0d-4ab8-a7a4-e97cf76cf4d9",
   "metadata": {
    "tags": []
   },
   "source": [
    "# このファイルについて\n",
    "- about: ドラぷら検索ログの簡略化\n",
    "    - カラムの限定\n",
    "    - コンテスト対象道路（関越道・東北道）を通過しない検索の除外\n",
    "- author: 松永"
   ]
  },
  {
   "cell_type": "code",
   "execution_count": 1,
   "id": "adc1598c-32cf-4642-be14-9ebe5eadd4cc",
   "metadata": {
    "tags": []
   },
   "outputs": [],
   "source": [
    "import os\n",
    "import time\n",
    "import pickle\n",
    "from typing import Dict, List, Optional, Set\n",
    "import networkx as nx\n",
    "import numpy as np\n",
    "import pandas as pd\n",
    "import cudf\n",
    "\n",
    "import warnings\n",
    "warnings.simplefilter('ignore')"
   ]
  },
  {
   "cell_type": "code",
   "execution_count": 2,
   "id": "5dfa40c2-ba8a-4965-ab3f-4346997a8748",
   "metadata": {},
   "outputs": [],
   "source": [
    "# data directory\n",
    "DATA_DIR = '../../Input_processed_data'\n",
    "\n",
    "# IC, 道路情報 csv\n",
    "IC_NET_CSV = f'{DATA_DIR}/road_master/220303-doronet_ic.csv'\n",
    "IC_SUBNET_CSV = f'{DATA_DIR}/road_master/icnet_sub.csv'\n",
    "\n",
    "# 検索ログ csv\n",
    "SEARCH_LOG_DIR = lambda month: f'{DATA_DIR}/search_records/csv{month}'\n",
    "SEARCH_LOG_CSV = lambda date: f'{SEARCH_LOG_DIR(date[:6])}/record_{date}.csv'"
   ]
  },
  {
   "cell_type": "markdown",
   "id": "a920f834-1a0a-43dd-9cac-6846d5506e5d",
   "metadata": {},
   "source": [
    "# 準備"
   ]
  },
  {
   "cell_type": "code",
   "execution_count": 3,
   "id": "1b76439b-e378-448d-87aa-bab280769e81",
   "metadata": {},
   "outputs": [],
   "source": [
    "# モジュール内で前処理済み\n",
    "df_icnet = pd.read_csv(IC_NET_CSV, dtype={'start_code': str, 'end_code': str, 'road_code': str})\n",
    "sub_icnet = pd.read_csv(IC_SUBNET_CSV, dtype={'start_code': str, 'end_code': str, 'road_code': str})"
   ]
  },
  {
   "cell_type": "code",
   "execution_count": 4,
   "id": "cefb0ae1-bda4-4e6a-bae5-98cba891e0d8",
   "metadata": {},
   "outputs": [],
   "source": [
    "ic_graph = nx.from_pandas_edgelist(\n",
    "    df_icnet, source='start_code', target='end_code',\n",
    "    edge_attr=['distance', 'road_code', 'direction'], create_using=nx.DiGraph())"
   ]
  },
  {
   "cell_type": "code",
   "execution_count": 5,
   "id": "864f1cfa-9844-41d9-aa5e-1e4715fc64bf",
   "metadata": {},
   "outputs": [],
   "source": [
    "ic_nodes_set: set = set(ic_graph.nodes)"
   ]
  },
  {
   "cell_type": "markdown",
   "id": "dea6a0b5-2e0d-4cbf-8d4c-882f5042c836",
   "metadata": {},
   "source": [
    "# 検索ログを簡略化"
   ]
  },
  {
   "cell_type": "code",
   "execution_count": 6,
   "id": "e563826d-6b16-4e2d-abd6-ca4c37368042",
   "metadata": {},
   "outputs": [],
   "source": [
    "def get_log(date: str) -> cudf.DataFrame:\n",
    "    type_map = {\n",
    "        'start_code': str,\n",
    "        'end_code': str,\n",
    "        'via1_code': str,\n",
    "        'via2_code': str,\n",
    "        'via3_code': str,\n",
    "        'order': str,\n",
    "        'car_type': str,\n",
    "    }\n",
    "\n",
    "    if not os.path.exists(SEARCH_LOG_CSV(date)):\n",
    "        return cudf.DataFrame()\n",
    "    df = pd.read_csv(SEARCH_LOG_CSV(date), dtype=type_map)\n",
    "    return cudf.from_pandas(df)"
   ]
  },
  {
   "cell_type": "markdown",
   "id": "73d91c3d-423b-4905-bb0b-63b700ed6074",
   "metadata": {},
   "source": [
    "## 列を選択"
   ]
  },
  {
   "cell_type": "code",
   "execution_count": 7,
   "id": "25b315bd-eb3a-44d9-b2fb-ffa7eb912768",
   "metadata": {},
   "outputs": [],
   "source": [
    "def simplify_search_log(df: cudf.DataFrame) -> cudf.DataFrame:\n",
    "    # レコードを限定\n",
    "    df_res = df.loc[(df['start_code'].isin(ic_nodes_set)) & (df['end_code'].isin(ic_nodes_set))]\n",
    "    \n",
    "    # 列を限定\n",
    "    select_columns = ['date', 'start_code', 'end_code', 'spec_day', 'spec_time', 'spec_type', 'car_type']\n",
    "    df_res = df_res.loc[:, select_columns].rename(columns={'date': 'datetime'})\n",
    "    \n",
    "    # 指定日時を1列にまとめる\n",
    "    df_res = df_res.assign(spec_datetime=df_res['spec_day'] + ' ' + df_res['spec_time'])\n",
    "    df_res.drop(['spec_day', 'spec_time'], axis=1, inplace=True)\n",
    "    \n",
    "    # 型変換\n",
    "    df_res = df_res.astype({\n",
    "        'start_code': 'category',\n",
    "        'end_code': 'category',\n",
    "        'spec_type': 'category',\n",
    "        'car_type': 'category',\n",
    "    })\n",
    "    df_res = df_res.assign(\n",
    "        datetime=cudf.to_datetime(df_res['datetime']),\n",
    "        spec_datetime=cudf.to_datetime(df_res['spec_datetime'])\n",
    "    )\n",
    "    \n",
    "    # 列並び替え\n",
    "    select_columns = ['datetime', 'start_code', 'end_code', 'spec_datetime', 'spec_type', 'car_type']\n",
    "    return df_res.loc[:, select_columns]"
   ]
  },
  {
   "cell_type": "code",
   "execution_count": 8,
   "id": "ad879b43-e0a2-459d-a21c-52b807e924e8",
   "metadata": {},
   "outputs": [
    {
     "name": "stdout",
     "output_type": "stream",
     "text": [
      "(372388, 6)\n"
     ]
    },
    {
     "data": {
      "text/html": [
       "<div>\n",
       "<style scoped>\n",
       "    .dataframe tbody tr th:only-of-type {\n",
       "        vertical-align: middle;\n",
       "    }\n",
       "\n",
       "    .dataframe tbody tr th {\n",
       "        vertical-align: top;\n",
       "    }\n",
       "\n",
       "    .dataframe thead th {\n",
       "        text-align: right;\n",
       "    }\n",
       "</style>\n",
       "<table border=\"1\" class=\"dataframe\">\n",
       "  <thead>\n",
       "    <tr style=\"text-align: right;\">\n",
       "      <th></th>\n",
       "      <th>datetime</th>\n",
       "      <th>start_code</th>\n",
       "      <th>end_code</th>\n",
       "      <th>spec_datetime</th>\n",
       "      <th>spec_type</th>\n",
       "      <th>car_type</th>\n",
       "    </tr>\n",
       "  </thead>\n",
       "  <tbody>\n",
       "    <tr>\n",
       "      <th>0</th>\n",
       "      <td>2024-02-01 00:00:00</td>\n",
       "      <td>5013001</td>\n",
       "      <td>1720081</td>\n",
       "      <td>2024-02-01 00:00:00</td>\n",
       "      <td>1</td>\n",
       "      <td>2</td>\n",
       "    </tr>\n",
       "    <tr>\n",
       "      <th>1</th>\n",
       "      <td>2024-02-01 00:00:00</td>\n",
       "      <td>1040141</td>\n",
       "      <td>1030091</td>\n",
       "      <td>2024-02-01 00:00:00</td>\n",
       "      <td>1</td>\n",
       "      <td>2</td>\n",
       "    </tr>\n",
       "    <tr>\n",
       "      <th>2</th>\n",
       "      <td>2024-02-01 00:00:01</td>\n",
       "      <td>1720031</td>\n",
       "      <td>1073006</td>\n",
       "      <td>2024-01-31 11:50:00</td>\n",
       "      <td>1</td>\n",
       "      <td>2</td>\n",
       "    </tr>\n",
       "    <tr>\n",
       "      <th>3</th>\n",
       "      <td>2024-02-01 00:00:01</td>\n",
       "      <td>214K071</td>\n",
       "      <td>1040086</td>\n",
       "      <td>2024-02-01 00:00:00</td>\n",
       "      <td>1</td>\n",
       "      <td>2</td>\n",
       "    </tr>\n",
       "    <tr>\n",
       "      <th>4</th>\n",
       "      <td>2024-02-01 00:00:02</td>\n",
       "      <td>1010031</td>\n",
       "      <td>1120071</td>\n",
       "      <td>2024-01-31 00:00:00</td>\n",
       "      <td>1</td>\n",
       "      <td>4</td>\n",
       "    </tr>\n",
       "  </tbody>\n",
       "</table>\n",
       "</div>"
      ],
      "text/plain": [
       "             datetime start_code end_code       spec_datetime spec_type  \\\n",
       "0 2024-02-01 00:00:00    5013001  1720081 2024-02-01 00:00:00         1   \n",
       "1 2024-02-01 00:00:00    1040141  1030091 2024-02-01 00:00:00         1   \n",
       "2 2024-02-01 00:00:01    1720031  1073006 2024-01-31 11:50:00         1   \n",
       "3 2024-02-01 00:00:01    214K071  1040086 2024-02-01 00:00:00         1   \n",
       "4 2024-02-01 00:00:02    1010031  1120071 2024-01-31 00:00:00         1   \n",
       "\n",
       "  car_type  \n",
       "0        2  \n",
       "1        2  \n",
       "2        2  \n",
       "3        2  \n",
       "4        4  "
      ]
     },
     "execution_count": 8,
     "metadata": {},
     "output_type": "execute_result"
    }
   ],
   "source": [
    "df_simple = simplify_search_log(get_log('20240201'))\n",
    "print(df_simple.shape)\n",
    "df_simple.head()"
   ]
  },
  {
   "cell_type": "markdown",
   "id": "4c88b9fd-eac8-41cd-957a-b22de8cfab10",
   "metadata": {},
   "source": [
    "## 関越道・東北道を通過するレコードのみを抜き出す"
   ]
  },
  {
   "cell_type": "markdown",
   "id": "af10c2ca-bc06-4395-a689-59257fc4ac44",
   "metadata": {},
   "source": [
    "### 経路検索用プログラム"
   ]
  },
  {
   "cell_type": "code",
   "execution_count": 9,
   "id": "f094b0c5-968e-495c-bd10-6b01c322b8b8",
   "metadata": {},
   "outputs": [],
   "source": [
    "def __get_route(\n",
    "    src: str, dest: str, route_dict: Dict[str, Dict[str, List[str]]]\n",
    ") -> Optional[List[str]]:\n",
    "    if not (src in ic_nodes_set and dest in ic_nodes_set):\n",
    "        return []\n",
    "    try:\n",
    "        path = route_dict[src][dest]\n",
    "        return path\n",
    "    except: # 経路が存在しない, もしくはノードがグラフ上に存在しない場合\n",
    "        return []"
   ]
  },
  {
   "cell_type": "code",
   "execution_count": 10,
   "id": "7ffc87bf-5374-4c19-a50e-f2980c3b81dd",
   "metadata": {
    "tags": []
   },
   "outputs": [],
   "source": [
    "def get_route(\n",
    "    src: str, \n",
    "    dest: str, \n",
    "    route_dict: Dict[str, Dict[str, List[str]]],\n",
    "    excluded_ic_set: Set[str] = set(),\n",
    ") -> List[str]:\n",
    "    '''\n",
    "    ic_graph上で出発地から目的地までの経路を得る関数\n",
    "\n",
    "    Parameters\n",
    "    --------------\n",
    "    src: 出発ICコード\n",
    "    dest: 目的ICコード\n",
    "    '''\n",
    "    path = __get_route(src, dest, route_dict=route_dict)\n",
    "    \n",
    "    if len(excluded_ic_set) > 0:\n",
    "        path = [ic for ic in path if ic not in excluded_ic_set]\n",
    "    return path"
   ]
  },
  {
   "cell_type": "code",
   "execution_count": 11,
   "id": "0f6e18cc-7847-4939-aa27-2e75d5d88c13",
   "metadata": {},
   "outputs": [
    {
     "name": "stdout",
     "output_type": "stream",
     "text": [
      "Loading IC Routes...\n",
      "Finished.\n"
     ]
    }
   ],
   "source": [
    "fname = './route_dict.pkl'\n",
    "\n",
    "if os.path.exists(fname): # 経路マップがすでに存在しているとき、それを使う\n",
    "    with open(fname, 'rb') as f:\n",
    "        print('Loading IC Routes...')\n",
    "        route_dict = pickle.load(f)\n",
    "else: # 存在していなければ計算してバイナリで保存\n",
    "    print('Calculating IC Routes...')\n",
    "    route_dict = dict(nx.all_pairs_dijkstra_path(ic_graph, weight='distance'))\n",
    "    \n",
    "    with open(fname, 'wb') as f:\n",
    "        pickle.dump(route_dict, f)\n",
    "print('Finished.')"
   ]
  },
  {
   "cell_type": "markdown",
   "id": "e4c59e69-93f6-4c63-b415-f761815b64cf",
   "metadata": {
    "tags": []
   },
   "source": [
    "### 対象道路のみを抽出"
   ]
  },
  {
   "cell_type": "code",
   "execution_count": 12,
   "id": "bf38326f-4a54-47f4-8aa0-43f57062ccf1",
   "metadata": {},
   "outputs": [],
   "source": [
    "target_road_code_set = {'1800', '1040'}"
   ]
  },
  {
   "cell_type": "code",
   "execution_count": 13,
   "id": "2ea3b41f-5d88-4c41-b90c-7c95c26fb113",
   "metadata": {
    "tags": []
   },
   "outputs": [],
   "source": [
    "def extract_road_related_queries(df_log: cudf.DataFrame, target_road_code_set: set) -> cudf.DataFrame:\n",
    "    query_indices = []\n",
    "\n",
    "    for i_query, record in enumerate(df_log.to_numpy()):\n",
    "        start_code, end_code = record[[1, 2]]\n",
    "        path = get_route(start_code, end_code, route_dict)\n",
    "        # when the shortest path cannot be calculated\n",
    "        if len(path) == 0:\n",
    "            continue\n",
    "        \n",
    "        for i_segment, (start_code, end_code) in enumerate(zip(path, path[1:])):\n",
    "            if ic_graph[start_code][end_code]['road_code'] in target_road_code_set:\n",
    "                query_indices.append(i_query)\n",
    "                break\n",
    "\n",
    "    related_df_log = df_log.iloc[query_indices].reset_index(drop=True)\n",
    "    return related_df_log"
   ]
  },
  {
   "cell_type": "code",
   "execution_count": 14,
   "id": "e3af8491-e6ad-42c0-b62a-87bfa0677fe4",
   "metadata": {},
   "outputs": [],
   "source": [
    "PERIOD_BLOCKS = [\n",
    "    # ('20210401', '20210630'),\n",
    "    # ('20210701', '20210930'),\n",
    "    # ('20211001', '20211231'),\n",
    "    # ('20220101', '20220331'),\n",
    "    # ('20220401', '20220630'),\n",
    "    # ('20220701', '20220930'),\n",
    "    # ('20221001', '20221231'),\n",
    "    # ('20230101', '20230331'),\n",
    "    # ('20230401', '20230630'),\n",
    "    # ('20230701', '20230930'),\n",
    "    # ('20231001', '20231231'),\n",
    "    # ('20240101', '20240131'),\n",
    "    # ('20240201', '20240331'),\n",
    "    # ('20240401', '20240506'),\n",
    "    ('20240507', '20240831')\n",
    "]"
   ]
  },
  {
   "cell_type": "code",
   "execution_count": 15,
   "id": "1b073860-f420-4dcf-87e9-d55f6c32d9d6",
   "metadata": {},
   "outputs": [],
   "source": [
    "OUTPUT_FILE = lambda date: f'{DATA_DIR}/simple_search_records/csv{date[:6]}/record_{date}.csv'"
   ]
  },
  {
   "cell_type": "code",
   "execution_count": 17,
   "id": "c01c4a60-a0c4-434c-9165-3cdcf76c9641",
   "metadata": {
    "tags": []
   },
   "outputs": [
    {
     "name": "stdout",
     "output_type": "stream",
     "text": [
      "======================================== 20240507 -> 20240831 ========================================\n",
      "20240507 | # of related queries: 191888 (36.13 [sec])\n",
      "20240508 | # of related queries: 161177 (28.92 [sec])\n",
      "20240509 | # of related queries: 169666 (28.96 [sec])\n",
      "20240510 | # of related queries: 172653 (28.61 [sec])\n",
      "20240511 | # of related queries: 145759 (23.43 [sec])\n",
      "20240512 | # of related queries: 140923 (23.20 [sec])\n",
      "20240513 | # of related queries: 181106 (29.91 [sec])\n",
      "20240514 | # of related queries: 163654 (27.64 [sec])\n",
      "20240515 | # of related queries: 161029 (27.32 [sec])\n",
      "20240516 | # of related queries: 168621 (28.60 [sec])\n",
      "20240517 | # of related queries: 171051 (28.52 [sec])\n",
      "20240518 | # of related queries: 140765 (26.49 [sec])\n",
      "20240519 | # of related queries: 142042 (26.46 [sec])\n",
      "20240520 | # of related queries: 181593 (34.07 [sec])\n",
      "20240521 | # of related queries: 167295 (31.33 [sec])\n",
      "20240522 | # of related queries: 178140 (38.82 [sec])\n",
      "20240523 | # of related queries: 177583 (37.14 [sec])\n",
      "20240524 | # of related queries: 162593 (33.86 [sec])\n",
      "20240525 | # of related queries: 147950 (31.87 [sec])\n",
      "20240526 | # of related queries: 143731 (32.24 [sec])\n",
      "20240527 | # of related queries: 171422 (37.68 [sec])\n",
      "20240528 | # of related queries: 168169 (35.61 [sec])\n",
      "20240529 | # of related queries: 156693 (30.23 [sec])\n",
      "20240530 | # of related queries: 157383 (31.45 [sec])\n",
      "20240531 | # of related queries: 163383 (31.48 [sec])\n",
      "20240601 | # of related queries: 140695 (28.24 [sec])\n",
      "20240602 | # of related queries: 145427 (28.69 [sec])\n",
      "20240603 | # of related queries: 165182 (33.16 [sec])\n",
      "20240604 | # of related queries: 138704 (28.52 [sec])\n",
      "20240605 | # of related queries: 137330 (26.68 [sec])\n",
      "20240606 | # of related queries: 134415 (26.42 [sec])\n",
      "20240607 | # of related queries: 144976 (27.87 [sec])\n",
      "20240608 | # of related queries: 115686 (21.49 [sec])\n",
      "20240609 | # of related queries: 118114 (22.62 [sec])\n",
      "20240610 | # of related queries: 157888 (29.95 [sec])\n",
      "20240611 | # of related queries: 140077 (27.61 [sec])\n",
      "20240612 | # of related queries: 132326 (26.70 [sec])\n",
      "20240613 | # of related queries: 140481 (28.40 [sec])\n",
      "20240614 | # of related queries: 138742 (26.60 [sec])\n",
      "20240615 | # of related queries: 109277 (21.46 [sec])\n",
      "20240616 | # of related queries: 111233 (24.99 [sec])\n",
      "20240617 | # of related queries: 127447 (26.68 [sec])\n",
      "20240618 | # of related queries: 117640 (23.06 [sec])\n",
      "20240619 | # of related queries: 120448 (24.42 [sec])\n",
      "20240620 | # of related queries: 117872 (21.61 [sec])\n",
      "20240621 | # of related queries: 135488 (24.77 [sec])\n",
      "20240622 | # of related queries: 106301 (20.91 [sec])\n",
      "20240623 | # of related queries: 106667 (18.44 [sec])\n",
      "20240624 | # of related queries: 107807 (20.98 [sec])\n",
      "20240625 | # of related queries: 89985 (16.05 [sec])\n",
      "20240626 | # of related queries: 86667 (15.90 [sec])\n",
      "20240627 | # of related queries: 92829 (17.84 [sec])\n",
      "20240628 | # of related queries: 129200 (22.83 [sec])\n",
      "20240629 | # of related queries: 113836 (18.76 [sec])\n",
      "20240630 | # of related queries: 115903 (20.25 [sec])\n",
      "20240701 | # of related queries: 149116 (25.00 [sec])\n",
      "20240702 | # of related queries: 137160 (23.91 [sec])\n",
      "20240703 | # of related queries: 138516 (23.86 [sec])\n",
      "20240704 | # of related queries: 132483 (23.27 [sec])\n",
      "20240705 | # of related queries: 140673 (23.21 [sec])\n",
      "20240706 | # of related queries: 117122 (20.17 [sec])\n",
      "20240707 | # of related queries: 113812 (19.74 [sec])\n",
      "20240708 | # of related queries: 151138 (26.17 [sec])\n",
      "20240709 | # of related queries: 150770 (25.18 [sec])\n",
      "20240710 | # of related queries: 149509 (25.15 [sec])\n",
      "20240711 | # of related queries: 153598 (26.36 [sec])\n",
      "20240712 | # of related queries: 160605 (26.77 [sec])\n",
      "20240713 | # of related queries: 134408 (22.43 [sec])\n",
      "20240714 | # of related queries: 122910 (20.83 [sec])\n",
      "20240715 | # of related queries: 137588 (23.27 [sec])\n",
      "20240716 | # of related queries: 153471 (26.74 [sec])\n",
      "20240717 | # of related queries: 138111 (24.14 [sec])\n",
      "20240718 | # of related queries: 139484 (24.63 [sec])\n",
      "20240719 | # of related queries: 142752 (25.06 [sec])\n",
      "20240720 | # of related queries: 119816 (21.20 [sec])\n",
      "20240721 | # of related queries: 116273 (21.08 [sec])\n",
      "20240722 | # of related queries: 147898 (26.68 [sec])\n",
      "20240723 | # of related queries: 135949 (24.04 [sec])\n",
      "20240724 | # of related queries: 139986 (25.59 [sec])\n",
      "20240725 | # of related queries: 138680 (23.50 [sec])\n",
      "20240726 | # of related queries: 159213 (26.41 [sec])\n",
      "20240727 | # of related queries: 127696 (21.55 [sec])\n",
      "20240728 | # of related queries: 130780 (23.03 [sec])\n",
      "20240729 | # of related queries: 166708 (29.03 [sec])\n",
      "20240730 | # of related queries: 161810 (28.24 [sec])\n",
      "20240731 | # of related queries: 160598 (27.71 [sec])\n",
      "20240801 | # of related queries: 161222 (27.50 [sec])\n",
      "20240802 | # of related queries: 171179 (28.36 [sec])\n",
      "20240803 | # of related queries: 150095 (24.95 [sec])\n",
      "20240804 | # of related queries: 158061 (27.17 [sec])\n",
      "20240805 | # of related queries: 185511 (32.75 [sec])\n",
      "20240806 | # of related queries: 177838 (30.74 [sec])\n",
      "20240807 | # of related queries: 174968 (29.48 [sec])\n",
      "20240808 | # of related queries: 169952 (29.70 [sec])\n",
      "20240809 | # of related queries: 212477 (38.60 [sec])\n",
      "20240810 | # of related queries: 203836 (37.68 [sec])\n",
      "20240811 | # of related queries: 189750 (34.15 [sec])\n",
      "20240812 | # of related queries: 201961 (33.35 [sec])\n",
      "20240813 | # of related queries: 198026 (34.09 [sec])\n",
      "20240814 | # of related queries: 177607 (29.91 [sec])\n",
      "20240815 | # of related queries: 179229 (29.69 [sec])\n",
      "20240816 | # of related queries: 189592 (31.47 [sec])\n",
      "20240817 | # of related queries: 171683 (29.44 [sec])\n",
      "20240818 | # of related queries: 157725 (26.89 [sec])\n",
      "20240819 | # of related queries: 177118 (32.41 [sec])\n",
      "20240820 | # of related queries: 169187 (29.84 [sec])\n",
      "20240821 | # of related queries: 162871 (30.14 [sec])\n",
      "20240822 | # of related queries: 163419 (29.17 [sec])\n",
      "20240823 | # of related queries: 159560 (43.88 [sec])\n",
      "20240824 | # of related queries: 127357 (38.48 [sec])\n",
      "20240825 | # of related queries: 128479 (39.54 [sec])\n",
      "20240826 | # of related queries: 156004 (43.85 [sec])\n",
      "20240827 | # of related queries: 141428 (37.45 [sec])\n",
      "20240828 | # of related queries: 141054 (27.35 [sec])\n",
      "20240829 | # of related queries: 140704 (26.41 [sec])\n",
      "20240830 | # of related queries: 158928 (27.43 [sec])\n",
      "20240831 | # of related queries: 137272 (26.41 [sec])\n"
     ]
    }
   ],
   "source": [
    "for start_date, end_date in PERIOD_BLOCKS:\n",
    "    print('='*40, f'{start_date} -> {end_date}', '='*40)\n",
    "    date_list = [d.strftime('%Y%m%d') for d in pd.date_range(start_date, end_date, freq='1D')]\n",
    "    \n",
    "    for i_date, target_date in enumerate(date_list):\n",
    "        s = time.time()\n",
    "        \n",
    "        df_simple = simplify_search_log(get_log(target_date))\n",
    "        df_related_log = extract_road_related_queries(df_simple, target_road_code_set)\n",
    "                \n",
    "        fname_out = OUTPUT_FILE(target_date)\n",
    "        print(f'{target_date} | # of related queries: {len(df_related_log)} ({time.time() - s:.2f} [sec])')\n",
    "\n",
    "        os.makedirs(os.path.dirname(fname_out), exist_ok=True)\n",
    "        df_related_log.to_pandas().to_csv(fname_out, index=False)"
   ]
  },
  {
   "cell_type": "code",
   "execution_count": 18,
   "id": "ec1ab2ab-ed02-4bfd-a413-16fd641f1bdd",
   "metadata": {
    "tags": []
   },
   "outputs": [],
   "source": [
    "df_simple = simplify_search_log(get_log('20240507'))\n",
    "df_related_log = extract_road_related_queries(df_simple, target_road_code_set) "
   ]
  },
  {
   "cell_type": "code",
   "execution_count": 19,
   "id": "d6d4d610-e4b0-4d96-ac89-53b4e57ef6b0",
   "metadata": {},
   "outputs": [
    {
     "data": {
      "text/plain": [
       "((553466, 6), (191888, 6))"
      ]
     },
     "execution_count": 19,
     "metadata": {},
     "output_type": "execute_result"
    }
   ],
   "source": [
    "df_simple.shape, df_related_log.shape"
   ]
  },
  {
   "cell_type": "code",
   "execution_count": 20,
   "id": "b9011f32-50cc-469f-9c46-3b94adf6f2aa",
   "metadata": {},
   "outputs": [
    {
     "data": {
      "text/html": [
       "<div>\n",
       "<style scoped>\n",
       "    .dataframe tbody tr th:only-of-type {\n",
       "        vertical-align: middle;\n",
       "    }\n",
       "\n",
       "    .dataframe tbody tr th {\n",
       "        vertical-align: top;\n",
       "    }\n",
       "\n",
       "    .dataframe thead th {\n",
       "        text-align: right;\n",
       "    }\n",
       "</style>\n",
       "<table border=\"1\" class=\"dataframe\">\n",
       "  <thead>\n",
       "    <tr style=\"text-align: right;\">\n",
       "      <th></th>\n",
       "      <th>datetime</th>\n",
       "      <th>start_code</th>\n",
       "      <th>end_code</th>\n",
       "      <th>spec_datetime</th>\n",
       "      <th>spec_type</th>\n",
       "      <th>car_type</th>\n",
       "    </tr>\n",
       "  </thead>\n",
       "  <tbody>\n",
       "    <tr>\n",
       "      <th>0</th>\n",
       "      <td>2024-05-07 00:00:00</td>\n",
       "      <td>1800061</td>\n",
       "      <td>1810026</td>\n",
       "      <td>2024-05-04 11:00:00</td>\n",
       "      <td>1</td>\n",
       "      <td>2</td>\n",
       "    </tr>\n",
       "    <tr>\n",
       "      <th>1</th>\n",
       "      <td>2024-05-07 00:00:00</td>\n",
       "      <td>1100066</td>\n",
       "      <td>1101016</td>\n",
       "      <td>2024-05-07 08:00:00</td>\n",
       "      <td>2</td>\n",
       "      <td>1</td>\n",
       "    </tr>\n",
       "    <tr>\n",
       "      <th>2</th>\n",
       "      <td>2024-05-07 00:00:00</td>\n",
       "      <td>5007041</td>\n",
       "      <td>1040456</td>\n",
       "      <td>2024-05-06 15:30:00</td>\n",
       "      <td>1</td>\n",
       "      <td>2</td>\n",
       "    </tr>\n",
       "    <tr>\n",
       "      <th>3</th>\n",
       "      <td>2024-05-07 00:00:01</td>\n",
       "      <td>5007031</td>\n",
       "      <td>1010006</td>\n",
       "      <td>2024-05-06 00:30:00</td>\n",
       "      <td>1</td>\n",
       "      <td>2</td>\n",
       "    </tr>\n",
       "    <tr>\n",
       "      <th>4</th>\n",
       "      <td>2024-05-07 00:00:01</td>\n",
       "      <td>5007041</td>\n",
       "      <td>1040456</td>\n",
       "      <td>2024-05-06 15:30:00</td>\n",
       "      <td>1</td>\n",
       "      <td>2</td>\n",
       "    </tr>\n",
       "  </tbody>\n",
       "</table>\n",
       "</div>"
      ],
      "text/plain": [
       "             datetime start_code end_code       spec_datetime spec_type  \\\n",
       "0 2024-05-07 00:00:00    1800061  1810026 2024-05-04 11:00:00         1   \n",
       "1 2024-05-07 00:00:00    1100066  1101016 2024-05-07 08:00:00         2   \n",
       "2 2024-05-07 00:00:00    5007041  1040456 2024-05-06 15:30:00         1   \n",
       "3 2024-05-07 00:00:01    5007031  1010006 2024-05-06 00:30:00         1   \n",
       "4 2024-05-07 00:00:01    5007041  1040456 2024-05-06 15:30:00         1   \n",
       "\n",
       "  car_type  \n",
       "0        2  \n",
       "1        1  \n",
       "2        2  \n",
       "3        2  \n",
       "4        2  "
      ]
     },
     "execution_count": 20,
     "metadata": {},
     "output_type": "execute_result"
    }
   ],
   "source": [
    "df_simple.head()"
   ]
  },
  {
   "cell_type": "code",
   "execution_count": 21,
   "id": "35b813ab-7709-47a9-876a-ec9920a2f420",
   "metadata": {},
   "outputs": [
    {
     "data": {
      "text/html": [
       "<div>\n",
       "<style scoped>\n",
       "    .dataframe tbody tr th:only-of-type {\n",
       "        vertical-align: middle;\n",
       "    }\n",
       "\n",
       "    .dataframe tbody tr th {\n",
       "        vertical-align: top;\n",
       "    }\n",
       "\n",
       "    .dataframe thead th {\n",
       "        text-align: right;\n",
       "    }\n",
       "</style>\n",
       "<table border=\"1\" class=\"dataframe\">\n",
       "  <thead>\n",
       "    <tr style=\"text-align: right;\">\n",
       "      <th></th>\n",
       "      <th>datetime</th>\n",
       "      <th>start_code</th>\n",
       "      <th>end_code</th>\n",
       "      <th>spec_datetime</th>\n",
       "      <th>spec_type</th>\n",
       "      <th>car_type</th>\n",
       "    </tr>\n",
       "  </thead>\n",
       "  <tbody>\n",
       "    <tr>\n",
       "      <th>0</th>\n",
       "      <td>2024-05-07 00:00:00</td>\n",
       "      <td>1800061</td>\n",
       "      <td>1810026</td>\n",
       "      <td>2024-05-04 11:00:00</td>\n",
       "      <td>1</td>\n",
       "      <td>2</td>\n",
       "    </tr>\n",
       "    <tr>\n",
       "      <th>1</th>\n",
       "      <td>2024-05-07 00:00:00</td>\n",
       "      <td>5007041</td>\n",
       "      <td>1040456</td>\n",
       "      <td>2024-05-06 15:30:00</td>\n",
       "      <td>1</td>\n",
       "      <td>2</td>\n",
       "    </tr>\n",
       "    <tr>\n",
       "      <th>2</th>\n",
       "      <td>2024-05-07 00:00:01</td>\n",
       "      <td>5007041</td>\n",
       "      <td>1040456</td>\n",
       "      <td>2024-05-06 15:30:00</td>\n",
       "      <td>1</td>\n",
       "      <td>2</td>\n",
       "    </tr>\n",
       "    <tr>\n",
       "      <th>3</th>\n",
       "      <td>2024-05-07 00:00:01</td>\n",
       "      <td>1800001</td>\n",
       "      <td>1810091</td>\n",
       "      <td>2024-05-18 08:00:00</td>\n",
       "      <td>1</td>\n",
       "      <td>2</td>\n",
       "    </tr>\n",
       "    <tr>\n",
       "      <th>4</th>\n",
       "      <td>2024-05-07 00:00:01</td>\n",
       "      <td>1800001</td>\n",
       "      <td>1820021</td>\n",
       "      <td>2024-05-07 00:00:00</td>\n",
       "      <td>1</td>\n",
       "      <td>2</td>\n",
       "    </tr>\n",
       "  </tbody>\n",
       "</table>\n",
       "</div>"
      ],
      "text/plain": [
       "             datetime start_code end_code       spec_datetime spec_type  \\\n",
       "0 2024-05-07 00:00:00    1800061  1810026 2024-05-04 11:00:00         1   \n",
       "1 2024-05-07 00:00:00    5007041  1040456 2024-05-06 15:30:00         1   \n",
       "2 2024-05-07 00:00:01    5007041  1040456 2024-05-06 15:30:00         1   \n",
       "3 2024-05-07 00:00:01    1800001  1810091 2024-05-18 08:00:00         1   \n",
       "4 2024-05-07 00:00:01    1800001  1820021 2024-05-07 00:00:00         1   \n",
       "\n",
       "  car_type  \n",
       "0        2  \n",
       "1        2  \n",
       "2        2  \n",
       "3        2  \n",
       "4        2  "
      ]
     },
     "execution_count": 21,
     "metadata": {},
     "output_type": "execute_result"
    }
   ],
   "source": [
    "df_related_log.head()"
   ]
  },
  {
   "cell_type": "code",
   "execution_count": null,
   "id": "bbc5c6bc-b554-48da-b5a4-8ff04ed72c19",
   "metadata": {},
   "outputs": [],
   "source": []
  }
 ],
 "metadata": {
  "kernelspec": {
   "display_name": "Python 3 (ipykernel)",
   "language": "python",
   "name": "python3"
  },
  "language_info": {
   "codemirror_mode": {
    "name": "ipython",
    "version": 3
   },
   "file_extension": ".py",
   "mimetype": "text/x-python",
   "name": "python",
   "nbconvert_exporter": "python",
   "pygments_lexer": "ipython3",
   "version": "3.8.13"
  }
 },
 "nbformat": 4,
 "nbformat_minor": 5
}
