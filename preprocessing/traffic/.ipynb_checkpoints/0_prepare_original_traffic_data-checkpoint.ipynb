{
 "cells": [
  {
   "cell_type": "markdown",
   "id": "d225289e-a350-434a-8d01-5051ed824d29",
   "metadata": {
    "tags": []
   },
   "source": [
    "# このファイルについて\n",
    "- about: nullが多い列の削除 + \\['全車(１)','全車(2)','全車(追)','全車(路)'\\]の欠損状況から車線数を算出\n",
    "- author: 葛, 松永\n",
    "- ref: ../1_0_traffic_deleteNULLcols_930.ipynb"
   ]
  },
  {
   "cell_type": "markdown",
   "id": "5d6684ed-0da9-49cf-aacc-c5845eaa11b6",
   "metadata": {},
   "source": [
    "## Input\n",
    "- 関越\n",
    "    - 全トラカン\n",
    "        - 2021/04/01-2022/09/30: `関越道TK5M（202104-202209）全トラカン_utf8.CSV`\n",
    "        - 2022/10/01-2023/07/31: `20221001-20230731_関越道TK5M（全トラカン_関東支社のみ）.csv`\n",
    "        - 2023/08/01-2023/08/16: `20230801-20230816_TK5M_関越道【全トラカン・関東】.csv`\n",
    "        - 2023/08/17-2023/09/30: `20230817-20230930_関越道TK5M（全トラカン_上り大泉JCT〜昭和、下り大泉JCT〜沼田）.csv`\n",
    "        - 2023/10/01-2024/01/31: `20231001-20240131_関越道（上下）TK5M.csv`\n",
    "        - 2024/02/01-2024/03/31: `20240201-20240331_（関越道）TK5M.csv`\n",
    "        - 2024/04/01-2024/05/06: `20240401-20240506_（関越道）TK5M.csv`\n",
    "    - 代表トラカン\n",
    "        ...\n",
    "- 東北\n",
    "    - 全トラカン\n",
    "        - 2021/04/01-2021/04/30: `20210401-20210430_東北道_全トラカンTK5M.CSV`\n",
    "        - 2021/05/01-2021/05/31: `20210501-20210531_東北道_全トラカンTK5M.CSV`\n",
    "        - 2021/06/01-2021/06/30: `20210601-20210630_東北道_全トラカンTK5M.CSV`\n",
    "        - 2021/07/01-2021/07/31: `20210701-20210731_東北道_全トラカンTK5M.CSV`\n",
    "        - 2021/08/01-2021/08/31: `20210801-20210831_東北道_全トラカンTK5M.CSV`\n",
    "        - 2021/09/01-2021/09/30: `20210901-20210930_東北道_全トラカンTK5M.CSV`\n",
    "        - 2021/10/01-2021/12/31: `20211001-20211231_東北道_全トラカンTK5M.CSV`\n",
    "        - 2022/01/01-2022/03/31: `20220101-20220331_東北道_全トラカンTK5M.CSV`\n",
    "        - 2022/04/01-2023/07/31: `20220401-20230731_東北道TK5M（全トラカン_関東支社のみ）.csv`\n",
    "        - 2023/08/01-2023/08/16: `20230801-20230816_TK5M_東北道【全トラカン・関東】.csv`\n",
    "        - 2023/08/17-2023/09/30: `20230817-20230930_東北道TK5M（全トラカン_上り岩槻〜白河、下り岩槻〜矢板）.csv`\n",
    "        - 2023/10/01-2024/01/31: `20231001-20240131_東北道TK5M（全トラカン_上り岩槻〜白河、下り岩槻〜矢板）.csv`\n",
    "        - 2024/02/01-2024/03/31: `20240201-20240331_（東北道）TK5M.csv`\n",
    "        - 2024/04/01-2024/05/06: `20240401-20240506_（東北道）TK5M.csv`\n",
    "    - 代表トラカン\n",
    "        ...\n",
    "        \n",
    "## Output\n",
    "- 全トラカン: `Input_processed_data/traffic/raw_<道路名>_<期間>_2KP.csv`\n",
    "- 代表トラカン: `Input_processed_data/traffic/raw_<道路名>_<期間>.csv`"
   ]
  },
  {
   "cell_type": "markdown",
   "id": "3bd2cf43-eb44-4122-acc9-1f547c1967ec",
   "metadata": {
    "tags": []
   },
   "source": [
    "# main"
   ]
  },
  {
   "cell_type": "code",
   "execution_count": 1,
   "id": "84b76b8b-768d-4329-aa52-e766d29d25ab",
   "metadata": {
    "tags": []
   },
   "outputs": [],
   "source": [
    "import pandas as pd"
   ]
  },
  {
   "cell_type": "code",
   "execution_count": 2,
   "id": "84168a13-c224-43fe-966d-246cc6439321",
   "metadata": {},
   "outputs": [
    {
     "name": "stdout",
     "output_type": "stream",
     "text": [
      "../../Input_original_data/traffic/20221001-20230731_関越道TK5M（全トラカン_関東支社のみ）.csv\n",
      "../../Input_original_data/traffic/20230801-20230816_TK5M_関越道【全トラカン・関東】.csv\n",
      "../../Input_original_data/traffic/20230817-20230930_関越道TK5M（全トラカン_上り大泉JCT〜昭和、下り大泉JCT〜沼田）.csv\n",
      "../../Input_original_data/traffic/関越道TK5M（202104-202209）全トラカン.CSV\n"
     ]
    }
   ],
   "source": [
    "!ls -1 ../../Input_original_data/traffic/*関越*全トラカン*"
   ]
  },
  {
   "cell_type": "code",
   "execution_count": 3,
   "id": "7a0020d5-ad19-469e-bc0e-287111cc858f",
   "metadata": {},
   "outputs": [
    {
     "name": "stdout",
     "output_type": "stream",
     "text": [
      "../../Input_original_data/traffic/20210401-20210430_東北道_全トラカンTK5M.CSV\n",
      "../../Input_original_data/traffic/20210501-20210531_東北道_全トラカンTK5M.CSV\n",
      "../../Input_original_data/traffic/20210601-20210630_東北道_全トラカンTK5M.CSV\n",
      "../../Input_original_data/traffic/20210701-20210731_東北道_全トラカンTK5M.CSV\n",
      "../../Input_original_data/traffic/20210801-20210831_東北道_全トラカンTK5M.CSV\n",
      "../../Input_original_data/traffic/20210901-20210930_東北道_全トラカンTK5M.CSV\n",
      "../../Input_original_data/traffic/20211001-20211231_東北道_全トラカンTK5M.CSV\n",
      "../../Input_original_data/traffic/20220101-20220331_東北道_全トラカンTK5M.CSV\n",
      "../../Input_original_data/traffic/20220401-20230731_東北道TK5M（全トラカン_関東支社のみ）.csv\n",
      "../../Input_original_data/traffic/20230801-20230816_TK5M_東北道【全トラカン・関東】.csv\n",
      "../../Input_original_data/traffic/20230817-20230930_東北道TK5M（全トラカン_上り岩槻〜白河、下り岩槻〜矢板）.csv\n",
      "../../Input_original_data/traffic/20231001-20240131_東北道TK5M（全トラカン_上り岩槻〜白河、下り岩槻〜矢板）.csv\n"
     ]
    }
   ],
   "source": [
    "!ls -1 ../../Input_original_data/traffic/*東北*全トラカン*"
   ]
  },
  {
   "cell_type": "markdown",
   "id": "7e650dbd-6f16-4602-8c65-b4c33d732d2d",
   "metadata": {},
   "source": [
    "## 1. 文字コードをUTF-8に変換\n",
    "- トラカンデータはShift-JIS (sjis)であることが多いため、その場合にUTF-8に事前に変換しておく"
   ]
  },
  {
   "cell_type": "code",
   "execution_count": 16,
   "id": "9cd75453-bec5-4699-b2fb-27b62c376473",
   "metadata": {},
   "outputs": [],
   "source": [
    "# ! iconv -f sjis -t utf-8 <new file> > utf-8_<new file>"
   ]
  },
  {
   "cell_type": "markdown",
   "id": "9047cc67-1fb2-4118-8fb6-d92b8c952b62",
   "metadata": {
    "tags": []
   },
   "source": [
    "## 2. ヘッダ行を削る\n",
    "- トラカンデータは上2行がヘッダ行になっているが、1行目は不要であるため削る"
   ]
  },
  {
   "cell_type": "code",
   "execution_count": 17,
   "id": "0f65dfe7-b2f6-4be5-8abd-84c47e405f10",
   "metadata": {},
   "outputs": [],
   "source": [
    "# ! tail -n +2 <new file> > temp.csv && mv temp.csv <new file>"
   ]
  },
  {
   "cell_type": "markdown",
   "id": "3f0289be-db0f-4f1e-8710-fd81a68eaee7",
   "metadata": {},
   "source": [
    "## 3. CSVファイルを結合する\n",
    "- トラカンデータの期間をある程度の長さでまとめ、整理しやすいようにする"
   ]
  },
  {
   "cell_type": "code",
   "execution_count": null,
   "id": "83242322-3224-47e8-9913-5db00887aa29",
   "metadata": {},
   "outputs": [],
   "source": [
    "# ! tail -n +2 <new file> >> <existing file>"
   ]
  },
  {
   "cell_type": "code",
   "execution_count": 5,
   "id": "2ab5b35a-412c-430c-b4c9-82025b7e18a2",
   "metadata": {},
   "outputs": [
    {
     "name": "stdout",
     "output_type": "stream",
     "text": [
      "../../Input_processed_data/traffic/raw_kannetsu_20210401-20220331_2KP.csv\n",
      "../../Input_processed_data/traffic/raw_kannetsu_20220401-20230331_2KP.csv\n",
      "../../Input_processed_data/traffic/raw_kannetsu_20230401-20230930_2KP.csv\n",
      "../../Input_processed_data/traffic/raw_kannetsu_20231001-20240131_2KP.csv\n",
      "../../Input_processed_data/traffic/raw_kannetsu_20240201-20240506_2KP.csv\n",
      "../../Input_processed_data/traffic/raw_touhoku_20210401-20220331_2KP.csv\n",
      "../../Input_processed_data/traffic/raw_touhoku_20220401-20230331_2KP.csv\n",
      "../../Input_processed_data/traffic/raw_touhoku_20230401-20230930_2KP.csv\n",
      "../../Input_processed_data/traffic/raw_touhoku_20231001-20240131_2KP.csv\n",
      "../../Input_processed_data/traffic/raw_touhoku_20240201-20240506_2KP.csv\n"
     ]
    }
   ],
   "source": [
    "!ls -1 ../../Input_processed_data/traffic/*raw*"
   ]
  },
  {
   "cell_type": "markdown",
   "id": "9dac7c8a-365e-40cf-9aa2-97dd0c6a469d",
   "metadata": {},
   "source": [
    "# appendix"
   ]
  },
  {
   "cell_type": "markdown",
   "id": "e04122ca-6c40-4154-a92b-ba448dd7adaa",
   "metadata": {},
   "source": [
    "## 好きなように期間を分割する"
   ]
  },
  {
   "cell_type": "markdown",
   "id": "b156525d-2bec-43a5-a13d-0f61aba5c8df",
   "metadata": {},
   "source": [
    "期間のとり方\n",
    "- 2021/04/01 〜 2022/03/31\n",
    "- 2022/04/01 〜 2023/03/31\n",
    "- 2023/04/01 〜 2023/09/30\n",
    "- 2023/10/01 ~ 2024/01/31\n",
    "- 2024/02/01 ~ 2024/05/06"
   ]
  },
  {
   "cell_type": "code",
   "execution_count": 6,
   "id": "4c9b14a2-ad2e-4ca2-a820-a5bc31dbf158",
   "metadata": {},
   "outputs": [],
   "source": [
    "TARGET_ROAD = 'kannetsu'\n",
    "# TARGET_ROAD = 'touhoku'\n",
    "\n",
    "PERIOD = '20240201-20240506'\n",
    "\n",
    "RAW_CSV = f'./traffic/raw_{TARGET_ROAD}_{PERIOD}_2KP.csv'"
   ]
  },
  {
   "cell_type": "code",
   "execution_count": 7,
   "id": "a90e506a-a6bd-4a79-a1db-560b8600cdb3",
   "metadata": {},
   "outputs": [
    {
     "name": "stderr",
     "output_type": "stream",
     "text": [
      "/opt/conda/envs/rapids/lib/python3.8/site-packages/IPython/core/interactiveshell.py:3457: DtypeWarning: Columns (22,28,34,40) have mixed types.Specify dtype option on import or set low_memory=False.\n",
      "  exec(code_obj, self.user_global_ns, self.user_ns)\n"
     ]
    }
   ],
   "source": [
    "df_raw = pd.read_csv(RAW_CSV, dtype={'年': str, '月': str, '日': str, '時刻': str})"
   ]
  },
  {
   "cell_type": "code",
   "execution_count": 9,
   "id": "d5d51a78-0407-4944-ad79-0d07f4e3a64f",
   "metadata": {},
   "outputs": [],
   "source": [
    "import datetime as dt\n",
    "\n",
    "def add_datetime_columns(df):\n",
    "    # datetime形式の文字列からdatetime型のカラムを作成\n",
    "    datetime_str_series = (df.年 + '/' + df.月 + '/' + df.日 + ' ' + df.時刻)\n",
    "    \n",
    "    res = df.assign(\n",
    "        datetime=datetime_str_series.apply(lambda t: dt.datetime.strptime(t, '%Y/%m/%d %H:%M')))\n",
    "    return res"
   ]
  },
  {
   "cell_type": "code",
   "execution_count": 10,
   "id": "64c0dfcb-9e67-48fe-b9bf-77a8c24a6ae4",
   "metadata": {},
   "outputs": [
    {
     "data": {
      "text/html": [
       "<div>\n",
       "<style scoped>\n",
       "    .dataframe tbody tr th:only-of-type {\n",
       "        vertical-align: middle;\n",
       "    }\n",
       "\n",
       "    .dataframe tbody tr th {\n",
       "        vertical-align: top;\n",
       "    }\n",
       "\n",
       "    .dataframe thead th {\n",
       "        text-align: right;\n",
       "    }\n",
       "</style>\n",
       "<table border=\"1\" class=\"dataframe\">\n",
       "  <thead>\n",
       "    <tr style=\"text-align: right;\">\n",
       "      <th></th>\n",
       "      <th>支社</th>\n",
       "      <th>区分</th>\n",
       "      <th>道路</th>\n",
       "      <th>年</th>\n",
       "      <th>月</th>\n",
       "      <th>日</th>\n",
       "      <th>曜日</th>\n",
       "      <th>平休1</th>\n",
       "      <th>平休2（休日に土曜日含む）</th>\n",
       "      <th>時刻</th>\n",
       "      <th>...</th>\n",
       "      <th>OCC(追)</th>\n",
       "      <th>速度(追)</th>\n",
       "      <th>エラー数.2</th>\n",
       "      <th>全車(路)</th>\n",
       "      <th>大車(路)</th>\n",
       "      <th>車線率(路)</th>\n",
       "      <th>OCC(路)</th>\n",
       "      <th>速度(路)</th>\n",
       "      <th>エラー数.3</th>\n",
       "      <th>datetime</th>\n",
       "    </tr>\n",
       "  </thead>\n",
       "  <tbody>\n",
       "    <tr>\n",
       "      <th>0</th>\n",
       "      <td>関東支社</td>\n",
       "      <td>速度ループ</td>\n",
       "      <td>関越自動車道</td>\n",
       "      <td>2024</td>\n",
       "      <td>2</td>\n",
       "      <td>1</td>\n",
       "      <td>木</td>\n",
       "      <td>平</td>\n",
       "      <td>平</td>\n",
       "      <td>0:0</td>\n",
       "      <td>...</td>\n",
       "      <td>3.0</td>\n",
       "      <td>88.0</td>\n",
       "      <td>NaN</td>\n",
       "      <td>NaN</td>\n",
       "      <td>NaN</td>\n",
       "      <td>NaN</td>\n",
       "      <td>NaN</td>\n",
       "      <td>NaN</td>\n",
       "      <td>NaN</td>\n",
       "      <td>2024-02-01 00:00:00</td>\n",
       "    </tr>\n",
       "    <tr>\n",
       "      <th>1</th>\n",
       "      <td>関東支社</td>\n",
       "      <td>速度ループ</td>\n",
       "      <td>関越自動車道</td>\n",
       "      <td>2024</td>\n",
       "      <td>2</td>\n",
       "      <td>1</td>\n",
       "      <td>木</td>\n",
       "      <td>平</td>\n",
       "      <td>平</td>\n",
       "      <td>0:5</td>\n",
       "      <td>...</td>\n",
       "      <td>2.0</td>\n",
       "      <td>96.0</td>\n",
       "      <td>NaN</td>\n",
       "      <td>NaN</td>\n",
       "      <td>NaN</td>\n",
       "      <td>NaN</td>\n",
       "      <td>NaN</td>\n",
       "      <td>NaN</td>\n",
       "      <td>NaN</td>\n",
       "      <td>2024-02-01 00:05:00</td>\n",
       "    </tr>\n",
       "    <tr>\n",
       "      <th>2</th>\n",
       "      <td>関東支社</td>\n",
       "      <td>速度ループ</td>\n",
       "      <td>関越自動車道</td>\n",
       "      <td>2024</td>\n",
       "      <td>2</td>\n",
       "      <td>1</td>\n",
       "      <td>木</td>\n",
       "      <td>平</td>\n",
       "      <td>平</td>\n",
       "      <td>0:10</td>\n",
       "      <td>...</td>\n",
       "      <td>2.0</td>\n",
       "      <td>86.0</td>\n",
       "      <td>NaN</td>\n",
       "      <td>NaN</td>\n",
       "      <td>NaN</td>\n",
       "      <td>NaN</td>\n",
       "      <td>NaN</td>\n",
       "      <td>NaN</td>\n",
       "      <td>NaN</td>\n",
       "      <td>2024-02-01 00:10:00</td>\n",
       "    </tr>\n",
       "    <tr>\n",
       "      <th>3</th>\n",
       "      <td>関東支社</td>\n",
       "      <td>速度ループ</td>\n",
       "      <td>関越自動車道</td>\n",
       "      <td>2024</td>\n",
       "      <td>2</td>\n",
       "      <td>1</td>\n",
       "      <td>木</td>\n",
       "      <td>平</td>\n",
       "      <td>平</td>\n",
       "      <td>0:15</td>\n",
       "      <td>...</td>\n",
       "      <td>2.0</td>\n",
       "      <td>88.0</td>\n",
       "      <td>NaN</td>\n",
       "      <td>NaN</td>\n",
       "      <td>NaN</td>\n",
       "      <td>NaN</td>\n",
       "      <td>NaN</td>\n",
       "      <td>NaN</td>\n",
       "      <td>NaN</td>\n",
       "      <td>2024-02-01 00:15:00</td>\n",
       "    </tr>\n",
       "    <tr>\n",
       "      <th>4</th>\n",
       "      <td>関東支社</td>\n",
       "      <td>速度ループ</td>\n",
       "      <td>関越自動車道</td>\n",
       "      <td>2024</td>\n",
       "      <td>2</td>\n",
       "      <td>1</td>\n",
       "      <td>木</td>\n",
       "      <td>平</td>\n",
       "      <td>平</td>\n",
       "      <td>0:20</td>\n",
       "      <td>...</td>\n",
       "      <td>1.0</td>\n",
       "      <td>89.0</td>\n",
       "      <td>NaN</td>\n",
       "      <td>NaN</td>\n",
       "      <td>NaN</td>\n",
       "      <td>NaN</td>\n",
       "      <td>NaN</td>\n",
       "      <td>NaN</td>\n",
       "      <td>NaN</td>\n",
       "      <td>2024-02-01 00:20:00</td>\n",
       "    </tr>\n",
       "  </tbody>\n",
       "</table>\n",
       "<p>5 rows × 42 columns</p>\n",
       "</div>"
      ],
      "text/plain": [
       "     支社     区分      道路     年  月  日 曜日 平休1 平休2（休日に土曜日含む）    時刻  ... OCC(追)  \\\n",
       "0  関東支社  速度ループ  関越自動車道  2024  2  1  木   平             平   0:0  ...    3.0   \n",
       "1  関東支社  速度ループ  関越自動車道  2024  2  1  木   平             平   0:5  ...    2.0   \n",
       "2  関東支社  速度ループ  関越自動車道  2024  2  1  木   平             平  0:10  ...    2.0   \n",
       "3  関東支社  速度ループ  関越自動車道  2024  2  1  木   平             平  0:15  ...    2.0   \n",
       "4  関東支社  速度ループ  関越自動車道  2024  2  1  木   平             平  0:20  ...    1.0   \n",
       "\n",
       "   速度(追) エラー数.2  全車(路)  大車(路)  車線率(路)  OCC(路)  速度(路)  エラー数.3  \\\n",
       "0   88.0    NaN    NaN    NaN     NaN     NaN    NaN     NaN   \n",
       "1   96.0    NaN    NaN    NaN     NaN     NaN    NaN     NaN   \n",
       "2   86.0    NaN    NaN    NaN     NaN     NaN    NaN     NaN   \n",
       "3   88.0    NaN    NaN    NaN     NaN     NaN    NaN     NaN   \n",
       "4   89.0    NaN    NaN    NaN     NaN     NaN    NaN     NaN   \n",
       "\n",
       "             datetime  \n",
       "0 2024-02-01 00:00:00  \n",
       "1 2024-02-01 00:05:00  \n",
       "2 2024-02-01 00:10:00  \n",
       "3 2024-02-01 00:15:00  \n",
       "4 2024-02-01 00:20:00  \n",
       "\n",
       "[5 rows x 42 columns]"
      ]
     },
     "execution_count": 10,
     "metadata": {},
     "output_type": "execute_result"
    }
   ],
   "source": [
    "df_raw_dt = add_datetime_columns(df_raw)\n",
    "df_raw_dt.head()"
   ]
  },
  {
   "cell_type": "code",
   "execution_count": 11,
   "id": "a4bb3cce-d4be-4971-aa65-983ea4858cd8",
   "metadata": {},
   "outputs": [],
   "source": [
    "df_raw_sorted = df_raw_dt.sort_values(['方向', 'KP', '区間名称', 'datetime']).reset_index(drop=True)"
   ]
  },
  {
   "cell_type": "code",
   "execution_count": 12,
   "id": "78d8d18e-fe84-41f9-9dc8-7fb399a485a1",
   "metadata": {
    "tags": []
   },
   "outputs": [
    {
     "data": {
      "text/html": [
       "<div>\n",
       "<style scoped>\n",
       "    .dataframe tbody tr th:only-of-type {\n",
       "        vertical-align: middle;\n",
       "    }\n",
       "\n",
       "    .dataframe tbody tr th {\n",
       "        vertical-align: top;\n",
       "    }\n",
       "\n",
       "    .dataframe thead th {\n",
       "        text-align: right;\n",
       "    }\n",
       "</style>\n",
       "<table border=\"1\" class=\"dataframe\">\n",
       "  <thead>\n",
       "    <tr style=\"text-align: right;\">\n",
       "      <th></th>\n",
       "      <th>datetime</th>\n",
       "      <th>年</th>\n",
       "      <th>月</th>\n",
       "      <th>日</th>\n",
       "      <th>時刻</th>\n",
       "      <th>方向</th>\n",
       "      <th>KP</th>\n",
       "      <th>区間名称</th>\n",
       "    </tr>\n",
       "  </thead>\n",
       "  <tbody>\n",
       "    <tr>\n",
       "      <th>0</th>\n",
       "      <td>2024-02-01 00:00:00</td>\n",
       "      <td>2024</td>\n",
       "      <td>2</td>\n",
       "      <td>1</td>\n",
       "      <td>0:0</td>\n",
       "      <td>上り</td>\n",
       "      <td>2.26</td>\n",
       "      <td>大泉ＪＣＴ　〜　所沢</td>\n",
       "    </tr>\n",
       "    <tr>\n",
       "      <th>1</th>\n",
       "      <td>2024-02-01 00:05:00</td>\n",
       "      <td>2024</td>\n",
       "      <td>2</td>\n",
       "      <td>1</td>\n",
       "      <td>0:5</td>\n",
       "      <td>上り</td>\n",
       "      <td>2.26</td>\n",
       "      <td>大泉ＪＣＴ　〜　所沢</td>\n",
       "    </tr>\n",
       "    <tr>\n",
       "      <th>2</th>\n",
       "      <td>2024-02-01 00:10:00</td>\n",
       "      <td>2024</td>\n",
       "      <td>2</td>\n",
       "      <td>1</td>\n",
       "      <td>0:10</td>\n",
       "      <td>上り</td>\n",
       "      <td>2.26</td>\n",
       "      <td>大泉ＪＣＴ　〜　所沢</td>\n",
       "    </tr>\n",
       "    <tr>\n",
       "      <th>3</th>\n",
       "      <td>2024-02-01 00:15:00</td>\n",
       "      <td>2024</td>\n",
       "      <td>2</td>\n",
       "      <td>1</td>\n",
       "      <td>0:15</td>\n",
       "      <td>上り</td>\n",
       "      <td>2.26</td>\n",
       "      <td>大泉ＪＣＴ　〜　所沢</td>\n",
       "    </tr>\n",
       "    <tr>\n",
       "      <th>4</th>\n",
       "      <td>2024-02-01 00:20:00</td>\n",
       "      <td>2024</td>\n",
       "      <td>2</td>\n",
       "      <td>1</td>\n",
       "      <td>0:20</td>\n",
       "      <td>上り</td>\n",
       "      <td>2.26</td>\n",
       "      <td>大泉ＪＣＴ　〜　所沢</td>\n",
       "    </tr>\n",
       "  </tbody>\n",
       "</table>\n",
       "</div>"
      ],
      "text/plain": [
       "             datetime     年  月  日    時刻  方向    KP        区間名称\n",
       "0 2024-02-01 00:00:00  2024  2  1   0:0  上り  2.26  大泉ＪＣＴ　〜　所沢\n",
       "1 2024-02-01 00:05:00  2024  2  1   0:5  上り  2.26  大泉ＪＣＴ　〜　所沢\n",
       "2 2024-02-01 00:10:00  2024  2  1  0:10  上り  2.26  大泉ＪＣＴ　〜　所沢\n",
       "3 2024-02-01 00:15:00  2024  2  1  0:15  上り  2.26  大泉ＪＣＴ　〜　所沢\n",
       "4 2024-02-01 00:20:00  2024  2  1  0:20  上り  2.26  大泉ＪＣＴ　〜　所沢"
      ]
     },
     "execution_count": 12,
     "metadata": {},
     "output_type": "execute_result"
    }
   ],
   "source": [
    "df_raw_sorted.head().loc[:, ['datetime', '年', '月', '日', '時刻', '方向', 'KP', '区間名称']]"
   ]
  },
  {
   "cell_type": "code",
   "execution_count": 14,
   "id": "8dcc5e6b-8d92-4bf9-bb52-f1fab1719c2c",
   "metadata": {},
   "outputs": [
    {
     "data": {
      "text/html": [
       "<div>\n",
       "<style scoped>\n",
       "    .dataframe tbody tr th:only-of-type {\n",
       "        vertical-align: middle;\n",
       "    }\n",
       "\n",
       "    .dataframe tbody tr th {\n",
       "        vertical-align: top;\n",
       "    }\n",
       "\n",
       "    .dataframe thead th {\n",
       "        text-align: right;\n",
       "    }\n",
       "</style>\n",
       "<table border=\"1\" class=\"dataframe\">\n",
       "  <thead>\n",
       "    <tr style=\"text-align: right;\">\n",
       "      <th></th>\n",
       "      <th>datetime</th>\n",
       "      <th>年</th>\n",
       "      <th>月</th>\n",
       "      <th>日</th>\n",
       "      <th>時刻</th>\n",
       "      <th>方向</th>\n",
       "      <th>KP</th>\n",
       "      <th>区間名称</th>\n",
       "    </tr>\n",
       "  </thead>\n",
       "  <tbody>\n",
       "    <tr>\n",
       "      <th>288</th>\n",
       "      <td>2024-02-02 00:00:00</td>\n",
       "      <td>2024</td>\n",
       "      <td>2</td>\n",
       "      <td>2</td>\n",
       "      <td>0:0</td>\n",
       "      <td>上り</td>\n",
       "      <td>2.26</td>\n",
       "      <td>大泉ＪＣＴ　〜　所沢</td>\n",
       "    </tr>\n",
       "    <tr>\n",
       "      <th>289</th>\n",
       "      <td>2024-02-02 00:05:00</td>\n",
       "      <td>2024</td>\n",
       "      <td>2</td>\n",
       "      <td>2</td>\n",
       "      <td>0:5</td>\n",
       "      <td>上り</td>\n",
       "      <td>2.26</td>\n",
       "      <td>大泉ＪＣＴ　〜　所沢</td>\n",
       "    </tr>\n",
       "    <tr>\n",
       "      <th>290</th>\n",
       "      <td>2024-02-02 00:10:00</td>\n",
       "      <td>2024</td>\n",
       "      <td>2</td>\n",
       "      <td>2</td>\n",
       "      <td>0:10</td>\n",
       "      <td>上り</td>\n",
       "      <td>2.26</td>\n",
       "      <td>大泉ＪＣＴ　〜　所沢</td>\n",
       "    </tr>\n",
       "    <tr>\n",
       "      <th>291</th>\n",
       "      <td>2024-02-02 00:15:00</td>\n",
       "      <td>2024</td>\n",
       "      <td>2</td>\n",
       "      <td>2</td>\n",
       "      <td>0:15</td>\n",
       "      <td>上り</td>\n",
       "      <td>2.26</td>\n",
       "      <td>大泉ＪＣＴ　〜　所沢</td>\n",
       "    </tr>\n",
       "    <tr>\n",
       "      <th>292</th>\n",
       "      <td>2024-02-02 00:20:00</td>\n",
       "      <td>2024</td>\n",
       "      <td>2</td>\n",
       "      <td>2</td>\n",
       "      <td>0:20</td>\n",
       "      <td>上り</td>\n",
       "      <td>2.26</td>\n",
       "      <td>大泉ＪＣＴ　〜　所沢</td>\n",
       "    </tr>\n",
       "  </tbody>\n",
       "</table>\n",
       "</div>"
      ],
      "text/plain": [
       "               datetime     年  月  日    時刻  方向    KP        区間名称\n",
       "288 2024-02-02 00:00:00  2024  2  2   0:0  上り  2.26  大泉ＪＣＴ　〜　所沢\n",
       "289 2024-02-02 00:05:00  2024  2  2   0:5  上り  2.26  大泉ＪＣＴ　〜　所沢\n",
       "290 2024-02-02 00:10:00  2024  2  2  0:10  上り  2.26  大泉ＪＣＴ　〜　所沢\n",
       "291 2024-02-02 00:15:00  2024  2  2  0:15  上り  2.26  大泉ＪＣＴ　〜　所沢\n",
       "292 2024-02-02 00:20:00  2024  2  2  0:20  上り  2.26  大泉ＪＣＴ　〜　所沢"
      ]
     },
     "execution_count": 14,
     "metadata": {},
     "output_type": "execute_result"
    }
   ],
   "source": [
    "df_raw_sorted.loc[288:].head().loc[:, ['datetime', '年', '月', '日', '時刻', '方向', 'KP', '区間名称']]"
   ]
  },
  {
   "cell_type": "code",
   "execution_count": 15,
   "id": "9ff0ac36-e830-4b93-8a84-3b6b31463845",
   "metadata": {},
   "outputs": [
    {
     "data": {
      "text/html": [
       "<div>\n",
       "<style scoped>\n",
       "    .dataframe tbody tr th:only-of-type {\n",
       "        vertical-align: middle;\n",
       "    }\n",
       "\n",
       "    .dataframe tbody tr th {\n",
       "        vertical-align: top;\n",
       "    }\n",
       "\n",
       "    .dataframe thead th {\n",
       "        text-align: right;\n",
       "    }\n",
       "</style>\n",
       "<table border=\"1\" class=\"dataframe\">\n",
       "  <thead>\n",
       "    <tr style=\"text-align: right;\">\n",
       "      <th></th>\n",
       "      <th>datetime</th>\n",
       "      <th>年</th>\n",
       "      <th>月</th>\n",
       "      <th>日</th>\n",
       "      <th>時刻</th>\n",
       "      <th>方向</th>\n",
       "      <th>KP</th>\n",
       "      <th>区間名称</th>\n",
       "    </tr>\n",
       "  </thead>\n",
       "  <tbody>\n",
       "    <tr>\n",
       "      <th>3815419</th>\n",
       "      <td>2024-05-06 23:35:00</td>\n",
       "      <td>2024</td>\n",
       "      <td>5</td>\n",
       "      <td>6</td>\n",
       "      <td>23:35</td>\n",
       "      <td>下り</td>\n",
       "      <td>125.37</td>\n",
       "      <td>昭和　〜　沼田</td>\n",
       "    </tr>\n",
       "    <tr>\n",
       "      <th>3815420</th>\n",
       "      <td>2024-05-06 23:40:00</td>\n",
       "      <td>2024</td>\n",
       "      <td>5</td>\n",
       "      <td>6</td>\n",
       "      <td>23:40</td>\n",
       "      <td>下り</td>\n",
       "      <td>125.37</td>\n",
       "      <td>昭和　〜　沼田</td>\n",
       "    </tr>\n",
       "    <tr>\n",
       "      <th>3815421</th>\n",
       "      <td>2024-05-06 23:45:00</td>\n",
       "      <td>2024</td>\n",
       "      <td>5</td>\n",
       "      <td>6</td>\n",
       "      <td>23:45</td>\n",
       "      <td>下り</td>\n",
       "      <td>125.37</td>\n",
       "      <td>昭和　〜　沼田</td>\n",
       "    </tr>\n",
       "    <tr>\n",
       "      <th>3815422</th>\n",
       "      <td>2024-05-06 23:50:00</td>\n",
       "      <td>2024</td>\n",
       "      <td>5</td>\n",
       "      <td>6</td>\n",
       "      <td>23:50</td>\n",
       "      <td>下り</td>\n",
       "      <td>125.37</td>\n",
       "      <td>昭和　〜　沼田</td>\n",
       "    </tr>\n",
       "    <tr>\n",
       "      <th>3815423</th>\n",
       "      <td>2024-05-06 23:55:00</td>\n",
       "      <td>2024</td>\n",
       "      <td>5</td>\n",
       "      <td>6</td>\n",
       "      <td>23:55</td>\n",
       "      <td>下り</td>\n",
       "      <td>125.37</td>\n",
       "      <td>昭和　〜　沼田</td>\n",
       "    </tr>\n",
       "  </tbody>\n",
       "</table>\n",
       "</div>"
      ],
      "text/plain": [
       "                   datetime     年  月  日     時刻  方向      KP     区間名称\n",
       "3815419 2024-05-06 23:35:00  2024  5  6  23:35  下り  125.37  昭和　〜　沼田\n",
       "3815420 2024-05-06 23:40:00  2024  5  6  23:40  下り  125.37  昭和　〜　沼田\n",
       "3815421 2024-05-06 23:45:00  2024  5  6  23:45  下り  125.37  昭和　〜　沼田\n",
       "3815422 2024-05-06 23:50:00  2024  5  6  23:50  下り  125.37  昭和　〜　沼田\n",
       "3815423 2024-05-06 23:55:00  2024  5  6  23:55  下り  125.37  昭和　〜　沼田"
      ]
     },
     "execution_count": 15,
     "metadata": {},
     "output_type": "execute_result"
    }
   ],
   "source": [
    "df_raw_sorted.tail().loc[:, ['datetime', '年', '月', '日', '時刻', '方向', 'KP', '区間名称']]"
   ]
  },
  {
   "cell_type": "code",
   "execution_count": 13,
   "id": "caad961d-1574-4421-996a-cf29fb28300a",
   "metadata": {},
   "outputs": [],
   "source": [
    "border = pd.Timestamp('2023/4/1')"
   ]
  },
  {
   "cell_type": "code",
   "execution_count": 14,
   "id": "59100012-0f2a-4eea-b73a-0db7f3d9100a",
   "metadata": {
    "tags": []
   },
   "outputs": [
    {
     "data": {
      "text/html": [
       "<div>\n",
       "<style scoped>\n",
       "    .dataframe tbody tr th:only-of-type {\n",
       "        vertical-align: middle;\n",
       "    }\n",
       "\n",
       "    .dataframe tbody tr th {\n",
       "        vertical-align: top;\n",
       "    }\n",
       "\n",
       "    .dataframe thead th {\n",
       "        text-align: right;\n",
       "    }\n",
       "</style>\n",
       "<table border=\"1\" class=\"dataframe\">\n",
       "  <thead>\n",
       "    <tr style=\"text-align: right;\">\n",
       "      <th></th>\n",
       "      <th>datetime</th>\n",
       "      <th>年</th>\n",
       "      <th>月</th>\n",
       "      <th>日</th>\n",
       "      <th>時刻</th>\n",
       "      <th>方向</th>\n",
       "      <th>KP</th>\n",
       "      <th>区間名称</th>\n",
       "    </tr>\n",
       "  </thead>\n",
       "  <tbody>\n",
       "  </tbody>\n",
       "</table>\n",
       "</div>"
      ],
      "text/plain": [
       "Empty DataFrame\n",
       "Columns: [datetime, 年, 月, 日, 時刻, 方向, KP, 区間名称]\n",
       "Index: []"
      ]
     },
     "execution_count": 14,
     "metadata": {},
     "output_type": "execute_result"
    }
   ],
   "source": [
    "df_raw_old = df_raw_sorted.loc[df_raw_sorted.datetime < border].reset_index(drop=True)\n",
    "df_raw_old.head().loc[:, ['datetime', '年', '月', '日', '時刻', '方向', 'KP', '区間名称']]"
   ]
  },
  {
   "cell_type": "code",
   "execution_count": 15,
   "id": "d0924bb9-150f-49d6-8cb1-15b1d6b65161",
   "metadata": {},
   "outputs": [
    {
     "data": {
      "text/html": [
       "<div>\n",
       "<style scoped>\n",
       "    .dataframe tbody tr th:only-of-type {\n",
       "        vertical-align: middle;\n",
       "    }\n",
       "\n",
       "    .dataframe tbody tr th {\n",
       "        vertical-align: top;\n",
       "    }\n",
       "\n",
       "    .dataframe thead th {\n",
       "        text-align: right;\n",
       "    }\n",
       "</style>\n",
       "<table border=\"1\" class=\"dataframe\">\n",
       "  <thead>\n",
       "    <tr style=\"text-align: right;\">\n",
       "      <th></th>\n",
       "      <th>datetime</th>\n",
       "      <th>年</th>\n",
       "      <th>月</th>\n",
       "      <th>日</th>\n",
       "      <th>時刻</th>\n",
       "      <th>方向</th>\n",
       "      <th>KP</th>\n",
       "      <th>区間名称</th>\n",
       "    </tr>\n",
       "  </thead>\n",
       "  <tbody>\n",
       "  </tbody>\n",
       "</table>\n",
       "</div>"
      ],
      "text/plain": [
       "Empty DataFrame\n",
       "Columns: [datetime, 年, 月, 日, 時刻, 方向, KP, 区間名称]\n",
       "Index: []"
      ]
     },
     "execution_count": 15,
     "metadata": {},
     "output_type": "execute_result"
    }
   ],
   "source": [
    "df_raw_old.tail().loc[:, ['datetime', '年', '月', '日', '時刻', '方向', 'KP', '区間名称']]"
   ]
  },
  {
   "cell_type": "code",
   "execution_count": 16,
   "id": "b6e74270-8f1e-4075-9047-97dbce8810fd",
   "metadata": {
    "tags": []
   },
   "outputs": [
    {
     "data": {
      "text/html": [
       "<div>\n",
       "<style scoped>\n",
       "    .dataframe tbody tr th:only-of-type {\n",
       "        vertical-align: middle;\n",
       "    }\n",
       "\n",
       "    .dataframe tbody tr th {\n",
       "        vertical-align: top;\n",
       "    }\n",
       "\n",
       "    .dataframe thead th {\n",
       "        text-align: right;\n",
       "    }\n",
       "</style>\n",
       "<table border=\"1\" class=\"dataframe\">\n",
       "  <thead>\n",
       "    <tr style=\"text-align: right;\">\n",
       "      <th></th>\n",
       "      <th>datetime</th>\n",
       "      <th>年</th>\n",
       "      <th>月</th>\n",
       "      <th>日</th>\n",
       "      <th>時刻</th>\n",
       "      <th>方向</th>\n",
       "      <th>KP</th>\n",
       "      <th>区間名称</th>\n",
       "    </tr>\n",
       "  </thead>\n",
       "  <tbody>\n",
       "    <tr>\n",
       "      <th>0</th>\n",
       "      <td>2023-10-01 00:00:00</td>\n",
       "      <td>2023</td>\n",
       "      <td>10</td>\n",
       "      <td>1</td>\n",
       "      <td>0:0</td>\n",
       "      <td>上り</td>\n",
       "      <td>2.26</td>\n",
       "      <td>大泉ＪＣＴ　〜　所沢</td>\n",
       "    </tr>\n",
       "    <tr>\n",
       "      <th>1</th>\n",
       "      <td>2023-10-01 00:05:00</td>\n",
       "      <td>2023</td>\n",
       "      <td>10</td>\n",
       "      <td>1</td>\n",
       "      <td>0:5</td>\n",
       "      <td>上り</td>\n",
       "      <td>2.26</td>\n",
       "      <td>大泉ＪＣＴ　〜　所沢</td>\n",
       "    </tr>\n",
       "    <tr>\n",
       "      <th>2</th>\n",
       "      <td>2023-10-01 00:10:00</td>\n",
       "      <td>2023</td>\n",
       "      <td>10</td>\n",
       "      <td>1</td>\n",
       "      <td>0:10</td>\n",
       "      <td>上り</td>\n",
       "      <td>2.26</td>\n",
       "      <td>大泉ＪＣＴ　〜　所沢</td>\n",
       "    </tr>\n",
       "    <tr>\n",
       "      <th>3</th>\n",
       "      <td>2023-10-01 00:15:00</td>\n",
       "      <td>2023</td>\n",
       "      <td>10</td>\n",
       "      <td>1</td>\n",
       "      <td>0:15</td>\n",
       "      <td>上り</td>\n",
       "      <td>2.26</td>\n",
       "      <td>大泉ＪＣＴ　〜　所沢</td>\n",
       "    </tr>\n",
       "    <tr>\n",
       "      <th>4</th>\n",
       "      <td>2023-10-01 00:20:00</td>\n",
       "      <td>2023</td>\n",
       "      <td>10</td>\n",
       "      <td>1</td>\n",
       "      <td>0:20</td>\n",
       "      <td>上り</td>\n",
       "      <td>2.26</td>\n",
       "      <td>大泉ＪＣＴ　〜　所沢</td>\n",
       "    </tr>\n",
       "  </tbody>\n",
       "</table>\n",
       "</div>"
      ],
      "text/plain": [
       "             datetime     年   月  日    時刻  方向    KP        区間名称\n",
       "0 2023-10-01 00:00:00  2023  10  1   0:0  上り  2.26  大泉ＪＣＴ　〜　所沢\n",
       "1 2023-10-01 00:05:00  2023  10  1   0:5  上り  2.26  大泉ＪＣＴ　〜　所沢\n",
       "2 2023-10-01 00:10:00  2023  10  1  0:10  上り  2.26  大泉ＪＣＴ　〜　所沢\n",
       "3 2023-10-01 00:15:00  2023  10  1  0:15  上り  2.26  大泉ＪＣＴ　〜　所沢\n",
       "4 2023-10-01 00:20:00  2023  10  1  0:20  上り  2.26  大泉ＪＣＴ　〜　所沢"
      ]
     },
     "execution_count": 16,
     "metadata": {},
     "output_type": "execute_result"
    }
   ],
   "source": [
    "df_raw_new = df_raw_sorted.loc[df_raw_sorted.datetime >= border].reset_index(drop=True)\n",
    "df_raw_new.head().loc[:, ['datetime', '年', '月', '日', '時刻', '方向', 'KP', '区間名称']]"
   ]
  },
  {
   "cell_type": "code",
   "execution_count": 17,
   "id": "c79e7fe6-3ffa-429c-9f46-45141b043437",
   "metadata": {},
   "outputs": [
    {
     "data": {
      "text/html": [
       "<div>\n",
       "<style scoped>\n",
       "    .dataframe tbody tr th:only-of-type {\n",
       "        vertical-align: middle;\n",
       "    }\n",
       "\n",
       "    .dataframe tbody tr th {\n",
       "        vertical-align: top;\n",
       "    }\n",
       "\n",
       "    .dataframe thead th {\n",
       "        text-align: right;\n",
       "    }\n",
       "</style>\n",
       "<table border=\"1\" class=\"dataframe\">\n",
       "  <thead>\n",
       "    <tr style=\"text-align: right;\">\n",
       "      <th></th>\n",
       "      <th>datetime</th>\n",
       "      <th>年</th>\n",
       "      <th>月</th>\n",
       "      <th>日</th>\n",
       "      <th>時刻</th>\n",
       "      <th>方向</th>\n",
       "      <th>KP</th>\n",
       "      <th>区間名称</th>\n",
       "    </tr>\n",
       "  </thead>\n",
       "  <tbody>\n",
       "    <tr>\n",
       "      <th>4888507</th>\n",
       "      <td>2024-01-31 23:35:00</td>\n",
       "      <td>2024</td>\n",
       "      <td>1</td>\n",
       "      <td>31</td>\n",
       "      <td>23:35</td>\n",
       "      <td>下り</td>\n",
       "      <td>125.37</td>\n",
       "      <td>昭和　〜　沼田</td>\n",
       "    </tr>\n",
       "    <tr>\n",
       "      <th>4888508</th>\n",
       "      <td>2024-01-31 23:40:00</td>\n",
       "      <td>2024</td>\n",
       "      <td>1</td>\n",
       "      <td>31</td>\n",
       "      <td>23:40</td>\n",
       "      <td>下り</td>\n",
       "      <td>125.37</td>\n",
       "      <td>昭和　〜　沼田</td>\n",
       "    </tr>\n",
       "    <tr>\n",
       "      <th>4888509</th>\n",
       "      <td>2024-01-31 23:45:00</td>\n",
       "      <td>2024</td>\n",
       "      <td>1</td>\n",
       "      <td>31</td>\n",
       "      <td>23:45</td>\n",
       "      <td>下り</td>\n",
       "      <td>125.37</td>\n",
       "      <td>昭和　〜　沼田</td>\n",
       "    </tr>\n",
       "    <tr>\n",
       "      <th>4888510</th>\n",
       "      <td>2024-01-31 23:50:00</td>\n",
       "      <td>2024</td>\n",
       "      <td>1</td>\n",
       "      <td>31</td>\n",
       "      <td>23:50</td>\n",
       "      <td>下り</td>\n",
       "      <td>125.37</td>\n",
       "      <td>昭和　〜　沼田</td>\n",
       "    </tr>\n",
       "    <tr>\n",
       "      <th>4888511</th>\n",
       "      <td>2024-01-31 23:55:00</td>\n",
       "      <td>2024</td>\n",
       "      <td>1</td>\n",
       "      <td>31</td>\n",
       "      <td>23:55</td>\n",
       "      <td>下り</td>\n",
       "      <td>125.37</td>\n",
       "      <td>昭和　〜　沼田</td>\n",
       "    </tr>\n",
       "  </tbody>\n",
       "</table>\n",
       "</div>"
      ],
      "text/plain": [
       "                   datetime     年  月   日     時刻  方向      KP     区間名称\n",
       "4888507 2024-01-31 23:35:00  2024  1  31  23:35  下り  125.37  昭和　〜　沼田\n",
       "4888508 2024-01-31 23:40:00  2024  1  31  23:40  下り  125.37  昭和　〜　沼田\n",
       "4888509 2024-01-31 23:45:00  2024  1  31  23:45  下り  125.37  昭和　〜　沼田\n",
       "4888510 2024-01-31 23:50:00  2024  1  31  23:50  下り  125.37  昭和　〜　沼田\n",
       "4888511 2024-01-31 23:55:00  2024  1  31  23:55  下り  125.37  昭和　〜　沼田"
      ]
     },
     "execution_count": 17,
     "metadata": {},
     "output_type": "execute_result"
    }
   ],
   "source": [
    "df_raw_new.tail().loc[:, ['datetime', '年', '月', '日', '時刻', '方向', 'KP', '区間名称']]"
   ]
  },
  {
   "cell_type": "code",
   "execution_count": 18,
   "id": "5a852b3d-dc8b-49b3-ab17-dbaae118b220",
   "metadata": {},
   "outputs": [],
   "source": [
    "assert len(df_raw_old) + len(df_raw_new) == len(df_raw)"
   ]
  },
  {
   "cell_type": "code",
   "execution_count": 19,
   "id": "cb314a43-034f-496f-8d34-2fa4d9367891",
   "metadata": {},
   "outputs": [
    {
     "data": {
      "text/plain": [
       "'./traffic/raw_kannetsu_20231001-20240131_2KP.csv'"
      ]
     },
     "execution_count": 19,
     "metadata": {},
     "output_type": "execute_result"
    }
   ],
   "source": [
    "RAW_CSV"
   ]
  },
  {
   "cell_type": "code",
   "execution_count": 42,
   "id": "6667612a-e638-462b-832f-bfe506208262",
   "metadata": {},
   "outputs": [],
   "source": [
    "period_old = '20220401-20230331'\n",
    "period_new = '20230401-20230731'\n",
    "\n",
    "file_old = f'./traffic/raw_{TARGET_ROAD}_{period_old}_2KP.csv'\n",
    "file_new = f'./traffic/raw_{TARGET_ROAD}_{period_new}_2KP.csv'"
   ]
  },
  {
   "cell_type": "code",
   "execution_count": 20,
   "id": "e475e4f3-f198-4b57-972c-369d6e57f1ff",
   "metadata": {},
   "outputs": [],
   "source": [
    "# %time df_raw_old.drop('datetime', axis=1).to_csv(file_old, index=False)"
   ]
  },
  {
   "cell_type": "code",
   "execution_count": 21,
   "id": "1775564c-164e-44a7-bc16-37ad72958581",
   "metadata": {},
   "outputs": [],
   "source": [
    "# %time df_raw_new.drop('datetime', axis=1).to_csv(file_new, index=False)"
   ]
  },
  {
   "cell_type": "code",
   "execution_count": null,
   "id": "9ae0d3bc-f86c-4021-b7c4-2975cb56e58b",
   "metadata": {},
   "outputs": [],
   "source": []
  }
 ],
 "metadata": {
  "kernelspec": {
   "display_name": "Python 3 (ipykernel)",
   "language": "python",
   "name": "python3"
  },
  "language_info": {
   "codemirror_mode": {
    "name": "ipython",
    "version": 3
   },
   "file_extension": ".py",
   "mimetype": "text/x-python",
   "name": "python",
   "nbconvert_exporter": "python",
   "pygments_lexer": "ipython3",
   "version": "3.8.13"
  }
 },
 "nbformat": 4,
 "nbformat_minor": 5
}
