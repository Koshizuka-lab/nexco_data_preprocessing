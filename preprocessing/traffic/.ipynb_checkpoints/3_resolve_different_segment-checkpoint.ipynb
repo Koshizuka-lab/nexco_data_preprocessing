{
 "cells": [
  {
   "cell_type": "markdown",
   "metadata": {
    "tags": []
   },
   "source": [
    "# このファイルについて\n",
    "- about: トラカンデータとドラぷらデータをマージした際、区間情報の違いから生まれた欠損を埋める処理\n",
    "- author: 松永\n",
    "- ref: ../cudf/1_2_fill_missing_traffic_segment.ipynb"
   ]
  },
  {
   "cell_type": "code",
   "execution_count": 1,
   "metadata": {},
   "outputs": [],
   "source": [
    "import networkx as nx\n",
    "import numpy as np\n",
    "import pandas as pd\n",
    "import cudf\n",
    "import missingno as msno\n",
    "import matplotlib.pyplot as plt\n",
    "import seaborn as sns\n",
    "plt.rcParams['font.family'] = 'Noto Sans JP'"
   ]
  },
  {
   "cell_type": "code",
   "execution_count": 14,
   "metadata": {},
   "outputs": [],
   "source": [
    "# data directory\n",
    "DATA_DIR = '../../Input_processed_data'\n",
    "\n",
    "# IC, 道路情報 csv\n",
    "# IC_CSV = f'{DATA_DIR}/road_master/ic_merged.csv'\n",
    "# IC_NET_SUB_CSV = f'{DATA_DIR}/road_master/tateyama_kannetsu_doronet_sub_with_rule.csv'\n",
    "\n",
    "IC_CSV = f'{DATA_DIR}/road_master/ic_preprocessed.csv'\n",
    "IC_NET_SUB_CSV = f'{DATA_DIR}/road_master/tateyama_kannetsu_icnet.csv'\n",
    "# IC_NET_SUB_CSV = f'{DATA_DIR}/road_master/touhoku_icnet.csv'\n",
    "\n",
    "# 道路名\n",
    "# TARGET_ROAD='tateyama'\n",
    "TARGET_ROAD='kannetsu'\n",
    "# TARGET_ROAD = 'touhoku'\n",
    "\n",
    "# 検索量 csv\n",
    "SEARCH_COUNT_DIR = f'./search_count'\n",
    "SEARCH_COUNT_CSV = f'{SEARCH_COUNT_DIR}/preprocessed_search-count_{TARGET_ROAD}.csv'\n",
    "SEARCH_COUNT_UNSPEC_CSV = f'{SEARCH_COUNT_DIR}/preprocessed_search-count_{TARGET_ROAD}_unspecified.csv'\n",
    "\n",
    "# 交通量データ\n",
    "TRAFFIC_DIR = f'./traffic_preprocessed'\n",
    "MERGED_CSV = f'{TRAFFIC_DIR}/{TARGET_ROAD}_20230801-20230816all-merged.csv'\n",
    "OUTPUT_CSV = f'{TRAFFIC_DIR}/{TARGET_ROAD}_20230801-20230816all-merged_filled.csv'"
   ]
  },
  {
   "cell_type": "code",
   "execution_count": 38,
   "metadata": {},
   "outputs": [],
   "source": [
    "df_ic = pd.read_csv(IC_CSV, dtype={'ic_code': str})\n",
    "df_icnet = pd.read_csv(IC_NET_SUB_CSV, dtype={'start_code': str, 'end_code': str, 'road_code': str})\n",
    "\n",
    "code2name = dict(zip(df_ic['ic_code'], df_ic['ic_name']))\n",
    "name2code = {v: k for k, v in code2name.items()}\n",
    "\n",
    "ic_graph = nx.from_pandas_edgelist(df_icnet, source='start_code', target='end_code',\n",
    "                                  edge_attr=['road_code', 'direction'],\n",
    "                                  create_using=nx.DiGraph())"
   ]
  },
  {
   "cell_type": "code",
   "execution_count": 16,
   "metadata": {},
   "outputs": [
    {
     "name": "stdout",
     "output_type": "stream",
     "text": [
      "(216576, 35)\n"
     ]
    }
   ],
   "source": [
    "df = pd.read_csv(MERGED_CSV, parse_dates=True, index_col='datetime',\n",
    "                dtype={'start_code': str, 'end_code': str, 'road_code': str, 'jam_type': str}).reset_index()\n",
    "print(df.shape)"
   ]
  },
  {
   "cell_type": "code",
   "execution_count": 17,
   "metadata": {},
   "outputs": [
    {
     "data": {
      "text/html": [
       "<div>\n",
       "<style scoped>\n",
       "    .dataframe tbody tr th:only-of-type {\n",
       "        vertical-align: middle;\n",
       "    }\n",
       "\n",
       "    .dataframe tbody tr th {\n",
       "        vertical-align: top;\n",
       "    }\n",
       "\n",
       "    .dataframe thead th {\n",
       "        text-align: right;\n",
       "    }\n",
       "</style>\n",
       "<table border=\"1\" class=\"dataframe\">\n",
       "  <thead>\n",
       "    <tr style=\"text-align: right;\">\n",
       "      <th></th>\n",
       "      <th>datetime</th>\n",
       "      <th>start_name</th>\n",
       "      <th>end_name</th>\n",
       "      <th>start_code</th>\n",
       "      <th>end_code</th>\n",
       "      <th>start_pref_code</th>\n",
       "      <th>end_pref_code</th>\n",
       "      <th>start_lat</th>\n",
       "      <th>end_lat</th>\n",
       "      <th>start_lng</th>\n",
       "      <th>...</th>\n",
       "      <th>OCC</th>\n",
       "      <th>allCars</th>\n",
       "      <th>speed</th>\n",
       "      <th>limit_speed</th>\n",
       "      <th>search_5min</th>\n",
       "      <th>search_1h</th>\n",
       "      <th>search_unspec_1d</th>\n",
       "      <th>search_unspec_3d</th>\n",
       "      <th>search_unspec_7d</th>\n",
       "      <th>search_unspec_10d</th>\n",
       "    </tr>\n",
       "  </thead>\n",
       "  <tbody>\n",
       "    <tr>\n",
       "      <th>0</th>\n",
       "      <td>2023-08-01 00:00:00</td>\n",
       "      <td>大泉ＪＣＴ</td>\n",
       "      <td>所沢</td>\n",
       "      <td>1110210</td>\n",
       "      <td>1800006</td>\n",
       "      <td>13</td>\n",
       "      <td>11</td>\n",
       "      <td>35.75582</td>\n",
       "      <td>35.80615</td>\n",
       "      <td>139.601514</td>\n",
       "      <td>...</td>\n",
       "      <td>3.0</td>\n",
       "      <td>69.0</td>\n",
       "      <td>82.0</td>\n",
       "      <td>100</td>\n",
       "      <td>NaN</td>\n",
       "      <td>NaN</td>\n",
       "      <td>NaN</td>\n",
       "      <td>NaN</td>\n",
       "      <td>NaN</td>\n",
       "      <td>NaN</td>\n",
       "    </tr>\n",
       "    <tr>\n",
       "      <th>1</th>\n",
       "      <td>2023-08-01 00:05:00</td>\n",
       "      <td>大泉ＪＣＴ</td>\n",
       "      <td>所沢</td>\n",
       "      <td>1110210</td>\n",
       "      <td>1800006</td>\n",
       "      <td>13</td>\n",
       "      <td>11</td>\n",
       "      <td>35.75582</td>\n",
       "      <td>35.80615</td>\n",
       "      <td>139.601514</td>\n",
       "      <td>...</td>\n",
       "      <td>3.0</td>\n",
       "      <td>66.0</td>\n",
       "      <td>83.0</td>\n",
       "      <td>100</td>\n",
       "      <td>NaN</td>\n",
       "      <td>NaN</td>\n",
       "      <td>NaN</td>\n",
       "      <td>NaN</td>\n",
       "      <td>NaN</td>\n",
       "      <td>NaN</td>\n",
       "    </tr>\n",
       "    <tr>\n",
       "      <th>2</th>\n",
       "      <td>2023-08-01 00:10:00</td>\n",
       "      <td>大泉ＪＣＴ</td>\n",
       "      <td>所沢</td>\n",
       "      <td>1110210</td>\n",
       "      <td>1800006</td>\n",
       "      <td>13</td>\n",
       "      <td>11</td>\n",
       "      <td>35.75582</td>\n",
       "      <td>35.80615</td>\n",
       "      <td>139.601514</td>\n",
       "      <td>...</td>\n",
       "      <td>3.0</td>\n",
       "      <td>59.0</td>\n",
       "      <td>81.0</td>\n",
       "      <td>100</td>\n",
       "      <td>NaN</td>\n",
       "      <td>NaN</td>\n",
       "      <td>NaN</td>\n",
       "      <td>NaN</td>\n",
       "      <td>NaN</td>\n",
       "      <td>NaN</td>\n",
       "    </tr>\n",
       "    <tr>\n",
       "      <th>3</th>\n",
       "      <td>2023-08-01 00:15:00</td>\n",
       "      <td>大泉ＪＣＴ</td>\n",
       "      <td>所沢</td>\n",
       "      <td>1110210</td>\n",
       "      <td>1800006</td>\n",
       "      <td>13</td>\n",
       "      <td>11</td>\n",
       "      <td>35.75582</td>\n",
       "      <td>35.80615</td>\n",
       "      <td>139.601514</td>\n",
       "      <td>...</td>\n",
       "      <td>3.0</td>\n",
       "      <td>70.0</td>\n",
       "      <td>83.0</td>\n",
       "      <td>100</td>\n",
       "      <td>NaN</td>\n",
       "      <td>NaN</td>\n",
       "      <td>NaN</td>\n",
       "      <td>NaN</td>\n",
       "      <td>NaN</td>\n",
       "      <td>NaN</td>\n",
       "    </tr>\n",
       "    <tr>\n",
       "      <th>4</th>\n",
       "      <td>2023-08-01 00:20:00</td>\n",
       "      <td>大泉ＪＣＴ</td>\n",
       "      <td>所沢</td>\n",
       "      <td>1110210</td>\n",
       "      <td>1800006</td>\n",
       "      <td>13</td>\n",
       "      <td>11</td>\n",
       "      <td>35.75582</td>\n",
       "      <td>35.80615</td>\n",
       "      <td>139.601514</td>\n",
       "      <td>...</td>\n",
       "      <td>2.0</td>\n",
       "      <td>48.0</td>\n",
       "      <td>82.0</td>\n",
       "      <td>100</td>\n",
       "      <td>NaN</td>\n",
       "      <td>NaN</td>\n",
       "      <td>NaN</td>\n",
       "      <td>NaN</td>\n",
       "      <td>NaN</td>\n",
       "      <td>NaN</td>\n",
       "    </tr>\n",
       "  </tbody>\n",
       "</table>\n",
       "<p>5 rows × 35 columns</p>\n",
       "</div>"
      ],
      "text/plain": [
       "             datetime start_name end_name start_code end_code  \\\n",
       "0 2023-08-01 00:00:00      大泉ＪＣＴ       所沢    1110210  1800006   \n",
       "1 2023-08-01 00:05:00      大泉ＪＣＴ       所沢    1110210  1800006   \n",
       "2 2023-08-01 00:10:00      大泉ＪＣＴ       所沢    1110210  1800006   \n",
       "3 2023-08-01 00:15:00      大泉ＪＣＴ       所沢    1110210  1800006   \n",
       "4 2023-08-01 00:20:00      大泉ＪＣＴ       所沢    1110210  1800006   \n",
       "\n",
       "   start_pref_code  end_pref_code  start_lat   end_lat   start_lng  ...  OCC  \\\n",
       "0               13             11   35.75582  35.80615  139.601514  ...  3.0   \n",
       "1               13             11   35.75582  35.80615  139.601514  ...  3.0   \n",
       "2               13             11   35.75582  35.80615  139.601514  ...  3.0   \n",
       "3               13             11   35.75582  35.80615  139.601514  ...  3.0   \n",
       "4               13             11   35.75582  35.80615  139.601514  ...  2.0   \n",
       "\n",
       "   allCars  speed  limit_speed  search_5min  search_1h  search_unspec_1d  \\\n",
       "0     69.0   82.0          100          NaN        NaN               NaN   \n",
       "1     66.0   83.0          100          NaN        NaN               NaN   \n",
       "2     59.0   81.0          100          NaN        NaN               NaN   \n",
       "3     70.0   83.0          100          NaN        NaN               NaN   \n",
       "4     48.0   82.0          100          NaN        NaN               NaN   \n",
       "\n",
       "   search_unspec_3d  search_unspec_7d  search_unspec_10d  \n",
       "0               NaN               NaN                NaN  \n",
       "1               NaN               NaN                NaN  \n",
       "2               NaN               NaN                NaN  \n",
       "3               NaN               NaN                NaN  \n",
       "4               NaN               NaN                NaN  \n",
       "\n",
       "[5 rows x 35 columns]"
      ]
     },
     "execution_count": 17,
     "metadata": {},
     "output_type": "execute_result"
    }
   ],
   "source": [
    "df.head()"
   ]
  },
  {
   "cell_type": "code",
   "execution_count": 18,
   "metadata": {},
   "outputs": [
    {
     "data": {
      "text/html": [
       "<div>\n",
       "<style scoped>\n",
       "    .dataframe tbody tr th:only-of-type {\n",
       "        vertical-align: middle;\n",
       "    }\n",
       "\n",
       "    .dataframe tbody tr th {\n",
       "        vertical-align: top;\n",
       "    }\n",
       "\n",
       "    .dataframe thead th {\n",
       "        text-align: right;\n",
       "    }\n",
       "</style>\n",
       "<table border=\"1\" class=\"dataframe\">\n",
       "  <thead>\n",
       "    <tr style=\"text-align: right;\">\n",
       "      <th></th>\n",
       "      <th>datetime</th>\n",
       "      <th>start_name</th>\n",
       "      <th>end_name</th>\n",
       "      <th>start_code</th>\n",
       "      <th>end_code</th>\n",
       "      <th>start_pref_code</th>\n",
       "      <th>end_pref_code</th>\n",
       "      <th>start_lat</th>\n",
       "      <th>end_lat</th>\n",
       "      <th>start_lng</th>\n",
       "      <th>...</th>\n",
       "      <th>OCC</th>\n",
       "      <th>allCars</th>\n",
       "      <th>speed</th>\n",
       "      <th>limit_speed</th>\n",
       "      <th>search_5min</th>\n",
       "      <th>search_1h</th>\n",
       "      <th>search_unspec_1d</th>\n",
       "      <th>search_unspec_3d</th>\n",
       "      <th>search_unspec_7d</th>\n",
       "      <th>search_unspec_10d</th>\n",
       "    </tr>\n",
       "  </thead>\n",
       "  <tbody>\n",
       "    <tr>\n",
       "      <th>216571</th>\n",
       "      <td>2023-08-16 23:35:00</td>\n",
       "      <td>水上</td>\n",
       "      <td>月夜野</td>\n",
       "      <td>1800121</td>\n",
       "      <td>1800116</td>\n",
       "      <td>10</td>\n",
       "      <td>10</td>\n",
       "      <td>36.74467</td>\n",
       "      <td>36.67054</td>\n",
       "      <td>138.976822</td>\n",
       "      <td>...</td>\n",
       "      <td>2.0</td>\n",
       "      <td>27.0</td>\n",
       "      <td>93.0</td>\n",
       "      <td>80</td>\n",
       "      <td>NaN</td>\n",
       "      <td>NaN</td>\n",
       "      <td>NaN</td>\n",
       "      <td>NaN</td>\n",
       "      <td>NaN</td>\n",
       "      <td>NaN</td>\n",
       "    </tr>\n",
       "    <tr>\n",
       "      <th>216572</th>\n",
       "      <td>2023-08-16 23:40:00</td>\n",
       "      <td>水上</td>\n",
       "      <td>月夜野</td>\n",
       "      <td>1800121</td>\n",
       "      <td>1800116</td>\n",
       "      <td>10</td>\n",
       "      <td>10</td>\n",
       "      <td>36.74467</td>\n",
       "      <td>36.67054</td>\n",
       "      <td>138.976822</td>\n",
       "      <td>...</td>\n",
       "      <td>2.0</td>\n",
       "      <td>27.0</td>\n",
       "      <td>90.0</td>\n",
       "      <td>80</td>\n",
       "      <td>NaN</td>\n",
       "      <td>NaN</td>\n",
       "      <td>NaN</td>\n",
       "      <td>NaN</td>\n",
       "      <td>NaN</td>\n",
       "      <td>NaN</td>\n",
       "    </tr>\n",
       "    <tr>\n",
       "      <th>216573</th>\n",
       "      <td>2023-08-16 23:45:00</td>\n",
       "      <td>水上</td>\n",
       "      <td>月夜野</td>\n",
       "      <td>1800121</td>\n",
       "      <td>1800116</td>\n",
       "      <td>10</td>\n",
       "      <td>10</td>\n",
       "      <td>36.74467</td>\n",
       "      <td>36.67054</td>\n",
       "      <td>138.976822</td>\n",
       "      <td>...</td>\n",
       "      <td>2.0</td>\n",
       "      <td>37.0</td>\n",
       "      <td>96.0</td>\n",
       "      <td>80</td>\n",
       "      <td>NaN</td>\n",
       "      <td>NaN</td>\n",
       "      <td>NaN</td>\n",
       "      <td>NaN</td>\n",
       "      <td>NaN</td>\n",
       "      <td>NaN</td>\n",
       "    </tr>\n",
       "    <tr>\n",
       "      <th>216574</th>\n",
       "      <td>2023-08-16 23:50:00</td>\n",
       "      <td>水上</td>\n",
       "      <td>月夜野</td>\n",
       "      <td>1800121</td>\n",
       "      <td>1800116</td>\n",
       "      <td>10</td>\n",
       "      <td>10</td>\n",
       "      <td>36.74467</td>\n",
       "      <td>36.67054</td>\n",
       "      <td>138.976822</td>\n",
       "      <td>...</td>\n",
       "      <td>1.0</td>\n",
       "      <td>20.0</td>\n",
       "      <td>89.0</td>\n",
       "      <td>80</td>\n",
       "      <td>NaN</td>\n",
       "      <td>NaN</td>\n",
       "      <td>NaN</td>\n",
       "      <td>NaN</td>\n",
       "      <td>NaN</td>\n",
       "      <td>NaN</td>\n",
       "    </tr>\n",
       "    <tr>\n",
       "      <th>216575</th>\n",
       "      <td>2023-08-16 23:55:00</td>\n",
       "      <td>水上</td>\n",
       "      <td>月夜野</td>\n",
       "      <td>1800121</td>\n",
       "      <td>1800116</td>\n",
       "      <td>10</td>\n",
       "      <td>10</td>\n",
       "      <td>36.74467</td>\n",
       "      <td>36.67054</td>\n",
       "      <td>138.976822</td>\n",
       "      <td>...</td>\n",
       "      <td>1.0</td>\n",
       "      <td>20.0</td>\n",
       "      <td>94.0</td>\n",
       "      <td>80</td>\n",
       "      <td>NaN</td>\n",
       "      <td>NaN</td>\n",
       "      <td>NaN</td>\n",
       "      <td>NaN</td>\n",
       "      <td>NaN</td>\n",
       "      <td>NaN</td>\n",
       "    </tr>\n",
       "  </tbody>\n",
       "</table>\n",
       "<p>5 rows × 35 columns</p>\n",
       "</div>"
      ],
      "text/plain": [
       "                  datetime start_name end_name start_code end_code  \\\n",
       "216571 2023-08-16 23:35:00         水上      月夜野    1800121  1800116   \n",
       "216572 2023-08-16 23:40:00         水上      月夜野    1800121  1800116   \n",
       "216573 2023-08-16 23:45:00         水上      月夜野    1800121  1800116   \n",
       "216574 2023-08-16 23:50:00         水上      月夜野    1800121  1800116   \n",
       "216575 2023-08-16 23:55:00         水上      月夜野    1800121  1800116   \n",
       "\n",
       "        start_pref_code  end_pref_code  start_lat   end_lat   start_lng  ...  \\\n",
       "216571               10             10   36.74467  36.67054  138.976822  ...   \n",
       "216572               10             10   36.74467  36.67054  138.976822  ...   \n",
       "216573               10             10   36.74467  36.67054  138.976822  ...   \n",
       "216574               10             10   36.74467  36.67054  138.976822  ...   \n",
       "216575               10             10   36.74467  36.67054  138.976822  ...   \n",
       "\n",
       "        OCC  allCars  speed  limit_speed  search_5min  search_1h  \\\n",
       "216571  2.0     27.0   93.0           80          NaN        NaN   \n",
       "216572  2.0     27.0   90.0           80          NaN        NaN   \n",
       "216573  2.0     37.0   96.0           80          NaN        NaN   \n",
       "216574  1.0     20.0   89.0           80          NaN        NaN   \n",
       "216575  1.0     20.0   94.0           80          NaN        NaN   \n",
       "\n",
       "        search_unspec_1d  search_unspec_3d  search_unspec_7d  \\\n",
       "216571               NaN               NaN               NaN   \n",
       "216572               NaN               NaN               NaN   \n",
       "216573               NaN               NaN               NaN   \n",
       "216574               NaN               NaN               NaN   \n",
       "216575               NaN               NaN               NaN   \n",
       "\n",
       "        search_unspec_10d  \n",
       "216571                NaN  \n",
       "216572                NaN  \n",
       "216573                NaN  \n",
       "216574                NaN  \n",
       "216575                NaN  \n",
       "\n",
       "[5 rows x 35 columns]"
      ]
     },
     "execution_count": 18,
     "metadata": {},
     "output_type": "execute_result"
    }
   ],
   "source": [
    "df.tail()"
   ]
  },
  {
   "cell_type": "markdown",
   "metadata": {},
   "source": [
    "## 区間情報の違いから生まれる欠損を埋める"
   ]
  },
  {
   "cell_type": "code",
   "execution_count": 19,
   "metadata": {
    "tags": []
   },
   "outputs": [
    {
     "name": "stdout",
     "output_type": "stream",
     "text": [
      "(25214613, 5)\n"
     ]
    },
    {
     "data": {
      "text/html": [
       "<div>\n",
       "<style scoped>\n",
       "    .dataframe tbody tr th:only-of-type {\n",
       "        vertical-align: middle;\n",
       "    }\n",
       "\n",
       "    .dataframe tbody tr th {\n",
       "        vertical-align: top;\n",
       "    }\n",
       "\n",
       "    .dataframe thead th {\n",
       "        text-align: right;\n",
       "    }\n",
       "</style>\n",
       "<table border=\"1\" class=\"dataframe\">\n",
       "  <thead>\n",
       "    <tr style=\"text-align: right;\">\n",
       "      <th></th>\n",
       "      <th>passing_time</th>\n",
       "      <th>start_code</th>\n",
       "      <th>end_code</th>\n",
       "      <th>search_5min</th>\n",
       "      <th>search_1h</th>\n",
       "    </tr>\n",
       "  </thead>\n",
       "  <tbody>\n",
       "    <tr>\n",
       "      <th>0</th>\n",
       "      <td>2021-04-02 00:00:00</td>\n",
       "      <td>1080291</td>\n",
       "      <td>1800186</td>\n",
       "      <td>0</td>\n",
       "      <td>5</td>\n",
       "    </tr>\n",
       "    <tr>\n",
       "      <th>1</th>\n",
       "      <td>2021-04-02 00:05:00</td>\n",
       "      <td>1080291</td>\n",
       "      <td>1800186</td>\n",
       "      <td>0</td>\n",
       "      <td>5</td>\n",
       "    </tr>\n",
       "    <tr>\n",
       "      <th>2</th>\n",
       "      <td>2021-04-02 00:10:00</td>\n",
       "      <td>1080291</td>\n",
       "      <td>1800186</td>\n",
       "      <td>0</td>\n",
       "      <td>5</td>\n",
       "    </tr>\n",
       "  </tbody>\n",
       "</table>\n",
       "</div>"
      ],
      "text/plain": [
       "         passing_time start_code end_code  search_5min  search_1h\n",
       "0 2021-04-02 00:00:00    1080291  1800186            0          5\n",
       "1 2021-04-02 00:05:00    1080291  1800186            0          5\n",
       "2 2021-04-02 00:10:00    1080291  1800186            0          5"
      ]
     },
     "execution_count": 19,
     "metadata": {},
     "output_type": "execute_result"
    }
   ],
   "source": [
    "df_spec = pd.read_csv(SEARCH_COUNT_CSV, parse_dates=True, index_col='passing_time',\n",
    "                    dtype={'start_code': str, 'end_code': str}).reset_index()\n",
    "print(df_spec.shape)\n",
    "df_spec.head(3)"
   ]
  },
  {
   "cell_type": "code",
   "execution_count": 9,
   "metadata": {},
   "outputs": [
    {
     "name": "stdout",
     "output_type": "stream",
     "text": [
      "(58860524, 7)\n"
     ]
    },
    {
     "data": {
      "text/html": [
       "<div>\n",
       "<style scoped>\n",
       "    .dataframe tbody tr th:only-of-type {\n",
       "        vertical-align: middle;\n",
       "    }\n",
       "\n",
       "    .dataframe tbody tr th {\n",
       "        vertical-align: top;\n",
       "    }\n",
       "\n",
       "    .dataframe thead th {\n",
       "        text-align: right;\n",
       "    }\n",
       "</style>\n",
       "<table border=\"1\" class=\"dataframe\">\n",
       "  <thead>\n",
       "    <tr style=\"text-align: right;\">\n",
       "      <th></th>\n",
       "      <th>search_date</th>\n",
       "      <th>start_code</th>\n",
       "      <th>end_code</th>\n",
       "      <th>search_unspec_1d</th>\n",
       "      <th>search_unspec_3d</th>\n",
       "      <th>search_unspec_7d</th>\n",
       "      <th>search_unspec_10d</th>\n",
       "    </tr>\n",
       "  </thead>\n",
       "  <tbody>\n",
       "    <tr>\n",
       "      <th>0</th>\n",
       "      <td>2021-04-02</td>\n",
       "      <td>1040001</td>\n",
       "      <td>1040011</td>\n",
       "      <td>3854.0</td>\n",
       "      <td>3854.0</td>\n",
       "      <td>3854.0</td>\n",
       "      <td>3854.0</td>\n",
       "    </tr>\n",
       "    <tr>\n",
       "      <th>1</th>\n",
       "      <td>2021-04-02</td>\n",
       "      <td>1040011</td>\n",
       "      <td>1040001</td>\n",
       "      <td>3176.0</td>\n",
       "      <td>3176.0</td>\n",
       "      <td>3176.0</td>\n",
       "      <td>3176.0</td>\n",
       "    </tr>\n",
       "    <tr>\n",
       "      <th>2</th>\n",
       "      <td>2021-04-02</td>\n",
       "      <td>1040011</td>\n",
       "      <td>1040013</td>\n",
       "      <td>3796.0</td>\n",
       "      <td>3796.0</td>\n",
       "      <td>3796.0</td>\n",
       "      <td>3796.0</td>\n",
       "    </tr>\n",
       "  </tbody>\n",
       "</table>\n",
       "</div>"
      ],
      "text/plain": [
       "  search_date start_code end_code  search_unspec_1d  search_unspec_3d  \\\n",
       "0  2021-04-02    1040001  1040011            3854.0            3854.0   \n",
       "1  2021-04-02    1040011  1040001            3176.0            3176.0   \n",
       "2  2021-04-02    1040011  1040013            3796.0            3796.0   \n",
       "\n",
       "   search_unspec_7d  search_unspec_10d  \n",
       "0            3854.0             3854.0  \n",
       "1            3176.0             3176.0  \n",
       "2            3796.0             3796.0  "
      ]
     },
     "execution_count": 9,
     "metadata": {},
     "output_type": "execute_result"
    }
   ],
   "source": [
    "df_unspec = pd.read_csv(SEARCH_COUNT_UNSPEC_CSV, parse_dates=True, index_col='search_date',\n",
    "                    dtype={'start_code': str, 'end_code': str}).reset_index()\n",
    "print(df_unspec.shape)\n",
    "df_unspec.head(3)"
   ]
  },
  {
   "cell_type": "code",
   "execution_count": 20,
   "metadata": {},
   "outputs": [],
   "source": [
    "def get_diff_sections(df, ic_graph):\n",
    "    sections = df[['start_code', 'end_code']].drop_duplicates().values\n",
    "    diff_sections = [sec for sec in sections if not ic_graph.has_edge(sec[0], sec[1])]\n",
    "    return diff_sections\n",
    "\n",
    "\n",
    "def sec2path(sections, ic_graph):\n",
    "    sec2path_mapper = {}\n",
    "    for sec in sections:\n",
    "        p = nx.shortest_path(ic_graph, *sec)\n",
    "        sec2path_mapper[tuple(sec)] = [(p[i], p[i+1]) for i in range(len(p)-1)]\n",
    "\n",
    "    return sec2path_mapper\n",
    "\n",
    "\n",
    "def get_section_data(df, section):\n",
    "    return df[(df['start_code'] == section[0]) & (df['end_code'] == section[1])]"
   ]
  },
  {
   "cell_type": "code",
   "execution_count": 39,
   "metadata": {},
   "outputs": [],
   "source": [
    "# name => code\n",
    "name2code = dict(zip(df_ic['ic_name'], df_ic['ic_code']))\n",
    "name2code2 = dict(zip(df_ic['ic_name_traffic'], df_ic['ic_code']))\n",
    "name2code.update(name2code2)\n",
    "\n",
    "# code => name\n",
    "code2name = dict(zip(df_ic['ic_code'], df_ic['ic_name']))"
   ]
  },
  {
   "cell_type": "code",
   "execution_count": 33,
   "metadata": {},
   "outputs": [
    {
     "name": "stdout",
     "output_type": "stream",
     "text": [
      "大泉ＪＣＴ --> 所沢\n",
      "所沢 --> 大泉ＪＣＴ\n",
      "坂戸西スマート --> 東松山\n",
      "東松山 --> 坂戸西スマート\n",
      "嵐山小川 --> 花園\n",
      "花園 --> 嵐山小川\n",
      "渋川伊香保 --> 赤城\n",
      "赤城 --> 渋川伊香保\n",
      "赤城 --> 昭和\n",
      "昭和 --> 赤城\n",
      "月夜野 --> 水上\n",
      "水上 --> 月夜野\n"
     ]
    }
   ],
   "source": [
    "for sec in diff_sections:\n",
    "    print(f'{code2name[sec[0]]} --> {code2name[sec[1]]}')"
   ]
  },
  {
   "cell_type": "code",
   "execution_count": 34,
   "metadata": {
    "tags": []
   },
   "outputs": [
    {
     "data": {
      "text/plain": [
       "{('1110210', '1800006'): [('1110210', '1800004'), ('1800004', '1800006')],\n",
       " ('1800006', '1110210'): [('1800006', '1800004'), ('1800004', '1110210')],\n",
       " ('1800028', '1800036'): [('1800028', '1800031'), ('1800031', '1800036')],\n",
       " ('1800036', '1800028'): [('1800036', '1800031'), ('1800031', '1800028')],\n",
       " ('1800041', '1800051'): [('1800041', '1800046'), ('1800046', '1800051')],\n",
       " ('1800051', '1800041'): [('1800051', '1800046'), ('1800046', '1800041')],\n",
       " ('1800091', '1800096'): [('1800091', '1800093'), ('1800093', '1800096')],\n",
       " ('1800096', '1800091'): [('1800096', '1800093'), ('1800093', '1800091')],\n",
       " ('1800096', '1800106'): [('1800096', '1800101'), ('1800101', '1800106')],\n",
       " ('1800106', '1800096'): [('1800106', '1800101'), ('1800101', '1800096')],\n",
       " ('1800116', '1800121'): [('1800116', '1800119'), ('1800119', '1800121')],\n",
       " ('1800121', '1800116'): [('1800121', '1800119'), ('1800119', '1800116')]}"
      ]
     },
     "execution_count": 34,
     "metadata": {},
     "output_type": "execute_result"
    }
   ],
   "source": [
    "diff_sections = get_diff_sections(df, ic_graph)\n",
    "sec2path_mapper = sec2path(diff_sections, ic_graph)\n",
    "sec2path_mapper"
   ]
  },
  {
   "cell_type": "code",
   "execution_count": 42,
   "metadata": {},
   "outputs": [
    {
     "name": "stdout",
     "output_type": "stream",
     "text": [
      "========== トラカン: 大泉ＪＣＴ --> 所沢 ==========\n",
      "ドラプラ: [('大泉ＪＣＴ', '新座本線'), ('新座本線', '所沢')]\n",
      "\n",
      "========== トラカン: 所沢 --> 大泉ＪＣＴ ==========\n",
      "ドラプラ: [('所沢', '新座本線'), ('新座本線', '大泉ＪＣＴ')]\n",
      "\n",
      "========== トラカン: 坂戸西スマート --> 東松山 ==========\n",
      "ドラプラ: [('坂戸西スマート', '高坂ＳＡ'), ('高坂ＳＡ', '東松山')]\n",
      "\n",
      "========== トラカン: 東松山 --> 坂戸西スマート ==========\n",
      "ドラプラ: [('東松山', '高坂ＳＡ'), ('高坂ＳＡ', '坂戸西スマート')]\n",
      "\n",
      "========== トラカン: 嵐山小川 --> 花園 ==========\n",
      "ドラプラ: [('嵐山小川', '嵐山ＰＡ'), ('嵐山ＰＡ', '花園')]\n",
      "\n",
      "========== トラカン: 花園 --> 嵐山小川 ==========\n",
      "ドラプラ: [('花園', '嵐山ＰＡ'), ('嵐山ＰＡ', '嵐山小川')]\n",
      "\n",
      "========== トラカン: 渋川伊香保 --> 赤城 ==========\n",
      "ドラプラ: [('渋川伊香保', '赤城ＰＡ'), ('赤城ＰＡ', '赤城')]\n",
      "\n",
      "========== トラカン: 赤城 --> 渋川伊香保 ==========\n",
      "ドラプラ: [('赤城', '赤城ＰＡ'), ('赤城ＰＡ', '渋川伊香保')]\n",
      "\n",
      "========== トラカン: 赤城 --> 昭和 ==========\n",
      "ドラプラ: [('赤城', '赤城高原ＳＡ'), ('赤城高原ＳＡ', '昭和')]\n",
      "\n",
      "========== トラカン: 昭和 --> 赤城 ==========\n",
      "ドラプラ: [('昭和', '赤城高原ＳＡ'), ('赤城高原ＳＡ', '赤城')]\n",
      "\n",
      "========== トラカン: 月夜野 --> 水上 ==========\n",
      "ドラプラ: [('月夜野', '下牧ＰＡ'), ('下牧ＰＡ', '水上')]\n",
      "\n",
      "========== トラカン: 水上 --> 月夜野 ==========\n",
      "ドラプラ: [('水上', '下牧ＰＡ'), ('下牧ＰＡ', '月夜野')]\n",
      "\n"
     ]
    }
   ],
   "source": [
    "for diff_sec, path in sec2path_mapper.items():\n",
    "    print('='*10, f'トラカン: {code2name[diff_sec[0]]} --> {code2name[diff_sec[1]]}', '='*10)\n",
    "    print(f'ドラプラ: {[(code2name[x[0]], code2name[x[1]]) for x in path]}')\n",
    "    print()"
   ]
  },
  {
   "cell_type": "markdown",
   "metadata": {},
   "source": [
    "## 時間指定あり検索"
   ]
  },
  {
   "cell_type": "code",
   "execution_count": 43,
   "metadata": {
    "tags": []
   },
   "outputs": [],
   "source": [
    "def only_diff_section(df_search, diff_sec2path, datetime_col, fill_cols):\n",
    "    diff_filled = pd.DataFrame()\n",
    "\n",
    "    for diff_sec, path in diff_sec2path.items():\n",
    "        sections = list(map(lambda sec: get_section_data(df_search, sec), path))\n",
    "\n",
    "        sec_merged = sections[0]\n",
    "        for sec in sections[1:]:\n",
    "            sec_merged = sec_merged.merge(sec, on=datetime_col, how='outer')\n",
    "\n",
    "        for col in fill_cols:\n",
    "            sec_merged[col] = sec_merged.filter(like=col).max(axis=1)\n",
    "      \n",
    "        sec_merged.loc[:, ['start_code', 'end_code']] = diff_sec\n",
    "    \n",
    "        sec_merged = sec_merged.loc[:, [datetime_col, 'start_code', 'end_code'] + fill_cols]\n",
    "    \n",
    "        diff_filled = pd.concat([diff_filled, sec_merged], axis=0)\n",
    "\n",
    "    diff_filled.reset_index(drop=True, inplace=True)\n",
    "  \n",
    "    return diff_filled\n",
    "\n",
    "\n",
    "def fill_diff_sections(df_merged, df_search, ic_graph, datetime_col, fill_cols):\n",
    "    diff_sections = get_diff_sections(df_merged, ic_graph)\n",
    "    sec2path_mapper = sec2path(diff_sections, ic_graph)\n",
    "\n",
    "    null_index = df_merged[fill_cols[0]].isna()\n",
    "\n",
    "    diff_filled = only_diff_section(df_search, sec2path_mapper, datetime_col, fill_cols)\n",
    "    # passing_time列を交通データに合わせるために一旦マージ（左結合）\n",
    "    diff_filled = (df_merged[null_index]\n",
    "                   .merge(diff_filled, how='left', \n",
    "                          left_on=['datetime', 'start_code', 'end_code'],\n",
    "                          right_on=[datetime_col, 'start_code', 'end_code']))\n",
    "\n",
    "    def fillna_in_group(g):\n",
    "        col = g.filter(like='search_').columns\n",
    "        if not g[col].isna().all().all():\n",
    "            g[col] = g[col].fillna(0)\n",
    "        return g\n",
    "\n",
    "    diff_filled = (diff_filled\n",
    "                   .groupby(['start_code', 'end_code'])\n",
    "                   .apply(fillna_in_group))\n",
    "    \n",
    "    for col in fill_cols:\n",
    "        df_merged.loc[null_index, col] = diff_filled[col+'_y'].values\n",
    "    \n",
    "    oldest = pd.Timestamp(df_search[datetime_col].sort_values().iloc[0])\n",
    "    latest = pd.Timestamp(df_search[datetime_col].sort_values().iloc[-1])\n",
    "    # 検索データが存在し、かつ NaNである場所は0で埋める (2021/4/1 は除く)\n",
    "    ind = df_merged['datetime'] >= oldest\n",
    "    df_merged.loc[ind, fill_cols] = df_merged.loc[ind, fill_cols].fillna(0)\n",
    "    \n",
    "    # 検索データが存在しない日時は NaN で埋める\n",
    "    ind = df_merged['datetime'] >= latest + pd.DateOffset(1)\n",
    "    df_merged.loc[ind, fill_cols] = np.nan"
   ]
  },
  {
   "cell_type": "code",
   "execution_count": 45,
   "metadata": {},
   "outputs": [
    {
     "name": "stdout",
     "output_type": "stream",
     "text": [
      "(216576, 35)\n",
      "Index(['datetime', 'start_name', 'end_name', 'start_code', 'end_code',\n",
      "       'start_pref_code', 'end_pref_code', 'start_lat', 'end_lat', 'start_lng',\n",
      "       'end_lng', 'start_degree', 'end_degree', 'month', 'day', 'dayofweek',\n",
      "       'is_holiday', 'hour', 'minute', 'lane_count', 'KP_distance', 'KP',\n",
      "       'start_KP', 'end_KP', 'direction', 'OCC', 'allCars', 'speed',\n",
      "       'limit_speed', 'search_5min', 'search_1h', 'search_unspec_1d',\n",
      "       'search_unspec_3d', 'search_unspec_7d', 'search_unspec_10d'],\n",
      "      dtype='object')\n"
     ]
    }
   ],
   "source": [
    "print(df.shape)\n",
    "buf = df.copy()\n",
    "print(df.columns)"
   ]
  },
  {
   "cell_type": "code",
   "execution_count": 23,
   "metadata": {},
   "outputs": [
    {
     "name": "stdout",
     "output_type": "stream",
     "text": [
      "CPU times: user 5min, sys: 2.88 s, total: 5min 3s\n",
      "Wall time: 5min 3s\n"
     ]
    }
   ],
   "source": [
    "%time fill_diff_sections(df, df_spec, ic_graph, datetime_col='passing_time', fill_cols=['search_5min', 'search_1h'])\n",
    "#error =>print(diff_filled.shape) サイズ０\n",
    "#'passing_time'=>key error"
   ]
  },
  {
   "cell_type": "code",
   "execution_count": 24,
   "metadata": {},
   "outputs": [
    {
     "data": {
      "image/png": "[encoded data removed]",
      "text/plain": [
       "<Figure size 1800x720 with 2 Axes>"
      ]
     },
     "metadata": {
      "needs_background": "light"
     },
     "output_type": "display_data"
    }
   ],
   "source": [
    "msno.matrix(df, labels=True)\n",
    "plt.show()"
   ]
  },
  {
   "cell_type": "code",
   "execution_count": 25,
   "metadata": {},
   "outputs": [
    {
     "data": {
      "text/plain": [
       "Series([], Name: start_name, dtype: int64)"
      ]
     },
     "execution_count": 25,
     "metadata": {},
     "output_type": "execute_result"
    }
   ],
   "source": [
    "df[df.search_5min.isna()].start_name.value_counts()"
   ]
  },
  {
   "cell_type": "code",
   "execution_count": 26,
   "metadata": {},
   "outputs": [
    {
     "data": {
      "text/plain": [
       "Series([], Name: datetime, dtype: int64)"
      ]
     },
     "execution_count": 26,
     "metadata": {},
     "output_type": "execute_result"
    }
   ],
   "source": [
    "df[df.search_5min.isna()].datetime.value_counts().sort_values()"
   ]
  },
  {
   "cell_type": "markdown",
   "metadata": {
    "tags": []
   },
   "source": [
    "## 時間指定なし検索"
   ]
  },
  {
   "cell_type": "code",
   "execution_count": 27,
   "metadata": {
    "tags": []
   },
   "outputs": [],
   "source": [
    "def only_diff_section(df_search, diff_sec2path, datetime_col, fill_cols):\n",
    "    diff_filled = pd.DataFrame()\n",
    "\n",
    "    for diff_sec, path in diff_sec2path.items():\n",
    "        sections = list(map(lambda sec: get_section_data(df_search, sec), path))\n",
    "\n",
    "        sec_merged = sections[0]\n",
    "        for sec in sections[1:]:\n",
    "            sec_merged = sec_merged.merge(sec, on=datetime_col, how='outer')\n",
    "\n",
    "        for col in fill_cols:\n",
    "            sec_merged[col] = sec_merged.filter(like=col).max(axis=1)\n",
    "      \n",
    "        sec_merged[['start_code', 'end_code']] = diff_sec\n",
    "\n",
    "        sec_merged = sec_merged.loc[:, [datetime_col, 'start_code', 'end_code'] + fill_cols]\n",
    "\n",
    "        diff_filled = pd.concat([diff_filled, sec_merged], axis=0)\n",
    "\n",
    "    diff_filled.reset_index(drop=True, inplace=True)\n",
    "\n",
    "    return diff_filled\n",
    "\n",
    "\n",
    "def fill_diff_sections(df_merged, df_search, ic_graph, datetime_col, fill_cols):\n",
    "    diff_sections = get_diff_sections(df_merged, ic_graph)\n",
    "    sec2path_mapper = sec2path(diff_sections, ic_graph)\n",
    "\n",
    "    null_index = df_merged[fill_cols[0]].isna()\n",
    "\n",
    "    diff_filled = only_diff_section(df_search, sec2path_mapper, datetime_col, fill_cols)\n",
    "    # search_date列を交通データに合わせるために一旦マージ（左結合）\n",
    "    diff_filled = pd.merge(df_merged[null_index], diff_filled,\n",
    "                        how='left', left_on=['datetime', 'start_code', 'end_code'],\n",
    "                        right_on=[datetime_col, 'start_code', 'end_code'])\n",
    "\n",
    "    def fillna_in_group(g):\n",
    "        cols = g.filter(regex='search_unspec_.*_y').columns\n",
    "        g[cols] = g[cols].fillna(method='ffill')\n",
    "        return g\n",
    "\n",
    "    diff_filled = diff_filled.groupby(['start_code', 'end_code']).apply(fillna_in_group)\n",
    "\n",
    "    for col in fill_cols:\n",
    "        df_merged.loc[null_index, col] = diff_filled[col+'_y'].values\n",
    "        \n",
    "    latest = pd.Timestamp(df_search[datetime_col].sort_values().iloc[-1])\n",
    "    # 検索データが存在しない日時は NaN で埋める\n",
    "    ind = df_merged['datetime'] >= latest + pd.DateOffset(1)\n",
    "    df_merged.loc[ind, fill_cols] = np.nan"
   ]
  },
  {
   "cell_type": "code",
   "execution_count": 28,
   "metadata": {},
   "outputs": [
    {
     "name": "stdout",
     "output_type": "stream",
     "text": [
      "(10253952, 35)\n",
      "Index(['datetime', 'start_name', 'end_name', 'start_code', 'end_code',\n",
      "       'start_pref_code', 'end_pref_code', 'start_lat', 'end_lat', 'start_lng',\n",
      "       'end_lng', 'start_degree', 'end_degree', 'month', 'day', 'dayofweek',\n",
      "       'is_holiday', 'hour', 'minute', 'lane_count', 'KP_distance', 'KP',\n",
      "       'start_KP', 'end_KP', 'direction', 'OCC', 'allCars', 'speed',\n",
      "       'limit_speed', 'search_5min', 'search_1h', 'search_unspec_1d',\n",
      "       'search_unspec_3d', 'search_unspec_7d', 'search_unspec_10d'],\n",
      "      dtype='object')\n"
     ]
    }
   ],
   "source": [
    "print(df.shape)\n",
    "print(df.columns)"
   ]
  },
  {
   "cell_type": "code",
   "execution_count": 29,
   "metadata": {},
   "outputs": [],
   "source": [
    "buf = df.copy()"
   ]
  },
  {
   "cell_type": "code",
   "execution_count": 30,
   "metadata": {},
   "outputs": [
    {
     "name": "stdout",
     "output_type": "stream",
     "text": [
      "CPU times: user 4min 45s, sys: 2.3 s, total: 4min 48s\n",
      "Wall time: 4min 47s\n"
     ]
    }
   ],
   "source": [
    "datetime_col = 'search_date'\n",
    "fill_cols = ['search_unspec_1d', 'search_unspec_3d', 'search_unspec_7d', 'search_unspec_10d']\n",
    "\n",
    "%time fill_diff_sections(df, df_unspec, ic_graph, datetime_col=datetime_col, fill_cols=fill_cols)\n",
    "#error =>print(diff_filled.shape) サイズ０\n",
    "#'search date'=>key error"
   ]
  },
  {
   "cell_type": "code",
   "execution_count": 31,
   "metadata": {},
   "outputs": [
    {
     "data": {
      "image/png": "[encoded data removed]",
      "text/plain": [
       "<Figure size 1800x720 with 2 Axes>"
      ]
     },
     "metadata": {
      "needs_background": "light"
     },
     "output_type": "display_data"
    }
   ],
   "source": [
    "msno.matrix(df, labels=True)\n",
    "plt.show()\n",
    "# print(df.columns)"
   ]
  },
  {
   "cell_type": "code",
   "execution_count": 32,
   "metadata": {},
   "outputs": [
    {
     "data": {
      "text/plain": [
       "岩舟ＪＣＴ       576\n",
       "佐野ＳＡ        576\n",
       "矢板          576\n",
       "上河内ＳＡ       576\n",
       "宇都宮         576\n",
       "鹿沼          576\n",
       "栃木都賀ＪＣＴ     576\n",
       "栃木          576\n",
       "浦和（仙台方面）    576\n",
       "佐野藤岡        576\n",
       "西那須野塩原      576\n",
       "館林          576\n",
       "羽生          576\n",
       "加須          576\n",
       "黒磯板室        576\n",
       "蓮田スマート      576\n",
       "岩槻          576\n",
       "矢板北ＰＡ       576\n",
       "那須          288\n",
       "浦和（東京方面）    288\n",
       "久喜          288\n",
       "久喜白岡ＪＣＴ     288\n",
       "那須高原ＳＡ      288\n",
       "Name: start_name, dtype: int64"
      ]
     },
     "execution_count": 32,
     "metadata": {},
     "output_type": "execute_result"
    }
   ],
   "source": [
    "df[df.search_unspec_1d.isna()].start_name.value_counts()"
   ]
  },
  {
   "cell_type": "code",
   "execution_count": 33,
   "metadata": {},
   "outputs": [
    {
     "data": {
      "text/plain": [
       "2021-04-01 00:00:00    41\n",
       "2021-04-01 00:15:00    41\n",
       "2021-04-01 00:20:00    41\n",
       "2021-04-01 00:25:00    41\n",
       "2021-04-01 00:30:00    41\n",
       "                       ..\n",
       "2021-04-01 23:50:00    41\n",
       "2021-04-01 23:20:00    41\n",
       "2021-04-01 21:05:00    41\n",
       "2021-04-01 07:40:00    41\n",
       "2021-04-01 23:55:00    41\n",
       "Name: datetime, Length: 288, dtype: int64"
      ]
     },
     "execution_count": 33,
     "metadata": {},
     "output_type": "execute_result"
    }
   ],
   "source": [
    "df[df.search_unspec_1d.isna()].datetime.value_counts().sort_values()"
   ]
  },
  {
   "cell_type": "markdown",
   "metadata": {},
   "source": [
    "## 保存"
   ]
  },
  {
   "cell_type": "code",
   "execution_count": 35,
   "metadata": {},
   "outputs": [
    {
     "data": {
      "image/png": "[encoded data removed]",
      "text/plain": [
       "<Figure size 1800x720 with 2 Axes>"
      ]
     },
     "metadata": {
      "needs_background": "light"
     },
     "output_type": "display_data"
    }
   ],
   "source": [
    "msno.matrix(df.sort_values('datetime'), labels=True)\n",
    "plt.show()"
   ]
  },
  {
   "cell_type": "code",
   "execution_count": 36,
   "metadata": {},
   "outputs": [
    {
     "name": "stdout",
     "output_type": "stream",
     "text": [
      "(10253952, 35)\n"
     ]
    }
   ],
   "source": [
    "print(df.shape)"
   ]
  },
  {
   "cell_type": "code",
   "execution_count": 37,
   "metadata": {},
   "outputs": [
    {
     "data": {
      "text/plain": [
       "'./traffic_preprocessed/touhoku_20210401-20230816all-merged_filled.csv'"
      ]
     },
     "execution_count": 37,
     "metadata": {},
     "output_type": "execute_result"
    }
   ],
   "source": [
    "OUTPUT_CSV"
   ]
  },
  {
   "cell_type": "code",
   "execution_count": 38,
   "metadata": {},
   "outputs": [
    {
     "name": "stdout",
     "output_type": "stream",
     "text": [
      "CPU times: user 4min 1s, sys: 1.47 s, total: 4min 2s\n",
      "Wall time: 4min 2s\n"
     ]
    }
   ],
   "source": [
    "%time df.to_csv(OUTPUT_CSV, index=False)"
   ]
  },
  {
   "cell_type": "code",
   "execution_count": null,
   "metadata": {},
   "outputs": [],
   "source": []
  }
 ],
 "metadata": {
  "kernelspec": {
   "display_name": "Python 3 (ipykernel)",
   "language": "python",
   "name": "python3"
  },
  "language_info": {
   "codemirror_mode": {
    "name": "ipython",
    "version": 3
   },
   "file_extension": ".py",
   "mimetype": "text/x-python",
   "name": "python",
   "nbconvert_exporter": "python",
   "pygments_lexer": "ipython3",
   "version": "3.8.13"
  },
  "vscode": {
   "interpreter": {
    "hash": "f708a36acfaef0acf74ccd43dfb58100269bf08fb79032a1e0a6f35bd9856f51"
   }
  }
 },
 "nbformat": 4,
 "nbformat_minor": 4
}
