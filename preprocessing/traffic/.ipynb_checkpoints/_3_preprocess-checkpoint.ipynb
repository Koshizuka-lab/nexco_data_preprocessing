{
 "cells": [
  {
   "cell_type": "markdown",
   "id": "d225289e-a350-434a-8d01-5051ed824d29",
   "metadata": {
    "tags": []
   },
   "source": [
    "# このファイルについて\n",
    "- about: トラカンデータの前処理\n",
    "    - nullが多い列の削除\n",
    "    - \\['全車(１)','全車(2)','全車(追)','全車(路)'\\]の欠損状況から車線数を算出\n",
    "    - (2kmトラカンデータ) トラカンが設置している区間を抽出\n",
    "- author: 松永\n",
    "- ref: ../1_0_traffic_deleteNULLcols_930.ipynb\n",
    "- Input: 生トラカンデータに対し、文字コード変換・ヘッダの除去・期間の集約といった前処理をシェルで加えたデータ\n",
    "    - ref: `./prepare_original_traffic_data.ipynb`\n",
    "    - 代表トラカン: `raw_<道路名>_<期間>.csv`\n",
    "    - 2kmトラカン: `raw_<道路名>_<期間>_2KP.csv`\n",
    "- Output\n",
    "    - 代表トラカン: `<道路名>_<期間>.csv`\n",
    "    - 2kmトラカン: `<道路名>_<期間>_2KP.csv`"
   ]
  },
  {
   "cell_type": "code",
   "execution_count": 1,
   "id": "397d2bfb-6c65-4f58-b46f-2c1e87f45adf",
   "metadata": {},
   "outputs": [],
   "source": [
    "import jpholiday\n",
    "import datetime as dt\n",
    "\n",
    "import numpy as np\n",
    "import pandas as pd\n",
    "import cudf\n",
    "import missingno as msno\n",
    "import matplotlib.pyplot as plt\n",
    "\n",
    "plt.rcParams['font.family'] = 'Noto Sans JP'"
   ]
  },
  {
   "cell_type": "code",
   "execution_count": 2,
   "id": "b3dcdb91-37ee-483f-b77e-2e3aac873504",
   "metadata": {},
   "outputs": [
    {
     "data": {
      "text/plain": [
       "<CUDA Device 3>"
      ]
     },
     "execution_count": 2,
     "metadata": {},
     "output_type": "execute_result"
    }
   ],
   "source": [
    "import cupy\n",
    "cupy.cuda.Device(3).use()"
   ]
  },
  {
   "cell_type": "code",
   "execution_count": 3,
   "id": "b785f20b-8cf5-4333-9565-292c9de881e2",
   "metadata": {},
   "outputs": [],
   "source": [
    "# data directory\n",
    "PROCESSED_DATA_DIR = '../../Input_processed_data'\n",
    "\n",
    "# IC, 道路情報 csv\n",
    "IC_CSV = f'{PROCESSED_DATA_DIR}/road_master/ic_preprocessed.csv'\n",
    "IC_SUBNET_CSV = f'{PROCESSED_DATA_DIR}/road_master/icnet_sub.csv'\n",
    "\n",
    "# 道路名\n",
    "TARGET_ROAD = 'kannetsu'\n",
    "# TARGET_ROAD = 'touhoku'\n",
    "PERIOD = '20230401-20230930'\n",
    "\n",
    "# 交通量\n",
    "TRAFFIC_DIR = f'./traffic'\n",
    "TRAFFIC_CSV =f'{TRAFFIC_DIR}/raw_{TARGET_ROAD}_{PERIOD}_2KP.csv'"
   ]
  },
  {
   "cell_type": "code",
   "execution_count": 4,
   "id": "0feb8326-3afc-4a7e-b3d7-914f1974e915",
   "metadata": {},
   "outputs": [
    {
     "name": "stderr",
     "output_type": "stream",
     "text": [
      "/opt/conda/envs/rapids/lib/python3.8/site-packages/IPython/core/interactiveshell.py:3457: DtypeWarning: Columns (22,28,34,40) have mixed types.Specify dtype option on import or set low_memory=False.\n",
      "  exec(code_obj, self.user_global_ns, self.user_ns)\n"
     ]
    },
    {
     "data": {
      "text/html": [
       "<div>\n",
       "<style scoped>\n",
       "    .dataframe tbody tr th:only-of-type {\n",
       "        vertical-align: middle;\n",
       "    }\n",
       "\n",
       "    .dataframe tbody tr th {\n",
       "        vertical-align: top;\n",
       "    }\n",
       "\n",
       "    .dataframe thead th {\n",
       "        text-align: right;\n",
       "    }\n",
       "</style>\n",
       "<table border=\"1\" class=\"dataframe\">\n",
       "  <thead>\n",
       "    <tr style=\"text-align: right;\">\n",
       "      <th></th>\n",
       "      <th>支社</th>\n",
       "      <th>区分</th>\n",
       "      <th>道路</th>\n",
       "      <th>年</th>\n",
       "      <th>月</th>\n",
       "      <th>日</th>\n",
       "      <th>曜日</th>\n",
       "      <th>平休1</th>\n",
       "      <th>平休2（休日に土曜日含む）</th>\n",
       "      <th>時刻</th>\n",
       "      <th>...</th>\n",
       "      <th>車線率(追)</th>\n",
       "      <th>OCC(追)</th>\n",
       "      <th>速度(追)</th>\n",
       "      <th>エラー数.2</th>\n",
       "      <th>全車(路)</th>\n",
       "      <th>大車(路)</th>\n",
       "      <th>車線率(路)</th>\n",
       "      <th>OCC(路)</th>\n",
       "      <th>速度(路)</th>\n",
       "      <th>エラー数.3</th>\n",
       "    </tr>\n",
       "  </thead>\n",
       "  <tbody>\n",
       "    <tr>\n",
       "      <th>0</th>\n",
       "      <td>関東支社</td>\n",
       "      <td>速度超音波</td>\n",
       "      <td>関越自動車道</td>\n",
       "      <td>2023</td>\n",
       "      <td>4</td>\n",
       "      <td>1</td>\n",
       "      <td>土</td>\n",
       "      <td>平</td>\n",
       "      <td>休</td>\n",
       "      <td>0:0</td>\n",
       "      <td>...</td>\n",
       "      <td>64.5</td>\n",
       "      <td>0.0</td>\n",
       "      <td>90.0</td>\n",
       "      <td>NaN</td>\n",
       "      <td>NaN</td>\n",
       "      <td>NaN</td>\n",
       "      <td>NaN</td>\n",
       "      <td>NaN</td>\n",
       "      <td>NaN</td>\n",
       "      <td>NaN</td>\n",
       "    </tr>\n",
       "    <tr>\n",
       "      <th>1</th>\n",
       "      <td>関東支社</td>\n",
       "      <td>速度超音波</td>\n",
       "      <td>関越自動車道</td>\n",
       "      <td>2023</td>\n",
       "      <td>4</td>\n",
       "      <td>1</td>\n",
       "      <td>土</td>\n",
       "      <td>平</td>\n",
       "      <td>休</td>\n",
       "      <td>0:5</td>\n",
       "      <td>...</td>\n",
       "      <td>63.6</td>\n",
       "      <td>1.0</td>\n",
       "      <td>80.0</td>\n",
       "      <td>NaN</td>\n",
       "      <td>NaN</td>\n",
       "      <td>NaN</td>\n",
       "      <td>NaN</td>\n",
       "      <td>NaN</td>\n",
       "      <td>NaN</td>\n",
       "      <td>NaN</td>\n",
       "    </tr>\n",
       "    <tr>\n",
       "      <th>2</th>\n",
       "      <td>関東支社</td>\n",
       "      <td>速度超音波</td>\n",
       "      <td>関越自動車道</td>\n",
       "      <td>2023</td>\n",
       "      <td>4</td>\n",
       "      <td>1</td>\n",
       "      <td>土</td>\n",
       "      <td>平</td>\n",
       "      <td>休</td>\n",
       "      <td>0:10</td>\n",
       "      <td>...</td>\n",
       "      <td>58.3</td>\n",
       "      <td>0.0</td>\n",
       "      <td>92.0</td>\n",
       "      <td>NaN</td>\n",
       "      <td>NaN</td>\n",
       "      <td>NaN</td>\n",
       "      <td>NaN</td>\n",
       "      <td>NaN</td>\n",
       "      <td>NaN</td>\n",
       "      <td>NaN</td>\n",
       "    </tr>\n",
       "    <tr>\n",
       "      <th>3</th>\n",
       "      <td>関東支社</td>\n",
       "      <td>速度超音波</td>\n",
       "      <td>関越自動車道</td>\n",
       "      <td>2023</td>\n",
       "      <td>4</td>\n",
       "      <td>1</td>\n",
       "      <td>土</td>\n",
       "      <td>平</td>\n",
       "      <td>休</td>\n",
       "      <td>0:15</td>\n",
       "      <td>...</td>\n",
       "      <td>30.0</td>\n",
       "      <td>0.0</td>\n",
       "      <td>98.0</td>\n",
       "      <td>NaN</td>\n",
       "      <td>NaN</td>\n",
       "      <td>NaN</td>\n",
       "      <td>NaN</td>\n",
       "      <td>NaN</td>\n",
       "      <td>NaN</td>\n",
       "      <td>NaN</td>\n",
       "    </tr>\n",
       "    <tr>\n",
       "      <th>4</th>\n",
       "      <td>関東支社</td>\n",
       "      <td>速度超音波</td>\n",
       "      <td>関越自動車道</td>\n",
       "      <td>2023</td>\n",
       "      <td>4</td>\n",
       "      <td>1</td>\n",
       "      <td>土</td>\n",
       "      <td>平</td>\n",
       "      <td>休</td>\n",
       "      <td>0:20</td>\n",
       "      <td>...</td>\n",
       "      <td>52.2</td>\n",
       "      <td>0.0</td>\n",
       "      <td>93.0</td>\n",
       "      <td>NaN</td>\n",
       "      <td>NaN</td>\n",
       "      <td>NaN</td>\n",
       "      <td>NaN</td>\n",
       "      <td>NaN</td>\n",
       "      <td>NaN</td>\n",
       "      <td>NaN</td>\n",
       "    </tr>\n",
       "  </tbody>\n",
       "</table>\n",
       "<p>5 rows × 41 columns</p>\n",
       "</div>"
      ],
      "text/plain": [
       "     支社     区分      道路     年  月  日 曜日 平休1 平休2（休日に土曜日含む）    時刻  ... 車線率(追)  \\\n",
       "0  関東支社  速度超音波  関越自動車道  2023  4  1  土   平             休   0:0  ...   64.5   \n",
       "1  関東支社  速度超音波  関越自動車道  2023  4  1  土   平             休   0:5  ...   63.6   \n",
       "2  関東支社  速度超音波  関越自動車道  2023  4  1  土   平             休  0:10  ...   58.3   \n",
       "3  関東支社  速度超音波  関越自動車道  2023  4  1  土   平             休  0:15  ...   30.0   \n",
       "4  関東支社  速度超音波  関越自動車道  2023  4  1  土   平             休  0:20  ...   52.2   \n",
       "\n",
       "   OCC(追) 速度(追)  エラー数.2  全車(路)  大車(路)  車線率(路)  OCC(路)  速度(路)  エラー数.3  \n",
       "0     0.0  90.0     NaN    NaN    NaN     NaN     NaN    NaN     NaN  \n",
       "1     1.0  80.0     NaN    NaN    NaN     NaN     NaN    NaN     NaN  \n",
       "2     0.0  92.0     NaN    NaN    NaN     NaN     NaN    NaN     NaN  \n",
       "3     0.0  98.0     NaN    NaN    NaN     NaN     NaN    NaN     NaN  \n",
       "4     0.0  93.0     NaN    NaN    NaN     NaN     NaN    NaN     NaN  \n",
       "\n",
       "[5 rows x 41 columns]"
      ]
     },
     "execution_count": 4,
     "metadata": {},
     "output_type": "execute_result"
    }
   ],
   "source": [
    "df_traffic = pd.read_csv(TRAFFIC_CSV)\n",
    "df_traffic.head()"
   ]
  },
  {
   "cell_type": "code",
   "execution_count": 5,
   "id": "ea0065e3-8179-4254-83c8-49a81fe270b9",
   "metadata": {
    "tags": []
   },
   "outputs": [
    {
     "data": {
      "image/png": "[encoded data removed]",
      "text/plain": [
       "<Figure size 1800x720 with 2 Axes>"
      ]
     },
     "metadata": {
      "needs_background": "light"
     },
     "output_type": "display_data"
    }
   ],
   "source": [
    "msno.matrix(df_traffic, labels=True)\n",
    "plt.show()"
   ]
  },
  {
   "cell_type": "markdown",
   "id": "870ce0c3-a6ff-4e23-895e-962d86a18578",
   "metadata": {},
   "source": [
    "# 欠損処理"
   ]
  },
  {
   "cell_type": "markdown",
   "id": "816f4dc3-6e51-46f3-8a3b-3d306e77c624",
   "metadata": {},
   "source": [
    "## 車線情報の欠損状況から車線数をカウント"
   ]
  },
  {
   "cell_type": "code",
   "execution_count": 6,
   "id": "f5e5831f-8bbc-452d-b440-1e7ddc97340d",
   "metadata": {},
   "outputs": [],
   "source": [
    "def add_lane_count(df: pd.DataFrame) -> pd.DataFrame:\n",
    "    lane_cols = ['全車(1)', '全車(2)', '全車(追)','全車(路)']\n",
    "    df.loc[:, 'lane_count'] = df.loc[:, lane_cols].isna().sum(axis=1)\n",
    "    df.loc[:, 'lane_count'] = len(lane_cols) - df.loc[:, 'lane_count']\n",
    "    return df"
   ]
  },
  {
   "cell_type": "code",
   "execution_count": 7,
   "id": "49cee9e2-2991-4037-89f8-8e283cb120da",
   "metadata": {},
   "outputs": [
    {
     "data": {
      "text/plain": [
       "3    4645212\n",
       "2    2186388\n",
       "4     368640\n",
       "0     186084\n",
       "1     165036\n",
       "Name: lane_count, dtype: int64"
      ]
     },
     "execution_count": 7,
     "metadata": {},
     "output_type": "execute_result"
    }
   ],
   "source": [
    "df_traffic = add_lane_count(df_traffic)\n",
    "\n",
    "df_traffic.lane_count.value_counts()"
   ]
  },
  {
   "cell_type": "markdown",
   "id": "a52c3f9f-c2b1-4151-b9d4-ae651610b443",
   "metadata": {},
   "source": [
    "## エラーの多いカラムを削除"
   ]
  },
  {
   "cell_type": "code",
   "execution_count": 8,
   "id": "8753614b-533d-4764-8ea5-f2e5d1a36abe",
   "metadata": {},
   "outputs": [],
   "source": [
    "DROP_COLS = [\n",
    "    'エラー数', '全車(2)', '大車(2)', '車線率(2)', 'OCC(2)', '速度(2)', 'エラー数.1', \n",
    "    'エラー数.2', '全車(路)', '大車(路)', '車線率(路)', 'OCC(路)', '速度(路)','エラー数.3'\n",
    "]\n",
    "\n",
    "df_traffic.drop(DROP_COLS, axis=1, inplace=True)"
   ]
  },
  {
   "cell_type": "code",
   "execution_count": null,
   "id": "cb87b495-c90a-412a-a3f0-28e4cc58bf4c",
   "metadata": {},
   "outputs": [],
   "source": [
    "msno.matrix(df_traffic, labels=True)\n",
    "plt.show()"
   ]
  },
  {
   "cell_type": "markdown",
   "id": "d29de2fb-6617-4a1b-ba0b-720db5f0eddc",
   "metadata": {},
   "source": [
    "全車線が使用できない場合、全車=0"
   ]
  },
  {
   "cell_type": "code",
   "execution_count": null,
   "id": "71481e2d-1d88-44e3-b10f-445673ddcaf4",
   "metadata": {},
   "outputs": [],
   "source": [
    "df_traffic.loc[df_traffic.全車.isna(), ['年', '月', '日', '時刻', '方向', '区間名称']]"
   ]
  },
  {
   "cell_type": "code",
   "execution_count": null,
   "id": "076a31f5-4c64-4798-9c78-3a305f52b381",
   "metadata": {},
   "outputs": [],
   "source": [
    "df_traffic.loc[df_traffic.lane_count == 0,  ['年', '月', '日', '時刻', '方向', '区間名称']]"
   ]
  },
  {
   "cell_type": "markdown",
   "id": "7fcd4dce-11fd-4bb5-ae71-d0bb7ab5785e",
   "metadata": {},
   "source": [
    "# 2kmピッチにトラカンが設置している区間のみに限定\n",
    "- 2kmピッチにトラカンが設置されている区間の集合は`traffic_counter_segments_2KP.pkl`に保存されている\n",
    "- 2023/8/16以前のデータに関して、↑の区間に限定する"
   ]
  },
  {
   "cell_type": "code",
   "execution_count": null,
   "id": "edce997a-1068-4811-ae84-4776e0f5222d",
   "metadata": {},
   "outputs": [],
   "source": [
    "import pickle\n",
    "\n",
    "with open('traffic_counter_segments_2KP.pkl', 'rb') as f:\n",
    "    tc_segments_dict = pickle.load(f)"
   ]
  },
  {
   "cell_type": "code",
   "execution_count": null,
   "id": "204ad442-af4f-43d3-b5d8-9b77e734f46b",
   "metadata": {},
   "outputs": [],
   "source": [
    "tc_segments_up = tc_segments_dict[TARGET_ROAD]['上り']\n",
    "tc_segments_down = tc_segments_dict[TARGET_ROAD]['下り']"
   ]
  },
  {
   "cell_type": "code",
   "execution_count": null,
   "id": "4b3350b4-d3c0-4ef2-9ed6-6ccbb2f7c074",
   "metadata": {},
   "outputs": [],
   "source": [
    "cond_up = (df_traffic.区間名称.isin(tc_segments_up)) & (df_traffic.方向 == '上り')\n",
    "cond_down = (df_traffic.区間名称.isin(tc_segments_down)) & (df_traffic.方向 == '下り')\n",
    "\n",
    "df_tmp = df_traffic.loc[cond_up | cond_down].reset_index(drop=True)\n",
    "\n",
    "# test\n",
    "assert set(df_tmp.loc[df_tmp.方向 == '上り', '区間名称'].drop_duplicates()) == tc_segments_up\n",
    "assert set(df_tmp.loc[df_tmp.方向 == '下り', '区間名称'].drop_duplicates()) == tc_segments_down"
   ]
  },
  {
   "cell_type": "code",
   "execution_count": null,
   "id": "426d3c2d-751e-4f48-b24a-25992d9514c4",
   "metadata": {},
   "outputs": [],
   "source": [
    "df_traffic = df_tmp"
   ]
  },
  {
   "cell_type": "markdown",
   "id": "db80af24-6ef9-4ad2-9b4c-a00d87792ad1",
   "metadata": {
    "tags": []
   },
   "source": [
    "# 各カラムの処理"
   ]
  },
  {
   "cell_type": "markdown",
   "id": "3d4c0326-56be-4ed2-b017-2ab69ff0389c",
   "metadata": {},
   "source": [
    "## 準備"
   ]
  },
  {
   "cell_type": "code",
   "execution_count": null,
   "id": "268e82a5-8b32-4966-9eb4-f609937de16c",
   "metadata": {},
   "outputs": [],
   "source": [
    "df_ic = pd.read_csv(IC_CSV)\n",
    "df_icnet = pd.read_csv(IC_SUBNET_CSV, dtype={'start_code': str, 'end_code': str, 'road_code': str})"
   ]
  },
  {
   "cell_type": "code",
   "execution_count": null,
   "id": "a810b5bf-a775-4c80-8f79-8091fe7aa601",
   "metadata": {},
   "outputs": [],
   "source": [
    "dtype = {\n",
    "    '年': str, '月': str, '日': str\n",
    "}\n",
    "\n",
    "# df_traffic = cudf.from_pandas(pd.read_csv(TRAFFIC_CSV, dtype=dtype))\n",
    "# print(df_traffic.shape)\n",
    "# df_traffic.head(3)\n",
    "df_traffic = cudf.from_pandas(df_traffic).astype(dtype)\n",
    "df_traffic.info()"
   ]
  },
  {
   "cell_type": "code",
   "execution_count": null,
   "id": "4aac8a97-670f-4d48-8598-740d80a29987",
   "metadata": {},
   "outputs": [],
   "source": [
    "selected_cols = ['年', '月', '日', '時刻', '方向', 'KP', '区間名称', '全車', 'OCC', '速度', 'lane_count']\n",
    "\n",
    "df_traffic = df_traffic.loc[:, selected_cols]\n",
    "df_traffic.head()"
   ]
  },
  {
   "cell_type": "code",
   "execution_count": null,
   "id": "3459897e-c6db-4f6f-bff5-d53f42b2a216",
   "metadata": {
    "tags": []
   },
   "outputs": [],
   "source": [
    "static_cols = ['区間名称', '方向', 'KP']\n",
    "\n",
    "df_static = df_traffic.loc[:, static_cols].drop_duplicates().reset_index(drop=True).to_pandas()\n",
    "df_static"
   ]
  },
  {
   "cell_type": "code",
   "execution_count": null,
   "id": "a48a7d32-59cb-45a6-9285-2b53cb920162",
   "metadata": {
    "tags": []
   },
   "outputs": [],
   "source": [
    "datetime_cols = ['年', '月', '日', '時刻']\n",
    "\n",
    "df_datetime = df_traffic.loc[:, datetime_cols].drop_duplicates().reset_index(drop=True).to_pandas()\n",
    "df_datetime"
   ]
  },
  {
   "cell_type": "markdown",
   "id": "21ebfdeb-e64a-46cd-958a-9594b1a85b9c",
   "metadata": {},
   "source": [
    "## 静的カラムの処理"
   ]
  },
  {
   "cell_type": "code",
   "execution_count": null,
   "id": "828367bf-7bdb-4190-a611-f07930dd6ab2",
   "metadata": {},
   "outputs": [],
   "source": [
    "# name => code\n",
    "name2code = dict(zip(df_ic['ic_name'], df_ic['ic_code']))\n",
    "name_traffic2code = dict(zip(df_ic['ic_name_traffic'], df_ic['ic_code']))\n",
    "name2code.update(name_traffic2code)\n",
    "\n",
    "# code => name\n",
    "code2name = dict(zip(df_ic['ic_code'], df_ic['ic_name']))\n",
    "\n",
    "# code => degree\n",
    "code2degree = dict(zip(df_ic['ic_code'], df_ic['degree']))\n",
    "\n",
    "# code => KP\n",
    "code2KP = dict(zip(df_ic['ic_code'], df_ic['KP']))\n",
    "\n",
    "# code => pref_code\n",
    "code2prefcode = dict(zip(df_ic['ic_code'],df_ic['pref_code']))\n",
    "\n",
    "# code => latlon\n",
    "code2lat = dict(zip(df_ic['ic_code'], df_ic['lat']))\n",
    "code2lng = dict(zip(df_ic['ic_code'], df_ic['lng']))"
   ]
  },
  {
   "cell_type": "markdown",
   "id": "4ee47818-d63b-48e2-b992-c5ccb17678dd",
   "metadata": {},
   "source": [
    "### 区間名称の分割"
   ]
  },
  {
   "cell_type": "code",
   "execution_count": null,
   "id": "07495358-668a-47f4-a198-87271a16b922",
   "metadata": {},
   "outputs": [],
   "source": [
    "def split_segment_name(df):\n",
    "    # 全角スペースを除去 → \"〜\"で分割\n",
    "    res = df.assign(segment_name=(df.区間名称.str.replace('\\u3000', '').str.replace('\\u3000', '').str.split('〜')))\n",
    "    res = res.assign(\n",
    "        start_name=res.segment_name.apply(lambda l: l[0]),\n",
    "        end_name=res.segment_name.apply(lambda l: l[1])\n",
    "    )\n",
    "    return res"
   ]
  },
  {
   "cell_type": "code",
   "execution_count": null,
   "id": "8a699b14-ea20-46f5-9423-f3d03fa182bb",
   "metadata": {},
   "outputs": [],
   "source": [
    "df_static = split_segment_name(df_static)\n",
    "df_static.head()"
   ]
  },
  {
   "cell_type": "markdown",
   "id": "7308ed49-d293-4e66-abcc-44fe7bc99ef7",
   "metadata": {},
   "source": [
    "### 上り区間・下り区間に応じて発着IC名を入れ替える\n",
    "= 上り区間の発着IC名を入れ替える"
   ]
  },
  {
   "cell_type": "code",
   "execution_count": null,
   "id": "71187fc1-69e5-441a-8f27-6453b4c828d3",
   "metadata": {},
   "outputs": [],
   "source": [
    "def swap_start_end(df):\n",
    "    up_start = df.loc[df.方向 == '上り', 'start_name']\n",
    "    up_end = df.loc[df.方向 == '上り', 'end_name']\n",
    "\n",
    "    df.loc[df.方向 == '上り', 'start_name'] = up_end\n",
    "    df.loc[df.方向 == '上り', 'end_name'] = up_start\n",
    "    \n",
    "    return df"
   ]
  },
  {
   "cell_type": "code",
   "execution_count": null,
   "id": "8015975d-0772-4b30-8883-1b7c24ee2b13",
   "metadata": {},
   "outputs": [],
   "source": [
    "df_static = swap_start_end(df_static)\n",
    "df_static.head()"
   ]
  },
  {
   "cell_type": "markdown",
   "id": "b0e8fb79-b69f-465c-903c-11845cc61735",
   "metadata": {},
   "source": [
    "### IC名称をICマスタデータに統一"
   ]
  },
  {
   "cell_type": "code",
   "execution_count": null,
   "id": "660ef81c-5c64-411f-a728-3dc13c8d6a74",
   "metadata": {},
   "outputs": [],
   "source": [
    "def convert_ic_name(df):\n",
    "    # IC名をICコードに直す（トラカン固有のIC名を含む）\n",
    "    res = df.assign(\n",
    "        direction=df.方向.map({'上り': 'up', '下り': 'down'}),\n",
    "        start_code=df.start_name.map(name2code),\n",
    "        end_code=df.end_name.map(name2code))\n",
    "    \n",
    "    # ICコードからIC名称に変換\n",
    "    res = res.assign(\n",
    "        start_name=res.start_code.map(code2name),\n",
    "        end_name=res.end_code.map(code2name))\n",
    "    \n",
    "    return res"
   ]
  },
  {
   "cell_type": "code",
   "execution_count": null,
   "id": "a20626a2-7db4-4e07-a6cb-f1629efc24bc",
   "metadata": {},
   "outputs": [],
   "source": [
    "df_static = convert_ic_name(df_static)\n",
    "df_static.head()"
   ]
  },
  {
   "cell_type": "markdown",
   "id": "fa148644-e126-4a7e-9330-2404592b8217",
   "metadata": {
    "tags": []
   },
   "source": [
    "### ICノードの度数を追加"
   ]
  },
  {
   "cell_type": "code",
   "execution_count": null,
   "id": "e5dc2f8b-12b1-4f3b-a8fe-ecb07caaabe6",
   "metadata": {},
   "outputs": [],
   "source": [
    "def add_degree(df):\n",
    "    res = df.assign(\n",
    "        start_degree=df.start_code.map(code2degree),\n",
    "        end_degree=df.end_code.map(code2degree))\n",
    "    return res.assign(degree_sum=res.start_degree + res.end_degree)"
   ]
  },
  {
   "cell_type": "code",
   "execution_count": null,
   "id": "92391e31-2766-40c9-998f-3f59b8deb2c2",
   "metadata": {},
   "outputs": [],
   "source": [
    "df_static = add_degree(df_static)\n",
    "df_static.head()"
   ]
  },
  {
   "cell_type": "markdown",
   "id": "0e211f92-1628-4159-844c-85858bcaef56",
   "metadata": {},
   "source": [
    "### ICのKPを追加"
   ]
  },
  {
   "cell_type": "code",
   "execution_count": null,
   "id": "c245a4a2-3b68-436f-a395-be0ca32a418a",
   "metadata": {},
   "outputs": [],
   "source": [
    "def add_kp(df):\n",
    "    res = df.assign(\n",
    "        start_KP=df.start_code.map(code2KP),\n",
    "        end_KP=df.end_code.map(code2KP))\n",
    "    \n",
    "    return res.assign(\n",
    "        KP_distance=np.abs(res.start_KP - res.end_KP))"
   ]
  },
  {
   "cell_type": "code",
   "execution_count": null,
   "id": "17adda29-e14a-4285-847b-82fe479448e7",
   "metadata": {},
   "outputs": [],
   "source": [
    "df_static = add_kp(df_static)\n",
    "df_static.head()"
   ]
  },
  {
   "cell_type": "markdown",
   "id": "f8e96280-6d96-4c8a-ae58-47ef5753288e",
   "metadata": {},
   "source": [
    "### ICの都道府県コードを追加"
   ]
  },
  {
   "cell_type": "code",
   "execution_count": null,
   "id": "d7f83299-41ef-45a5-9d8b-85bec2645c9f",
   "metadata": {},
   "outputs": [],
   "source": [
    "def add_prefcode(df):\n",
    "    return df.assign(\n",
    "        start_pref_code=df.start_code.map(code2prefcode),\n",
    "        end_pref_code=df.end_code.map(code2prefcode))"
   ]
  },
  {
   "cell_type": "code",
   "execution_count": null,
   "id": "2d5ed858-1238-4d46-a26d-f7e1944f5022",
   "metadata": {},
   "outputs": [],
   "source": [
    "df_static = add_prefcode(df_static)\n",
    "df_static.head()"
   ]
  },
  {
   "cell_type": "markdown",
   "id": "478497fc-40ca-49e3-80ec-254c8ca24ea3",
   "metadata": {},
   "source": [
    "### ICの経緯度を追加"
   ]
  },
  {
   "cell_type": "code",
   "execution_count": null,
   "id": "5baa08bd-628d-445f-9d90-c35be8dc7d51",
   "metadata": {},
   "outputs": [],
   "source": [
    "def add_latlon(df):\n",
    "    return df.assign(\n",
    "        start_lat=df.start_code.map(code2lat),\n",
    "        start_lng=df.start_code.map(code2lng),\n",
    "        end_lat=df.end_code.map(code2lat),\n",
    "        end_lng=df.end_code.map(code2lng))"
   ]
  },
  {
   "cell_type": "code",
   "execution_count": null,
   "id": "d5d7c496-5abc-44c8-ab08-ab116173b7ae",
   "metadata": {},
   "outputs": [],
   "source": [
    "df_static = add_latlon(df_static)\n",
    "df_static.head()"
   ]
  },
  {
   "cell_type": "markdown",
   "id": "1095b1c9-5e46-49ec-ba1f-df2fbd7168c1",
   "metadata": {},
   "source": [
    "### 区間の制限速度を追加"
   ]
  },
  {
   "cell_type": "code",
   "execution_count": null,
   "id": "e5c4205c-ca79-4469-8a04-84e4a686f4b0",
   "metadata": {},
   "outputs": [],
   "source": [
    "def add_limit_speed(df):\n",
    "    res = df.merge(\n",
    "        df_icnet.loc[:, ['start_code', 'end_code', 'limit']],\n",
    "        on=['start_code','end_code'], how='left')\n",
    "    \n",
    "    # 館山道 制限速度 全ては100\n",
    "    # 東北道も関東支社管轄かつトラカン対応区間はすべて100km/h\n",
    "    if TARGET_ROAD == 'tateyama' or TARGET_ROAD == 'touhoku':\n",
    "        res.limit.fillna(100, inplace=True)\n",
    "        \n",
    "    return res"
   ]
  },
  {
   "cell_type": "code",
   "execution_count": null,
   "id": "fca12040-343d-4abe-bdbe-4ab31f874342",
   "metadata": {},
   "outputs": [],
   "source": [
    "df_static = add_limit_speed(df_static)\n",
    "df_static.head()"
   ]
  },
  {
   "cell_type": "code",
   "execution_count": null,
   "id": "58887612-be2d-481c-b022-35419f451974",
   "metadata": {},
   "outputs": [],
   "source": [
    "df_static.sort_values(['方向', 'KP']).loc[:, ['start_name', 'end_name', '方向']].drop_duplicates()"
   ]
  },
  {
   "cell_type": "markdown",
   "id": "a2f08066-c04c-4492-a384-d368dfcc6132",
   "metadata": {
    "tags": []
   },
   "source": [
    "## 日時カラムの処理"
   ]
  },
  {
   "cell_type": "markdown",
   "id": "033541c1-8b7f-4824-a338-47cf16a3bb41",
   "metadata": {},
   "source": [
    "### datetime列の追加"
   ]
  },
  {
   "cell_type": "code",
   "execution_count": null,
   "id": "d5d51a78-0407-4944-ad79-0d07f4e3a64f",
   "metadata": {},
   "outputs": [],
   "source": [
    "def add_datetime_columns(df):\n",
    "    # datetime形式の文字列からdatetime型のカラムを作成\n",
    "    datetime_str_series = (df.年 + '/' + df.月 + '/' + df.日 + ' ' + df.時刻)\n",
    "    \n",
    "    res = df.assign(\n",
    "        datetime=datetime_str_series.apply(lambda t: dt.datetime.strptime(t, '%Y/%m/%d %H:%M')))\n",
    "    \n",
    "    # month, day, hour, minute, dayofweek情報を付加\n",
    "    res = res.assign(\n",
    "        month=res.datetime.dt.month,\n",
    "        day=res.datetime.dt.day,\n",
    "        hour=res.datetime.dt.hour,\n",
    "        minute=res.datetime.dt.minute,\n",
    "        dayofweek=res.datetime.dt.dayofweek + 1)\n",
    "    return res"
   ]
  },
  {
   "cell_type": "code",
   "execution_count": null,
   "id": "64c0dfcb-9e67-48fe-b9bf-77a8c24a6ae4",
   "metadata": {},
   "outputs": [],
   "source": [
    "df_datetime = add_datetime_columns(df_datetime)\n",
    "df_datetime.head()"
   ]
  },
  {
   "cell_type": "markdown",
   "id": "0bee44f4-e360-44f6-bcdb-9f0ecaa98b61",
   "metadata": {},
   "source": [
    "### 休日判定"
   ]
  },
  {
   "cell_type": "code",
   "execution_count": null,
   "id": "cec9c241-65f9-4bd2-bf30-271ca8f136a8",
   "metadata": {},
   "outputs": [],
   "source": [
    "def judge_holiday(df):\n",
    "    col_dayofweek = df.dayofweek\n",
    "    col_datetime = df.datetime\n",
    "    \n",
    "    flag_dayofweek = col_dayofweek >= 6\n",
    "    flag_jpholiday = col_datetime.map(jpholiday.is_holiday)\n",
    "    \n",
    "    return df.assign(is_holiday=(flag_dayofweek | flag_jpholiday).astype(int))"
   ]
  },
  {
   "cell_type": "code",
   "execution_count": null,
   "id": "7f4c2ccf-2847-40cc-829f-f4c620a5c91a",
   "metadata": {},
   "outputs": [],
   "source": [
    "df_datetime = judge_holiday(df_datetime)\n",
    "df_datetime.head()"
   ]
  },
  {
   "cell_type": "markdown",
   "id": "f6f7f1b2-96ac-40f3-942b-1aa74551f5c2",
   "metadata": {},
   "source": [
    "## 静的カラム + 日時カラム + 動的カラム"
   ]
  },
  {
   "cell_type": "markdown",
   "id": "4ec585e6-08cc-4351-8156-ba4f5574f060",
   "metadata": {},
   "source": [
    "### merge"
   ]
  },
  {
   "cell_type": "code",
   "execution_count": null,
   "id": "ba978b6c-4b56-43d3-8b9c-24952f3b3e21",
   "metadata": {},
   "outputs": [],
   "source": [
    "df_traffic = (df_traffic\n",
    "              .merge(cudf.from_pandas(df_static), on=static_cols, how='left')\n",
    "              .merge(cudf.from_pandas(df_datetime), on=datetime_cols, how='left'))\n",
    "df_traffic.head()"
   ]
  },
  {
   "cell_type": "code",
   "execution_count": null,
   "id": "279da2cc-712a-40e4-a07e-b1df1ba0d564",
   "metadata": {},
   "outputs": [],
   "source": [
    "selected_cols = [\n",
    "    'datetime', 'start_name', 'end_name', 'start_code', 'end_code', \n",
    "    'start_pref_code', 'end_pref_code', 'start_lat', 'end_lat', 'start_lng', 'end_lng',\n",
    "    'start_degree', 'end_degree', 'month', 'day', 'dayofweek', 'is_holiday', 'hour', 'minute',\n",
    "    'lane_count','KP_distance', 'KP', 'start_KP', 'end_KP', 'direction', 'OCC', '全車', '速度'\n",
    "]\n",
    "\n",
    "df_traffic = df_traffic.loc[:, selected_cols]\n",
    "df_traffic.head()"
   ]
  },
  {
   "cell_type": "markdown",
   "id": "a8387815-6475-4c74-941f-5516f81bc802",
   "metadata": {},
   "source": [
    "### rename"
   ]
  },
  {
   "cell_type": "code",
   "execution_count": null,
   "id": "d54eef58-5a78-4034-a7c4-2473af4183b3",
   "metadata": {},
   "outputs": [],
   "source": [
    "rename_map = {\n",
    "    '全車': \"allCars\",\n",
    "    '速度': 'speed',\n",
    "    'limit': 'limit_speed',\n",
    "}\n",
    "\n",
    "df_traffic = df_traffic.rename(columns=rename_map)\n",
    "df_traffic.head()"
   ]
  },
  {
   "cell_type": "markdown",
   "id": "046a89d7-39c7-4649-9c26-2a3f0bef4a3a",
   "metadata": {
    "tags": []
   },
   "source": [
    "# ソートして保存"
   ]
  },
  {
   "cell_type": "code",
   "execution_count": null,
   "id": "a6d78e77-ab83-4a4e-9553-1cf13a24b43c",
   "metadata": {
    "tags": []
   },
   "outputs": [],
   "source": [
    "df_traffic = df_traffic.sort_values(\n",
    "    ['datetime', 'KP', 'start_code', 'end_code']\n",
    ").reset_index(drop=True)"
   ]
  },
  {
   "cell_type": "code",
   "execution_count": null,
   "id": "24071fb2-0bf0-488a-99dc-82c5b36a279e",
   "metadata": {},
   "outputs": [],
   "source": [
    "msno.matrix(df_traffic.to_pandas(), labels=True)\n",
    "plt.show()"
   ]
  },
  {
   "cell_type": "code",
   "execution_count": null,
   "id": "903f8738-d2d6-4dd9-ac4d-c8a345a0d611",
   "metadata": {
    "tags": []
   },
   "outputs": [],
   "source": [
    "OUTPUT_FILE = f'./traffic/{TARGET_ROAD}_{PERIOD}_2KP.csv'"
   ]
  },
  {
   "cell_type": "code",
   "execution_count": null,
   "id": "f37f3b3d-8fb4-4746-a621-32fedcf17a12",
   "metadata": {},
   "outputs": [],
   "source": [
    "# %time df_traffic.to_pandas().to_csv(OUTPUT_FILE, index=False)"
   ]
  },
  {
   "cell_type": "code",
   "execution_count": null,
   "id": "5947ac18-317d-4b5a-bc07-097f869c8322",
   "metadata": {},
   "outputs": [],
   "source": [
    "%time df_traffic.to_pandas().to_csv(OUTPUT_FILE, index=False)"
   ]
  },
  {
   "cell_type": "code",
   "execution_count": null,
   "id": "1cf19b04-d6c2-4383-945e-8702d5797c25",
   "metadata": {},
   "outputs": [],
   "source": [
    "!head -n5 \"$OUTPUT_FILE\""
   ]
  },
  {
   "cell_type": "code",
   "execution_count": null,
   "id": "ca150114-b59f-45c2-89db-8c3f9c8069a1",
   "metadata": {},
   "outputs": [],
   "source": [
    "!tail -n5 \"$OUTPUT_FILE\""
   ]
  }
 ],
 "metadata": {
  "kernelspec": {
   "display_name": "Python 3 (ipykernel)",
   "language": "python",
   "name": "python3"
  },
  "language_info": {
   "codemirror_mode": {
    "name": "ipython",
    "version": 3
   },
   "file_extension": ".py",
   "mimetype": "text/x-python",
   "name": "python",
   "nbconvert_exporter": "python",
   "pygments_lexer": "ipython3",
   "version": "3.8.13"
  }
 },
 "nbformat": 4,
 "nbformat_minor": 5
}
