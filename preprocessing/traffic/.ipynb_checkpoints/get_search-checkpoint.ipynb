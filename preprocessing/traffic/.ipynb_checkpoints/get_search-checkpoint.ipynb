{
 "cells": [
  {
   "cell_type": "markdown",
   "id": "1f806d47-21b7-4ee1-bb39-ce34e547a12e",
   "metadata": {
    "tags": []
   },
   "source": [
    "# このファイルについて\n",
    "- about: すべてマージしたデータから一部のデータを切り出す\n",
    "- author: 松永"
   ]
  },
  {
   "cell_type": "code",
   "execution_count": 1,
   "id": "1c260750-b2f8-49b4-b478-6c7fad24be3d",
   "metadata": {},
   "outputs": [],
   "source": [
    "import numpy as np\n",
    "import pandas as pd\n",
    "import cudf\n",
    "import missingno as msno\n",
    "import matplotlib.pyplot as plt"
   ]
  },
  {
   "cell_type": "code",
   "execution_count": 2,
   "id": "b785f20b-8cf5-4333-9565-292c9de881e2",
   "metadata": {},
   "outputs": [],
   "source": [
    "# 道路名\n",
    "# TARGET_ROAD = 'kannetsu'\n",
    "TARGET_ROAD = 'touhoku'\n",
    "\n",
    "PERIOD = '20230401-20230930'\n",
    "\n",
    "# 交通量\n",
    "TRAFFIC_DIR = f'./traffic'\n",
    "TRAFFIC_CSV =f'{TRAFFIC_DIR}/merged_1h_{TARGET_ROAD}_{PERIOD}_2KP.csv'"
   ]
  },
  {
   "cell_type": "code",
   "execution_count": 3,
   "id": "b530eb5f-9c56-4969-a954-ebad32a36e2b",
   "metadata": {},
   "outputs": [
    {
     "name": "stdout",
     "output_type": "stream",
     "text": [
      "(650016, 30)\n"
     ]
    },
    {
     "data": {
      "text/html": [
       "<div>\n",
       "<style scoped>\n",
       "    .dataframe tbody tr th:only-of-type {\n",
       "        vertical-align: middle;\n",
       "    }\n",
       "\n",
       "    .dataframe tbody tr th {\n",
       "        vertical-align: top;\n",
       "    }\n",
       "\n",
       "    .dataframe thead th {\n",
       "        text-align: right;\n",
       "    }\n",
       "</style>\n",
       "<table border=\"1\" class=\"dataframe\">\n",
       "  <thead>\n",
       "    <tr style=\"text-align: right;\">\n",
       "      <th></th>\n",
       "      <th>datetime</th>\n",
       "      <th>start_name</th>\n",
       "      <th>end_name</th>\n",
       "      <th>start_code</th>\n",
       "      <th>end_code</th>\n",
       "      <th>start_pref_code</th>\n",
       "      <th>end_pref_code</th>\n",
       "      <th>start_lat</th>\n",
       "      <th>end_lat</th>\n",
       "      <th>start_lng</th>\n",
       "      <th>...</th>\n",
       "      <th>KP_distance</th>\n",
       "      <th>KP</th>\n",
       "      <th>start_KP</th>\n",
       "      <th>end_KP</th>\n",
       "      <th>direction</th>\n",
       "      <th>OCC</th>\n",
       "      <th>allCars</th>\n",
       "      <th>speed</th>\n",
       "      <th>search_specified</th>\n",
       "      <th>search_unspecified</th>\n",
       "    </tr>\n",
       "  </thead>\n",
       "  <tbody>\n",
       "    <tr>\n",
       "      <th>0</th>\n",
       "      <td>2023-04-01 00:00:00</td>\n",
       "      <td>浦和本線</td>\n",
       "      <td>岩槻</td>\n",
       "      <td>1040013</td>\n",
       "      <td>1040016</td>\n",
       "      <td>11</td>\n",
       "      <td>11</td>\n",
       "      <td>35.89012</td>\n",
       "      <td>35.9347</td>\n",
       "      <td>139.723697</td>\n",
       "      <td>...</td>\n",
       "      <td>5.7</td>\n",
       "      <td>5.47</td>\n",
       "      <td>4.8</td>\n",
       "      <td>10.5</td>\n",
       "      <td>down</td>\n",
       "      <td>2.833333</td>\n",
       "      <td>825.0</td>\n",
       "      <td>88.634383</td>\n",
       "      <td>73</td>\n",
       "      <td>5657.0</td>\n",
       "    </tr>\n",
       "    <tr>\n",
       "      <th>1</th>\n",
       "      <td>2023-04-01 01:00:00</td>\n",
       "      <td>浦和本線</td>\n",
       "      <td>岩槻</td>\n",
       "      <td>1040013</td>\n",
       "      <td>1040016</td>\n",
       "      <td>11</td>\n",
       "      <td>11</td>\n",
       "      <td>35.89012</td>\n",
       "      <td>35.9347</td>\n",
       "      <td>139.723697</td>\n",
       "      <td>...</td>\n",
       "      <td>5.7</td>\n",
       "      <td>5.47</td>\n",
       "      <td>4.8</td>\n",
       "      <td>10.5</td>\n",
       "      <td>down</td>\n",
       "      <td>2.416667</td>\n",
       "      <td>630.0</td>\n",
       "      <td>86.234548</td>\n",
       "      <td>22</td>\n",
       "      <td>5657.0</td>\n",
       "    </tr>\n",
       "    <tr>\n",
       "      <th>2</th>\n",
       "      <td>2023-04-01 02:00:00</td>\n",
       "      <td>浦和本線</td>\n",
       "      <td>岩槻</td>\n",
       "      <td>1040013</td>\n",
       "      <td>1040016</td>\n",
       "      <td>11</td>\n",
       "      <td>11</td>\n",
       "      <td>35.89012</td>\n",
       "      <td>35.9347</td>\n",
       "      <td>139.723697</td>\n",
       "      <td>...</td>\n",
       "      <td>5.7</td>\n",
       "      <td>5.47</td>\n",
       "      <td>4.8</td>\n",
       "      <td>10.5</td>\n",
       "      <td>down</td>\n",
       "      <td>2.250000</td>\n",
       "      <td>577.0</td>\n",
       "      <td>85.953287</td>\n",
       "      <td>32</td>\n",
       "      <td>5657.0</td>\n",
       "    </tr>\n",
       "  </tbody>\n",
       "</table>\n",
       "<p>3 rows × 30 columns</p>\n",
       "</div>"
      ],
      "text/plain": [
       "              datetime start_name end_name start_code end_code  \\\n",
       "0  2023-04-01 00:00:00       浦和本線       岩槻    1040013  1040016   \n",
       "1  2023-04-01 01:00:00       浦和本線       岩槻    1040013  1040016   \n",
       "2  2023-04-01 02:00:00       浦和本線       岩槻    1040013  1040016   \n",
       "\n",
       "   start_pref_code  end_pref_code  start_lat  end_lat   start_lng  ...  \\\n",
       "0               11             11   35.89012  35.9347  139.723697  ...   \n",
       "1               11             11   35.89012  35.9347  139.723697  ...   \n",
       "2               11             11   35.89012  35.9347  139.723697  ...   \n",
       "\n",
       "   KP_distance    KP  start_KP  end_KP  direction       OCC  allCars  \\\n",
       "0          5.7  5.47       4.8    10.5       down  2.833333    825.0   \n",
       "1          5.7  5.47       4.8    10.5       down  2.416667    630.0   \n",
       "2          5.7  5.47       4.8    10.5       down  2.250000    577.0   \n",
       "\n",
       "       speed  search_specified  search_unspecified  \n",
       "0  88.634383                73              5657.0  \n",
       "1  86.234548                22              5657.0  \n",
       "2  85.953287                32              5657.0  \n",
       "\n",
       "[3 rows x 30 columns]"
      ]
     },
     "execution_count": 3,
     "metadata": {},
     "output_type": "execute_result"
    }
   ],
   "source": [
    "df = pd.read_csv(TRAFFIC_CSV, dtype={'start_code': str, 'end_code': str,})\n",
    "\n",
    "print(df.shape)\n",
    "df.head(3)"
   ]
  },
  {
   "cell_type": "markdown",
   "id": "f6ea0299-c25d-4804-954a-3a29cf24b524",
   "metadata": {
    "tags": []
   },
   "source": [
    "# 時間指定あり"
   ]
  },
  {
   "cell_type": "code",
   "execution_count": 4,
   "id": "198319dc-39b0-49fb-93f7-a36d252ca720",
   "metadata": {},
   "outputs": [],
   "source": [
    "SEARCH_SPECIFIED_COLUMNS = ['datetime', 'start_code', 'end_code', 'search_specified']"
   ]
  },
  {
   "cell_type": "code",
   "execution_count": 5,
   "id": "082717dd-a23d-4c1d-9919-3388f0f749ff",
   "metadata": {},
   "outputs": [
    {
     "name": "stdout",
     "output_type": "stream",
     "text": [
      "(162504, 4)\n"
     ]
    },
    {
     "data": {
      "text/html": [
       "<div>\n",
       "<style scoped>\n",
       "    .dataframe tbody tr th:only-of-type {\n",
       "        vertical-align: middle;\n",
       "    }\n",
       "\n",
       "    .dataframe tbody tr th {\n",
       "        vertical-align: top;\n",
       "    }\n",
       "\n",
       "    .dataframe thead th {\n",
       "        text-align: right;\n",
       "    }\n",
       "</style>\n",
       "<table border=\"1\" class=\"dataframe\">\n",
       "  <thead>\n",
       "    <tr style=\"text-align: right;\">\n",
       "      <th></th>\n",
       "      <th>datetime</th>\n",
       "      <th>start_code</th>\n",
       "      <th>end_code</th>\n",
       "      <th>search_specified</th>\n",
       "    </tr>\n",
       "  </thead>\n",
       "  <tbody>\n",
       "    <tr>\n",
       "      <th>0</th>\n",
       "      <td>2023-04-01 00:00:00</td>\n",
       "      <td>1040013</td>\n",
       "      <td>1040016</td>\n",
       "      <td>73</td>\n",
       "    </tr>\n",
       "    <tr>\n",
       "      <th>1</th>\n",
       "      <td>2023-04-01 01:00:00</td>\n",
       "      <td>1040013</td>\n",
       "      <td>1040016</td>\n",
       "      <td>22</td>\n",
       "    </tr>\n",
       "    <tr>\n",
       "      <th>2</th>\n",
       "      <td>2023-04-01 02:00:00</td>\n",
       "      <td>1040013</td>\n",
       "      <td>1040016</td>\n",
       "      <td>32</td>\n",
       "    </tr>\n",
       "    <tr>\n",
       "      <th>3</th>\n",
       "      <td>2023-04-01 03:00:00</td>\n",
       "      <td>1040013</td>\n",
       "      <td>1040016</td>\n",
       "      <td>112</td>\n",
       "    </tr>\n",
       "    <tr>\n",
       "      <th>4</th>\n",
       "      <td>2023-04-01 04:00:00</td>\n",
       "      <td>1040013</td>\n",
       "      <td>1040016</td>\n",
       "      <td>233</td>\n",
       "    </tr>\n",
       "  </tbody>\n",
       "</table>\n",
       "</div>"
      ],
      "text/plain": [
       "              datetime start_code end_code  search_specified\n",
       "0  2023-04-01 00:00:00    1040013  1040016                73\n",
       "1  2023-04-01 01:00:00    1040013  1040016                22\n",
       "2  2023-04-01 02:00:00    1040013  1040016                32\n",
       "3  2023-04-01 03:00:00    1040013  1040016               112\n",
       "4  2023-04-01 04:00:00    1040013  1040016               233"
      ]
     },
     "execution_count": 5,
     "metadata": {},
     "output_type": "execute_result"
    }
   ],
   "source": [
    "df_specified = (df.loc[:, SEARCH_SPECIFIED_COLUMNS]\n",
    "                .drop_duplicates(['datetime', 'start_code', 'end_code'])\n",
    "                .reset_index(drop=True))\n",
    "\n",
    "print(df_specified.shape)\n",
    "df_specified.head()"
   ]
  },
  {
   "cell_type": "code",
   "execution_count": 6,
   "id": "bc428097-c369-4c24-bab3-77f1a2521155",
   "metadata": {},
   "outputs": [
    {
     "data": {
      "text/html": [
       "<div>\n",
       "<style scoped>\n",
       "    .dataframe tbody tr th:only-of-type {\n",
       "        vertical-align: middle;\n",
       "    }\n",
       "\n",
       "    .dataframe tbody tr th {\n",
       "        vertical-align: top;\n",
       "    }\n",
       "\n",
       "    .dataframe thead th {\n",
       "        text-align: right;\n",
       "    }\n",
       "</style>\n",
       "<table border=\"1\" class=\"dataframe\">\n",
       "  <thead>\n",
       "    <tr style=\"text-align: right;\">\n",
       "      <th></th>\n",
       "      <th>datetime</th>\n",
       "      <th>start_code</th>\n",
       "      <th>end_code</th>\n",
       "      <th>search_specified</th>\n",
       "    </tr>\n",
       "  </thead>\n",
       "  <tbody>\n",
       "    <tr>\n",
       "      <th>162499</th>\n",
       "      <td>2023-09-30 19:00:00</td>\n",
       "      <td>1040126</td>\n",
       "      <td>1040121</td>\n",
       "      <td>65</td>\n",
       "    </tr>\n",
       "    <tr>\n",
       "      <th>162500</th>\n",
       "      <td>2023-09-30 20:00:00</td>\n",
       "      <td>1040126</td>\n",
       "      <td>1040121</td>\n",
       "      <td>41</td>\n",
       "    </tr>\n",
       "    <tr>\n",
       "      <th>162501</th>\n",
       "      <td>2023-09-30 21:00:00</td>\n",
       "      <td>1040126</td>\n",
       "      <td>1040121</td>\n",
       "      <td>59</td>\n",
       "    </tr>\n",
       "    <tr>\n",
       "      <th>162502</th>\n",
       "      <td>2023-09-30 22:00:00</td>\n",
       "      <td>1040126</td>\n",
       "      <td>1040121</td>\n",
       "      <td>41</td>\n",
       "    </tr>\n",
       "    <tr>\n",
       "      <th>162503</th>\n",
       "      <td>2023-09-30 23:00:00</td>\n",
       "      <td>1040126</td>\n",
       "      <td>1040121</td>\n",
       "      <td>24</td>\n",
       "    </tr>\n",
       "  </tbody>\n",
       "</table>\n",
       "</div>"
      ],
      "text/plain": [
       "                   datetime start_code end_code  search_specified\n",
       "162499  2023-09-30 19:00:00    1040126  1040121                65\n",
       "162500  2023-09-30 20:00:00    1040126  1040121                41\n",
       "162501  2023-09-30 21:00:00    1040126  1040121                59\n",
       "162502  2023-09-30 22:00:00    1040126  1040121                41\n",
       "162503  2023-09-30 23:00:00    1040126  1040121                24"
      ]
     },
     "execution_count": 6,
     "metadata": {},
     "output_type": "execute_result"
    }
   ],
   "source": [
    "df_specified.tail()"
   ]
  },
  {
   "cell_type": "code",
   "execution_count": 7,
   "id": "0daf7dc7-1915-4615-b219-4dd74de633ce",
   "metadata": {},
   "outputs": [
    {
     "name": "stdout",
     "output_type": "stream",
     "text": [
      "CPU times: user 1.64 s, sys: 6.33 s, total: 7.96 s\n",
      "Wall time: 260 ms\n"
     ]
    },
    {
     "data": {
      "image/png": "[encoded data removed]",
      "text/plain": [
       "<Figure size 1800x720 with 2 Axes>"
      ]
     },
     "metadata": {
      "needs_background": "light"
     },
     "output_type": "display_data"
    }
   ],
   "source": [
    "%time msno.matrix(df_specified, labels=True)\n",
    "plt.show()"
   ]
  },
  {
   "cell_type": "code",
   "execution_count": 8,
   "id": "daf6f955-0579-490d-82c1-fcb14dd9d8b6",
   "metadata": {},
   "outputs": [],
   "source": [
    "OUTPUT_FILE = f'./search_count/specified_{TARGET_ROAD}_{PERIOD}.csv'"
   ]
  },
  {
   "cell_type": "code",
   "execution_count": 9,
   "id": "a15da12d-2cd9-4a5a-8f13-dccf887ffd12",
   "metadata": {},
   "outputs": [
    {
     "name": "stdout",
     "output_type": "stream",
     "text": [
      "CPU times: user 404 ms, sys: 10 ms, total: 414 ms\n",
      "Wall time: 413 ms\n"
     ]
    }
   ],
   "source": [
    "%time df_specified.to_csv(OUTPUT_FILE, index=False)"
   ]
  },
  {
   "cell_type": "markdown",
   "id": "2b0d2d64-1cb0-4b7b-9311-3255e55d6fed",
   "metadata": {},
   "source": [
    "# 時間指定なし"
   ]
  },
  {
   "cell_type": "code",
   "execution_count": 10,
   "id": "d94c82cb-abce-4346-a445-d1343c9443f2",
   "metadata": {},
   "outputs": [],
   "source": [
    "SEARCH_UNSPECIFIED_COLUMNS = ['datetime', 'start_code', 'end_code', 'search_unspecified']"
   ]
  },
  {
   "cell_type": "code",
   "execution_count": 11,
   "id": "cb6b8b4f-7268-4e16-aa8f-976e27cee810",
   "metadata": {},
   "outputs": [
    {
     "name": "stdout",
     "output_type": "stream",
     "text": [
      "(6771, 4)\n"
     ]
    },
    {
     "data": {
      "text/html": [
       "<div>\n",
       "<style scoped>\n",
       "    .dataframe tbody tr th:only-of-type {\n",
       "        vertical-align: middle;\n",
       "    }\n",
       "\n",
       "    .dataframe tbody tr th {\n",
       "        vertical-align: top;\n",
       "    }\n",
       "\n",
       "    .dataframe thead th {\n",
       "        text-align: right;\n",
       "    }\n",
       "</style>\n",
       "<table border=\"1\" class=\"dataframe\">\n",
       "  <thead>\n",
       "    <tr style=\"text-align: right;\">\n",
       "      <th></th>\n",
       "      <th>date</th>\n",
       "      <th>start_code</th>\n",
       "      <th>end_code</th>\n",
       "      <th>search_unspecified</th>\n",
       "    </tr>\n",
       "  </thead>\n",
       "  <tbody>\n",
       "    <tr>\n",
       "      <th>0</th>\n",
       "      <td>2023-04-01</td>\n",
       "      <td>1040013</td>\n",
       "      <td>1040016</td>\n",
       "      <td>5657.0</td>\n",
       "    </tr>\n",
       "    <tr>\n",
       "      <th>1</th>\n",
       "      <td>2023-04-02</td>\n",
       "      <td>1040013</td>\n",
       "      <td>1040016</td>\n",
       "      <td>5645.0</td>\n",
       "    </tr>\n",
       "    <tr>\n",
       "      <th>2</th>\n",
       "      <td>2023-04-03</td>\n",
       "      <td>1040013</td>\n",
       "      <td>1040016</td>\n",
       "      <td>5312.0</td>\n",
       "    </tr>\n",
       "    <tr>\n",
       "      <th>3</th>\n",
       "      <td>2023-04-04</td>\n",
       "      <td>1040013</td>\n",
       "      <td>1040016</td>\n",
       "      <td>5673.0</td>\n",
       "    </tr>\n",
       "    <tr>\n",
       "      <th>4</th>\n",
       "      <td>2023-04-05</td>\n",
       "      <td>1040013</td>\n",
       "      <td>1040016</td>\n",
       "      <td>5447.0</td>\n",
       "    </tr>\n",
       "  </tbody>\n",
       "</table>\n",
       "</div>"
      ],
      "text/plain": [
       "         date start_code end_code  search_unspecified\n",
       "0  2023-04-01    1040013  1040016              5657.0\n",
       "1  2023-04-02    1040013  1040016              5645.0\n",
       "2  2023-04-03    1040013  1040016              5312.0\n",
       "3  2023-04-04    1040013  1040016              5673.0\n",
       "4  2023-04-05    1040013  1040016              5447.0"
      ]
     },
     "execution_count": 11,
     "metadata": {},
     "output_type": "execute_result"
    }
   ],
   "source": [
    "df_unspecified = (df.loc[:, SEARCH_UNSPECIFIED_COLUMNS]\n",
    "                  .assign(datetime=df.datetime.str[:10])\n",
    "                  .drop_duplicates(['datetime', 'start_code', 'end_code'])\n",
    "                  .rename({'datetime': 'date'}, axis=1)\n",
    "                  .reset_index(drop=True))\n",
    "\n",
    "print(df_unspecified.shape)\n",
    "df_unspecified.head()"
   ]
  },
  {
   "cell_type": "code",
   "execution_count": 12,
   "id": "5b322d44-8ce3-43c5-8c37-5ad0c3aecc74",
   "metadata": {},
   "outputs": [
    {
     "data": {
      "text/html": [
       "<div>\n",
       "<style scoped>\n",
       "    .dataframe tbody tr th:only-of-type {\n",
       "        vertical-align: middle;\n",
       "    }\n",
       "\n",
       "    .dataframe tbody tr th {\n",
       "        vertical-align: top;\n",
       "    }\n",
       "\n",
       "    .dataframe thead th {\n",
       "        text-align: right;\n",
       "    }\n",
       "</style>\n",
       "<table border=\"1\" class=\"dataframe\">\n",
       "  <thead>\n",
       "    <tr style=\"text-align: right;\">\n",
       "      <th></th>\n",
       "      <th>date</th>\n",
       "      <th>start_code</th>\n",
       "      <th>end_code</th>\n",
       "      <th>search_unspecified</th>\n",
       "    </tr>\n",
       "  </thead>\n",
       "  <tbody>\n",
       "    <tr>\n",
       "      <th>6766</th>\n",
       "      <td>2023-09-26</td>\n",
       "      <td>1040126</td>\n",
       "      <td>1040121</td>\n",
       "      <td>3676.0</td>\n",
       "    </tr>\n",
       "    <tr>\n",
       "      <th>6767</th>\n",
       "      <td>2023-09-27</td>\n",
       "      <td>1040126</td>\n",
       "      <td>1040121</td>\n",
       "      <td>3204.0</td>\n",
       "    </tr>\n",
       "    <tr>\n",
       "      <th>6768</th>\n",
       "      <td>2023-09-28</td>\n",
       "      <td>1040126</td>\n",
       "      <td>1040121</td>\n",
       "      <td>4450.0</td>\n",
       "    </tr>\n",
       "    <tr>\n",
       "      <th>6769</th>\n",
       "      <td>2023-09-29</td>\n",
       "      <td>1040126</td>\n",
       "      <td>1040121</td>\n",
       "      <td>6257.0</td>\n",
       "    </tr>\n",
       "    <tr>\n",
       "      <th>6770</th>\n",
       "      <td>2023-09-30</td>\n",
       "      <td>1040126</td>\n",
       "      <td>1040121</td>\n",
       "      <td>7711.0</td>\n",
       "    </tr>\n",
       "  </tbody>\n",
       "</table>\n",
       "</div>"
      ],
      "text/plain": [
       "            date start_code end_code  search_unspecified\n",
       "6766  2023-09-26    1040126  1040121              3676.0\n",
       "6767  2023-09-27    1040126  1040121              3204.0\n",
       "6768  2023-09-28    1040126  1040121              4450.0\n",
       "6769  2023-09-29    1040126  1040121              6257.0\n",
       "6770  2023-09-30    1040126  1040121              7711.0"
      ]
     },
     "execution_count": 12,
     "metadata": {},
     "output_type": "execute_result"
    }
   ],
   "source": [
    "df_unspecified.tail()"
   ]
  },
  {
   "cell_type": "code",
   "execution_count": 13,
   "id": "cc532732-06f6-4193-b6b4-5c840902b0ee",
   "metadata": {},
   "outputs": [
    {
     "name": "stdout",
     "output_type": "stream",
     "text": [
      "CPU times: user 50.4 ms, sys: 21.4 ms, total: 71.8 ms\n",
      "Wall time: 51 ms\n"
     ]
    },
    {
     "data": {
      "image/png": "[encoded data removed]",
      "text/plain": [
       "<Figure size 1800x720 with 2 Axes>"
      ]
     },
     "metadata": {
      "needs_background": "light"
     },
     "output_type": "display_data"
    }
   ],
   "source": [
    "%time msno.matrix(df_unspecified, labels=True)\n",
    "plt.show()"
   ]
  },
  {
   "cell_type": "code",
   "execution_count": 14,
   "id": "9721fcc3-898b-4816-b767-bfd36f24a359",
   "metadata": {},
   "outputs": [],
   "source": [
    "OUTPUT_FILE = f'./search_count/unspecified_{TARGET_ROAD}_{PERIOD}.csv'"
   ]
  },
  {
   "cell_type": "code",
   "execution_count": 15,
   "id": "39a31de2-326c-42c2-a994-0910210e2231",
   "metadata": {},
   "outputs": [
    {
     "name": "stdout",
     "output_type": "stream",
     "text": [
      "CPU times: user 403 ms, sys: 5.31 ms, total: 409 ms\n",
      "Wall time: 408 ms\n"
     ]
    }
   ],
   "source": [
    "%time df_specified.to_csv(OUTPUT_FILE, index=False)"
   ]
  },
  {
   "cell_type": "code",
   "execution_count": null,
   "id": "203e0334-e6a4-4c91-8361-86e86d8e0791",
   "metadata": {},
   "outputs": [],
   "source": []
  }
 ],
 "metadata": {
  "interpreter": {
   "hash": "f708a36acfaef0acf74ccd43dfb58100269bf08fb79032a1e0a6f35bd9856f51"
  },
  "kernelspec": {
   "display_name": "Python 3 (ipykernel)",
   "language": "python",
   "name": "python3"
  },
  "language_info": {
   "codemirror_mode": {
    "name": "ipython",
    "version": 3
   },
   "file_extension": ".py",
   "mimetype": "text/x-python",
   "name": "python",
   "nbconvert_exporter": "python",
   "pygments_lexer": "ipython3",
   "version": "3.8.13"
  }
 },
 "nbformat": 4,
 "nbformat_minor": 5
}
